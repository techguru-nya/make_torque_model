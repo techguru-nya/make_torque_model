{
 "cells": [
  {
   "cell_type": "code",
   "execution_count": 1,
   "id": "9d8a34b5-a79a-4b30-9a15-d775b81da236",
   "metadata": {
    "editable": true,
    "scrolled": true,
    "slideshow": {
     "slide_type": ""
    },
    "tags": []
   },
   "outputs": [
    {
     "name": "stdout",
     "output_type": "stream",
     "text": [
      "The autoreload extension is already loaded. To reload it, use:\n",
      "  %reload_ext autoreload\n",
      "The autoreload extension is already loaded. To reload it, use:\n",
      "  %reload_ext autoreload\n",
      "cuda\n"
     ]
    }
   ],
   "source": [
    "import os\n",
    "import sys\n",
    "import time\n",
    "import glob\n",
    "import shutil\n",
    "import pandas as pd\n",
    "import pickle\n",
    "import numpy as np\n",
    "import datetime\n",
    "import zipfile\n",
    "import matplotlib.pyplot as plt\n",
    "\n",
    "import math\n",
    "import matlab.engine\n",
    "\n",
    "import torch\n",
    "from torch.nn import functional as F\n",
    "# import torchvision\n",
    "# from torchvision import transforms\n",
    "from torch.utils.data import DataLoader\n",
    "from torch import optim, nn\n",
    "from torch.optim.lr_scheduler import StepLR, CosineAnnealingLR\n",
    "from torch.utils.data import Dataset\n",
    "import torch.nn.init as init\n",
    "from sklearn import datasets\n",
    "from sklearn.model_selection import train_test_split\n",
    "\n",
    "%load_ext autoreload\n",
    "%autoreload 2\n",
    "import utils as Common\n",
    "import utils_2 as utils\n",
    "import utils_3 as vRef\n",
    "import utils_4 as ML\n",
    "\n",
    "device = 'cuda' if torch.cuda.is_available() else 'cpu' \n",
    "print(device)\n",
    "\n",
    "Project = '3BVT'"
   ]
  },
  {
   "cell_type": "markdown",
   "id": "675a3e08-ddd8-480d-b1a6-e790af5b9510",
   "metadata": {},
   "source": [
    "# Sim with CARSIM"
   ]
  },
  {
   "cell_type": "markdown",
   "id": "5a8474d7-fb66-48ac-863c-70ea0ea6f5cd",
   "metadata": {
    "tags": []
   },
   "source": [
    "## Convert ZIP(D97-->CSV)"
   ]
  },
  {
   "cell_type": "code",
   "execution_count": 2,
   "id": "da344f20-5e28-4fdf-8210-814eb17df223",
   "metadata": {},
   "outputs": [],
   "source": [
    "l_DATA = []\n",
    "l_DATA.append('c:\\\\TSDE_Workarea\\\\ktt2yk\\\\Projects\\\\3BVT\\\\')\n",
    "PLT = 'c:\\\\TSDE_Workarea\\\\ktt2yk\\\\Work\\\\Tire_Torque\\\\Conv_Est_Tire.PLT'\n",
    "\n",
    "SAMPLING = 0.005 "
   ]
  },
  {
   "cell_type": "code",
   "execution_count": 3,
   "id": "83a53114-889d-4f09-996c-b4b460c0907c",
   "metadata": {
    "scrolled": true
   },
   "outputs": [
    {
     "name": "stdout",
     "output_type": "stream",
     "text": [
      "['c:\\\\TSDE_Workarea\\\\ktt2yk\\\\Projects\\\\3BVT\\\\']\n",
      "1 / 542 ; c:\\TSDE_Workarea\\ktt2yk\\Projects\\3BVT\\20231026_TCS_VDC/20231026_0000.ZIP 38459660\n",
      "2 / 542 ; c:\\TSDE_Workarea\\ktt2yk\\Projects\\3BVT\\20231026_TCS_VDC/20231026_0001.ZIP 39976918\n",
      "3 / 542 ; c:\\TSDE_Workarea\\ktt2yk\\Projects\\3BVT\\20231026_TCS_VDC/20231026_0002.ZIP 36092184\n",
      "4 / 542 ; c:\\TSDE_Workarea\\ktt2yk\\Projects\\3BVT\\20231026_TCS_VDC/20231026_0003.ZIP 39123192\n",
      "5 / 542 ; c:\\TSDE_Workarea\\ktt2yk\\Projects\\3BVT\\20231026_TCS_VDC/20231026_0004.ZIP 53454679\n",
      "6 / 542 ; c:\\TSDE_Workarea\\ktt2yk\\Projects\\3BVT\\20231026_TCS_VDC/20231026_0005.ZIP 35170874\n",
      "7 / 542 ; c:\\TSDE_Workarea\\ktt2yk\\Projects\\3BVT\\20231026_TCS_VDC/20231026_0006.ZIP 34193249\n",
      "8 / 542 ; c:\\TSDE_Workarea\\ktt2yk\\Projects\\3BVT\\20231026_TCS_VDC/20231026_0007.ZIP 32841315\n",
      "9 / 542 ; c:\\TSDE_Workarea\\ktt2yk\\Projects\\3BVT\\20231026_TCS_VDC/20231026_0008.ZIP 23251784\n",
      "10 / 542 ; c:\\TSDE_Workarea\\ktt2yk\\Projects\\3BVT\\20231026_TCS_VDC/20231026_0009.ZIP 21683761\n",
      "11 / 542 ; c:\\TSDE_Workarea\\ktt2yk\\Projects\\3BVT\\20231026_TCS_VDC/20231026_0010.ZIP 25911638\n",
      "12 / 542 ; c:\\TSDE_Workarea\\ktt2yk\\Projects\\3BVT\\20231026_TCS_VDC/20231026_0011.ZIP 27215897\n",
      "13 / 542 ; c:\\TSDE_Workarea\\ktt2yk\\Projects\\3BVT\\20231026_TCS_VDC/20231026_0012.ZIP 17937932\n",
      "14 / 542 ; c:\\TSDE_Workarea\\ktt2yk\\Projects\\3BVT\\20231026_TCS_VDC/20231026_0013.ZIP 13979847\n",
      "15 / 542 ; c:\\TSDE_Workarea\\ktt2yk\\Projects\\3BVT\\20231026_TCS_VDC/20231026_0014.ZIP 14877417\n",
      "16 / 542 ; c:\\TSDE_Workarea\\ktt2yk\\Projects\\3BVT\\20231026_TCS_VDC/20231026_0015.ZIP 15293277\n",
      "17 / 542 ; c:\\TSDE_Workarea\\ktt2yk\\Projects\\3BVT\\20231026_TCS_VDC/20231026_0016.ZIP 13075408\n",
      "18 / 542 ; c:\\TSDE_Workarea\\ktt2yk\\Projects\\3BVT\\20231026_TCS_VDC/20231026_0017.ZIP 22439790\n",
      "19 / 542 ; c:\\TSDE_Workarea\\ktt2yk\\Projects\\3BVT\\20231026_TCS_VDC/20231026_0018.ZIP 16995801\n",
      "20 / 542 ; c:\\TSDE_Workarea\\ktt2yk\\Projects\\3BVT\\20231026_TCS_VDC/20231026_0019.ZIP 18104617\n",
      "21 / 542 ; c:\\TSDE_Workarea\\ktt2yk\\Projects\\3BVT\\20231026_TCS_VDC/20231026_0020.ZIP 34380009\n",
      "22 / 542 ; c:\\TSDE_Workarea\\ktt2yk\\Projects\\3BVT\\20231026_TCS_VDC/20231026_0021.ZIP 47376162\n",
      "23 / 542 ; c:\\TSDE_Workarea\\ktt2yk\\Projects\\3BVT\\20231026_TCS_VDC/20231026_0022.ZIP 34939050\n",
      "24 / 542 ; c:\\TSDE_Workarea\\ktt2yk\\Projects\\3BVT\\20231026_TCS_VDC/20231026_0023.ZIP 17527134\n",
      "25 / 542 ; c:\\TSDE_Workarea\\ktt2yk\\Projects\\3BVT\\20231026_TCS_VDC/20231026_0024.ZIP 9609453\n",
      "26 / 542 ; c:\\TSDE_Workarea\\ktt2yk\\Projects\\3BVT\\20231026_TCS_VDC/20231026_0025.ZIP 40548664\n",
      "27 / 542 ; c:\\TSDE_Workarea\\ktt2yk\\Projects\\3BVT\\20231026_TCS_VDC/20231026_0026.ZIP 34804475\n",
      "28 / 542 ; c:\\TSDE_Workarea\\ktt2yk\\Projects\\3BVT\\20231026_TCS_VDC/20231026_0027.ZIP 32362014\n",
      "29 / 542 ; c:\\TSDE_Workarea\\ktt2yk\\Projects\\3BVT\\20231026_TCS_VDC/20231026_0028.ZIP 33424216\n",
      "30 / 542 ; c:\\TSDE_Workarea\\ktt2yk\\Projects\\3BVT\\20231026_TCS_VDC/20231026_0029.ZIP 38875627\n",
      "31 / 542 ; c:\\TSDE_Workarea\\ktt2yk\\Projects\\3BVT\\20231026_TCS_VDC/20231026_0030.ZIP 30941898\n",
      "32 / 542 ; c:\\TSDE_Workarea\\ktt2yk\\Projects\\3BVT\\20231026_VDC_TCS_Onakasan/20231026_0000.ZIP 53789233\n",
      "33 / 542 ; c:\\TSDE_Workarea\\ktt2yk\\Projects\\3BVT\\20231026_VDC_TCS_Onakasan/20231026_0001.ZIP 39456867\n",
      "34 / 542 ; c:\\TSDE_Workarea\\ktt2yk\\Projects\\3BVT\\20231026_VDC_TCS_Onakasan/20231026_0002.ZIP 38952866\n",
      "35 / 542 ; c:\\TSDE_Workarea\\ktt2yk\\Projects\\3BVT\\20231026_VDC_TCS_Onakasan/20231026_0003.ZIP 13017005\n",
      "36 / 542 ; c:\\TSDE_Workarea\\ktt2yk\\Projects\\3BVT\\20231026_VDC_TCS_Onakasan/20231026_0004.ZIP 10212245\n",
      "37 / 542 ; c:\\TSDE_Workarea\\ktt2yk\\Projects\\3BVT\\20231026_VDC_TCS_Onakasan/20231026_0005.ZIP 42918502\n",
      "38 / 542 ; c:\\TSDE_Workarea\\ktt2yk\\Projects\\3BVT\\20231026_VDC_TCS_Onakasan/20231026_0006.ZIP 35959616\n",
      "39 / 542 ; c:\\TSDE_Workarea\\ktt2yk\\Projects\\3BVT\\20231026_VDC_TCS_Onakasan/20231026_0007.ZIP 35959747\n",
      "40 / 542 ; c:\\TSDE_Workarea\\ktt2yk\\Projects\\3BVT\\20231026_VDC_TCS_Onakasan/20231026_0008.ZIP 18867870\n",
      "41 / 542 ; c:\\TSDE_Workarea\\ktt2yk\\Projects\\3BVT\\20231026_VDC_TCS_Onakasan/20231026_0009.ZIP 22345075\n",
      "42 / 542 ; c:\\TSDE_Workarea\\ktt2yk\\Projects\\3BVT\\20231026_VDC_TCS_Onakasan/20231026_0010.ZIP 12836239\n",
      "43 / 542 ; c:\\TSDE_Workarea\\ktt2yk\\Projects\\3BVT\\20231026_VDC_TCS_Onakasan/20231026_0011.ZIP 10091050\n",
      "44 / 542 ; c:\\TSDE_Workarea\\ktt2yk\\Projects\\3BVT\\20231026_VDC_TCS_Onakasan/20231026_0012.ZIP 16096355\n",
      "45 / 542 ; c:\\TSDE_Workarea\\ktt2yk\\Projects\\3BVT\\20231026_VDC_TCS_Onakasan/20231026_0013.ZIP 16596710\n",
      "46 / 542 ; c:\\TSDE_Workarea\\ktt2yk\\Projects\\3BVT\\20231026_VDC_TCS_Onakasan/20231026_0014.ZIP 14105938\n",
      "47 / 542 ; c:\\TSDE_Workarea\\ktt2yk\\Projects\\3BVT\\20231026_VDC_TCS_Onakasan/20231026_0015.ZIP 34803020\n",
      "48 / 542 ; c:\\TSDE_Workarea\\ktt2yk\\Projects\\3BVT\\20231026_VDC_TCS_Onakasan/20231026_0016.ZIP 13141815\n",
      "49 / 542 ; c:\\TSDE_Workarea\\ktt2yk\\Projects\\3BVT\\20231026_VDC_TCS_Onakasan/20231026_0017.ZIP 30143906\n",
      "50 / 542 ; c:\\TSDE_Workarea\\ktt2yk\\Projects\\3BVT\\20231026_VDC_TCS_Onakasan/20231026_0018.ZIP 16790569\n",
      "51 / 542 ; c:\\TSDE_Workarea\\ktt2yk\\Projects\\3BVT\\20231026_VDC_TCS_Onakasan/20231026_0019.ZIP 26243831\n",
      "52 / 542 ; c:\\TSDE_Workarea\\ktt2yk\\Projects\\3BVT\\20231026_VDC_TCS_Onakasan/20231026_0020.ZIP 19065500\n",
      "53 / 542 ; c:\\TSDE_Workarea\\ktt2yk\\Projects\\3BVT\\20231026_VDC_TCS_Onakasan/20231026_0021.ZIP 21061012\n",
      "54 / 542 ; c:\\TSDE_Workarea\\ktt2yk\\Projects\\3BVT\\20231027_TCS_VDC_EPB/20231027_0000.ZIP 4995925\n",
      "55 / 542 ; c:\\TSDE_Workarea\\ktt2yk\\Projects\\3BVT\\20231027_TCS_VDC_EPB/20231027_0001.ZIP 35545261\n",
      "56 / 542 ; c:\\TSDE_Workarea\\ktt2yk\\Projects\\3BVT\\20231027_TCS_VDC_EPB/20231027_0002.ZIP 20186707\n",
      "57 / 542 ; c:\\TSDE_Workarea\\ktt2yk\\Projects\\3BVT\\20231027_TCS_VDC_EPB/20231027_0003.ZIP 17278649\n",
      "58 / 542 ; c:\\TSDE_Workarea\\ktt2yk\\Projects\\3BVT\\20231027_TCS_VDC_EPB/20231027_0004.ZIP 17507264\n",
      "59 / 542 ; c:\\TSDE_Workarea\\ktt2yk\\Projects\\3BVT\\20231027_TCS_VDC_EPB/20231027_0005.ZIP 24732283\n",
      "60 / 542 ; c:\\TSDE_Workarea\\ktt2yk\\Projects\\3BVT\\20231027_TCS_VDC_EPB/20231027_0006.ZIP 8204237\n",
      "61 / 542 ; c:\\TSDE_Workarea\\ktt2yk\\Projects\\3BVT\\20231027_TCS_VDC_EPB/20231027_0007.ZIP 20034271\n",
      "62 / 542 ; c:\\TSDE_Workarea\\ktt2yk\\Projects\\3BVT\\20231027_TCS_VDC_EPB/20231027_0008.ZIP 14295729\n",
      "63 / 542 ; c:\\TSDE_Workarea\\ktt2yk\\Projects\\3BVT\\20231027_TCS_VDC_EPB/20231027_0009.ZIP 20684990\n",
      "64 / 542 ; c:\\TSDE_Workarea\\ktt2yk\\Projects\\3BVT\\20231027_TCS_VDC_EPB/20231027_0010.ZIP 12779779\n",
      "65 / 542 ; c:\\TSDE_Workarea\\ktt2yk\\Projects\\3BVT\\20231027_TCS_VDC_EPB/20231027_0011.ZIP 39030720\n",
      "66 / 542 ; c:\\TSDE_Workarea\\ktt2yk\\Projects\\3BVT\\20231027_TCS_VDC_EPB/20231027_0012.ZIP 18107747\n",
      "67 / 542 ; c:\\TSDE_Workarea\\ktt2yk\\Projects\\3BVT\\20231027_TCS_VDC_EPB/20231027_0013.ZIP 36107067\n",
      "68 / 542 ; c:\\TSDE_Workarea\\ktt2yk\\Projects\\3BVT\\20231027_TCS_VDC_EPB/20231027_0014.ZIP 18838802\n",
      "69 / 542 ; c:\\TSDE_Workarea\\ktt2yk\\Projects\\3BVT\\20231027_TCS_VDC_EPB/20231027_0015.ZIP 38512216\n",
      "70 / 542 ; c:\\TSDE_Workarea\\ktt2yk\\Projects\\3BVT\\20231027_TCS_VDC_EPB/20231027_0016.ZIP 40180403\n",
      "71 / 542 ; c:\\TSDE_Workarea\\ktt2yk\\Projects\\3BVT\\20231027_TCS_VDC_EPB/20231027_0017.ZIP 53553116\n",
      "72 / 542 ; c:\\TSDE_Workarea\\ktt2yk\\Projects\\3BVT\\20231027_TCS_VDC_EPB/20231027_0018.ZIP 24936497\n",
      "73 / 542 ; c:\\TSDE_Workarea\\ktt2yk\\Projects\\3BVT\\20231027_TCS_VDC_EPB/20231027_0019.ZIP 44615939\n",
      "74 / 542 ; c:\\TSDE_Workarea\\ktt2yk\\Projects\\3BVT\\20231027_TCS_VDC_EPB/20231027_0020.ZIP 36899127\n",
      "75 / 542 ; c:\\TSDE_Workarea\\ktt2yk\\Projects\\3BVT\\20231027_TCS_VDC_EPB/20231027_0021.ZIP 33715706\n",
      "76 / 542 ; c:\\TSDE_Workarea\\ktt2yk\\Projects\\3BVT\\20231027_TCS_VDC_EPB/20231027_0022.ZIP 16880702\n",
      "77 / 542 ; c:\\TSDE_Workarea\\ktt2yk\\Projects\\3BVT\\20231027_TCS_VDC_EPB/20231027_0023.ZIP 22656929\n",
      "78 / 542 ; c:\\TSDE_Workarea\\ktt2yk\\Projects\\3BVT\\20231027_TCS_VDC_EPB/20231027_0024.ZIP 40422127\n",
      "79 / 542 ; c:\\TSDE_Workarea\\ktt2yk\\Projects\\3BVT\\20231027_TCS_VDC_EPB/20231027_0025.ZIP 16304424\n",
      "80 / 542 ; c:\\TSDE_Workarea\\ktt2yk\\Projects\\3BVT\\20231027_TCS_VDC_EPB/20231027_0026.ZIP 18396228\n",
      "81 / 542 ; c:\\TSDE_Workarea\\ktt2yk\\Projects\\3BVT\\20231027_TCS_VDC_EPB/20231027_0027.ZIP 12766339\n",
      "82 / 542 ; c:\\TSDE_Workarea\\ktt2yk\\Projects\\3BVT\\20231027_TCS_VDC_EPB/20231027_0028.ZIP 13044457\n",
      "83 / 542 ; c:\\TSDE_Workarea\\ktt2yk\\Projects\\3BVT\\20231027_TCS_VDC_EPB/20231027_0029.ZIP 12870911\n",
      "84 / 542 ; c:\\TSDE_Workarea\\ktt2yk\\Projects\\3BVT\\20231027_TCS_VDC_EPB/20231027_0030.ZIP 15891744\n",
      "85 / 542 ; c:\\TSDE_Workarea\\ktt2yk\\Projects\\3BVT\\20231027_TCS_VDC_EPB/20231027_0031.ZIP 20452139\n",
      "86 / 542 ; c:\\TSDE_Workarea\\ktt2yk\\Projects\\3BVT\\20231027_TCS_VDC_EPB/20231027_0032.ZIP 13161883\n",
      "87 / 542 ; c:\\TSDE_Workarea\\ktt2yk\\Projects\\3BVT\\20231027_TCS_VDC_EPB/20231027_0033.ZIP 23208411\n",
      "88 / 542 ; c:\\TSDE_Workarea\\ktt2yk\\Projects\\3BVT\\20231027_TCS_VDC_EPB/20231027_0034.ZIP 10611137\n",
      "89 / 542 ; c:\\TSDE_Workarea\\ktt2yk\\Projects\\3BVT\\20231027_TCS_VDC_EPB/20231027_0035.ZIP 19620157\n",
      "90 / 542 ; c:\\TSDE_Workarea\\ktt2yk\\Projects\\3BVT\\20231027_TCS_VDC_EPB/20231027_0036.ZIP 12592403\n",
      "91 / 542 ; c:\\TSDE_Workarea\\ktt2yk\\Projects\\3BVT\\20231027_TCS_VDC_EPB/20231027_0037.ZIP 14110668\n",
      "92 / 542 ; c:\\TSDE_Workarea\\ktt2yk\\Projects\\3BVT\\20231027_TCS_VDC_EPB/20231027_0038.ZIP 19233378\n",
      "93 / 542 ; c:\\TSDE_Workarea\\ktt2yk\\Projects\\3BVT\\20231027_TCS_VDC_EPB/20231027_0039.ZIP 44324519\n",
      "94 / 542 ; c:\\TSDE_Workarea\\ktt2yk\\Projects\\3BVT\\20231027_TCS_VDC_EPB/20231027_0040.ZIP 45539488\n",
      "95 / 542 ; c:\\TSDE_Workarea\\ktt2yk\\Projects\\3BVT\\20231027_TCS_VDC_EPB/20231027_0041.ZIP 34185109\n",
      "96 / 542 ; c:\\TSDE_Workarea\\ktt2yk\\Projects\\3BVT\\20231027_TCS_VDC_EPB/20231027_0042.ZIP 34625491\n",
      "97 / 542 ; c:\\TSDE_Workarea\\ktt2yk\\Projects\\3BVT\\20231101_AHA_TCS/20231101_0000.ZIP 41785557\n",
      "98 / 542 ; c:\\TSDE_Workarea\\ktt2yk\\Projects\\3BVT\\20231101_AHA_TCS/20231101_0001.ZIP 50254793\n",
      "99 / 542 ; c:\\TSDE_Workarea\\ktt2yk\\Projects\\3BVT\\20231101_AHA_TCS/20231101_0002.ZIP 18647612\n",
      "100 / 542 ; c:\\TSDE_Workarea\\ktt2yk\\Projects\\3BVT\\20231101_AHA_TCS/20231101_0003.ZIP 51474565\n",
      "101 / 542 ; c:\\TSDE_Workarea\\ktt2yk\\Projects\\3BVT\\20231101_AHA_TCS/20231101_0004.ZIP 42019659\n",
      "102 / 542 ; c:\\TSDE_Workarea\\ktt2yk\\Projects\\3BVT\\20231102_Onakasan_AHA_TCS/20231102_0000.ZIP 34609349\n",
      "103 / 542 ; c:\\TSDE_Workarea\\ktt2yk\\Projects\\3BVT\\20231102_Onakasan_AHA_TCS/20231102_0001.ZIP 50220122\n",
      "104 / 542 ; c:\\TSDE_Workarea\\ktt2yk\\Projects\\3BVT\\20231102_Onakasan_AHA_TCS/20231102_0002.ZIP 36434283\n",
      "105 / 542 ; c:\\TSDE_Workarea\\ktt2yk\\Projects\\3BVT\\20231102_Onakasan_AHA_TCS/20231102_0003.ZIP 3964661\n",
      "106 / 542 ; c:\\TSDE_Workarea\\ktt2yk\\Projects\\3BVT\\20231102_Onakasan_AHA_TCS/20231102_0004.ZIP 17570418\n",
      "107 / 542 ; c:\\TSDE_Workarea\\ktt2yk\\Projects\\3BVT\\20231102_Onakasan_AHA_TCS/20231102_0005.ZIP 18165266\n",
      "108 / 542 ; c:\\TSDE_Workarea\\ktt2yk\\Projects\\3BVT\\20231102_Onakasan_AHA_TCS/20231102_0006.ZIP 16442284\n",
      "109 / 542 ; c:\\TSDE_Workarea\\ktt2yk\\Projects\\3BVT\\20231102_Onakasan_AHA_TCS/20231102_0007.ZIP 29565920\n",
      "110 / 542 ; c:\\TSDE_Workarea\\ktt2yk\\Projects\\3BVT\\20231102_Onakasan_AHA_TCS/20231102_0008.ZIP 27271175\n",
      "111 / 542 ; c:\\TSDE_Workarea\\ktt2yk\\Projects\\3BVT\\20231102_Onakasan_AHA_TCS/20231102_0009.ZIP 33504443\n",
      "112 / 542 ; c:\\TSDE_Workarea\\ktt2yk\\Projects\\3BVT\\20231102_Onakasan_AHA_TCS/20231102_0010.ZIP 34444454\n",
      "113 / 542 ; c:\\TSDE_Workarea\\ktt2yk\\Projects\\3BVT\\20231102_Onakasan_AHA_TCS/20231102_0011.ZIP 46787915\n",
      "114 / 542 ; c:\\TSDE_Workarea\\ktt2yk\\Projects\\3BVT\\20231102_Onakasan_AHA_TCS/20231102_0012.ZIP 30249653\n",
      "115 / 542 ; c:\\TSDE_Workarea\\ktt2yk\\Projects\\3BVT\\20231102_Onakasan_AHA_TCS/20231102_0013.ZIP 34255113\n",
      "116 / 542 ; c:\\TSDE_Workarea\\ktt2yk\\Projects\\3BVT\\20231102_Onakasan_AHA_TCS/20231102_0014.ZIP 31759649\n",
      "117 / 542 ; c:\\TSDE_Workarea\\ktt2yk\\Projects\\3BVT\\20231102_Onakasan_AHA_TCS/20231102_0015.ZIP 29676989\n",
      "118 / 542 ; c:\\TSDE_Workarea\\ktt2yk\\Projects\\3BVT\\20231102_Onakasan_AHA_TCS/20231102_0016.ZIP 15721582\n",
      "119 / 542 ; c:\\TSDE_Workarea\\ktt2yk\\Projects\\3BVT\\20231102_Onakasan_AHA_TCS/20231102_0017.ZIP 13129835\n",
      "120 / 542 ; c:\\TSDE_Workarea\\ktt2yk\\Projects\\3BVT\\20231102_Onakasan_AHA_TCS/20231102_0018.ZIP 18521775\n",
      "121 / 542 ; c:\\TSDE_Workarea\\ktt2yk\\Projects\\3BVT\\20231102_Onakasan_AHA_TCS/20231102_0019.ZIP 20267918\n",
      "122 / 542 ; c:\\TSDE_Workarea\\ktt2yk\\Projects\\3BVT\\20231102_Onakasan_AHA_TCS/20231102_0020.ZIP 18112727\n",
      "123 / 542 ; c:\\TSDE_Workarea\\ktt2yk\\Projects\\3BVT\\20231102_Onakasan_AHA_TCS/20231102_0021.ZIP 19639891\n",
      "124 / 542 ; c:\\TSDE_Workarea\\ktt2yk\\Projects\\3BVT\\20231102_Onakasan_AHA_TCS/20231102_0022.ZIP 42481754\n",
      "125 / 542 ; c:\\TSDE_Workarea\\ktt2yk\\Projects\\3BVT\\20231102_Onakasan_AHA_TCS/20231102_0023.ZIP 32417987\n",
      "126 / 542 ; c:\\TSDE_Workarea\\ktt2yk\\Projects\\3BVT\\20231102_Onakasan_AHA_TCS/20231102_0024.ZIP 42892410\n",
      "127 / 542 ; c:\\TSDE_Workarea\\ktt2yk\\Projects\\3BVT\\20231103_Bank_TCS_AHA_VDC/20231103_0000.ZIP 29071455\n",
      "128 / 542 ; c:\\TSDE_Workarea\\ktt2yk\\Projects\\3BVT\\20231103_Bank_TCS_AHA_VDC/20231103_0001.ZIP 26976773\n",
      "129 / 542 ; c:\\TSDE_Workarea\\ktt2yk\\Projects\\3BVT\\20231103_Bank_TCS_AHA_VDC/20231103_0002.ZIP 25759589\n",
      "130 / 542 ; c:\\TSDE_Workarea\\ktt2yk\\Projects\\3BVT\\20231103_Bank_TCS_AHA_VDC/20231103_0003.ZIP 20435517\n",
      "131 / 542 ; c:\\TSDE_Workarea\\ktt2yk\\Projects\\3BVT\\20231103_Bank_TCS_AHA_VDC/20231103_0004.ZIP 22348801\n",
      "132 / 542 ; c:\\TSDE_Workarea\\ktt2yk\\Projects\\3BVT\\20231103_Bank_TCS_AHA_VDC/20231103_0005.ZIP 8296519\n",
      "133 / 542 ; c:\\TSDE_Workarea\\ktt2yk\\Projects\\3BVT\\20231103_Bank_TCS_AHA_VDC/20231103_0006.ZIP 7764199\n",
      "134 / 542 ; c:\\TSDE_Workarea\\ktt2yk\\Projects\\3BVT\\20231103_Bank_TCS_AHA_VDC/20231103_0007.ZIP 14119529\n",
      "135 / 542 ; c:\\TSDE_Workarea\\ktt2yk\\Projects\\3BVT\\20231103_Bank_TCS_AHA_VDC/20231103_0008.ZIP 8824615\n",
      "136 / 542 ; c:\\TSDE_Workarea\\ktt2yk\\Projects\\3BVT\\20231103_Bank_TCS_AHA_VDC/20231103_0009.ZIP 12046852\n",
      "137 / 542 ; c:\\TSDE_Workarea\\ktt2yk\\Projects\\3BVT\\20231103_Bank_TCS_AHA_VDC/20231103_0010.ZIP 14277387\n",
      "138 / 542 ; c:\\TSDE_Workarea\\ktt2yk\\Projects\\3BVT\\20231103_Bank_TCS_AHA_VDC/20231103_0011.ZIP 9839512\n",
      "139 / 542 ; c:\\TSDE_Workarea\\ktt2yk\\Projects\\3BVT\\20231103_Bank_TCS_AHA_VDC/20231103_0012.ZIP 8933350\n",
      "140 / 542 ; c:\\TSDE_Workarea\\ktt2yk\\Projects\\3BVT\\20231103_Bank_TCS_AHA_VDC/20231103_0013.ZIP 8645618\n",
      "141 / 542 ; c:\\TSDE_Workarea\\ktt2yk\\Projects\\3BVT\\20231103_Bank_TCS_AHA_VDC/20231103_0014.ZIP 8504870\n",
      "142 / 542 ; c:\\TSDE_Workarea\\ktt2yk\\Projects\\3BVT\\20231103_Bank_TCS_AHA_VDC/20231103_0015.ZIP 6544851\n",
      "143 / 542 ; c:\\TSDE_Workarea\\ktt2yk\\Projects\\3BVT\\20231103_Bank_TCS_AHA_VDC/20231103_0016.ZIP 40891930\n",
      "144 / 542 ; c:\\TSDE_Workarea\\ktt2yk\\Projects\\3BVT\\20231103_Bank_TCS_AHA_VDC/20231103_0017.ZIP 39431786\n",
      "145 / 542 ; c:\\TSDE_Workarea\\ktt2yk\\Projects\\3BVT\\20231103_Bank_TCS_AHA_VDC/20231103_0018.ZIP 43559979\n",
      "146 / 542 ; c:\\TSDE_Workarea\\ktt2yk\\Projects\\3BVT\\20231103_Bank_TCS_AHA_VDC/20231103_0019.ZIP 14589179\n",
      "147 / 542 ; c:\\TSDE_Workarea\\ktt2yk\\Projects\\3BVT\\20231103_Bank_TCS_AHA_VDC/20231103_0020.ZIP 14042109\n",
      "148 / 542 ; c:\\TSDE_Workarea\\ktt2yk\\Projects\\3BVT\\20231103_Bank_TCS_AHA_VDC/20231103_0021.ZIP 38041328\n",
      "149 / 542 ; c:\\TSDE_Workarea\\ktt2yk\\Projects\\3BVT\\20231103_Bank_TCS_AHA_VDC/20231103_0022.ZIP 15169374\n",
      "150 / 542 ; c:\\TSDE_Workarea\\ktt2yk\\Projects\\3BVT\\20231103_Bank_TCS_AHA_VDC/20231103_0023.ZIP 44665487\n",
      "151 / 542 ; c:\\TSDE_Workarea\\ktt2yk\\Projects\\3BVT\\20231103_Bank_TCS_AHA_VDC/20231103_0024.ZIP 19203173\n",
      "152 / 542 ; c:\\TSDE_Workarea\\ktt2yk\\Projects\\3BVT\\20231107_0.3split_Araisan/20231107_0035.ZIP 11399015\n",
      "153 / 542 ; c:\\TSDE_Workarea\\ktt2yk\\Projects\\3BVT\\20231107_Wet_SenkaiTCS_ABS/20231107_0000.ZIP 39445136\n",
      "154 / 542 ; c:\\TSDE_Workarea\\ktt2yk\\Projects\\3BVT\\20231107_Wet_SenkaiTCS_ABS/20231107_0001.ZIP 8509595\n",
      "155 / 542 ; c:\\TSDE_Workarea\\ktt2yk\\Projects\\3BVT\\20231107_Wet_SenkaiTCS_ABS/20231107_0002.ZIP 21746841\n",
      "156 / 542 ; c:\\TSDE_Workarea\\ktt2yk\\Projects\\3BVT\\20231107_Wet_SenkaiTCS_ABS/20231107_0003.ZIP 19035842\n",
      "157 / 542 ; c:\\TSDE_Workarea\\ktt2yk\\Projects\\3BVT\\20231107_Wet_SenkaiTCS_ABS/20231107_0004.ZIP 22271758\n",
      "158 / 542 ; c:\\TSDE_Workarea\\ktt2yk\\Projects\\3BVT\\20231107_Wet_SenkaiTCS_ABS/20231107_0005.ZIP 20737327\n",
      "159 / 542 ; c:\\TSDE_Workarea\\ktt2yk\\Projects\\3BVT\\20231107_Wet_SenkaiTCS_ABS/20231107_0006.ZIP 15036711\n",
      "160 / 542 ; c:\\TSDE_Workarea\\ktt2yk\\Projects\\3BVT\\20231107_Wet_SenkaiTCS_ABS/20231107_0007.ZIP 21427885\n",
      "161 / 542 ; c:\\TSDE_Workarea\\ktt2yk\\Projects\\3BVT\\20231107_Wet_SenkaiTCS_ABS/20231107_0008.ZIP 30391051\n",
      "162 / 542 ; c:\\TSDE_Workarea\\ktt2yk\\Projects\\3BVT\\20231107_Wet_SenkaiTCS_ABS/20231107_0009.ZIP 15491195\n",
      "163 / 542 ; c:\\TSDE_Workarea\\ktt2yk\\Projects\\3BVT\\20231107_Wet_SenkaiTCS_ABS/20231107_0010.ZIP 17943086\n",
      "164 / 542 ; c:\\TSDE_Workarea\\ktt2yk\\Projects\\3BVT\\20231107_Wet_SenkaiTCS_ABS/20231107_0011.ZIP 23805597\n",
      "165 / 542 ; c:\\TSDE_Workarea\\ktt2yk\\Projects\\3BVT\\20231107_Wet_SenkaiTCS_ABS/20231107_0012.ZIP 27213478\n",
      "166 / 542 ; c:\\TSDE_Workarea\\ktt2yk\\Projects\\3BVT\\20231107_Wet_SenkaiTCS_ABS/20231107_0013.ZIP 13370001\n",
      "167 / 542 ; c:\\TSDE_Workarea\\ktt2yk\\Projects\\3BVT\\20231107_Wet_SenkaiTCS_ABS/20231107_0014.ZIP 13791619\n",
      "168 / 542 ; c:\\TSDE_Workarea\\ktt2yk\\Projects\\3BVT\\20231107_Wet_SenkaiTCS_ABS/20231107_0015.ZIP 15658651\n",
      "169 / 542 ; c:\\TSDE_Workarea\\ktt2yk\\Projects\\3BVT\\20231107_Wet_SenkaiTCS_ABS/20231107_0016.ZIP 12662785\n",
      "170 / 542 ; c:\\TSDE_Workarea\\ktt2yk\\Projects\\3BVT\\20231107_Wet_SenkaiTCS_ABS/20231107_0017.ZIP 7033747\n",
      "171 / 542 ; c:\\TSDE_Workarea\\ktt2yk\\Projects\\3BVT\\20231107_Wet_SenkaiTCS_ABS/20231107_0018.ZIP 7420650\n",
      "172 / 542 ; c:\\TSDE_Workarea\\ktt2yk\\Projects\\3BVT\\20231107_Wet_SenkaiTCS_ABS/20231107_0019.ZIP 10211757\n",
      "173 / 542 ; c:\\TSDE_Workarea\\ktt2yk\\Projects\\3BVT\\20231107_Wet_SenkaiTCS_ABS/20231107_0020.ZIP 11207792\n",
      "174 / 542 ; c:\\TSDE_Workarea\\ktt2yk\\Projects\\3BVT\\20231107_Wet_SenkaiTCS_ABS/20231107_0021.ZIP 12058476\n",
      "175 / 542 ; c:\\TSDE_Workarea\\ktt2yk\\Projects\\3BVT\\20231107_Wet_SenkaiTCS_ABS/20231107_0022.ZIP 9639662\n",
      "176 / 542 ; c:\\TSDE_Workarea\\ktt2yk\\Projects\\3BVT\\20231107_Wet_SenkaiTCS_ABS/20231107_0023.ZIP 6739700\n",
      "177 / 542 ; c:\\TSDE_Workarea\\ktt2yk\\Projects\\3BVT\\20231107_Wet_SenkaiTCS_ABS/20231107_0024.ZIP 8175062\n",
      "178 / 542 ; c:\\TSDE_Workarea\\ktt2yk\\Projects\\3BVT\\20231107_Wet_SenkaiTCS_ABS/20231107_0025.ZIP 10642587\n",
      "179 / 542 ; c:\\TSDE_Workarea\\ktt2yk\\Projects\\3BVT\\20231107_Wet_SenkaiTCS_ABS/20231107_0026.ZIP 10496560\n",
      "180 / 542 ; c:\\TSDE_Workarea\\ktt2yk\\Projects\\3BVT\\20231108_TCS_Araisan/20231108_0036.ZIP 12444354\n",
      "181 / 542 ; c:\\TSDE_Workarea\\ktt2yk\\Projects\\3BVT\\20231108_TCS_Araisan/20231108_0037.ZIP 15760365\n",
      "182 / 542 ; c:\\TSDE_Workarea\\ktt2yk\\Projects\\3BVT\\20231108_TCS_Araisan/20231108_0038.ZIP 11845401\n",
      "183 / 542 ; c:\\TSDE_Workarea\\ktt2yk\\Projects\\3BVT\\20231108_TCS_Araisan/20231108_0039.ZIP 13334145\n",
      "184 / 542 ; c:\\TSDE_Workarea\\ktt2yk\\Projects\\3BVT\\20231108_TCS_Araisan/20231108_0040.ZIP 6837447\n",
      "185 / 542 ; c:\\TSDE_Workarea\\ktt2yk\\Projects\\3BVT\\20231108_TCS_Araisan/20231108_0041.ZIP 9242671\n",
      "186 / 542 ; c:\\TSDE_Workarea\\ktt2yk\\Projects\\3BVT\\20231108_TCS_Araisan/20231108_0042.ZIP 11321649\n",
      "187 / 542 ; c:\\TSDE_Workarea\\ktt2yk\\Projects\\3BVT\\20231108_TCS_VDC_Onakasan/20231108_0000.ZIP 8718862\n",
      "188 / 542 ; c:\\TSDE_Workarea\\ktt2yk\\Projects\\3BVT\\20231108_TCS_VDC_Onakasan/20231108_0001.ZIP 11586724\n",
      "189 / 542 ; c:\\TSDE_Workarea\\ktt2yk\\Projects\\3BVT\\20231108_TCS_VDC_Onakasan/20231108_0002.ZIP 6579638\n",
      "190 / 542 ; c:\\TSDE_Workarea\\ktt2yk\\Projects\\3BVT\\20231108_TCS_VDC_Onakasan/20231108_0003.ZIP 21603336\n",
      "191 / 542 ; c:\\TSDE_Workarea\\ktt2yk\\Projects\\3BVT\\20231108_TCS_VDC_Onakasan/20231108_0004.ZIP 16147373\n",
      "192 / 542 ; c:\\TSDE_Workarea\\ktt2yk\\Projects\\3BVT\\20231108_TCS_VDC_Onakasan/20231108_0005.ZIP 11643802\n",
      "193 / 542 ; c:\\TSDE_Workarea\\ktt2yk\\Projects\\3BVT\\20231108_TCS_VDC_Onakasan/20231108_0006.ZIP 36190411\n",
      "194 / 542 ; c:\\TSDE_Workarea\\ktt2yk\\Projects\\3BVT\\20231108_TCS_VDC_Onakasan/20231108_0007.ZIP 29078926\n",
      "195 / 542 ; c:\\TSDE_Workarea\\ktt2yk\\Projects\\3BVT\\20231108_TCS_VDC_Onakasan/20231108_0008.ZIP 33959308\n",
      "196 / 542 ; c:\\TSDE_Workarea\\ktt2yk\\Projects\\3BVT\\20231108_TCS_VDC_Onakasan/20231108_0009.ZIP 17423531\n",
      "197 / 542 ; c:\\TSDE_Workarea\\ktt2yk\\Projects\\3BVT\\20231108_TCS_VDC_Onakasan/20231108_0010.ZIP 27380845\n",
      "198 / 542 ; c:\\TSDE_Workarea\\ktt2yk\\Projects\\3BVT\\20231108_TCS_VDC_Onakasan/20231108_0011.ZIP 26083517\n",
      "199 / 542 ; c:\\TSDE_Workarea\\ktt2yk\\Projects\\3BVT\\20231108_TCS_VDC_Onakasan/20231108_0012.ZIP 36326913\n",
      "200 / 542 ; c:\\TSDE_Workarea\\ktt2yk\\Projects\\3BVT\\20231108_TCS_VDC_Onakasan/20231108_0013.ZIP 34894597\n",
      "201 / 542 ; c:\\TSDE_Workarea\\ktt2yk\\Projects\\3BVT\\20231108_TCS_VDC_Onakasan/20231108_0014.ZIP 39870577\n",
      "202 / 542 ; c:\\TSDE_Workarea\\ktt2yk\\Projects\\3BVT\\20231108_TCS_VDC_Onakasan/20231108_0015.ZIP 12954063\n",
      "203 / 542 ; c:\\TSDE_Workarea\\ktt2yk\\Projects\\3BVT\\20231108_TCS_VDC_Onakasan/20231108_0016.ZIP 15575698\n",
      "204 / 542 ; c:\\TSDE_Workarea\\ktt2yk\\Projects\\3BVT\\20231108_TCS_VDC_Onakasan/20231108_0017.ZIP 23148462\n",
      "205 / 542 ; c:\\TSDE_Workarea\\ktt2yk\\Projects\\3BVT\\20231108_TCS_VDC_Onakasan/20231108_0018.ZIP 22035243\n",
      "206 / 542 ; c:\\TSDE_Workarea\\ktt2yk\\Projects\\3BVT\\20231108_TCS_VDC_Onakasan/20231108_0019.ZIP 37014372\n",
      "207 / 542 ; c:\\TSDE_Workarea\\ktt2yk\\Projects\\3BVT\\20231109_TCS_Split_Flat/20231109_0027.ZIP 27003040\n",
      "208 / 542 ; c:\\TSDE_Workarea\\ktt2yk\\Projects\\3BVT\\20231109_TCS_Split_Flat/20231109_0028.ZIP 8874551\n",
      "209 / 542 ; c:\\TSDE_Workarea\\ktt2yk\\Projects\\3BVT\\20231109_TCS_Split_Flat/20231109_0037.ZIP 51002033\n",
      "210 / 542 ; c:\\TSDE_Workarea\\ktt2yk\\Projects\\3BVT\\20231109_TCS_Split_Flat/20231109_0038.ZIP 34269787\n",
      "211 / 542 ; c:\\TSDE_Workarea\\ktt2yk\\Projects\\3BVT\\20231109_TCS_Split_Flat/20231109_0039.ZIP 41278369\n",
      "212 / 542 ; c:\\TSDE_Workarea\\ktt2yk\\Projects\\3BVT\\20231109_TCS_Split_Flat/20231109_0040.ZIP 24541542\n",
      "213 / 542 ; c:\\TSDE_Workarea\\ktt2yk\\Projects\\3BVT\\20231109_TCS_Split_Flat/20231109_0041.ZIP 49278697\n",
      "214 / 542 ; c:\\TSDE_Workarea\\ktt2yk\\Projects\\3BVT\\20231214_HSR/20231214_0001.ZIP 29602985\n",
      "215 / 542 ; c:\\TSDE_Workarea\\ktt2yk\\Projects\\3BVT\\20231214_HSR/20231214_0002.ZIP 29704550\n",
      "216 / 542 ; c:\\TSDE_Workarea\\ktt2yk\\Projects\\3BVT\\20231214_HSR/20231214_0003.ZIP 29642197\n",
      "217 / 542 ; c:\\TSDE_Workarea\\ktt2yk\\Projects\\3BVT\\20231214_HSR/20231214_0004.ZIP 29220154\n",
      "218 / 542 ; c:\\TSDE_Workarea\\ktt2yk\\Projects\\3BVT\\20231214_HSR/20231214_0005.ZIP 29088794\n",
      "219 / 542 ; c:\\TSDE_Workarea\\ktt2yk\\Projects\\3BVT\\20231214_HSR/20231214_0006.ZIP 28631813\n",
      "220 / 542 ; c:\\TSDE_Workarea\\ktt2yk\\Projects\\3BVT\\20231214_HSR/20231214_0007.ZIP 29260263\n",
      "221 / 542 ; c:\\TSDE_Workarea\\ktt2yk\\Projects\\3BVT\\20231214_HSR/20231214_0008.ZIP 29956868\n",
      "222 / 542 ; c:\\TSDE_Workarea\\ktt2yk\\Projects\\3BVT\\20231214_HSR/20231214_0009.ZIP 29580554\n",
      "223 / 542 ; c:\\TSDE_Workarea\\ktt2yk\\Projects\\3BVT\\20231214_HSR/20231214_0010.ZIP 29552111\n",
      "224 / 542 ; c:\\TSDE_Workarea\\ktt2yk\\Projects\\3BVT\\20231214_HSR/20231214_0011.ZIP 29595605\n",
      "225 / 542 ; c:\\TSDE_Workarea\\ktt2yk\\Projects\\3BVT\\20231214_HSR/20231214_0012.ZIP 28252174\n",
      "226 / 542 ; c:\\TSDE_Workarea\\ktt2yk\\Projects\\3BVT\\20231214_HSR/20231214_0013.ZIP 28315347\n",
      "227 / 542 ; c:\\TSDE_Workarea\\ktt2yk\\Projects\\3BVT\\20231214_HSR/20231214_0014.ZIP 29283269\n",
      "228 / 542 ; c:\\TSDE_Workarea\\ktt2yk\\Projects\\3BVT\\20231214_HSR/20231214_0015.ZIP 30430480\n",
      "229 / 542 ; c:\\TSDE_Workarea\\ktt2yk\\Projects\\3BVT\\20231214_HSR/20231214_0016.ZIP 27719075\n",
      "230 / 542 ; c:\\TSDE_Workarea\\ktt2yk\\Projects\\3BVT\\20231214_HSR/20231214_0017.ZIP 28642079\n",
      "231 / 542 ; c:\\TSDE_Workarea\\ktt2yk\\Projects\\3BVT\\20231214_HSR/20231214_0018.ZIP 28193039\n",
      "232 / 542 ; c:\\TSDE_Workarea\\ktt2yk\\Projects\\3BVT\\20231214_HSR/20231214_0019.ZIP 28618263\n",
      "233 / 542 ; c:\\TSDE_Workarea\\ktt2yk\\Projects\\3BVT\\20231214_HSR/20231214_0020.ZIP 27547329\n",
      "234 / 542 ; c:\\TSDE_Workarea\\ktt2yk\\Projects\\3BVT\\20231214_HSR/20231214_0022.ZIP 26511930\n",
      "235 / 542 ; c:\\TSDE_Workarea\\ktt2yk\\Projects\\3BVT\\20231214_HSR/20231214_0023.ZIP 27961901\n",
      "236 / 542 ; c:\\TSDE_Workarea\\ktt2yk\\Projects\\3BVT\\20231214_HSR/20231214_0024.ZIP 26957605\n",
      "237 / 542 ; c:\\TSDE_Workarea\\ktt2yk\\Projects\\3BVT\\20231214_HSR/20231214_0025.ZIP 27100611\n",
      "238 / 542 ; c:\\TSDE_Workarea\\ktt2yk\\Projects\\3BVT\\20231214_HSR/20231214_0026.ZIP 29912869\n",
      "239 / 542 ; c:\\TSDE_Workarea\\ktt2yk\\Projects\\3BVT\\2024_0x1_TakasuWinter\\0206_TCS_AYC/20240206_0010.ZIP 28707583\n",
      "240 / 542 ; c:\\TSDE_Workarea\\ktt2yk\\Projects\\3BVT\\2024_0x1_TakasuWinter\\0206_TCS_AYC/20240206_0011.ZIP 40936789\n",
      "241 / 542 ; c:\\TSDE_Workarea\\ktt2yk\\Projects\\3BVT\\2024_0x1_TakasuWinter\\0206_TCS_AYC/20240206_0012.ZIP 26071527\n",
      "242 / 542 ; c:\\TSDE_Workarea\\ktt2yk\\Projects\\3BVT\\2024_0x1_TakasuWinter\\0206_TCS_AYC/20240206_0013.ZIP 47710667\n",
      "243 / 542 ; c:\\TSDE_Workarea\\ktt2yk\\Projects\\3BVT\\2024_0x1_TakasuWinter\\0206_TCS_AYC/20240206_0014.ZIP 35350576\n",
      "244 / 542 ; c:\\TSDE_Workarea\\ktt2yk\\Projects\\3BVT\\2024_0x1_TakasuWinter\\0206_TCS_AYC/20240206_0015.ZIP 58706858\n",
      "245 / 542 ; c:\\TSDE_Workarea\\ktt2yk\\Projects\\3BVT\\2024_0x1_TakasuWinter\\0206_TCS_AYC/20240206_0016.ZIP 23865863\n",
      "246 / 542 ; c:\\TSDE_Workarea\\ktt2yk\\Projects\\3BVT\\2024_0x1_TakasuWinter\\0206_TCS_AYC/20240206_0017.ZIP 43587956\n",
      "247 / 542 ; c:\\TSDE_Workarea\\ktt2yk\\Projects\\3BVT\\2024_0x1_TakasuWinter\\0206_TCS_AYC/20240206_0018.ZIP 9999546\n",
      "248 / 542 ; c:\\TSDE_Workarea\\ktt2yk\\Projects\\3BVT\\2024_0x1_TakasuWinter\\0206_TCS_AYC/20240206_0019.ZIP 28349440\n",
      "249 / 542 ; c:\\TSDE_Workarea\\ktt2yk\\Projects\\3BVT\\2024_0x1_TakasuWinter\\0206_TCS_AYC/20240206_0020.ZIP 23176813\n",
      "250 / 542 ; c:\\TSDE_Workarea\\ktt2yk\\Projects\\3BVT\\2024_0x1_TakasuWinter\\0206_TCS_AYC/20240206_0021.ZIP 29612999\n",
      "251 / 542 ; c:\\TSDE_Workarea\\ktt2yk\\Projects\\3BVT\\2024_0x1_TakasuWinter\\0206_TCS_AYC/20240206_0022.ZIP 13427706\n",
      "252 / 542 ; c:\\TSDE_Workarea\\ktt2yk\\Projects\\3BVT\\2024_0x1_TakasuWinter\\0206_TCS_AYC/20240206_0023.ZIP 13673247\n",
      "253 / 542 ; c:\\TSDE_Workarea\\ktt2yk\\Projects\\3BVT\\2024_0x1_TakasuWinter\\0206_TCS_AYC/20240206_0024.ZIP 15307661\n",
      "254 / 542 ; c:\\TSDE_Workarea\\ktt2yk\\Projects\\3BVT\\2024_0x1_TakasuWinter\\0206_TCS_AYC/20240206_0025.ZIP 32472576\n",
      "255 / 542 ; c:\\TSDE_Workarea\\ktt2yk\\Projects\\3BVT\\2024_0x1_TakasuWinter\\0206_TCS_AYC/20240206_0026.ZIP 19329396\n",
      "256 / 542 ; c:\\TSDE_Workarea\\ktt2yk\\Projects\\3BVT\\2024_0x1_TakasuWinter\\0206_TCS_AYC/20240206_0027.ZIP 16682755\n",
      "257 / 542 ; c:\\TSDE_Workarea\\ktt2yk\\Projects\\3BVT\\2024_0x1_TakasuWinter\\0206_TCS_AYC/20240206_0028.ZIP 17736846\n",
      "258 / 542 ; c:\\TSDE_Workarea\\ktt2yk\\Projects\\3BVT\\2024_0x1_TakasuWinter\\0206_TCS_AYC/20240206_0029.ZIP 22069602\n",
      "259 / 542 ; c:\\TSDE_Workarea\\ktt2yk\\Projects\\3BVT\\2024_0x1_TakasuWinter\\0206_TCS_AYC/20240206_0030.ZIP 75878081\n",
      "260 / 542 ; c:\\TSDE_Workarea\\ktt2yk\\Projects\\3BVT\\2024_0x1_TakasuWinter\\0206_TCS_AYC/20240206_0031.ZIP 41857504\n",
      "261 / 542 ; c:\\TSDE_Workarea\\ktt2yk\\Projects\\3BVT\\2024_0x1_TakasuWinter\\0206_TCS_AYC/20240206_0032.ZIP 36721853\n",
      "262 / 542 ; c:\\TSDE_Workarea\\ktt2yk\\Projects\\3BVT\\2024_0x1_TakasuWinter\\0207_SplitHill_AYC/20240207_0000.ZIP 36489069\n",
      "263 / 542 ; c:\\TSDE_Workarea\\ktt2yk\\Projects\\3BVT\\2024_0x1_TakasuWinter\\0207_SplitHill_AYC/20240207_0001.ZIP 48049252\n",
      "264 / 542 ; c:\\TSDE_Workarea\\ktt2yk\\Projects\\3BVT\\2024_0x1_TakasuWinter\\0207_SplitHill_AYC/20240207_0002.ZIP 16379435\n",
      "265 / 542 ; c:\\TSDE_Workarea\\ktt2yk\\Projects\\3BVT\\2024_0x1_TakasuWinter\\0207_SplitHill_AYC/20240207_0003.ZIP 31339219\n",
      "266 / 542 ; c:\\TSDE_Workarea\\ktt2yk\\Projects\\3BVT\\2024_0x1_TakasuWinter\\0207_SplitHill_AYC/20240207_0004.ZIP 15142353\n",
      "267 / 542 ; c:\\TSDE_Workarea\\ktt2yk\\Projects\\3BVT\\2024_0x1_TakasuWinter\\0207_SplitHill_AYC/20240207_0005.ZIP 16714969\n",
      "268 / 542 ; c:\\TSDE_Workarea\\ktt2yk\\Projects\\3BVT\\2024_0x1_TakasuWinter\\0207_SplitHill_AYC/20240207_0006.ZIP 16915592\n",
      "269 / 542 ; c:\\TSDE_Workarea\\ktt2yk\\Projects\\3BVT\\2024_0x1_TakasuWinter\\0207_SplitHill_AYC/20240207_0007.ZIP 18072387\n",
      "270 / 542 ; c:\\TSDE_Workarea\\ktt2yk\\Projects\\3BVT\\2024_0x1_TakasuWinter\\0207_SplitHill_AYC/20240207_0008.ZIP 16461873\n",
      "271 / 542 ; c:\\TSDE_Workarea\\ktt2yk\\Projects\\3BVT\\2024_0x1_TakasuWinter\\0207_SplitHill_AYC/20240207_0009.ZIP 15113629\n",
      "272 / 542 ; c:\\TSDE_Workarea\\ktt2yk\\Projects\\3BVT\\2024_0x1_TakasuWinter\\0207_SplitHill_AYC/20240207_0010.ZIP 18875315\n",
      "273 / 542 ; c:\\TSDE_Workarea\\ktt2yk\\Projects\\3BVT\\2024_0x1_TakasuWinter\\0207_SplitHill_AYC/20240207_0011.ZIP 14555428\n",
      "274 / 542 ; c:\\TSDE_Workarea\\ktt2yk\\Projects\\3BVT\\2024_0x1_TakasuWinter\\0207_SplitHill_AYC/20240207_0012.ZIP 28271307\n",
      "275 / 542 ; c:\\TSDE_Workarea\\ktt2yk\\Projects\\3BVT\\2024_0x1_TakasuWinter\\0207_SplitHill_AYC/20240207_0013.ZIP 15010346\n",
      "276 / 542 ; c:\\TSDE_Workarea\\ktt2yk\\Projects\\3BVT\\2024_0x1_TakasuWinter\\0207_SplitHill_AYC/20240207_0014.ZIP 45696877\n",
      "277 / 542 ; c:\\TSDE_Workarea\\ktt2yk\\Projects\\3BVT\\2024_0x1_TakasuWinter\\0207_SplitHill_AYC/20240207_0015.ZIP 38645524\n",
      "278 / 542 ; c:\\TSDE_Workarea\\ktt2yk\\Projects\\3BVT\\2024_0x1_TakasuWinter\\0207_SplitHill_AYC/20240207_0016.ZIP 45588944\n",
      "279 / 542 ; c:\\TSDE_Workarea\\ktt2yk\\Projects\\3BVT\\2024_0x1_TakasuWinter\\0207_SplitHill_AYC/20240207_0017.ZIP 16551260\n",
      "280 / 542 ; c:\\TSDE_Workarea\\ktt2yk\\Projects\\3BVT\\2024_0x1_TakasuWinter\\0207_SplitHill_AYC/20240207_0018.ZIP 23194858\n",
      "281 / 542 ; c:\\TSDE_Workarea\\ktt2yk\\Projects\\3BVT\\2024_0x1_TakasuWinter\\0207_SplitHill_AYC/20240207_0019.ZIP 50894518\n",
      "282 / 542 ; c:\\TSDE_Workarea\\ktt2yk\\Projects\\3BVT\\2024_0x1_TakasuWinter\\0207_SplitHill_AYC/20240207_0020.ZIP 49478037\n",
      "283 / 542 ; c:\\TSDE_Workarea\\ktt2yk\\Projects\\3BVT\\2024_0x1_TakasuWinter\\0207_SplitHill_AYC/20240207_0021.ZIP 49292137\n",
      "284 / 542 ; c:\\TSDE_Workarea\\ktt2yk\\Projects\\3BVT\\2024_0x1_TakasuWinter\\0207_SplitHill_Slalome_OnakaSan/20240207_0005.ZIP 40513738\n",
      "285 / 542 ; c:\\TSDE_Workarea\\ktt2yk\\Projects\\3BVT\\2024_0x1_TakasuWinter\\0207_SplitHill_Slalome_OnakaSan/20240207_0009.ZIP 64378859\n",
      "286 / 542 ; c:\\TSDE_Workarea\\ktt2yk\\Projects\\3BVT\\2024_0x1_TakasuWinter\\0207_SplitHill_Slalome_OnakaSan/20240207_0010.ZIP 15181425\n",
      "287 / 542 ; c:\\TSDE_Workarea\\ktt2yk\\Projects\\3BVT\\2024_0x1_TakasuWinter\\0207_SplitHill_Slalome_OnakaSan/20240207_0011.ZIP 18866020\n",
      "288 / 542 ; c:\\TSDE_Workarea\\ktt2yk\\Projects\\3BVT\\2024_0x1_TakasuWinter\\0207_SplitHill_Slalome_OnakaSan/20240207_0012.ZIP 12569866\n",
      "289 / 542 ; c:\\TSDE_Workarea\\ktt2yk\\Projects\\3BVT\\2024_0x1_TakasuWinter\\0207_SplitHill_Slalome_OnakaSan/20240207_0013.ZIP 15762817\n",
      "290 / 542 ; c:\\TSDE_Workarea\\ktt2yk\\Projects\\3BVT\\2024_0x1_TakasuWinter\\0207_SplitHill_Slalome_OnakaSan/20240207_0014.ZIP 10106800\n",
      "291 / 542 ; c:\\TSDE_Workarea\\ktt2yk\\Projects\\3BVT\\2024_0x1_TakasuWinter\\0207_SplitHill_Slalome_OnakaSan/20240207_0015.ZIP 21042340\n",
      "292 / 542 ; c:\\TSDE_Workarea\\ktt2yk\\Projects\\3BVT\\2024_0x1_TakasuWinter\\0207_SplitHill_Slalome_OnakaSan/20240207_0016.ZIP 10698402\n",
      "293 / 542 ; c:\\TSDE_Workarea\\ktt2yk\\Projects\\3BVT\\2024_0x1_TakasuWinter\\0207_SplitHill_Slalome_OnakaSan/20240207_0017.ZIP 10677671\n",
      "294 / 542 ; c:\\TSDE_Workarea\\ktt2yk\\Projects\\3BVT\\2024_0x1_TakasuWinter\\0207_SplitHill_Slalome_OnakaSan/20240207_0018.ZIP 11988253\n",
      "295 / 542 ; c:\\TSDE_Workarea\\ktt2yk\\Projects\\3BVT\\2024_0x1_TakasuWinter\\0207_SplitHill_Slalome_OnakaSan/20240207_0019.ZIP 20655504\n",
      "296 / 542 ; c:\\TSDE_Workarea\\ktt2yk\\Projects\\3BVT\\2024_0x1_TakasuWinter\\0207_SplitHill_Slalome_OnakaSan/20240207_0020.ZIP 12915078\n",
      "297 / 542 ; c:\\TSDE_Workarea\\ktt2yk\\Projects\\3BVT\\2024_0x1_TakasuWinter\\0207_SplitHill_Slalome_OnakaSan/20240207_0021.ZIP 11279884\n",
      "298 / 542 ; c:\\TSDE_Workarea\\ktt2yk\\Projects\\3BVT\\2024_0x1_TakasuWinter\\0207_SplitHill_Slalome_OnakaSan/20240207_0022.ZIP 33976185\n",
      "299 / 542 ; c:\\TSDE_Workarea\\ktt2yk\\Projects\\3BVT\\2024_0x1_TakasuWinter\\0207_SplitHill_Slalome_OnakaSan/20240207_0023.ZIP 9920263\n",
      "300 / 542 ; c:\\TSDE_Workarea\\ktt2yk\\Projects\\3BVT\\2024_0x1_TakasuWinter\\0207_SplitHill_Slalome_OnakaSan/20240207_0024.ZIP 18474979\n",
      "301 / 542 ; c:\\TSDE_Workarea\\ktt2yk\\Projects\\3BVT\\2024_0x1_TakasuWinter\\0207_SplitHill_Slalome_OnakaSan/20240207_0025.ZIP 15527980\n",
      "302 / 542 ; c:\\TSDE_Workarea\\ktt2yk\\Projects\\3BVT\\2024_0x1_TakasuWinter\\0207_SplitHill_Slalome_OnakaSan/20240207_0026.ZIP 11298444\n",
      "303 / 542 ; c:\\TSDE_Workarea\\ktt2yk\\Projects\\3BVT\\2024_0x1_TakasuWinter\\0207_SplitHill_Slalome_OnakaSan/20240207_0027.ZIP 10778542\n",
      "304 / 542 ; c:\\TSDE_Workarea\\ktt2yk\\Projects\\3BVT\\2024_0x1_TakasuWinter\\0207_SplitHill_Slalome_OnakaSan/20240207_0028.ZIP 24329741\n",
      "305 / 542 ; c:\\TSDE_Workarea\\ktt2yk\\Projects\\3BVT\\2024_0x1_TakasuWinter\\0207_SplitHill_Slalome_OnakaSan/20240207_0030.ZIP 31362555\n",
      "306 / 542 ; c:\\TSDE_Workarea\\ktt2yk\\Projects\\3BVT\\2024_0x1_TakasuWinter\\0207_SplitHill_Slalome_OnakaSan/20240207_0031.ZIP 18134340\n",
      "307 / 542 ; c:\\TSDE_Workarea\\ktt2yk\\Projects\\3BVT\\2024_0x1_TakasuWinter\\0207_SplitHill_Slalome_OnakaSan/20240207_0032.ZIP 25881608\n",
      "308 / 542 ; c:\\TSDE_Workarea\\ktt2yk\\Projects\\3BVT\\2024_0x1_TakasuWinter\\0207_SplitHill_Slalome_OnakaSan/20240207_0033.ZIP 55875023\n",
      "309 / 542 ; c:\\TSDE_Workarea\\ktt2yk\\Projects\\3BVT\\2024_0x1_TakasuWinter\\0207_SplitHill_Slalome_OnakaSan/20240207_0036.ZIP 50049807\n",
      "310 / 542 ; c:\\TSDE_Workarea\\ktt2yk\\Projects\\3BVT\\2024_0x1_TakasuWinter\\0207_SplitHill_Slalome_OnakaSan/20240207_0038.ZIP 44154811\n",
      "311 / 542 ; c:\\TSDE_Workarea\\ktt2yk\\Projects\\3BVT\\2024_0x1_TakasuWinter\\0208_TCS_AYC/20240208_0000.ZIP 21611320\n",
      "312 / 542 ; c:\\TSDE_Workarea\\ktt2yk\\Projects\\3BVT\\2024_0x1_TakasuWinter\\0208_TCS_AYC/20240208_0001.ZIP 21645030\n",
      "313 / 542 ; c:\\TSDE_Workarea\\ktt2yk\\Projects\\3BVT\\2024_0x1_TakasuWinter\\0208_TCS_AYC/20240208_0002.ZIP 14383975\n",
      "314 / 542 ; c:\\TSDE_Workarea\\ktt2yk\\Projects\\3BVT\\2024_0x1_TakasuWinter\\0208_TCS_AYC/20240208_0003.ZIP 15017526\n",
      "315 / 542 ; c:\\TSDE_Workarea\\ktt2yk\\Projects\\3BVT\\2024_0x1_TakasuWinter\\0208_TCS_AYC/20240208_0004.ZIP 13240196\n",
      "316 / 542 ; c:\\TSDE_Workarea\\ktt2yk\\Projects\\3BVT\\2024_0x1_TakasuWinter\\0208_TCS_AYC/20240208_0005.ZIP 17018487\n",
      "317 / 542 ; c:\\TSDE_Workarea\\ktt2yk\\Projects\\3BVT\\2024_0x1_TakasuWinter\\0208_TCS_AYC/20240208_0006.ZIP 16551599\n",
      "318 / 542 ; c:\\TSDE_Workarea\\ktt2yk\\Projects\\3BVT\\2024_0x1_TakasuWinter\\0208_TCS_AYC/20240208_0007.ZIP 12656092\n",
      "319 / 542 ; c:\\TSDE_Workarea\\ktt2yk\\Projects\\3BVT\\2024_0x1_TakasuWinter\\0208_TCS_AYC/20240208_0008.ZIP 13887902\n",
      "320 / 542 ; c:\\TSDE_Workarea\\ktt2yk\\Projects\\3BVT\\2024_0x1_TakasuWinter\\0208_TCS_AYC/20240208_0009.ZIP 31982134\n",
      "321 / 542 ; c:\\TSDE_Workarea\\ktt2yk\\Projects\\3BVT\\2024_0x1_TakasuWinter\\0208_TCS_AYC/20240208_0010.ZIP 14919040\n",
      "322 / 542 ; c:\\TSDE_Workarea\\ktt2yk\\Projects\\3BVT\\2024_0x1_TakasuWinter\\0208_TCS_AYC/20240208_0011.ZIP 27701900\n",
      "323 / 542 ; c:\\TSDE_Workarea\\ktt2yk\\Projects\\3BVT\\2024_0x1_TakasuWinter\\0208_TCS_AYC/20240208_0012.ZIP 22675753\n",
      "324 / 542 ; c:\\TSDE_Workarea\\ktt2yk\\Projects\\3BVT\\2024_0x1_TakasuWinter\\0208_TCS_AYC/20240208_0013.ZIP 24423181\n",
      "325 / 542 ; c:\\TSDE_Workarea\\ktt2yk\\Projects\\3BVT\\2024_0x1_TakasuWinter\\0208_TCS_AYC/20240208_0014.ZIP 13096627\n",
      "326 / 542 ; c:\\TSDE_Workarea\\ktt2yk\\Projects\\3BVT\\2024_0x1_TakasuWinter\\0208_TCS_AYC/20240208_0015.ZIP 14981471\n",
      "327 / 542 ; c:\\TSDE_Workarea\\ktt2yk\\Projects\\3BVT\\2024_0x1_TakasuWinter\\0208_TCS_AYC/20240208_0016.ZIP 25566334\n",
      "328 / 542 ; c:\\TSDE_Workarea\\ktt2yk\\Projects\\3BVT\\2024_0x1_TakasuWinter\\0208_TCS_AYC/20240208_0017.ZIP 14369375\n",
      "329 / 542 ; c:\\TSDE_Workarea\\ktt2yk\\Projects\\3BVT\\2024_0x1_TakasuWinter\\0208_TCS_AYC/20240208_0018.ZIP 30034224\n",
      "330 / 542 ; c:\\TSDE_Workarea\\ktt2yk\\Projects\\3BVT\\2024_0x1_TakasuWinter\\0208_TCS_AYC/20240208_0019.ZIP 12703214\n",
      "331 / 542 ; c:\\TSDE_Workarea\\ktt2yk\\Projects\\3BVT\\2024_0x1_TakasuWinter\\0208_TCS_AYC/20240208_0020.ZIP 32574575\n",
      "332 / 542 ; c:\\TSDE_Workarea\\ktt2yk\\Projects\\3BVT\\2024_0x1_TakasuWinter\\0208_TCS_AYC/20240208_0021.ZIP 25207562\n",
      "333 / 542 ; c:\\TSDE_Workarea\\ktt2yk\\Projects\\3BVT\\2024_0x1_TakasuWinter\\0208_TCS_AYC/20240208_0022.ZIP 16566087\n",
      "334 / 542 ; c:\\TSDE_Workarea\\ktt2yk\\Projects\\3BVT\\2024_0x1_TakasuWinter\\0208_TCS_AYC/20240208_0023.ZIP 18760526\n",
      "335 / 542 ; c:\\TSDE_Workarea\\ktt2yk\\Projects\\3BVT\\2024_0x1_TakasuWinter\\0208_TCS_AYC/20240208_0024.ZIP 28517660\n",
      "336 / 542 ; c:\\TSDE_Workarea\\ktt2yk\\Projects\\3BVT\\2024_0x1_TakasuWinter\\0208_TCS_AYC/20240208_0025.ZIP 20124120\n",
      "337 / 542 ; c:\\TSDE_Workarea\\ktt2yk\\Projects\\3BVT\\2024_0x1_TakasuWinter\\0208_TCS_AYC/20240208_0026.ZIP 32593729\n",
      "338 / 542 ; c:\\TSDE_Workarea\\ktt2yk\\Projects\\3BVT\\2024_0x1_TakasuWinter\\0208_TCS_AYC/20240208_0027.ZIP 35566519\n",
      "339 / 542 ; c:\\TSDE_Workarea\\ktt2yk\\Projects\\3BVT\\2024_0x1_TakasuWinter\\0208_TCS_AYC/20240208_0028.ZIP 29866111\n",
      "340 / 542 ; c:\\TSDE_Workarea\\ktt2yk\\Projects\\3BVT\\2024_0x1_TakasuWinter\\0208_TCS_AYC/20240208_0029.ZIP 13867437\n",
      "341 / 542 ; c:\\TSDE_Workarea\\ktt2yk\\Projects\\3BVT\\2024_0x1_TakasuWinter\\0208_TCS_AYC/20240208_0030.ZIP 17613952\n",
      "342 / 542 ; c:\\TSDE_Workarea\\ktt2yk\\Projects\\3BVT\\2024_0x1_TakasuWinter\\0208_TCS_AYC/20240208_0031.ZIP 10955988\n",
      "343 / 542 ; c:\\TSDE_Workarea\\ktt2yk\\Projects\\3BVT\\2024_0x1_TakasuWinter\\0208_TCS_AYC/20240208_0032.ZIP 20959751\n",
      "344 / 542 ; c:\\TSDE_Workarea\\ktt2yk\\Projects\\3BVT\\2024_0x1_TakasuWinter\\0208_TCS_AYC/20240208_0033.ZIP 14885084\n",
      "345 / 542 ; c:\\TSDE_Workarea\\ktt2yk\\Projects\\3BVT\\2024_0x1_TakasuWinter\\0208_TCS_AYC/20240208_0034.ZIP 12632725\n",
      "346 / 542 ; c:\\TSDE_Workarea\\ktt2yk\\Projects\\3BVT\\2024_0x1_TakasuWinter\\0208_TCS_AYC/20240208_0035.ZIP 45656692\n",
      "347 / 542 ; c:\\TSDE_Workarea\\ktt2yk\\Projects\\3BVT\\2024_0x1_TakasuWinter\\0208_TCS_AYC/20240208_0036.ZIP 11914928\n",
      "348 / 542 ; c:\\TSDE_Workarea\\ktt2yk\\Projects\\3BVT\\2024_0x1_TakasuWinter\\0208_TCS_AYC/20240208_0037.ZIP 20485332\n",
      "349 / 542 ; c:\\TSDE_Workarea\\ktt2yk\\Projects\\3BVT\\2024_0x1_TakasuWinter\\0208_TCS_AYC/20240208_0038.ZIP 32875927\n",
      "350 / 542 ; c:\\TSDE_Workarea\\ktt2yk\\Projects\\3BVT\\2024_0x1_TakasuWinter\\0208_TCS_AYC/20240208_0039.ZIP 25962981\n",
      "351 / 542 ; c:\\TSDE_Workarea\\ktt2yk\\Projects\\3BVT\\2024_0x1_TakasuWinter\\0208_TCS_AYC/20240208_0040.ZIP 21603437\n",
      "352 / 542 ; c:\\TSDE_Workarea\\ktt2yk\\Projects\\3BVT\\2024_0x1_TakasuWinter\\0208_TCS_AYC/20240208_0041.ZIP 28829635\n",
      "353 / 542 ; c:\\TSDE_Workarea\\ktt2yk\\Projects\\3BVT\\2024_0x1_TakasuWinter\\0208_TCS_AYC/20240208_0042.ZIP 32967606\n",
      "354 / 542 ; c:\\TSDE_Workarea\\ktt2yk\\Projects\\3BVT\\2024_0x1_TakasuWinter\\0208_TCS_AYC/20240208_0043.ZIP 52218977\n",
      "355 / 542 ; c:\\TSDE_Workarea\\ktt2yk\\Projects\\3BVT\\2024_0x1_TakasuWinter\\0208_TCS_AYC/20240208_0044.ZIP 50941786\n",
      "356 / 542 ; c:\\TSDE_Workarea\\ktt2yk\\Projects\\3BVT\\2024_0x1_TakasuWinter\\0208_TCS_AYC/20240208_0045.ZIP 25636662\n",
      "357 / 542 ; c:\\TSDE_Workarea\\ktt2yk\\Projects\\3BVT\\2024_0x1_TakasuWinter\\0208_TCS_AYC/20240208_0046.ZIP 23883904\n",
      "358 / 542 ; c:\\TSDE_Workarea\\ktt2yk\\Projects\\3BVT\\2024_0x1_TakasuWinter\\0208_TCS_AYC/20240208_0047.ZIP 13976742\n",
      "359 / 542 ; c:\\TSDE_Workarea\\ktt2yk\\Projects\\3BVT\\2024_0x1_TakasuWinter\\0208_TCS_AYC/20240208_0048.ZIP 12520099\n",
      "360 / 542 ; c:\\TSDE_Workarea\\ktt2yk\\Projects\\3BVT\\2024_0x1_TakasuWinter\\0208_TCS_AYC/20240208_0049.ZIP 46760211\n",
      "361 / 542 ; c:\\TSDE_Workarea\\ktt2yk\\Projects\\3BVT\\2024_0x1_TakasuWinter\\0208_TCS_AYC/20240208_0050.ZIP 54056514\n",
      "362 / 542 ; c:\\TSDE_Workarea\\ktt2yk\\Projects\\3BVT\\2024_0x1_TakasuWinter\\0208_TCS_AYC/20240208_0051.ZIP 56427566\n",
      "363 / 542 ; c:\\TSDE_Workarea\\ktt2yk\\Projects\\3BVT\\2024_0x1_TakasuWinter\\0208_TCS_AYC/20240208_0052.ZIP 54735560\n",
      "364 / 542 ; c:\\TSDE_Workarea\\ktt2yk\\Projects\\3BVT\\2024_0x1_TakasuWinter\\0208_TCS_Onakasan/20240208_0008.ZIP 39201873\n",
      "365 / 542 ; c:\\TSDE_Workarea\\ktt2yk\\Projects\\3BVT\\2024_0x1_TakasuWinter\\0208_TCS_Onakasan/20240208_0009.ZIP 36500659\n",
      "366 / 542 ; c:\\TSDE_Workarea\\ktt2yk\\Projects\\3BVT\\2024_0x1_TakasuWinter\\0208_TCS_Onakasan/20240208_0010.ZIP 44442243\n",
      "367 / 542 ; c:\\TSDE_Workarea\\ktt2yk\\Projects\\3BVT\\2024_0x1_TakasuWinter\\0208_TCS_Onakasan/20240208_0011.ZIP 44500865\n",
      "368 / 542 ; c:\\TSDE_Workarea\\ktt2yk\\Projects\\3BVT\\2024_0x1_TakasuWinter\\0208_TCS_Onakasan/20240208_0012.ZIP 41397191\n",
      "369 / 542 ; c:\\TSDE_Workarea\\ktt2yk\\Projects\\3BVT\\2024_0x1_TakasuWinter\\0208_TCS_Onakasan/20240208_0013.ZIP 66802322\n",
      "370 / 542 ; c:\\TSDE_Workarea\\ktt2yk\\Projects\\3BVT\\2024_0x1_TakasuWinter\\0208_TCS_Onakasan/20240208_0014.ZIP 44285947\n",
      "371 / 542 ; c:\\TSDE_Workarea\\ktt2yk\\Projects\\3BVT\\2024_0x1_TakasuWinter\\0208_TCS_Onakasan/20240208_0015.ZIP 23294576\n",
      "372 / 542 ; c:\\TSDE_Workarea\\ktt2yk\\Projects\\3BVT\\2024_0x1_TakasuWinter\\0208_TCS_Onakasan/20240208_0016.ZIP 12602762\n",
      "373 / 542 ; c:\\TSDE_Workarea\\ktt2yk\\Projects\\3BVT\\2024_0x1_TakasuWinter\\0208_TCS_Onakasan/20240208_0017.ZIP 17337488\n",
      "374 / 542 ; c:\\TSDE_Workarea\\ktt2yk\\Projects\\3BVT\\2024_0x1_TakasuWinter\\0208_TCS_Onakasan/20240208_0018.ZIP 18433636\n",
      "375 / 542 ; c:\\TSDE_Workarea\\ktt2yk\\Projects\\3BVT\\2024_0x1_TakasuWinter\\0208_TCS_Onakasan/20240208_0019.ZIP 17769555\n",
      "376 / 542 ; c:\\TSDE_Workarea\\ktt2yk\\Projects\\3BVT\\2024_0x1_TakasuWinter\\0208_TCS_Onakasan/20240208_0020.ZIP 37329615\n",
      "377 / 542 ; c:\\TSDE_Workarea\\ktt2yk\\Projects\\3BVT\\2024_0x1_TakasuWinter\\0208_TCS_Onakasan/20240208_0021.ZIP 55409186\n",
      "378 / 542 ; c:\\TSDE_Workarea\\ktt2yk\\Projects\\3BVT\\2024_0x1_TakasuWinter\\0208_TCS_Onakasan/20240208_0022.ZIP 10268868\n",
      "379 / 542 ; c:\\TSDE_Workarea\\ktt2yk\\Projects\\3BVT\\2024_0x1_TakasuWinter\\0208_TCS_Onakasan/20240208_0023.ZIP 13278435\n",
      "380 / 542 ; c:\\TSDE_Workarea\\ktt2yk\\Projects\\3BVT\\2024_0x1_TakasuWinter\\0208_TCS_Onakasan/20240208_0024.ZIP 23313593\n",
      "381 / 542 ; c:\\TSDE_Workarea\\ktt2yk\\Projects\\3BVT\\2024_0x1_TakasuWinter\\0208_TCS_Onakasan/20240208_0025.ZIP 10941134\n",
      "382 / 542 ; c:\\TSDE_Workarea\\ktt2yk\\Projects\\3BVT\\2024_0x1_TakasuWinter\\0208_TCS_Onakasan/20240208_0026.ZIP 12387449\n",
      "383 / 542 ; c:\\TSDE_Workarea\\ktt2yk\\Projects\\3BVT\\2024_0x1_TakasuWinter\\0208_TCS_Onakasan/20240208_0027.ZIP 16453760\n",
      "384 / 542 ; c:\\TSDE_Workarea\\ktt2yk\\Projects\\3BVT\\2024_0x1_TakasuWinter_for_Sim\\0213_TCS_For_Simulation/20240213_0000.ZIP 49214166\n",
      "385 / 542 ; c:\\TSDE_Workarea\\ktt2yk\\Projects\\3BVT\\2024_0x1_TakasuWinter_for_Sim\\0213_TCS_For_Simulation/20240213_0001.ZIP 52537994\n",
      "386 / 542 ; c:\\TSDE_Workarea\\ktt2yk\\Projects\\3BVT\\2024_0x1_TakasuWinter_for_Sim\\0213_TCS_For_Simulation/20240213_0002.ZIP 12602136\n",
      "387 / 542 ; c:\\TSDE_Workarea\\ktt2yk\\Projects\\3BVT\\2024_0x1_TakasuWinter_for_Sim\\0213_TCS_For_Simulation/20240213_0003.ZIP 35602310\n",
      "388 / 542 ; c:\\TSDE_Workarea\\ktt2yk\\Projects\\3BVT\\2024_0x1_TakasuWinter_for_Sim\\0213_TCS_For_Simulation/20240213_0004.ZIP 55674464\n",
      "389 / 542 ; c:\\TSDE_Workarea\\ktt2yk\\Projects\\3BVT\\2024_0x1_TakasuWinter_for_Sim\\0213_TCS_For_Simulation/20240213_0005.ZIP 11696037\n",
      "390 / 542 ; c:\\TSDE_Workarea\\ktt2yk\\Projects\\3BVT\\2024_0x1_TakasuWinter_for_Sim\\0213_TCS_For_Simulation/20240213_0006.ZIP 27993567\n",
      "391 / 542 ; c:\\TSDE_Workarea\\ktt2yk\\Projects\\3BVT\\2024_0x1_TakasuWinter_for_Sim\\0213_TCS_For_Simulation/20240213_0007.ZIP 17364866\n",
      "392 / 542 ; c:\\TSDE_Workarea\\ktt2yk\\Projects\\3BVT\\2024_0x1_TakasuWinter_for_Sim\\0213_TCS_For_Simulation/20240213_0008.ZIP 53599375\n",
      "393 / 542 ; c:\\TSDE_Workarea\\ktt2yk\\Projects\\3BVT\\2024_0x1_TakasuWinter_for_Sim\\0213_TCS_For_Simulation/20240213_0009.ZIP 37794464\n",
      "394 / 542 ; c:\\TSDE_Workarea\\ktt2yk\\Projects\\3BVT\\2024_0x1_TakasuWinter_for_Sim\\0213_TCS_For_Simulation/20240213_0010.ZIP 45788566\n",
      "395 / 542 ; c:\\TSDE_Workarea\\ktt2yk\\Projects\\3BVT\\2024_0x1_TakasuWinter_for_Sim\\0213_TCS_For_Simulation/20240213_0011.ZIP 50569132\n",
      "396 / 542 ; c:\\TSDE_Workarea\\ktt2yk\\Projects\\3BVT\\2024_0x1_TakasuWinter_for_Sim\\0213_TCS_For_Simulation/20240213_0012.ZIP 29011429\n",
      "397 / 542 ; c:\\TSDE_Workarea\\ktt2yk\\Projects\\3BVT\\2024_0x1_TakasuWinter_for_Sim\\0213_TCS_For_Simulation/20240213_0013.ZIP 43426458\n",
      "398 / 542 ; c:\\TSDE_Workarea\\ktt2yk\\Projects\\3BVT\\2024_0x1_TakasuWinter_for_Sim\\0213_TCS_For_Simulation/20240213_0014.ZIP 50991904\n",
      "399 / 542 ; c:\\TSDE_Workarea\\ktt2yk\\Projects\\3BVT\\2024_0x1_TakasuWinter_for_Sim\\0213_TCS_For_Simulation/20240213_0015.ZIP 57683442\n",
      "400 / 542 ; c:\\TSDE_Workarea\\ktt2yk\\Projects\\3BVT\\2024_0x1_TakasuWinter_for_Sim\\0213_TCS_For_Simulation/20240213_0016.ZIP 40860228\n",
      "401 / 542 ; c:\\TSDE_Workarea\\ktt2yk\\Projects\\3BVT\\2024_0x1_TakasuWinter_for_Sim\\0213_TCS_For_Simulation/20240213_0017.ZIP 39605181\n",
      "402 / 542 ; c:\\TSDE_Workarea\\ktt2yk\\Projects\\3BVT\\2024_0x1_TakasuWinter_for_Sim\\0213_TCS_For_Simulation/20240213_0018.ZIP 47055826\n",
      "403 / 542 ; c:\\TSDE_Workarea\\ktt2yk\\Projects\\3BVT\\2024_0x1_TakasuWinter_for_Sim\\0213_TCS_For_Simulation/20240213_0019.ZIP 39372840\n",
      "404 / 542 ; c:\\TSDE_Workarea\\ktt2yk\\Projects\\3BVT\\2024_0x1_TakasuWinter_for_Sim\\0213_TCS_For_Simulation/20240213_0020.ZIP 45071485\n",
      "405 / 542 ; c:\\TSDE_Workarea\\ktt2yk\\Projects\\3BVT\\2024_0x1_TakasuWinter_for_Sim\\0213_TCS_For_Simulation/20240213_0021.ZIP 45597808\n",
      "406 / 542 ; c:\\TSDE_Workarea\\ktt2yk\\Projects\\3BVT\\2024_0x1_TakasuWinter_for_Sim\\0213_TCS_For_Simulation/20240213_0022.ZIP 33856077\n",
      "407 / 542 ; c:\\TSDE_Workarea\\ktt2yk\\Projects\\3BVT\\2024_0x1_TakasuWinter_for_Sim\\0213_TCS_For_Simulation/20240213_0023.ZIP 46048052\n",
      "408 / 542 ; c:\\TSDE_Workarea\\ktt2yk\\Projects\\3BVT\\2024_0x1_TakasuWinter_for_Sim\\0213_TCS_For_Simulation/20240213_0024.ZIP 33435617\n",
      "409 / 542 ; c:\\TSDE_Workarea\\ktt2yk\\Projects\\3BVT\\2024_0x1_TakasuWinter_for_Sim\\0213_TCS_For_Simulation/20240213_0025.ZIP 49439235\n",
      "410 / 542 ; c:\\TSDE_Workarea\\ktt2yk\\Projects\\3BVT\\2024_0x1_TakasuWinter_for_Sim\\0213_TCS_For_Simulation/20240213_0026.ZIP 31086435\n",
      "411 / 542 ; c:\\TSDE_Workarea\\ktt2yk\\Projects\\3BVT\\ABS/20231107_0000.ZIP 12078939\n",
      "412 / 542 ; c:\\TSDE_Workarea\\ktt2yk\\Projects\\3BVT\\ABS/20231107_0002.ZIP 14071031\n",
      "413 / 542 ; c:\\TSDE_Workarea\\ktt2yk\\Projects\\3BVT\\ABS/20231107_0004.ZIP 21302931\n",
      "414 / 542 ; c:\\TSDE_Workarea\\ktt2yk\\Projects\\3BVT\\ABS/20231107_0006.ZIP 19393835\n",
      "415 / 542 ; c:\\TSDE_Workarea\\ktt2yk\\Projects\\3BVT\\ABS/20231107_0009.ZIP 5773645\n",
      "416 / 542 ; c:\\TSDE_Workarea\\ktt2yk\\Projects\\3BVT\\ABS/20231107_0014.ZIP 11698066\n",
      "417 / 542 ; c:\\TSDE_Workarea\\ktt2yk\\Projects\\3BVT\\ABS/20231107_0015.ZIP 14630247\n",
      "418 / 542 ; c:\\TSDE_Workarea\\ktt2yk\\Projects\\3BVT\\ABS/20231107_0017.ZIP 8295427\n",
      "419 / 542 ; c:\\TSDE_Workarea\\ktt2yk\\Projects\\3BVT\\ABS/20231107_0020.ZIP 5526410\n",
      "420 / 542 ; c:\\TSDE_Workarea\\ktt2yk\\Projects\\3BVT\\ABS/20231107_0021.ZIP 5376982\n",
      "421 / 542 ; c:\\TSDE_Workarea\\ktt2yk\\Projects\\3BVT\\ABS/20231107_0022.ZIP 5661688\n",
      "422 / 542 ; c:\\TSDE_Workarea\\ktt2yk\\Projects\\3BVT\\ABS/20231107_0024.ZIP 5882629\n",
      "423 / 542 ; c:\\TSDE_Workarea\\ktt2yk\\Projects\\3BVT\\ABS/20231107_0025.ZIP 5839355\n",
      "424 / 542 ; c:\\TSDE_Workarea\\ktt2yk\\Projects\\3BVT\\ABS/20231107_0027.ZIP 7743793\n",
      "425 / 542 ; c:\\TSDE_Workarea\\ktt2yk\\Projects\\3BVT\\ABS/20231107_0030.ZIP 5461648\n",
      "426 / 542 ; c:\\TSDE_Workarea\\ktt2yk\\Projects\\3BVT\\ABS/20231107_0031.ZIP 5560729\n",
      "427 / 542 ; c:\\TSDE_Workarea\\ktt2yk\\Projects\\3BVT\\ABS/20231107_0033.ZIP 6871666\n",
      "428 / 542 ; c:\\TSDE_Workarea\\ktt2yk\\Projects\\3BVT\\ABS/20231107_0034.ZIP 13336053\n",
      "429 / 542 ; c:\\TSDE_Workarea\\ktt2yk\\Projects\\3BVT\\ABS/20231107_0036.ZIP 12990781\n",
      "430 / 542 ; c:\\TSDE_Workarea\\ktt2yk\\Projects\\3BVT\\ABS/20231107_0038.ZIP 15865675\n",
      "431 / 542 ; c:\\TSDE_Workarea\\ktt2yk\\Projects\\3BVT\\ABS/20231107_0040.ZIP 13728235\n",
      "432 / 542 ; c:\\TSDE_Workarea\\ktt2yk\\Projects\\3BVT\\ABS/20231107_0042.ZIP 19358422\n",
      "433 / 542 ; c:\\TSDE_Workarea\\ktt2yk\\Projects\\3BVT\\ABS/20231107_0043.ZIP 8829918\n",
      "434 / 542 ; c:\\TSDE_Workarea\\ktt2yk\\Projects\\3BVT\\ABS/20231107_0045.ZIP 9607135\n",
      "435 / 542 ; c:\\TSDE_Workarea\\ktt2yk\\Projects\\3BVT\\ABS/20231107_0046.ZIP 8643295\n",
      "436 / 542 ; c:\\TSDE_Workarea\\ktt2yk\\Projects\\3BVT\\ABS/20231107_0047.ZIP 7638615\n",
      "437 / 542 ; c:\\TSDE_Workarea\\ktt2yk\\Projects\\3BVT\\ABS/20231107_0048.ZIP 10122365\n",
      "438 / 542 ; c:\\TSDE_Workarea\\ktt2yk\\Projects\\3BVT\\ABS/20231107_0050.ZIP 10223359\n",
      "439 / 542 ; c:\\TSDE_Workarea\\ktt2yk\\Projects\\3BVT\\ABS/20231108_0001.ZIP 12808764\n",
      "440 / 542 ; c:\\TSDE_Workarea\\ktt2yk\\Projects\\3BVT\\ABS/20231108_0003.ZIP 20875685\n",
      "441 / 542 ; c:\\TSDE_Workarea\\ktt2yk\\Projects\\3BVT\\ABS/20231108_0004.ZIP 19341834\n",
      "442 / 542 ; c:\\TSDE_Workarea\\ktt2yk\\Projects\\3BVT\\ABS/20231108_0005.ZIP 17693689\n",
      "443 / 542 ; c:\\TSDE_Workarea\\ktt2yk\\Projects\\3BVT\\ABS/20231108_0007.ZIP 17158935\n",
      "444 / 542 ; c:\\TSDE_Workarea\\ktt2yk\\Projects\\3BVT\\ABS/20231108_0008.ZIP 14385297\n",
      "445 / 542 ; c:\\TSDE_Workarea\\ktt2yk\\Projects\\3BVT\\ABS/20231108_0009.ZIP 14835896\n",
      "446 / 542 ; c:\\TSDE_Workarea\\ktt2yk\\Projects\\3BVT\\ABS/20231108_0012.ZIP 5877426\n",
      "447 / 542 ; c:\\TSDE_Workarea\\ktt2yk\\Projects\\3BVT\\ABS/20231108_0013.ZIP 6490506\n",
      "448 / 542 ; c:\\TSDE_Workarea\\ktt2yk\\Projects\\3BVT\\ABS/20231108_0014.ZIP 6430494\n",
      "449 / 542 ; c:\\TSDE_Workarea\\ktt2yk\\Projects\\3BVT\\ABS/20231108_0017.ZIP 7229763\n",
      "450 / 542 ; c:\\TSDE_Workarea\\ktt2yk\\Projects\\3BVT\\ABS/20231108_0020.ZIP 11037939\n",
      "451 / 542 ; c:\\TSDE_Workarea\\ktt2yk\\Projects\\3BVT\\ABS/20231108_0021.ZIP 8464583\n",
      "452 / 542 ; c:\\TSDE_Workarea\\ktt2yk\\Projects\\3BVT\\ABS/20231108_0022.ZIP 12023317\n",
      "453 / 542 ; c:\\TSDE_Workarea\\ktt2yk\\Projects\\3BVT\\ABS/20231108_0023.ZIP 9444357\n",
      "454 / 542 ; c:\\TSDE_Workarea\\ktt2yk\\Projects\\3BVT\\ABS/20231108_0026.ZIP 6411629\n",
      "455 / 542 ; c:\\TSDE_Workarea\\ktt2yk\\Projects\\3BVT\\ABS/20231108_0027.ZIP 5892503\n",
      "456 / 542 ; c:\\TSDE_Workarea\\ktt2yk\\Projects\\3BVT\\ABS/20231108_0028.ZIP 5952336\n",
      "457 / 542 ; c:\\TSDE_Workarea\\ktt2yk\\Projects\\3BVT\\ABS/20231108_0029.ZIP 5971086\n",
      "458 / 542 ; c:\\TSDE_Workarea\\ktt2yk\\Projects\\3BVT\\ABS/20231108_0030.ZIP 7114055\n",
      "459 / 542 ; c:\\TSDE_Workarea\\ktt2yk\\Projects\\3BVT\\ABS/20231108_0031.ZIP 5802258\n",
      "460 / 542 ; c:\\TSDE_Workarea\\ktt2yk\\Projects\\3BVT\\ABS/20231108_0032.ZIP 5817215\n",
      "461 / 542 ; c:\\TSDE_Workarea\\ktt2yk\\Projects\\3BVT\\ABS/20231108_0033.ZIP 5598821\n",
      "462 / 542 ; c:\\TSDE_Workarea\\ktt2yk\\Projects\\3BVT\\ABS/20231108_0034.ZIP 5466285\n",
      "463 / 542 ; c:\\TSDE_Workarea\\ktt2yk\\Projects\\3BVT\\ABS/20231108_0035.ZIP 5391762\n",
      "464 / 542 ; c:\\TSDE_Workarea\\ktt2yk\\Projects\\3BVT\\ABS/20231108_0045.ZIP 6308198\n",
      "465 / 542 ; c:\\TSDE_Workarea\\ktt2yk\\Projects\\3BVT\\ABS/20231108_0047.ZIP 6049200\n",
      "466 / 542 ; c:\\TSDE_Workarea\\ktt2yk\\Projects\\3BVT\\ABS/20231108_0049.ZIP 8179030\n",
      "467 / 542 ; c:\\TSDE_Workarea\\ktt2yk\\Projects\\3BVT\\ABS/20231108_0050.ZIP 7369504\n",
      "468 / 542 ; c:\\TSDE_Workarea\\ktt2yk\\Projects\\3BVT\\ABS/20231108_0051.ZIP 7762844\n",
      "469 / 542 ; c:\\TSDE_Workarea\\ktt2yk\\Projects\\3BVT\\ABS/20231108_0052.ZIP 8042085\n",
      "470 / 542 ; c:\\TSDE_Workarea\\ktt2yk\\Projects\\3BVT\\ABS/20231108_0053.ZIP 7715917\n",
      "471 / 542 ; c:\\TSDE_Workarea\\ktt2yk\\Projects\\3BVT\\ABS/20231108_0054.ZIP 5860460\n",
      "472 / 542 ; c:\\TSDE_Workarea\\ktt2yk\\Projects\\3BVT\\ABS/20231108_0055.ZIP 6557995\n",
      "473 / 542 ; c:\\TSDE_Workarea\\ktt2yk\\Projects\\3BVT\\ABS/20231108_0056.ZIP 11279305\n",
      "474 / 542 ; c:\\TSDE_Workarea\\ktt2yk\\Projects\\3BVT\\ABS/20231108_0057.ZIP 17143753\n",
      "475 / 542 ; c:\\TSDE_Workarea\\ktt2yk\\Projects\\3BVT\\ABS/20231108_0062.ZIP 17028692\n",
      "476 / 542 ; c:\\TSDE_Workarea\\ktt2yk\\Projects\\3BVT\\ABS/20231109_0000.ZIP 13369012\n",
      "477 / 542 ; c:\\TSDE_Workarea\\ktt2yk\\Projects\\3BVT\\ABS/20231109_0001.ZIP 12115625\n",
      "478 / 542 ; c:\\TSDE_Workarea\\ktt2yk\\Projects\\3BVT\\ABS/20231109_0003.ZIP 13018594\n",
      "479 / 542 ; c:\\TSDE_Workarea\\ktt2yk\\Projects\\3BVT\\ABS/20231109_0004.ZIP 14388213\n",
      "480 / 542 ; c:\\TSDE_Workarea\\ktt2yk\\Projects\\3BVT\\ABS/20231109_0005.ZIP 28254455\n",
      "481 / 542 ; c:\\TSDE_Workarea\\ktt2yk\\Projects\\3BVT\\ABS/20231109_0006.ZIP 17259071\n",
      "482 / 542 ; c:\\TSDE_Workarea\\ktt2yk\\Projects\\3BVT\\ABS/20231109_0007.ZIP 16349006\n",
      "483 / 542 ; c:\\TSDE_Workarea\\ktt2yk\\Projects\\3BVT\\ABS/20231109_0009.ZIP 14153003\n",
      "484 / 542 ; c:\\TSDE_Workarea\\ktt2yk\\Projects\\3BVT\\ABS/20231109_0010.ZIP 13051602\n",
      "485 / 542 ; c:\\TSDE_Workarea\\ktt2yk\\Projects\\3BVT\\ABS/20231109_0021.ZIP 11088568\n",
      "486 / 542 ; c:\\TSDE_Workarea\\ktt2yk\\Projects\\3BVT\\ABS/20231109_0022.ZIP 7743612\n",
      "487 / 542 ; c:\\TSDE_Workarea\\ktt2yk\\Projects\\3BVT\\ABS/20231109_0023.ZIP 6547645\n",
      "488 / 542 ; c:\\TSDE_Workarea\\ktt2yk\\Projects\\3BVT\\ABS/20231109_0024.ZIP 6147031\n",
      "489 / 542 ; c:\\TSDE_Workarea\\ktt2yk\\Projects\\3BVT\\ABS/20231109_0025.ZIP 11352832\n",
      "490 / 542 ; c:\\TSDE_Workarea\\ktt2yk\\Projects\\3BVT\\ABS/20231109_0026.ZIP 9555949\n",
      "491 / 542 ; c:\\TSDE_Workarea\\ktt2yk\\Projects\\3BVT\\ABS/20231110_0019.ZIP 11358791\n",
      "492 / 542 ; c:\\TSDE_Workarea\\ktt2yk\\Projects\\3BVT\\ABS/20231110_0020.ZIP 11797504\n",
      "493 / 542 ; c:\\TSDE_Workarea\\ktt2yk\\Projects\\3BVT\\ABS/20231110_0021.ZIP 8908645\n",
      "494 / 542 ; c:\\TSDE_Workarea\\ktt2yk\\Projects\\3BVT\\ABS/20231110_0022.ZIP 11475076\n",
      "495 / 542 ; c:\\TSDE_Workarea\\ktt2yk\\Projects\\3BVT\\ABS/20231110_0023.ZIP 10059714\n",
      "496 / 542 ; c:\\TSDE_Workarea\\ktt2yk\\Projects\\3BVT\\ABS/20231113_0005.ZIP 6920372\n",
      "497 / 542 ; c:\\TSDE_Workarea\\ktt2yk\\Projects\\3BVT\\ABS/20231113_0011.ZIP 4487816\n",
      "498 / 542 ; c:\\TSDE_Workarea\\ktt2yk\\Projects\\3BVT\\ABS/20231113_0012.ZIP 4535356\n",
      "499 / 542 ; c:\\TSDE_Workarea\\ktt2yk\\Projects\\3BVT\\ABS/20231113_0013.ZIP 4406710\n",
      "500 / 542 ; c:\\TSDE_Workarea\\ktt2yk\\Projects\\3BVT\\ABS/20231113_0014.ZIP 4305396\n",
      "501 / 542 ; c:\\TSDE_Workarea\\ktt2yk\\Projects\\3BVT\\ABS/20231113_0015.ZIP 5042294\n",
      "502 / 542 ; c:\\TSDE_Workarea\\ktt2yk\\Projects\\3BVT\\ABS/20231113_0016.ZIP 4425429\n",
      "503 / 542 ; c:\\TSDE_Workarea\\ktt2yk\\Projects\\3BVT\\ABS/20231113_0017.ZIP 4316703\n",
      "504 / 542 ; c:\\TSDE_Workarea\\ktt2yk\\Projects\\3BVT\\ABS/20231113_0018.ZIP 4481360\n",
      "505 / 542 ; c:\\TSDE_Workarea\\ktt2yk\\Projects\\3BVT\\ABS/20231113_0019.ZIP 4363980\n",
      "506 / 542 ; c:\\TSDE_Workarea\\ktt2yk\\Projects\\3BVT\\ABS/20231113_0020.ZIP 5252864\n",
      "507 / 542 ; c:\\TSDE_Workarea\\ktt2yk\\Projects\\3BVT\\ABS/20231113_0021.ZIP 4389416\n",
      "508 / 542 ; c:\\TSDE_Workarea\\ktt2yk\\Projects\\3BVT\\ABS/20231115_0031.ZIP 4563689\n",
      "509 / 542 ; c:\\TSDE_Workarea\\ktt2yk\\Projects\\3BVT\\ABS/20231115_0032.ZIP 4500660\n",
      "510 / 542 ; c:\\TSDE_Workarea\\ktt2yk\\Projects\\3BVT\\ABS/20231115_0035.ZIP 4633715\n",
      "511 / 542 ; c:\\TSDE_Workarea\\ktt2yk\\Projects\\3BVT\\ABS/20231115_0036.ZIP 5112542\n",
      "512 / 542 ; c:\\TSDE_Workarea\\ktt2yk\\Projects\\3BVT\\ABS/20231115_0039.ZIP 4809512\n",
      "513 / 542 ; c:\\TSDE_Workarea\\ktt2yk\\Projects\\3BVT\\ABS/20231115_0040.ZIP 4531134\n",
      "514 / 542 ; c:\\TSDE_Workarea\\ktt2yk\\Projects\\3BVT\\ABS/20231115_0043.ZIP 4774056\n",
      "515 / 542 ; c:\\TSDE_Workarea\\ktt2yk\\Projects\\3BVT\\ABS/20231115_0044.ZIP 4676860\n",
      "516 / 542 ; c:\\TSDE_Workarea\\ktt2yk\\Projects\\3BVT\\ABS/20231115_0047.ZIP 5066038\n",
      "517 / 542 ; c:\\TSDE_Workarea\\ktt2yk\\Projects\\3BVT\\ABS/20231115_0048.ZIP 4999499\n",
      "518 / 542 ; c:\\TSDE_Workarea\\ktt2yk\\Projects\\3BVT\\ABS/20231115_0051.ZIP 5167080\n",
      "519 / 542 ; c:\\TSDE_Workarea\\ktt2yk\\Projects\\3BVT\\ABS/20231115_0052.ZIP 5673340\n",
      "520 / 542 ; c:\\TSDE_Workarea\\ktt2yk\\Projects\\3BVT\\ABS/20240206_0000.ZIP 9644307\n",
      "521 / 542 ; c:\\TSDE_Workarea\\ktt2yk\\Projects\\3BVT\\ABS/20240206_0001.ZIP 10722199\n",
      "522 / 542 ; c:\\TSDE_Workarea\\ktt2yk\\Projects\\3BVT\\ABS/20240206_0002.ZIP 9982533\n",
      "523 / 542 ; c:\\TSDE_Workarea\\ktt2yk\\Projects\\3BVT\\ABS/20240206_0003.ZIP 10699328\n",
      "524 / 542 ; c:\\TSDE_Workarea\\ktt2yk\\Projects\\3BVT\\ABS/20240206_0004.ZIP 22481589\n",
      "525 / 542 ; c:\\TSDE_Workarea\\ktt2yk\\Projects\\3BVT\\ABS/20240206_0005.ZIP 10153110\n",
      "526 / 542 ; c:\\TSDE_Workarea\\ktt2yk\\Projects\\3BVT\\ABS/20240206_0007.ZIP 21365084\n",
      "527 / 542 ; c:\\TSDE_Workarea\\ktt2yk\\Projects\\3BVT\\ABS/20240206_0008.ZIP 12836560\n",
      "528 / 542 ; c:\\TSDE_Workarea\\ktt2yk\\Projects\\3BVT\\ABS/20240206_0009.ZIP 33482583\n",
      "529 / 542 ; c:\\TSDE_Workarea\\ktt2yk\\Projects\\3BVT\\ABS/20240206_0011.ZIP 22120764\n",
      "530 / 542 ; c:\\TSDE_Workarea\\ktt2yk\\Projects\\3BVT\\ABS/20240206_0014.ZIP 11503646\n",
      "531 / 542 ; c:\\TSDE_Workarea\\ktt2yk\\Projects\\3BVT\\ABS/20240206_0018.ZIP 24530564\n",
      "532 / 542 ; c:\\TSDE_Workarea\\ktt2yk\\Projects\\3BVT\\ABS/20240206_0019.ZIP 31785716\n",
      "533 / 542 ; c:\\TSDE_Workarea\\ktt2yk\\Projects\\3BVT\\ABS/20240206_0021.ZIP 9444790\n",
      "534 / 542 ; c:\\TSDE_Workarea\\ktt2yk\\Projects\\3BVT\\ABS/20240206_0022.ZIP 13851288\n",
      "535 / 542 ; c:\\TSDE_Workarea\\ktt2yk\\Projects\\3BVT\\ABS/20240206_0026.ZIP 12253098\n",
      "536 / 542 ; c:\\TSDE_Workarea\\ktt2yk\\Projects\\3BVT\\ABS/20240206_0027.ZIP 14749923\n",
      "537 / 542 ; c:\\TSDE_Workarea\\ktt2yk\\Projects\\3BVT\\ABS/20240206_0028.ZIP 17451171\n",
      "538 / 542 ; c:\\TSDE_Workarea\\ktt2yk\\Projects\\3BVT\\ABS/20240206_0029.ZIP 14464875\n",
      "539 / 542 ; c:\\TSDE_Workarea\\ktt2yk\\Projects\\3BVT\\ABS/20240206_0030.ZIP 13238653\n",
      "540 / 542 ; c:\\TSDE_Workarea\\ktt2yk\\Projects\\3BVT\\ABS/20240206_0031.ZIP 14057371\n",
      "541 / 542 ; c:\\TSDE_Workarea\\ktt2yk\\Projects\\3BVT\\ABS/20240206_0032.ZIP 13290101\n",
      "542 / 542 ; c:\\TSDE_Workarea\\ktt2yk\\Projects\\3BVT\\ABS/20240206_0033.ZIP 14356092\n"
     ]
    }
   ],
   "source": [
    "l_d_CSVs = []\n",
    "\n",
    "for DATA in l_DATA:\n",
    "    PATH_Search = [DATA]\n",
    "    PLT_Convert = PLT \n",
    "    d_SIGNAL_PLT = Common.Select_Signal(PLT_Convert)\n",
    "    d_CSVs, l_Not_Convert = Common.SAVE_ZIP_to_CSV(d_SIGNAL_PLT, PATH_Search, SAMPLING, False)\n",
    "\n",
    "    PKL = f'{DATA}\\\\CSV_List_{Project}.pkl'\n",
    "    with open(PKL, 'wb') as file:\n",
    "        pickle.dump(d_CSVs, file)\n",
    "    \n",
    "    l_d_CSVs.append(d_CSVs)"
   ]
  },
  {
   "cell_type": "markdown",
   "id": "582c5102-7007-45d3-9359-67686290b4e3",
   "metadata": {},
   "source": [
    "## Data List"
   ]
  },
  {
   "cell_type": "code",
   "execution_count": 4,
   "id": "80adc210-7fba-4446-946d-c2313f9307db",
   "metadata": {},
   "outputs": [],
   "source": [
    "d_CSV = {}\n",
    "for d_ in l_d_CSVs:\n",
    "    for ZIP in d_:\n",
    "        Comment, CSV, _ = d_[ZIP]\n",
    "        ZIP = ZIP.replace('\\\\/', '\\\\')\n",
    "        d_CSV[CSV] = {'ZIP': ZIP, 'Comment': Comment}\n",
    "\n",
    "DIR = 'c:\\\\TSDE_Workarea\\\\ktt2yk\\\\CARSIM\\\\Sim_Work_HGT_3BVT_BB88574_VAR01_Matlab2012b\\\\'\n",
    "PKL = f'{DIR}\\\\Data_List_{Project}_MMotAct_MDriverRequest.pkl'\n",
    "with open(PKL, 'wb') as file:\n",
    "    pickle.dump(d_CSV, file)"
   ]
  },
  {
   "cell_type": "markdown",
   "id": "82611085-f9a2-4fca-93c7-ac5ee390881c",
   "metadata": {},
   "source": [
    "## vRef"
   ]
  },
  {
   "cell_type": "code",
   "execution_count": 53,
   "id": "efb4efcc-7b1d-4ad2-8f58-e9796151b612",
   "metadata": {
    "scrolled": true
   },
   "outputs": [
    {
     "name": "stdout",
     "output_type": "stream",
     "text": [
      "1/410, c:\\TSDE_Workarea\\ktt2yk\\Projects\\3BVT\\20231026_TCS_VDC\\20231026_0000.csv: Success\n",
      "2/410, c:\\TSDE_Workarea\\ktt2yk\\Projects\\3BVT\\20231026_TCS_VDC\\20231026_0001.csv: Success\n",
      "3/410, c:\\TSDE_Workarea\\ktt2yk\\Projects\\3BVT\\20231026_TCS_VDC\\20231026_0002.csv: Success\n",
      "4/410, c:\\TSDE_Workarea\\ktt2yk\\Projects\\3BVT\\20231026_TCS_VDC\\20231026_0003.csv: Success\n",
      "5/410, c:\\TSDE_Workarea\\ktt2yk\\Projects\\3BVT\\20231026_TCS_VDC\\20231026_0004.csv: Success\n",
      "6/410, c:\\TSDE_Workarea\\ktt2yk\\Projects\\3BVT\\20231026_TCS_VDC\\20231026_0005.csv: Success\n",
      "7/410, c:\\TSDE_Workarea\\ktt2yk\\Projects\\3BVT\\20231026_TCS_VDC\\20231026_0006.csv: Success\n",
      "8/410, c:\\TSDE_Workarea\\ktt2yk\\Projects\\3BVT\\20231026_TCS_VDC\\20231026_0007.csv: Success\n",
      "9/410, c:\\TSDE_Workarea\\ktt2yk\\Projects\\3BVT\\20231026_TCS_VDC\\20231026_0008.csv: Success\n",
      "10/410, c:\\TSDE_Workarea\\ktt2yk\\Projects\\3BVT\\20231026_TCS_VDC\\20231026_0009.csv: Success\n",
      "11/410, c:\\TSDE_Workarea\\ktt2yk\\Projects\\3BVT\\20231026_TCS_VDC\\20231026_0010.csv: Success\n",
      "12/410, c:\\TSDE_Workarea\\ktt2yk\\Projects\\3BVT\\20231026_TCS_VDC\\20231026_0011.csv: Success\n",
      "13/410, c:\\TSDE_Workarea\\ktt2yk\\Projects\\3BVT\\20231026_TCS_VDC\\20231026_0012.csv: Success\n",
      "14/410, c:\\TSDE_Workarea\\ktt2yk\\Projects\\3BVT\\20231026_TCS_VDC\\20231026_0013.csv: Success\n",
      "15/410, c:\\TSDE_Workarea\\ktt2yk\\Projects\\3BVT\\20231026_TCS_VDC\\20231026_0014.csv: Success\n",
      "16/410, c:\\TSDE_Workarea\\ktt2yk\\Projects\\3BVT\\20231026_TCS_VDC\\20231026_0015.csv: Success\n",
      "17/410, c:\\TSDE_Workarea\\ktt2yk\\Projects\\3BVT\\20231026_TCS_VDC\\20231026_0016.csv: Success\n",
      "18/410, c:\\TSDE_Workarea\\ktt2yk\\Projects\\3BVT\\20231026_TCS_VDC\\20231026_0017.csv: Success\n",
      "19/410, c:\\TSDE_Workarea\\ktt2yk\\Projects\\3BVT\\20231026_TCS_VDC\\20231026_0018.csv: Success\n",
      "20/410, c:\\TSDE_Workarea\\ktt2yk\\Projects\\3BVT\\20231026_TCS_VDC\\20231026_0019.csv: Success\n",
      "21/410, c:\\TSDE_Workarea\\ktt2yk\\Projects\\3BVT\\20231026_TCS_VDC\\20231026_0020.csv: Success\n",
      "22/410, c:\\TSDE_Workarea\\ktt2yk\\Projects\\3BVT\\20231026_TCS_VDC\\20231026_0021.csv: Success\n",
      "23/410, c:\\TSDE_Workarea\\ktt2yk\\Projects\\3BVT\\20231026_TCS_VDC\\20231026_0022.csv: Success\n",
      "24/410, c:\\TSDE_Workarea\\ktt2yk\\Projects\\3BVT\\20231026_TCS_VDC\\20231026_0023.csv: Success\n",
      "25/410, c:\\TSDE_Workarea\\ktt2yk\\Projects\\3BVT\\20231026_TCS_VDC\\20231026_0024.csv: Success\n",
      "26/410, c:\\TSDE_Workarea\\ktt2yk\\Projects\\3BVT\\20231026_TCS_VDC\\20231026_0025.csv: Success\n",
      "27/410, c:\\TSDE_Workarea\\ktt2yk\\Projects\\3BVT\\20231026_TCS_VDC\\20231026_0026.csv: Success\n",
      "28/410, c:\\TSDE_Workarea\\ktt2yk\\Projects\\3BVT\\20231026_TCS_VDC\\20231026_0027.csv: Success\n",
      "29/410, c:\\TSDE_Workarea\\ktt2yk\\Projects\\3BVT\\20231026_TCS_VDC\\20231026_0028.csv: Success\n",
      "30/410, c:\\TSDE_Workarea\\ktt2yk\\Projects\\3BVT\\20231026_TCS_VDC\\20231026_0029.csv: Success\n",
      "31/410, c:\\TSDE_Workarea\\ktt2yk\\Projects\\3BVT\\20231026_TCS_VDC\\20231026_0030.csv: Success\n",
      "32/410, c:\\TSDE_Workarea\\ktt2yk\\Projects\\3BVT\\20231026_VDC_TCS_Onakasan\\20231026_0000.csv: Success\n",
      "33/410, c:\\TSDE_Workarea\\ktt2yk\\Projects\\3BVT\\20231026_VDC_TCS_Onakasan\\20231026_0001.csv: Success\n",
      "34/410, c:\\TSDE_Workarea\\ktt2yk\\Projects\\3BVT\\20231026_VDC_TCS_Onakasan\\20231026_0002.csv: Success\n",
      "35/410, c:\\TSDE_Workarea\\ktt2yk\\Projects\\3BVT\\20231026_VDC_TCS_Onakasan\\20231026_0003.csv: Success\n",
      "36/410, c:\\TSDE_Workarea\\ktt2yk\\Projects\\3BVT\\20231026_VDC_TCS_Onakasan\\20231026_0004.csv: Success\n",
      "37/410, c:\\TSDE_Workarea\\ktt2yk\\Projects\\3BVT\\20231026_VDC_TCS_Onakasan\\20231026_0005.csv: Success\n",
      "38/410, c:\\TSDE_Workarea\\ktt2yk\\Projects\\3BVT\\20231026_VDC_TCS_Onakasan\\20231026_0006.csv: Success\n",
      "39/410, c:\\TSDE_Workarea\\ktt2yk\\Projects\\3BVT\\20231026_VDC_TCS_Onakasan\\20231026_0007.csv: Success\n",
      "40/410, c:\\TSDE_Workarea\\ktt2yk\\Projects\\3BVT\\20231026_VDC_TCS_Onakasan\\20231026_0008.csv: Success\n",
      "41/410, c:\\TSDE_Workarea\\ktt2yk\\Projects\\3BVT\\20231026_VDC_TCS_Onakasan\\20231026_0009.csv: Success\n",
      "42/410, c:\\TSDE_Workarea\\ktt2yk\\Projects\\3BVT\\20231026_VDC_TCS_Onakasan\\20231026_0010.csv: Success\n",
      "43/410, c:\\TSDE_Workarea\\ktt2yk\\Projects\\3BVT\\20231026_VDC_TCS_Onakasan\\20231026_0011.csv: Success\n",
      "44/410, c:\\TSDE_Workarea\\ktt2yk\\Projects\\3BVT\\20231026_VDC_TCS_Onakasan\\20231026_0012.csv: Success\n",
      "45/410, c:\\TSDE_Workarea\\ktt2yk\\Projects\\3BVT\\20231026_VDC_TCS_Onakasan\\20231026_0013.csv: Success\n",
      "46/410, c:\\TSDE_Workarea\\ktt2yk\\Projects\\3BVT\\20231026_VDC_TCS_Onakasan\\20231026_0014.csv: Success\n",
      "47/410, c:\\TSDE_Workarea\\ktt2yk\\Projects\\3BVT\\20231026_VDC_TCS_Onakasan\\20231026_0015.csv: Success\n",
      "48/410, c:\\TSDE_Workarea\\ktt2yk\\Projects\\3BVT\\20231026_VDC_TCS_Onakasan\\20231026_0016.csv: Success\n",
      "49/410, c:\\TSDE_Workarea\\ktt2yk\\Projects\\3BVT\\20231026_VDC_TCS_Onakasan\\20231026_0017.csv: Success\n",
      "50/410, c:\\TSDE_Workarea\\ktt2yk\\Projects\\3BVT\\20231026_VDC_TCS_Onakasan\\20231026_0018.csv: Success\n",
      "51/410, c:\\TSDE_Workarea\\ktt2yk\\Projects\\3BVT\\20231026_VDC_TCS_Onakasan\\20231026_0019.csv: Success\n",
      "52/410, c:\\TSDE_Workarea\\ktt2yk\\Projects\\3BVT\\20231026_VDC_TCS_Onakasan\\20231026_0020.csv: Success\n",
      "53/410, c:\\TSDE_Workarea\\ktt2yk\\Projects\\3BVT\\20231026_VDC_TCS_Onakasan\\20231026_0021.csv: Success\n",
      "54/410, c:\\TSDE_Workarea\\ktt2yk\\Projects\\3BVT\\20231027_TCS_VDC_EPB\\20231027_0000.csv: Success\n",
      "55/410, c:\\TSDE_Workarea\\ktt2yk\\Projects\\3BVT\\20231027_TCS_VDC_EPB\\20231027_0001.csv: Success\n",
      "56/410, c:\\TSDE_Workarea\\ktt2yk\\Projects\\3BVT\\20231027_TCS_VDC_EPB\\20231027_0002.csv: Success\n",
      "57/410, c:\\TSDE_Workarea\\ktt2yk\\Projects\\3BVT\\20231027_TCS_VDC_EPB\\20231027_0003.csv: Success\n",
      "58/410, c:\\TSDE_Workarea\\ktt2yk\\Projects\\3BVT\\20231027_TCS_VDC_EPB\\20231027_0004.csv: Success\n",
      "59/410, c:\\TSDE_Workarea\\ktt2yk\\Projects\\3BVT\\20231027_TCS_VDC_EPB\\20231027_0005.csv: Success\n",
      "60/410, c:\\TSDE_Workarea\\ktt2yk\\Projects\\3BVT\\20231027_TCS_VDC_EPB\\20231027_0006.csv: Success\n",
      "61/410, c:\\TSDE_Workarea\\ktt2yk\\Projects\\3BVT\\20231027_TCS_VDC_EPB\\20231027_0007.csv: Success\n",
      "62/410, c:\\TSDE_Workarea\\ktt2yk\\Projects\\3BVT\\20231027_TCS_VDC_EPB\\20231027_0008.csv: Success\n",
      "63/410, c:\\TSDE_Workarea\\ktt2yk\\Projects\\3BVT\\20231027_TCS_VDC_EPB\\20231027_0009.csv: Success\n",
      "64/410, c:\\TSDE_Workarea\\ktt2yk\\Projects\\3BVT\\20231027_TCS_VDC_EPB\\20231027_0010.csv: Success\n",
      "65/410, c:\\TSDE_Workarea\\ktt2yk\\Projects\\3BVT\\20231027_TCS_VDC_EPB\\20231027_0011.csv: Success\n",
      "66/410, c:\\TSDE_Workarea\\ktt2yk\\Projects\\3BVT\\20231027_TCS_VDC_EPB\\20231027_0012.csv: Success\n",
      "67/410, c:\\TSDE_Workarea\\ktt2yk\\Projects\\3BVT\\20231027_TCS_VDC_EPB\\20231027_0013.csv: Success\n",
      "68/410, c:\\TSDE_Workarea\\ktt2yk\\Projects\\3BVT\\20231027_TCS_VDC_EPB\\20231027_0014.csv: Success\n",
      "69/410, c:\\TSDE_Workarea\\ktt2yk\\Projects\\3BVT\\20231027_TCS_VDC_EPB\\20231027_0015.csv: Success\n",
      "70/410, c:\\TSDE_Workarea\\ktt2yk\\Projects\\3BVT\\20231027_TCS_VDC_EPB\\20231027_0016.csv: Success\n",
      "71/410, c:\\TSDE_Workarea\\ktt2yk\\Projects\\3BVT\\20231027_TCS_VDC_EPB\\20231027_0017.csv: Success\n",
      "72/410, c:\\TSDE_Workarea\\ktt2yk\\Projects\\3BVT\\20231027_TCS_VDC_EPB\\20231027_0018.csv: Success\n",
      "73/410, c:\\TSDE_Workarea\\ktt2yk\\Projects\\3BVT\\20231027_TCS_VDC_EPB\\20231027_0019.csv: Success\n",
      "74/410, c:\\TSDE_Workarea\\ktt2yk\\Projects\\3BVT\\20231027_TCS_VDC_EPB\\20231027_0020.csv: Success\n",
      "75/410, c:\\TSDE_Workarea\\ktt2yk\\Projects\\3BVT\\20231027_TCS_VDC_EPB\\20231027_0021.csv: Success\n",
      "76/410, c:\\TSDE_Workarea\\ktt2yk\\Projects\\3BVT\\20231027_TCS_VDC_EPB\\20231027_0022.csv: Success\n",
      "77/410, c:\\TSDE_Workarea\\ktt2yk\\Projects\\3BVT\\20231027_TCS_VDC_EPB\\20231027_0023.csv: Success\n",
      "78/410, c:\\TSDE_Workarea\\ktt2yk\\Projects\\3BVT\\20231027_TCS_VDC_EPB\\20231027_0024.csv: Success\n",
      "79/410, c:\\TSDE_Workarea\\ktt2yk\\Projects\\3BVT\\20231027_TCS_VDC_EPB\\20231027_0025.csv: Success\n",
      "80/410, c:\\TSDE_Workarea\\ktt2yk\\Projects\\3BVT\\20231027_TCS_VDC_EPB\\20231027_0026.csv: Success\n",
      "81/410, c:\\TSDE_Workarea\\ktt2yk\\Projects\\3BVT\\20231027_TCS_VDC_EPB\\20231027_0027.csv: Success\n",
      "82/410, c:\\TSDE_Workarea\\ktt2yk\\Projects\\3BVT\\20231027_TCS_VDC_EPB\\20231027_0028.csv: Success\n",
      "83/410, c:\\TSDE_Workarea\\ktt2yk\\Projects\\3BVT\\20231027_TCS_VDC_EPB\\20231027_0029.csv: Success\n",
      "84/410, c:\\TSDE_Workarea\\ktt2yk\\Projects\\3BVT\\20231027_TCS_VDC_EPB\\20231027_0030.csv: Success\n",
      "85/410, c:\\TSDE_Workarea\\ktt2yk\\Projects\\3BVT\\20231027_TCS_VDC_EPB\\20231027_0031.csv: Success\n",
      "86/410, c:\\TSDE_Workarea\\ktt2yk\\Projects\\3BVT\\20231027_TCS_VDC_EPB\\20231027_0032.csv: Success\n",
      "87/410, c:\\TSDE_Workarea\\ktt2yk\\Projects\\3BVT\\20231027_TCS_VDC_EPB\\20231027_0033.csv: Success\n",
      "88/410, c:\\TSDE_Workarea\\ktt2yk\\Projects\\3BVT\\20231027_TCS_VDC_EPB\\20231027_0034.csv: Success\n",
      "89/410, c:\\TSDE_Workarea\\ktt2yk\\Projects\\3BVT\\20231027_TCS_VDC_EPB\\20231027_0035.csv: Success\n",
      "90/410, c:\\TSDE_Workarea\\ktt2yk\\Projects\\3BVT\\20231027_TCS_VDC_EPB\\20231027_0036.csv: Success\n",
      "91/410, c:\\TSDE_Workarea\\ktt2yk\\Projects\\3BVT\\20231027_TCS_VDC_EPB\\20231027_0037.csv: Success\n",
      "92/410, c:\\TSDE_Workarea\\ktt2yk\\Projects\\3BVT\\20231027_TCS_VDC_EPB\\20231027_0038.csv: Success\n",
      "93/410, c:\\TSDE_Workarea\\ktt2yk\\Projects\\3BVT\\20231027_TCS_VDC_EPB\\20231027_0039.csv: Success\n",
      "94/410, c:\\TSDE_Workarea\\ktt2yk\\Projects\\3BVT\\20231027_TCS_VDC_EPB\\20231027_0040.csv: Success\n",
      "95/410, c:\\TSDE_Workarea\\ktt2yk\\Projects\\3BVT\\20231027_TCS_VDC_EPB\\20231027_0041.csv: Success\n",
      "96/410, c:\\TSDE_Workarea\\ktt2yk\\Projects\\3BVT\\20231027_TCS_VDC_EPB\\20231027_0042.csv: Success\n",
      "97/410, c:\\TSDE_Workarea\\ktt2yk\\Projects\\3BVT\\20231101_AHA_TCS\\20231101_0000.csv: Success\n",
      "98/410, c:\\TSDE_Workarea\\ktt2yk\\Projects\\3BVT\\20231101_AHA_TCS\\20231101_0001.csv: Success\n",
      "99/410, c:\\TSDE_Workarea\\ktt2yk\\Projects\\3BVT\\20231101_AHA_TCS\\20231101_0002.csv: Success\n",
      "100/410, c:\\TSDE_Workarea\\ktt2yk\\Projects\\3BVT\\20231101_AHA_TCS\\20231101_0003.csv: Success\n",
      "101/410, c:\\TSDE_Workarea\\ktt2yk\\Projects\\3BVT\\20231101_AHA_TCS\\20231101_0004.csv: Success\n",
      "102/410, c:\\TSDE_Workarea\\ktt2yk\\Projects\\3BVT\\20231102_Onakasan_AHA_TCS\\20231102_0000.csv: Success\n",
      "103/410, c:\\TSDE_Workarea\\ktt2yk\\Projects\\3BVT\\20231102_Onakasan_AHA_TCS\\20231102_0001.csv: Success\n",
      "104/410, c:\\TSDE_Workarea\\ktt2yk\\Projects\\3BVT\\20231102_Onakasan_AHA_TCS\\20231102_0002.csv: Success\n",
      "105/410, c:\\TSDE_Workarea\\ktt2yk\\Projects\\3BVT\\20231102_Onakasan_AHA_TCS\\20231102_0003.csv: Success\n",
      "106/410, c:\\TSDE_Workarea\\ktt2yk\\Projects\\3BVT\\20231102_Onakasan_AHA_TCS\\20231102_0004.csv: Success\n",
      "107/410, c:\\TSDE_Workarea\\ktt2yk\\Projects\\3BVT\\20231102_Onakasan_AHA_TCS\\20231102_0005.csv: Success\n",
      "108/410, c:\\TSDE_Workarea\\ktt2yk\\Projects\\3BVT\\20231102_Onakasan_AHA_TCS\\20231102_0006.csv: Success\n",
      "109/410, c:\\TSDE_Workarea\\ktt2yk\\Projects\\3BVT\\20231102_Onakasan_AHA_TCS\\20231102_0007.csv: Success\n",
      "110/410, c:\\TSDE_Workarea\\ktt2yk\\Projects\\3BVT\\20231102_Onakasan_AHA_TCS\\20231102_0008.csv: Success\n",
      "111/410, c:\\TSDE_Workarea\\ktt2yk\\Projects\\3BVT\\20231102_Onakasan_AHA_TCS\\20231102_0009.csv: Success\n",
      "112/410, c:\\TSDE_Workarea\\ktt2yk\\Projects\\3BVT\\20231102_Onakasan_AHA_TCS\\20231102_0010.csv: Success\n",
      "113/410, c:\\TSDE_Workarea\\ktt2yk\\Projects\\3BVT\\20231102_Onakasan_AHA_TCS\\20231102_0011.csv: Success\n",
      "114/410, c:\\TSDE_Workarea\\ktt2yk\\Projects\\3BVT\\20231102_Onakasan_AHA_TCS\\20231102_0012.csv: Success\n",
      "115/410, c:\\TSDE_Workarea\\ktt2yk\\Projects\\3BVT\\20231102_Onakasan_AHA_TCS\\20231102_0013.csv: Success\n",
      "116/410, c:\\TSDE_Workarea\\ktt2yk\\Projects\\3BVT\\20231102_Onakasan_AHA_TCS\\20231102_0014.csv: Success\n",
      "117/410, c:\\TSDE_Workarea\\ktt2yk\\Projects\\3BVT\\20231102_Onakasan_AHA_TCS\\20231102_0015.csv: Success\n",
      "118/410, c:\\TSDE_Workarea\\ktt2yk\\Projects\\3BVT\\20231102_Onakasan_AHA_TCS\\20231102_0016.csv: Success\n",
      "119/410, c:\\TSDE_Workarea\\ktt2yk\\Projects\\3BVT\\20231102_Onakasan_AHA_TCS\\20231102_0017.csv: Success\n",
      "120/410, c:\\TSDE_Workarea\\ktt2yk\\Projects\\3BVT\\20231102_Onakasan_AHA_TCS\\20231102_0018.csv: Success\n",
      "121/410, c:\\TSDE_Workarea\\ktt2yk\\Projects\\3BVT\\20231102_Onakasan_AHA_TCS\\20231102_0019.csv: Success\n",
      "122/410, c:\\TSDE_Workarea\\ktt2yk\\Projects\\3BVT\\20231102_Onakasan_AHA_TCS\\20231102_0020.csv: Success\n",
      "123/410, c:\\TSDE_Workarea\\ktt2yk\\Projects\\3BVT\\20231102_Onakasan_AHA_TCS\\20231102_0021.csv: Success\n",
      "124/410, c:\\TSDE_Workarea\\ktt2yk\\Projects\\3BVT\\20231102_Onakasan_AHA_TCS\\20231102_0022.csv: Success\n",
      "125/410, c:\\TSDE_Workarea\\ktt2yk\\Projects\\3BVT\\20231102_Onakasan_AHA_TCS\\20231102_0023.csv: Success\n",
      "126/410, c:\\TSDE_Workarea\\ktt2yk\\Projects\\3BVT\\20231102_Onakasan_AHA_TCS\\20231102_0024.csv: Success\n",
      "127/410, c:\\TSDE_Workarea\\ktt2yk\\Projects\\3BVT\\20231103_Bank_TCS_AHA_VDC\\20231103_0000.csv: Success\n",
      "128/410, c:\\TSDE_Workarea\\ktt2yk\\Projects\\3BVT\\20231103_Bank_TCS_AHA_VDC\\20231103_0001.csv: Success\n",
      "129/410, c:\\TSDE_Workarea\\ktt2yk\\Projects\\3BVT\\20231103_Bank_TCS_AHA_VDC\\20231103_0002.csv: Success\n",
      "130/410, c:\\TSDE_Workarea\\ktt2yk\\Projects\\3BVT\\20231103_Bank_TCS_AHA_VDC\\20231103_0003.csv: Success\n",
      "131/410, c:\\TSDE_Workarea\\ktt2yk\\Projects\\3BVT\\20231103_Bank_TCS_AHA_VDC\\20231103_0004.csv: Success\n",
      "132/410, c:\\TSDE_Workarea\\ktt2yk\\Projects\\3BVT\\20231103_Bank_TCS_AHA_VDC\\20231103_0005.csv: Success\n",
      "133/410, c:\\TSDE_Workarea\\ktt2yk\\Projects\\3BVT\\20231103_Bank_TCS_AHA_VDC\\20231103_0006.csv: Success\n",
      "134/410, c:\\TSDE_Workarea\\ktt2yk\\Projects\\3BVT\\20231103_Bank_TCS_AHA_VDC\\20231103_0007.csv: Success\n",
      "135/410, c:\\TSDE_Workarea\\ktt2yk\\Projects\\3BVT\\20231103_Bank_TCS_AHA_VDC\\20231103_0008.csv: Success\n",
      "136/410, c:\\TSDE_Workarea\\ktt2yk\\Projects\\3BVT\\20231103_Bank_TCS_AHA_VDC\\20231103_0009.csv: Success\n",
      "137/410, c:\\TSDE_Workarea\\ktt2yk\\Projects\\3BVT\\20231103_Bank_TCS_AHA_VDC\\20231103_0010.csv: Success\n",
      "138/410, c:\\TSDE_Workarea\\ktt2yk\\Projects\\3BVT\\20231103_Bank_TCS_AHA_VDC\\20231103_0011.csv: Success\n",
      "139/410, c:\\TSDE_Workarea\\ktt2yk\\Projects\\3BVT\\20231103_Bank_TCS_AHA_VDC\\20231103_0012.csv: Success\n",
      "140/410, c:\\TSDE_Workarea\\ktt2yk\\Projects\\3BVT\\20231103_Bank_TCS_AHA_VDC\\20231103_0013.csv: Success\n",
      "141/410, c:\\TSDE_Workarea\\ktt2yk\\Projects\\3BVT\\20231103_Bank_TCS_AHA_VDC\\20231103_0014.csv: Success\n",
      "142/410, c:\\TSDE_Workarea\\ktt2yk\\Projects\\3BVT\\20231103_Bank_TCS_AHA_VDC\\20231103_0015.csv: Success\n",
      "143/410, c:\\TSDE_Workarea\\ktt2yk\\Projects\\3BVT\\20231103_Bank_TCS_AHA_VDC\\20231103_0016.csv: Success\n",
      "144/410, c:\\TSDE_Workarea\\ktt2yk\\Projects\\3BVT\\20231103_Bank_TCS_AHA_VDC\\20231103_0017.csv: Success\n",
      "145/410, c:\\TSDE_Workarea\\ktt2yk\\Projects\\3BVT\\20231103_Bank_TCS_AHA_VDC\\20231103_0018.csv: Success\n",
      "146/410, c:\\TSDE_Workarea\\ktt2yk\\Projects\\3BVT\\20231103_Bank_TCS_AHA_VDC\\20231103_0019.csv: Success\n",
      "147/410, c:\\TSDE_Workarea\\ktt2yk\\Projects\\3BVT\\20231103_Bank_TCS_AHA_VDC\\20231103_0020.csv: Success\n",
      "148/410, c:\\TSDE_Workarea\\ktt2yk\\Projects\\3BVT\\20231103_Bank_TCS_AHA_VDC\\20231103_0021.csv: Success\n",
      "149/410, c:\\TSDE_Workarea\\ktt2yk\\Projects\\3BVT\\20231103_Bank_TCS_AHA_VDC\\20231103_0022.csv: Success\n",
      "150/410, c:\\TSDE_Workarea\\ktt2yk\\Projects\\3BVT\\20231103_Bank_TCS_AHA_VDC\\20231103_0023.csv: Success\n",
      "151/410, c:\\TSDE_Workarea\\ktt2yk\\Projects\\3BVT\\20231103_Bank_TCS_AHA_VDC\\20231103_0024.csv: Success\n",
      "152/410, c:\\TSDE_Workarea\\ktt2yk\\Projects\\3BVT\\20231107_0.3split_Araisan\\20231107_0035.csv: Success\n",
      "153/410, c:\\TSDE_Workarea\\ktt2yk\\Projects\\3BVT\\20231107_Wet_SenkaiTCS_ABS\\20231107_0000.csv: Success\n",
      "154/410, c:\\TSDE_Workarea\\ktt2yk\\Projects\\3BVT\\20231107_Wet_SenkaiTCS_ABS\\20231107_0001.csv: Success\n",
      "155/410, c:\\TSDE_Workarea\\ktt2yk\\Projects\\3BVT\\20231107_Wet_SenkaiTCS_ABS\\20231107_0002.csv: Success\n",
      "156/410, c:\\TSDE_Workarea\\ktt2yk\\Projects\\3BVT\\20231107_Wet_SenkaiTCS_ABS\\20231107_0003.csv: Success\n",
      "157/410, c:\\TSDE_Workarea\\ktt2yk\\Projects\\3BVT\\20231107_Wet_SenkaiTCS_ABS\\20231107_0004.csv: Success\n",
      "158/410, c:\\TSDE_Workarea\\ktt2yk\\Projects\\3BVT\\20231107_Wet_SenkaiTCS_ABS\\20231107_0005.csv: Success\n",
      "159/410, c:\\TSDE_Workarea\\ktt2yk\\Projects\\3BVT\\20231107_Wet_SenkaiTCS_ABS\\20231107_0006.csv: Success\n",
      "160/410, c:\\TSDE_Workarea\\ktt2yk\\Projects\\3BVT\\20231107_Wet_SenkaiTCS_ABS\\20231107_0007.csv: Success\n",
      "161/410, c:\\TSDE_Workarea\\ktt2yk\\Projects\\3BVT\\20231107_Wet_SenkaiTCS_ABS\\20231107_0008.csv: Success\n",
      "162/410, c:\\TSDE_Workarea\\ktt2yk\\Projects\\3BVT\\20231107_Wet_SenkaiTCS_ABS\\20231107_0009.csv: Success\n",
      "163/410, c:\\TSDE_Workarea\\ktt2yk\\Projects\\3BVT\\20231107_Wet_SenkaiTCS_ABS\\20231107_0010.csv: Success\n",
      "164/410, c:\\TSDE_Workarea\\ktt2yk\\Projects\\3BVT\\20231107_Wet_SenkaiTCS_ABS\\20231107_0011.csv: Success\n",
      "165/410, c:\\TSDE_Workarea\\ktt2yk\\Projects\\3BVT\\20231107_Wet_SenkaiTCS_ABS\\20231107_0012.csv: Success\n",
      "166/410, c:\\TSDE_Workarea\\ktt2yk\\Projects\\3BVT\\20231107_Wet_SenkaiTCS_ABS\\20231107_0013.csv: Success\n",
      "167/410, c:\\TSDE_Workarea\\ktt2yk\\Projects\\3BVT\\20231107_Wet_SenkaiTCS_ABS\\20231107_0014.csv: Success\n",
      "168/410, c:\\TSDE_Workarea\\ktt2yk\\Projects\\3BVT\\20231107_Wet_SenkaiTCS_ABS\\20231107_0015.csv: Success\n",
      "169/410, c:\\TSDE_Workarea\\ktt2yk\\Projects\\3BVT\\20231107_Wet_SenkaiTCS_ABS\\20231107_0016.csv: Success\n",
      "170/410, c:\\TSDE_Workarea\\ktt2yk\\Projects\\3BVT\\20231107_Wet_SenkaiTCS_ABS\\20231107_0017.csv: Success\n",
      "171/410, c:\\TSDE_Workarea\\ktt2yk\\Projects\\3BVT\\20231107_Wet_SenkaiTCS_ABS\\20231107_0018.csv: Success\n",
      "172/410, c:\\TSDE_Workarea\\ktt2yk\\Projects\\3BVT\\20231107_Wet_SenkaiTCS_ABS\\20231107_0019.csv: Success\n",
      "173/410, c:\\TSDE_Workarea\\ktt2yk\\Projects\\3BVT\\20231107_Wet_SenkaiTCS_ABS\\20231107_0020.csv: Success\n",
      "174/410, c:\\TSDE_Workarea\\ktt2yk\\Projects\\3BVT\\20231107_Wet_SenkaiTCS_ABS\\20231107_0021.csv: Success\n",
      "175/410, c:\\TSDE_Workarea\\ktt2yk\\Projects\\3BVT\\20231107_Wet_SenkaiTCS_ABS\\20231107_0022.csv: Success\n",
      "176/410, c:\\TSDE_Workarea\\ktt2yk\\Projects\\3BVT\\20231107_Wet_SenkaiTCS_ABS\\20231107_0023.csv: Success\n",
      "177/410, c:\\TSDE_Workarea\\ktt2yk\\Projects\\3BVT\\20231107_Wet_SenkaiTCS_ABS\\20231107_0024.csv: Success\n",
      "178/410, c:\\TSDE_Workarea\\ktt2yk\\Projects\\3BVT\\20231107_Wet_SenkaiTCS_ABS\\20231107_0025.csv: Success\n",
      "179/410, c:\\TSDE_Workarea\\ktt2yk\\Projects\\3BVT\\20231107_Wet_SenkaiTCS_ABS\\20231107_0026.csv: Success\n",
      "180/410, c:\\TSDE_Workarea\\ktt2yk\\Projects\\3BVT\\20231108_TCS_Araisan\\20231108_0036.csv: Success\n",
      "181/410, c:\\TSDE_Workarea\\ktt2yk\\Projects\\3BVT\\20231108_TCS_Araisan\\20231108_0037.csv: Success\n",
      "182/410, c:\\TSDE_Workarea\\ktt2yk\\Projects\\3BVT\\20231108_TCS_Araisan\\20231108_0038.csv: Success\n",
      "183/410, c:\\TSDE_Workarea\\ktt2yk\\Projects\\3BVT\\20231108_TCS_Araisan\\20231108_0039.csv: Success\n",
      "184/410, c:\\TSDE_Workarea\\ktt2yk\\Projects\\3BVT\\20231108_TCS_Araisan\\20231108_0040.csv: Success\n",
      "185/410, c:\\TSDE_Workarea\\ktt2yk\\Projects\\3BVT\\20231108_TCS_Araisan\\20231108_0041.csv: Success\n",
      "186/410, c:\\TSDE_Workarea\\ktt2yk\\Projects\\3BVT\\20231108_TCS_Araisan\\20231108_0042.csv: Success\n",
      "187/410, c:\\TSDE_Workarea\\ktt2yk\\Projects\\3BVT\\20231108_TCS_VDC_Onakasan\\20231108_0000.csv: Success\n",
      "188/410, c:\\TSDE_Workarea\\ktt2yk\\Projects\\3BVT\\20231108_TCS_VDC_Onakasan\\20231108_0001.csv: Success\n",
      "189/410, c:\\TSDE_Workarea\\ktt2yk\\Projects\\3BVT\\20231108_TCS_VDC_Onakasan\\20231108_0002.csv: Success\n",
      "190/410, c:\\TSDE_Workarea\\ktt2yk\\Projects\\3BVT\\20231108_TCS_VDC_Onakasan\\20231108_0003.csv: Success\n",
      "191/410, c:\\TSDE_Workarea\\ktt2yk\\Projects\\3BVT\\20231108_TCS_VDC_Onakasan\\20231108_0004.csv: Success\n",
      "192/410, c:\\TSDE_Workarea\\ktt2yk\\Projects\\3BVT\\20231108_TCS_VDC_Onakasan\\20231108_0005.csv: Success\n",
      "193/410, c:\\TSDE_Workarea\\ktt2yk\\Projects\\3BVT\\20231108_TCS_VDC_Onakasan\\20231108_0006.csv: Success\n",
      "194/410, c:\\TSDE_Workarea\\ktt2yk\\Projects\\3BVT\\20231108_TCS_VDC_Onakasan\\20231108_0007.csv: Success\n",
      "195/410, c:\\TSDE_Workarea\\ktt2yk\\Projects\\3BVT\\20231108_TCS_VDC_Onakasan\\20231108_0008.csv: Success\n",
      "196/410, c:\\TSDE_Workarea\\ktt2yk\\Projects\\3BVT\\20231108_TCS_VDC_Onakasan\\20231108_0009.csv: Success\n",
      "197/410, c:\\TSDE_Workarea\\ktt2yk\\Projects\\3BVT\\20231108_TCS_VDC_Onakasan\\20231108_0010.csv: Success\n",
      "198/410, c:\\TSDE_Workarea\\ktt2yk\\Projects\\3BVT\\20231108_TCS_VDC_Onakasan\\20231108_0011.csv: Success\n",
      "199/410, c:\\TSDE_Workarea\\ktt2yk\\Projects\\3BVT\\20231108_TCS_VDC_Onakasan\\20231108_0012.csv: Success\n",
      "200/410, c:\\TSDE_Workarea\\ktt2yk\\Projects\\3BVT\\20231108_TCS_VDC_Onakasan\\20231108_0013.csv: Success\n",
      "201/410, c:\\TSDE_Workarea\\ktt2yk\\Projects\\3BVT\\20231108_TCS_VDC_Onakasan\\20231108_0014.csv: Success\n",
      "202/410, c:\\TSDE_Workarea\\ktt2yk\\Projects\\3BVT\\20231108_TCS_VDC_Onakasan\\20231108_0015.csv: Success\n",
      "203/410, c:\\TSDE_Workarea\\ktt2yk\\Projects\\3BVT\\20231108_TCS_VDC_Onakasan\\20231108_0016.csv: Success\n",
      "204/410, c:\\TSDE_Workarea\\ktt2yk\\Projects\\3BVT\\20231108_TCS_VDC_Onakasan\\20231108_0017.csv: Success\n",
      "205/410, c:\\TSDE_Workarea\\ktt2yk\\Projects\\3BVT\\20231108_TCS_VDC_Onakasan\\20231108_0018.csv: Success\n",
      "206/410, c:\\TSDE_Workarea\\ktt2yk\\Projects\\3BVT\\20231108_TCS_VDC_Onakasan\\20231108_0019.csv: Success\n",
      "207/410, c:\\TSDE_Workarea\\ktt2yk\\Projects\\3BVT\\20231109_TCS_Split_Flat\\20231109_0027.csv: Success\n",
      "208/410, c:\\TSDE_Workarea\\ktt2yk\\Projects\\3BVT\\20231109_TCS_Split_Flat\\20231109_0028.csv: Success\n",
      "209/410, c:\\TSDE_Workarea\\ktt2yk\\Projects\\3BVT\\20231109_TCS_Split_Flat\\20231109_0037.csv: Success\n",
      "210/410, c:\\TSDE_Workarea\\ktt2yk\\Projects\\3BVT\\20231109_TCS_Split_Flat\\20231109_0038.csv: Success\n",
      "211/410, c:\\TSDE_Workarea\\ktt2yk\\Projects\\3BVT\\20231109_TCS_Split_Flat\\20231109_0039.csv: Success\n",
      "212/410, c:\\TSDE_Workarea\\ktt2yk\\Projects\\3BVT\\20231109_TCS_Split_Flat\\20231109_0040.csv: Success\n",
      "213/410, c:\\TSDE_Workarea\\ktt2yk\\Projects\\3BVT\\20231109_TCS_Split_Flat\\20231109_0041.csv: Success\n",
      "214/410, c:\\TSDE_Workarea\\ktt2yk\\Projects\\3BVT\\20231214_HSR\\20231214_0001.csv: Success\n",
      "215/410, c:\\TSDE_Workarea\\ktt2yk\\Projects\\3BVT\\20231214_HSR\\20231214_0002.csv: Success\n",
      "216/410, c:\\TSDE_Workarea\\ktt2yk\\Projects\\3BVT\\20231214_HSR\\20231214_0003.csv: Success\n",
      "217/410, c:\\TSDE_Workarea\\ktt2yk\\Projects\\3BVT\\20231214_HSR\\20231214_0004.csv: Success\n",
      "218/410, c:\\TSDE_Workarea\\ktt2yk\\Projects\\3BVT\\20231214_HSR\\20231214_0005.csv: Success\n",
      "219/410, c:\\TSDE_Workarea\\ktt2yk\\Projects\\3BVT\\20231214_HSR\\20231214_0006.csv: Success\n",
      "220/410, c:\\TSDE_Workarea\\ktt2yk\\Projects\\3BVT\\20231214_HSR\\20231214_0007.csv: Success\n",
      "221/410, c:\\TSDE_Workarea\\ktt2yk\\Projects\\3BVT\\20231214_HSR\\20231214_0008.csv: Success\n",
      "222/410, c:\\TSDE_Workarea\\ktt2yk\\Projects\\3BVT\\20231214_HSR\\20231214_0009.csv: Success\n",
      "223/410, c:\\TSDE_Workarea\\ktt2yk\\Projects\\3BVT\\20231214_HSR\\20231214_0010.csv: Success\n",
      "224/410, c:\\TSDE_Workarea\\ktt2yk\\Projects\\3BVT\\20231214_HSR\\20231214_0011.csv: Success\n",
      "225/410, c:\\TSDE_Workarea\\ktt2yk\\Projects\\3BVT\\20231214_HSR\\20231214_0012.csv: Success\n",
      "226/410, c:\\TSDE_Workarea\\ktt2yk\\Projects\\3BVT\\20231214_HSR\\20231214_0013.csv: Success\n",
      "227/410, c:\\TSDE_Workarea\\ktt2yk\\Projects\\3BVT\\20231214_HSR\\20231214_0014.csv: Success\n",
      "228/410, c:\\TSDE_Workarea\\ktt2yk\\Projects\\3BVT\\20231214_HSR\\20231214_0015.csv: Success\n",
      "229/410, c:\\TSDE_Workarea\\ktt2yk\\Projects\\3BVT\\20231214_HSR\\20231214_0016.csv: Success\n",
      "230/410, c:\\TSDE_Workarea\\ktt2yk\\Projects\\3BVT\\20231214_HSR\\20231214_0017.csv: Success\n",
      "231/410, c:\\TSDE_Workarea\\ktt2yk\\Projects\\3BVT\\20231214_HSR\\20231214_0018.csv: Success\n",
      "232/410, c:\\TSDE_Workarea\\ktt2yk\\Projects\\3BVT\\20231214_HSR\\20231214_0019.csv: Success\n",
      "233/410, c:\\TSDE_Workarea\\ktt2yk\\Projects\\3BVT\\20231214_HSR\\20231214_0020.csv: Success\n",
      "234/410, c:\\TSDE_Workarea\\ktt2yk\\Projects\\3BVT\\20231214_HSR\\20231214_0022.csv: Success\n",
      "235/410, c:\\TSDE_Workarea\\ktt2yk\\Projects\\3BVT\\20231214_HSR\\20231214_0023.csv: Success\n",
      "236/410, c:\\TSDE_Workarea\\ktt2yk\\Projects\\3BVT\\20231214_HSR\\20231214_0024.csv: Success\n",
      "237/410, c:\\TSDE_Workarea\\ktt2yk\\Projects\\3BVT\\20231214_HSR\\20231214_0025.csv: Success\n",
      "238/410, c:\\TSDE_Workarea\\ktt2yk\\Projects\\3BVT\\20231214_HSR\\20231214_0026.csv: Success\n",
      "239/410, c:\\TSDE_Workarea\\ktt2yk\\Projects\\3BVT\\2024_0x1_TakasuWinter\\0206_TCS_AYC\\20240206_0010.csv: Success\n",
      "240/410, c:\\TSDE_Workarea\\ktt2yk\\Projects\\3BVT\\2024_0x1_TakasuWinter\\0206_TCS_AYC\\20240206_0011.csv: Success\n",
      "241/410, c:\\TSDE_Workarea\\ktt2yk\\Projects\\3BVT\\2024_0x1_TakasuWinter\\0206_TCS_AYC\\20240206_0012.csv: Success\n",
      "242/410, c:\\TSDE_Workarea\\ktt2yk\\Projects\\3BVT\\2024_0x1_TakasuWinter\\0206_TCS_AYC\\20240206_0013.csv: Success\n",
      "243/410, c:\\TSDE_Workarea\\ktt2yk\\Projects\\3BVT\\2024_0x1_TakasuWinter\\0206_TCS_AYC\\20240206_0014.csv: Success\n",
      "244/410, c:\\TSDE_Workarea\\ktt2yk\\Projects\\3BVT\\2024_0x1_TakasuWinter\\0206_TCS_AYC\\20240206_0015.csv: Success\n",
      "245/410, c:\\TSDE_Workarea\\ktt2yk\\Projects\\3BVT\\2024_0x1_TakasuWinter\\0206_TCS_AYC\\20240206_0016.csv: Success\n",
      "246/410, c:\\TSDE_Workarea\\ktt2yk\\Projects\\3BVT\\2024_0x1_TakasuWinter\\0206_TCS_AYC\\20240206_0017.csv: Success\n",
      "247/410, c:\\TSDE_Workarea\\ktt2yk\\Projects\\3BVT\\2024_0x1_TakasuWinter\\0206_TCS_AYC\\20240206_0018.csv: Success\n",
      "248/410, c:\\TSDE_Workarea\\ktt2yk\\Projects\\3BVT\\2024_0x1_TakasuWinter\\0206_TCS_AYC\\20240206_0019.csv: Success\n",
      "249/410, c:\\TSDE_Workarea\\ktt2yk\\Projects\\3BVT\\2024_0x1_TakasuWinter\\0206_TCS_AYC\\20240206_0020.csv: Success\n",
      "250/410, c:\\TSDE_Workarea\\ktt2yk\\Projects\\3BVT\\2024_0x1_TakasuWinter\\0206_TCS_AYC\\20240206_0021.csv: Success\n",
      "251/410, c:\\TSDE_Workarea\\ktt2yk\\Projects\\3BVT\\2024_0x1_TakasuWinter\\0206_TCS_AYC\\20240206_0022.csv: Success\n",
      "252/410, c:\\TSDE_Workarea\\ktt2yk\\Projects\\3BVT\\2024_0x1_TakasuWinter\\0206_TCS_AYC\\20240206_0023.csv: Success\n",
      "253/410, c:\\TSDE_Workarea\\ktt2yk\\Projects\\3BVT\\2024_0x1_TakasuWinter\\0206_TCS_AYC\\20240206_0024.csv: Success\n",
      "254/410, c:\\TSDE_Workarea\\ktt2yk\\Projects\\3BVT\\2024_0x1_TakasuWinter\\0206_TCS_AYC\\20240206_0025.csv: Success\n",
      "255/410, c:\\TSDE_Workarea\\ktt2yk\\Projects\\3BVT\\2024_0x1_TakasuWinter\\0206_TCS_AYC\\20240206_0026.csv: Success\n",
      "256/410, c:\\TSDE_Workarea\\ktt2yk\\Projects\\3BVT\\2024_0x1_TakasuWinter\\0206_TCS_AYC\\20240206_0027.csv: Success\n",
      "257/410, c:\\TSDE_Workarea\\ktt2yk\\Projects\\3BVT\\2024_0x1_TakasuWinter\\0206_TCS_AYC\\20240206_0028.csv: Success\n",
      "258/410, c:\\TSDE_Workarea\\ktt2yk\\Projects\\3BVT\\2024_0x1_TakasuWinter\\0206_TCS_AYC\\20240206_0029.csv: Success\n",
      "259/410, c:\\TSDE_Workarea\\ktt2yk\\Projects\\3BVT\\2024_0x1_TakasuWinter\\0206_TCS_AYC\\20240206_0030.csv: Success\n",
      "260/410, c:\\TSDE_Workarea\\ktt2yk\\Projects\\3BVT\\2024_0x1_TakasuWinter\\0206_TCS_AYC\\20240206_0031.csv: Success\n",
      "261/410, c:\\TSDE_Workarea\\ktt2yk\\Projects\\3BVT\\2024_0x1_TakasuWinter\\0206_TCS_AYC\\20240206_0032.csv: Success\n",
      "262/410, c:\\TSDE_Workarea\\ktt2yk\\Projects\\3BVT\\2024_0x1_TakasuWinter\\0207_SplitHill_AYC\\20240207_0000.csv: Success\n",
      "263/410, c:\\TSDE_Workarea\\ktt2yk\\Projects\\3BVT\\2024_0x1_TakasuWinter\\0207_SplitHill_AYC\\20240207_0001.csv: Success\n",
      "264/410, c:\\TSDE_Workarea\\ktt2yk\\Projects\\3BVT\\2024_0x1_TakasuWinter\\0207_SplitHill_AYC\\20240207_0002.csv: Success\n",
      "265/410, c:\\TSDE_Workarea\\ktt2yk\\Projects\\3BVT\\2024_0x1_TakasuWinter\\0207_SplitHill_AYC\\20240207_0003.csv: Success\n",
      "266/410, c:\\TSDE_Workarea\\ktt2yk\\Projects\\3BVT\\2024_0x1_TakasuWinter\\0207_SplitHill_AYC\\20240207_0004.csv: Success\n",
      "267/410, c:\\TSDE_Workarea\\ktt2yk\\Projects\\3BVT\\2024_0x1_TakasuWinter\\0207_SplitHill_AYC\\20240207_0005.csv: Success\n",
      "268/410, c:\\TSDE_Workarea\\ktt2yk\\Projects\\3BVT\\2024_0x1_TakasuWinter\\0207_SplitHill_AYC\\20240207_0006.csv: Success\n",
      "269/410, c:\\TSDE_Workarea\\ktt2yk\\Projects\\3BVT\\2024_0x1_TakasuWinter\\0207_SplitHill_AYC\\20240207_0007.csv: Success\n",
      "270/410, c:\\TSDE_Workarea\\ktt2yk\\Projects\\3BVT\\2024_0x1_TakasuWinter\\0207_SplitHill_AYC\\20240207_0008.csv: Success\n",
      "271/410, c:\\TSDE_Workarea\\ktt2yk\\Projects\\3BVT\\2024_0x1_TakasuWinter\\0207_SplitHill_AYC\\20240207_0009.csv: Success\n",
      "272/410, c:\\TSDE_Workarea\\ktt2yk\\Projects\\3BVT\\2024_0x1_TakasuWinter\\0207_SplitHill_AYC\\20240207_0010.csv: Success\n",
      "273/410, c:\\TSDE_Workarea\\ktt2yk\\Projects\\3BVT\\2024_0x1_TakasuWinter\\0207_SplitHill_AYC\\20240207_0011.csv: Success\n",
      "274/410, c:\\TSDE_Workarea\\ktt2yk\\Projects\\3BVT\\2024_0x1_TakasuWinter\\0207_SplitHill_AYC\\20240207_0012.csv: Success\n",
      "275/410, c:\\TSDE_Workarea\\ktt2yk\\Projects\\3BVT\\2024_0x1_TakasuWinter\\0207_SplitHill_AYC\\20240207_0013.csv: Success\n",
      "276/410, c:\\TSDE_Workarea\\ktt2yk\\Projects\\3BVT\\2024_0x1_TakasuWinter\\0207_SplitHill_AYC\\20240207_0014.csv: Success\n",
      "277/410, c:\\TSDE_Workarea\\ktt2yk\\Projects\\3BVT\\2024_0x1_TakasuWinter\\0207_SplitHill_AYC\\20240207_0015.csv: Success\n",
      "278/410, c:\\TSDE_Workarea\\ktt2yk\\Projects\\3BVT\\2024_0x1_TakasuWinter\\0207_SplitHill_AYC\\20240207_0016.csv: Success\n",
      "279/410, c:\\TSDE_Workarea\\ktt2yk\\Projects\\3BVT\\2024_0x1_TakasuWinter\\0207_SplitHill_AYC\\20240207_0017.csv: Success\n",
      "280/410, c:\\TSDE_Workarea\\ktt2yk\\Projects\\3BVT\\2024_0x1_TakasuWinter\\0207_SplitHill_AYC\\20240207_0018.csv: Success\n",
      "281/410, c:\\TSDE_Workarea\\ktt2yk\\Projects\\3BVT\\2024_0x1_TakasuWinter\\0207_SplitHill_AYC\\20240207_0019.csv: Success\n",
      "282/410, c:\\TSDE_Workarea\\ktt2yk\\Projects\\3BVT\\2024_0x1_TakasuWinter\\0207_SplitHill_AYC\\20240207_0020.csv: Success\n",
      "283/410, c:\\TSDE_Workarea\\ktt2yk\\Projects\\3BVT\\2024_0x1_TakasuWinter\\0207_SplitHill_AYC\\20240207_0021.csv: Success\n",
      "284/410, c:\\TSDE_Workarea\\ktt2yk\\Projects\\3BVT\\2024_0x1_TakasuWinter\\0207_SplitHill_Slalome_OnakaSan\\20240207_0005.csv: Success\n",
      "285/410, c:\\TSDE_Workarea\\ktt2yk\\Projects\\3BVT\\2024_0x1_TakasuWinter\\0207_SplitHill_Slalome_OnakaSan\\20240207_0009.csv: Success\n",
      "286/410, c:\\TSDE_Workarea\\ktt2yk\\Projects\\3BVT\\2024_0x1_TakasuWinter\\0207_SplitHill_Slalome_OnakaSan\\20240207_0010.csv: Success\n",
      "287/410, c:\\TSDE_Workarea\\ktt2yk\\Projects\\3BVT\\2024_0x1_TakasuWinter\\0207_SplitHill_Slalome_OnakaSan\\20240207_0011.csv: Success\n",
      "288/410, c:\\TSDE_Workarea\\ktt2yk\\Projects\\3BVT\\2024_0x1_TakasuWinter\\0207_SplitHill_Slalome_OnakaSan\\20240207_0012.csv: Success\n",
      "289/410, c:\\TSDE_Workarea\\ktt2yk\\Projects\\3BVT\\2024_0x1_TakasuWinter\\0207_SplitHill_Slalome_OnakaSan\\20240207_0013.csv: Success\n",
      "290/410, c:\\TSDE_Workarea\\ktt2yk\\Projects\\3BVT\\2024_0x1_TakasuWinter\\0207_SplitHill_Slalome_OnakaSan\\20240207_0014.csv: Success\n",
      "291/410, c:\\TSDE_Workarea\\ktt2yk\\Projects\\3BVT\\2024_0x1_TakasuWinter\\0207_SplitHill_Slalome_OnakaSan\\20240207_0015.csv: Success\n",
      "292/410, c:\\TSDE_Workarea\\ktt2yk\\Projects\\3BVT\\2024_0x1_TakasuWinter\\0207_SplitHill_Slalome_OnakaSan\\20240207_0016.csv: Success\n",
      "293/410, c:\\TSDE_Workarea\\ktt2yk\\Projects\\3BVT\\2024_0x1_TakasuWinter\\0207_SplitHill_Slalome_OnakaSan\\20240207_0017.csv: Success\n",
      "294/410, c:\\TSDE_Workarea\\ktt2yk\\Projects\\3BVT\\2024_0x1_TakasuWinter\\0207_SplitHill_Slalome_OnakaSan\\20240207_0018.csv: Success\n",
      "295/410, c:\\TSDE_Workarea\\ktt2yk\\Projects\\3BVT\\2024_0x1_TakasuWinter\\0207_SplitHill_Slalome_OnakaSan\\20240207_0019.csv: Success\n",
      "296/410, c:\\TSDE_Workarea\\ktt2yk\\Projects\\3BVT\\2024_0x1_TakasuWinter\\0207_SplitHill_Slalome_OnakaSan\\20240207_0020.csv: Success\n",
      "297/410, c:\\TSDE_Workarea\\ktt2yk\\Projects\\3BVT\\2024_0x1_TakasuWinter\\0207_SplitHill_Slalome_OnakaSan\\20240207_0021.csv: Success\n",
      "298/410, c:\\TSDE_Workarea\\ktt2yk\\Projects\\3BVT\\2024_0x1_TakasuWinter\\0207_SplitHill_Slalome_OnakaSan\\20240207_0022.csv: Success\n",
      "299/410, c:\\TSDE_Workarea\\ktt2yk\\Projects\\3BVT\\2024_0x1_TakasuWinter\\0207_SplitHill_Slalome_OnakaSan\\20240207_0023.csv: Success\n",
      "300/410, c:\\TSDE_Workarea\\ktt2yk\\Projects\\3BVT\\2024_0x1_TakasuWinter\\0207_SplitHill_Slalome_OnakaSan\\20240207_0024.csv: Success\n",
      "301/410, c:\\TSDE_Workarea\\ktt2yk\\Projects\\3BVT\\2024_0x1_TakasuWinter\\0207_SplitHill_Slalome_OnakaSan\\20240207_0025.csv: Success\n",
      "302/410, c:\\TSDE_Workarea\\ktt2yk\\Projects\\3BVT\\2024_0x1_TakasuWinter\\0207_SplitHill_Slalome_OnakaSan\\20240207_0026.csv: Success\n",
      "303/410, c:\\TSDE_Workarea\\ktt2yk\\Projects\\3BVT\\2024_0x1_TakasuWinter\\0207_SplitHill_Slalome_OnakaSan\\20240207_0027.csv: Success\n",
      "304/410, c:\\TSDE_Workarea\\ktt2yk\\Projects\\3BVT\\2024_0x1_TakasuWinter\\0207_SplitHill_Slalome_OnakaSan\\20240207_0028.csv: Success\n",
      "305/410, c:\\TSDE_Workarea\\ktt2yk\\Projects\\3BVT\\2024_0x1_TakasuWinter\\0207_SplitHill_Slalome_OnakaSan\\20240207_0030.csv: Success\n",
      "306/410, c:\\TSDE_Workarea\\ktt2yk\\Projects\\3BVT\\2024_0x1_TakasuWinter\\0207_SplitHill_Slalome_OnakaSan\\20240207_0031.csv: Success\n",
      "307/410, c:\\TSDE_Workarea\\ktt2yk\\Projects\\3BVT\\2024_0x1_TakasuWinter\\0207_SplitHill_Slalome_OnakaSan\\20240207_0032.csv: Success\n",
      "308/410, c:\\TSDE_Workarea\\ktt2yk\\Projects\\3BVT\\2024_0x1_TakasuWinter\\0207_SplitHill_Slalome_OnakaSan\\20240207_0033.csv: Success\n",
      "309/410, c:\\TSDE_Workarea\\ktt2yk\\Projects\\3BVT\\2024_0x1_TakasuWinter\\0207_SplitHill_Slalome_OnakaSan\\20240207_0036.csv: Success\n",
      "310/410, c:\\TSDE_Workarea\\ktt2yk\\Projects\\3BVT\\2024_0x1_TakasuWinter\\0207_SplitHill_Slalome_OnakaSan\\20240207_0038.csv: Success\n",
      "311/410, c:\\TSDE_Workarea\\ktt2yk\\Projects\\3BVT\\2024_0x1_TakasuWinter\\0208_TCS_AYC\\20240208_0000.csv: Success\n",
      "312/410, c:\\TSDE_Workarea\\ktt2yk\\Projects\\3BVT\\2024_0x1_TakasuWinter\\0208_TCS_AYC\\20240208_0001.csv: Success\n",
      "313/410, c:\\TSDE_Workarea\\ktt2yk\\Projects\\3BVT\\2024_0x1_TakasuWinter\\0208_TCS_AYC\\20240208_0002.csv: Success\n",
      "314/410, c:\\TSDE_Workarea\\ktt2yk\\Projects\\3BVT\\2024_0x1_TakasuWinter\\0208_TCS_AYC\\20240208_0003.csv: Success\n",
      "315/410, c:\\TSDE_Workarea\\ktt2yk\\Projects\\3BVT\\2024_0x1_TakasuWinter\\0208_TCS_AYC\\20240208_0004.csv: Success\n",
      "316/410, c:\\TSDE_Workarea\\ktt2yk\\Projects\\3BVT\\2024_0x1_TakasuWinter\\0208_TCS_AYC\\20240208_0005.csv: Success\n",
      "317/410, c:\\TSDE_Workarea\\ktt2yk\\Projects\\3BVT\\2024_0x1_TakasuWinter\\0208_TCS_AYC\\20240208_0006.csv: Success\n",
      "318/410, c:\\TSDE_Workarea\\ktt2yk\\Projects\\3BVT\\2024_0x1_TakasuWinter\\0208_TCS_AYC\\20240208_0007.csv: Success\n",
      "319/410, c:\\TSDE_Workarea\\ktt2yk\\Projects\\3BVT\\2024_0x1_TakasuWinter\\0208_TCS_AYC\\20240208_0008.csv: Success\n",
      "320/410, c:\\TSDE_Workarea\\ktt2yk\\Projects\\3BVT\\2024_0x1_TakasuWinter\\0208_TCS_AYC\\20240208_0009.csv: Success\n",
      "321/410, c:\\TSDE_Workarea\\ktt2yk\\Projects\\3BVT\\2024_0x1_TakasuWinter\\0208_TCS_AYC\\20240208_0010.csv: Success\n",
      "322/410, c:\\TSDE_Workarea\\ktt2yk\\Projects\\3BVT\\2024_0x1_TakasuWinter\\0208_TCS_AYC\\20240208_0011.csv: Success\n",
      "323/410, c:\\TSDE_Workarea\\ktt2yk\\Projects\\3BVT\\2024_0x1_TakasuWinter\\0208_TCS_AYC\\20240208_0012.csv: Success\n",
      "324/410, c:\\TSDE_Workarea\\ktt2yk\\Projects\\3BVT\\2024_0x1_TakasuWinter\\0208_TCS_AYC\\20240208_0013.csv: Success\n",
      "325/410, c:\\TSDE_Workarea\\ktt2yk\\Projects\\3BVT\\2024_0x1_TakasuWinter\\0208_TCS_AYC\\20240208_0014.csv: Success\n",
      "326/410, c:\\TSDE_Workarea\\ktt2yk\\Projects\\3BVT\\2024_0x1_TakasuWinter\\0208_TCS_AYC\\20240208_0015.csv: Success\n",
      "327/410, c:\\TSDE_Workarea\\ktt2yk\\Projects\\3BVT\\2024_0x1_TakasuWinter\\0208_TCS_AYC\\20240208_0016.csv: Success\n",
      "328/410, c:\\TSDE_Workarea\\ktt2yk\\Projects\\3BVT\\2024_0x1_TakasuWinter\\0208_TCS_AYC\\20240208_0017.csv: Success\n",
      "329/410, c:\\TSDE_Workarea\\ktt2yk\\Projects\\3BVT\\2024_0x1_TakasuWinter\\0208_TCS_AYC\\20240208_0018.csv: Success\n",
      "330/410, c:\\TSDE_Workarea\\ktt2yk\\Projects\\3BVT\\2024_0x1_TakasuWinter\\0208_TCS_AYC\\20240208_0019.csv: Success\n",
      "331/410, c:\\TSDE_Workarea\\ktt2yk\\Projects\\3BVT\\2024_0x1_TakasuWinter\\0208_TCS_AYC\\20240208_0020.csv: Success\n",
      "332/410, c:\\TSDE_Workarea\\ktt2yk\\Projects\\3BVT\\2024_0x1_TakasuWinter\\0208_TCS_AYC\\20240208_0021.csv: Success\n",
      "333/410, c:\\TSDE_Workarea\\ktt2yk\\Projects\\3BVT\\2024_0x1_TakasuWinter\\0208_TCS_AYC\\20240208_0022.csv: Success\n",
      "334/410, c:\\TSDE_Workarea\\ktt2yk\\Projects\\3BVT\\2024_0x1_TakasuWinter\\0208_TCS_AYC\\20240208_0023.csv: Success\n",
      "335/410, c:\\TSDE_Workarea\\ktt2yk\\Projects\\3BVT\\2024_0x1_TakasuWinter\\0208_TCS_AYC\\20240208_0024.csv: Success\n",
      "336/410, c:\\TSDE_Workarea\\ktt2yk\\Projects\\3BVT\\2024_0x1_TakasuWinter\\0208_TCS_AYC\\20240208_0025.csv: Success\n",
      "337/410, c:\\TSDE_Workarea\\ktt2yk\\Projects\\3BVT\\2024_0x1_TakasuWinter\\0208_TCS_AYC\\20240208_0026.csv: Success\n",
      "338/410, c:\\TSDE_Workarea\\ktt2yk\\Projects\\3BVT\\2024_0x1_TakasuWinter\\0208_TCS_AYC\\20240208_0027.csv: Success\n",
      "339/410, c:\\TSDE_Workarea\\ktt2yk\\Projects\\3BVT\\2024_0x1_TakasuWinter\\0208_TCS_AYC\\20240208_0028.csv: Success\n",
      "340/410, c:\\TSDE_Workarea\\ktt2yk\\Projects\\3BVT\\2024_0x1_TakasuWinter\\0208_TCS_AYC\\20240208_0029.csv: Success\n",
      "341/410, c:\\TSDE_Workarea\\ktt2yk\\Projects\\3BVT\\2024_0x1_TakasuWinter\\0208_TCS_AYC\\20240208_0030.csv: Success\n",
      "342/410, c:\\TSDE_Workarea\\ktt2yk\\Projects\\3BVT\\2024_0x1_TakasuWinter\\0208_TCS_AYC\\20240208_0031.csv: Success\n",
      "343/410, c:\\TSDE_Workarea\\ktt2yk\\Projects\\3BVT\\2024_0x1_TakasuWinter\\0208_TCS_AYC\\20240208_0032.csv: Success\n",
      "344/410, c:\\TSDE_Workarea\\ktt2yk\\Projects\\3BVT\\2024_0x1_TakasuWinter\\0208_TCS_AYC\\20240208_0033.csv: Success\n",
      "345/410, c:\\TSDE_Workarea\\ktt2yk\\Projects\\3BVT\\2024_0x1_TakasuWinter\\0208_TCS_AYC\\20240208_0034.csv: Success\n",
      "346/410, c:\\TSDE_Workarea\\ktt2yk\\Projects\\3BVT\\2024_0x1_TakasuWinter\\0208_TCS_AYC\\20240208_0035.csv: Success\n",
      "347/410, c:\\TSDE_Workarea\\ktt2yk\\Projects\\3BVT\\2024_0x1_TakasuWinter\\0208_TCS_AYC\\20240208_0036.csv: Success\n",
      "348/410, c:\\TSDE_Workarea\\ktt2yk\\Projects\\3BVT\\2024_0x1_TakasuWinter\\0208_TCS_AYC\\20240208_0037.csv: Success\n",
      "349/410, c:\\TSDE_Workarea\\ktt2yk\\Projects\\3BVT\\2024_0x1_TakasuWinter\\0208_TCS_AYC\\20240208_0038.csv: Success\n",
      "350/410, c:\\TSDE_Workarea\\ktt2yk\\Projects\\3BVT\\2024_0x1_TakasuWinter\\0208_TCS_AYC\\20240208_0039.csv: Success\n",
      "351/410, c:\\TSDE_Workarea\\ktt2yk\\Projects\\3BVT\\2024_0x1_TakasuWinter\\0208_TCS_AYC\\20240208_0040.csv: Success\n",
      "352/410, c:\\TSDE_Workarea\\ktt2yk\\Projects\\3BVT\\2024_0x1_TakasuWinter\\0208_TCS_AYC\\20240208_0041.csv: Success\n",
      "353/410, c:\\TSDE_Workarea\\ktt2yk\\Projects\\3BVT\\2024_0x1_TakasuWinter\\0208_TCS_AYC\\20240208_0042.csv: Success\n",
      "354/410, c:\\TSDE_Workarea\\ktt2yk\\Projects\\3BVT\\2024_0x1_TakasuWinter\\0208_TCS_AYC\\20240208_0043.csv: Success\n",
      "355/410, c:\\TSDE_Workarea\\ktt2yk\\Projects\\3BVT\\2024_0x1_TakasuWinter\\0208_TCS_AYC\\20240208_0044.csv: Success\n",
      "356/410, c:\\TSDE_Workarea\\ktt2yk\\Projects\\3BVT\\2024_0x1_TakasuWinter\\0208_TCS_AYC\\20240208_0045.csv: Success\n",
      "357/410, c:\\TSDE_Workarea\\ktt2yk\\Projects\\3BVT\\2024_0x1_TakasuWinter\\0208_TCS_AYC\\20240208_0046.csv: Success\n",
      "358/410, c:\\TSDE_Workarea\\ktt2yk\\Projects\\3BVT\\2024_0x1_TakasuWinter\\0208_TCS_AYC\\20240208_0047.csv: Success\n",
      "359/410, c:\\TSDE_Workarea\\ktt2yk\\Projects\\3BVT\\2024_0x1_TakasuWinter\\0208_TCS_AYC\\20240208_0048.csv: Success\n",
      "360/410, c:\\TSDE_Workarea\\ktt2yk\\Projects\\3BVT\\2024_0x1_TakasuWinter\\0208_TCS_AYC\\20240208_0049.csv: Success\n",
      "361/410, c:\\TSDE_Workarea\\ktt2yk\\Projects\\3BVT\\2024_0x1_TakasuWinter\\0208_TCS_AYC\\20240208_0050.csv: Success\n",
      "362/410, c:\\TSDE_Workarea\\ktt2yk\\Projects\\3BVT\\2024_0x1_TakasuWinter\\0208_TCS_AYC\\20240208_0051.csv: Success\n",
      "363/410, c:\\TSDE_Workarea\\ktt2yk\\Projects\\3BVT\\2024_0x1_TakasuWinter\\0208_TCS_AYC\\20240208_0052.csv: Success\n",
      "364/410, c:\\TSDE_Workarea\\ktt2yk\\Projects\\3BVT\\2024_0x1_TakasuWinter\\0208_TCS_Onakasan\\20240208_0008.csv: Success\n",
      "365/410, c:\\TSDE_Workarea\\ktt2yk\\Projects\\3BVT\\2024_0x1_TakasuWinter\\0208_TCS_Onakasan\\20240208_0009.csv: Success\n",
      "366/410, c:\\TSDE_Workarea\\ktt2yk\\Projects\\3BVT\\2024_0x1_TakasuWinter\\0208_TCS_Onakasan\\20240208_0010.csv: Success\n",
      "367/410, c:\\TSDE_Workarea\\ktt2yk\\Projects\\3BVT\\2024_0x1_TakasuWinter\\0208_TCS_Onakasan\\20240208_0011.csv: Success\n",
      "368/410, c:\\TSDE_Workarea\\ktt2yk\\Projects\\3BVT\\2024_0x1_TakasuWinter\\0208_TCS_Onakasan\\20240208_0012.csv: Success\n",
      "369/410, c:\\TSDE_Workarea\\ktt2yk\\Projects\\3BVT\\2024_0x1_TakasuWinter\\0208_TCS_Onakasan\\20240208_0013.csv: Success\n",
      "370/410, c:\\TSDE_Workarea\\ktt2yk\\Projects\\3BVT\\2024_0x1_TakasuWinter\\0208_TCS_Onakasan\\20240208_0014.csv: Success\n",
      "371/410, c:\\TSDE_Workarea\\ktt2yk\\Projects\\3BVT\\2024_0x1_TakasuWinter\\0208_TCS_Onakasan\\20240208_0015.csv: Success\n",
      "372/410, c:\\TSDE_Workarea\\ktt2yk\\Projects\\3BVT\\2024_0x1_TakasuWinter\\0208_TCS_Onakasan\\20240208_0016.csv: Success\n",
      "373/410, c:\\TSDE_Workarea\\ktt2yk\\Projects\\3BVT\\2024_0x1_TakasuWinter\\0208_TCS_Onakasan\\20240208_0017.csv: Success\n",
      "374/410, c:\\TSDE_Workarea\\ktt2yk\\Projects\\3BVT\\2024_0x1_TakasuWinter\\0208_TCS_Onakasan\\20240208_0018.csv: Success\n",
      "375/410, c:\\TSDE_Workarea\\ktt2yk\\Projects\\3BVT\\2024_0x1_TakasuWinter\\0208_TCS_Onakasan\\20240208_0019.csv: Success\n",
      "376/410, c:\\TSDE_Workarea\\ktt2yk\\Projects\\3BVT\\2024_0x1_TakasuWinter\\0208_TCS_Onakasan\\20240208_0020.csv: Success\n",
      "377/410, c:\\TSDE_Workarea\\ktt2yk\\Projects\\3BVT\\2024_0x1_TakasuWinter\\0208_TCS_Onakasan\\20240208_0021.csv: Success\n",
      "378/410, c:\\TSDE_Workarea\\ktt2yk\\Projects\\3BVT\\2024_0x1_TakasuWinter\\0208_TCS_Onakasan\\20240208_0022.csv: Success\n",
      "379/410, c:\\TSDE_Workarea\\ktt2yk\\Projects\\3BVT\\2024_0x1_TakasuWinter\\0208_TCS_Onakasan\\20240208_0023.csv: Success\n",
      "380/410, c:\\TSDE_Workarea\\ktt2yk\\Projects\\3BVT\\2024_0x1_TakasuWinter\\0208_TCS_Onakasan\\20240208_0024.csv: Success\n",
      "381/410, c:\\TSDE_Workarea\\ktt2yk\\Projects\\3BVT\\2024_0x1_TakasuWinter\\0208_TCS_Onakasan\\20240208_0025.csv: Success\n",
      "382/410, c:\\TSDE_Workarea\\ktt2yk\\Projects\\3BVT\\2024_0x1_TakasuWinter\\0208_TCS_Onakasan\\20240208_0026.csv: Success\n",
      "383/410, c:\\TSDE_Workarea\\ktt2yk\\Projects\\3BVT\\2024_0x1_TakasuWinter\\0208_TCS_Onakasan\\20240208_0027.csv: Success\n",
      "384/410, c:\\TSDE_Workarea\\ktt2yk\\Projects\\3BVT\\2024_0x1_TakasuWinter_for_Sim\\0213_TCS_For_Simulation\\20240213_0000.csv: Success\n",
      "385/410, c:\\TSDE_Workarea\\ktt2yk\\Projects\\3BVT\\2024_0x1_TakasuWinter_for_Sim\\0213_TCS_For_Simulation\\20240213_0001.csv: Success\n",
      "386/410, c:\\TSDE_Workarea\\ktt2yk\\Projects\\3BVT\\2024_0x1_TakasuWinter_for_Sim\\0213_TCS_For_Simulation\\20240213_0002.csv: Success\n",
      "387/410, c:\\TSDE_Workarea\\ktt2yk\\Projects\\3BVT\\2024_0x1_TakasuWinter_for_Sim\\0213_TCS_For_Simulation\\20240213_0003.csv: Success\n",
      "388/410, c:\\TSDE_Workarea\\ktt2yk\\Projects\\3BVT\\2024_0x1_TakasuWinter_for_Sim\\0213_TCS_For_Simulation\\20240213_0004.csv: Success\n",
      "389/410, c:\\TSDE_Workarea\\ktt2yk\\Projects\\3BVT\\2024_0x1_TakasuWinter_for_Sim\\0213_TCS_For_Simulation\\20240213_0005.csv: Success\n",
      "390/410, c:\\TSDE_Workarea\\ktt2yk\\Projects\\3BVT\\2024_0x1_TakasuWinter_for_Sim\\0213_TCS_For_Simulation\\20240213_0006.csv: Success\n",
      "391/410, c:\\TSDE_Workarea\\ktt2yk\\Projects\\3BVT\\2024_0x1_TakasuWinter_for_Sim\\0213_TCS_For_Simulation\\20240213_0007.csv: Success\n",
      "392/410, c:\\TSDE_Workarea\\ktt2yk\\Projects\\3BVT\\2024_0x1_TakasuWinter_for_Sim\\0213_TCS_For_Simulation\\20240213_0008.csv: Success\n",
      "393/410, c:\\TSDE_Workarea\\ktt2yk\\Projects\\3BVT\\2024_0x1_TakasuWinter_for_Sim\\0213_TCS_For_Simulation\\20240213_0009.csv: Success\n",
      "394/410, c:\\TSDE_Workarea\\ktt2yk\\Projects\\3BVT\\2024_0x1_TakasuWinter_for_Sim\\0213_TCS_For_Simulation\\20240213_0010.csv: Success\n",
      "395/410, c:\\TSDE_Workarea\\ktt2yk\\Projects\\3BVT\\2024_0x1_TakasuWinter_for_Sim\\0213_TCS_For_Simulation\\20240213_0011.csv: Success\n",
      "396/410, c:\\TSDE_Workarea\\ktt2yk\\Projects\\3BVT\\2024_0x1_TakasuWinter_for_Sim\\0213_TCS_For_Simulation\\20240213_0012.csv: Success\n",
      "397/410, c:\\TSDE_Workarea\\ktt2yk\\Projects\\3BVT\\2024_0x1_TakasuWinter_for_Sim\\0213_TCS_For_Simulation\\20240213_0013.csv: Success\n",
      "398/410, c:\\TSDE_Workarea\\ktt2yk\\Projects\\3BVT\\2024_0x1_TakasuWinter_for_Sim\\0213_TCS_For_Simulation\\20240213_0014.csv: Success\n",
      "399/410, c:\\TSDE_Workarea\\ktt2yk\\Projects\\3BVT\\2024_0x1_TakasuWinter_for_Sim\\0213_TCS_For_Simulation\\20240213_0015.csv: Success\n",
      "400/410, c:\\TSDE_Workarea\\ktt2yk\\Projects\\3BVT\\2024_0x1_TakasuWinter_for_Sim\\0213_TCS_For_Simulation\\20240213_0016.csv: Success\n",
      "401/410, c:\\TSDE_Workarea\\ktt2yk\\Projects\\3BVT\\2024_0x1_TakasuWinter_for_Sim\\0213_TCS_For_Simulation\\20240213_0017.csv: Success\n",
      "402/410, c:\\TSDE_Workarea\\ktt2yk\\Projects\\3BVT\\2024_0x1_TakasuWinter_for_Sim\\0213_TCS_For_Simulation\\20240213_0018.csv: Success\n",
      "403/410, c:\\TSDE_Workarea\\ktt2yk\\Projects\\3BVT\\2024_0x1_TakasuWinter_for_Sim\\0213_TCS_For_Simulation\\20240213_0019.csv: Success\n",
      "404/410, c:\\TSDE_Workarea\\ktt2yk\\Projects\\3BVT\\2024_0x1_TakasuWinter_for_Sim\\0213_TCS_For_Simulation\\20240213_0020.csv: Success\n",
      "405/410, c:\\TSDE_Workarea\\ktt2yk\\Projects\\3BVT\\2024_0x1_TakasuWinter_for_Sim\\0213_TCS_For_Simulation\\20240213_0021.csv: Success\n",
      "406/410, c:\\TSDE_Workarea\\ktt2yk\\Projects\\3BVT\\2024_0x1_TakasuWinter_for_Sim\\0213_TCS_For_Simulation\\20240213_0022.csv: Success\n",
      "407/410, c:\\TSDE_Workarea\\ktt2yk\\Projects\\3BVT\\2024_0x1_TakasuWinter_for_Sim\\0213_TCS_For_Simulation\\20240213_0023.csv: Success\n",
      "408/410, c:\\TSDE_Workarea\\ktt2yk\\Projects\\3BVT\\2024_0x1_TakasuWinter_for_Sim\\0213_TCS_For_Simulation\\20240213_0024.csv: Success\n",
      "409/410, c:\\TSDE_Workarea\\ktt2yk\\Projects\\3BVT\\2024_0x1_TakasuWinter_for_Sim\\0213_TCS_For_Simulation\\20240213_0025.csv: Success\n",
      "410/410, c:\\TSDE_Workarea\\ktt2yk\\Projects\\3BVT\\2024_0x1_TakasuWinter_for_Sim\\0213_TCS_For_Simulation\\20240213_0026.csv: Success\n"
     ]
    }
   ],
   "source": [
    "d_CSV_vRef = {}\n",
    "\n",
    "for i, CSV in enumerate(d_CSV):\n",
    "    updated_CSV = CSV\n",
    "    Out = vRef.vRef(CSV, updated_CSV, override=False)\n",
    "    if Out != None:      \n",
    "        d_CSV_vRef[CSV] = d_CSV[CSV]\n",
    "        print(f'{(i+1)}/{len(d_CSV)}, {CSV}: Success')\n",
    "    else:\n",
    "        print(f'{(i+1)}/{len(d_CSV)}, {CSV}: Failure')"
   ]
  },
  {
   "cell_type": "markdown",
   "id": "95d39bf2-d39d-4729-a4ef-9616cc3725ab",
   "metadata": {},
   "source": [
    "## Estimate Wheel Torque"
   ]
  },
  {
   "cell_type": "code",
   "execution_count": 54,
   "id": "f8244d7e-a266-462f-b4c9-385ece0c231d",
   "metadata": {
    "scrolled": true
   },
   "outputs": [
    {
     "name": "stdout",
     "output_type": "stream",
     "text": [
      "Extracted 20231026_0000_0_3BVT_FWD_Stdless_low_spd.csv to c:\\TSDE_Workarea\\ktt2yk\\CARSIM\\Sim_Work_HGT_3BVT_BB88574_VAR01_Matlab2012b\n",
      "1/410, c:\\TSDE_Workarea\\ktt2yk\\Projects\\3BVT\\20231026_TCS_VDC\\20231026_0000.csv: c:\\TSDE_Workarea\\ktt2yk\\CARSIM\\Sim_Work_HGT_3BVT_BB88574_VAR01_Matlab2012b\\20231026_0000_0_3BVT_FWD_Stdless_low_spd.csv\n",
      "Extracted 20231026_0001_1_3BVT_FWD_Stdless_low_spd.csv to c:\\TSDE_Workarea\\ktt2yk\\CARSIM\\Sim_Work_HGT_3BVT_BB88574_VAR01_Matlab2012b\n",
      "2/410, c:\\TSDE_Workarea\\ktt2yk\\Projects\\3BVT\\20231026_TCS_VDC\\20231026_0001.csv: c:\\TSDE_Workarea\\ktt2yk\\CARSIM\\Sim_Work_HGT_3BVT_BB88574_VAR01_Matlab2012b\\20231026_0001_1_3BVT_FWD_Stdless_low_spd.csv\n",
      "Extracted 20231026_0002_2_3BVT_FWD_Stdless_low_spd.csv to c:\\TSDE_Workarea\\ktt2yk\\CARSIM\\Sim_Work_HGT_3BVT_BB88574_VAR01_Matlab2012b\n",
      "3/410, c:\\TSDE_Workarea\\ktt2yk\\Projects\\3BVT\\20231026_TCS_VDC\\20231026_0002.csv: c:\\TSDE_Workarea\\ktt2yk\\CARSIM\\Sim_Work_HGT_3BVT_BB88574_VAR01_Matlab2012b\\20231026_0002_2_3BVT_FWD_Stdless_low_spd.csv\n",
      "Extracted 20231026_0003_3_3BVT_FWD_Stdless_low_spd.csv to c:\\TSDE_Workarea\\ktt2yk\\CARSIM\\Sim_Work_HGT_3BVT_BB88574_VAR01_Matlab2012b\n",
      "4/410, c:\\TSDE_Workarea\\ktt2yk\\Projects\\3BVT\\20231026_TCS_VDC\\20231026_0003.csv: c:\\TSDE_Workarea\\ktt2yk\\CARSIM\\Sim_Work_HGT_3BVT_BB88574_VAR01_Matlab2012b\\20231026_0003_3_3BVT_FWD_Stdless_low_spd.csv\n",
      "Extracted 20231026_0004_4_3BVT_FWD_Stdless_low_spd.csv to c:\\TSDE_Workarea\\ktt2yk\\CARSIM\\Sim_Work_HGT_3BVT_BB88574_VAR01_Matlab2012b\n",
      "5/410, c:\\TSDE_Workarea\\ktt2yk\\Projects\\3BVT\\20231026_TCS_VDC\\20231026_0004.csv: c:\\TSDE_Workarea\\ktt2yk\\CARSIM\\Sim_Work_HGT_3BVT_BB88574_VAR01_Matlab2012b\\20231026_0004_4_3BVT_FWD_Stdless_low_spd.csv\n",
      "6/410, c:\\TSDE_Workarea\\ktt2yk\\Projects\\3BVT\\20231026_TCS_VDC\\20231026_0005.csv: None\n",
      "7/410, c:\\TSDE_Workarea\\ktt2yk\\Projects\\3BVT\\20231026_TCS_VDC\\20231026_0006.csv: None\n",
      "Extracted 20231026_0007_7_3BVT_FWD_Stdless_low_spd.csv to c:\\TSDE_Workarea\\ktt2yk\\CARSIM\\Sim_Work_HGT_3BVT_BB88574_VAR01_Matlab2012b\n",
      "8/410, c:\\TSDE_Workarea\\ktt2yk\\Projects\\3BVT\\20231026_TCS_VDC\\20231026_0007.csv: c:\\TSDE_Workarea\\ktt2yk\\CARSIM\\Sim_Work_HGT_3BVT_BB88574_VAR01_Matlab2012b\\20231026_0007_7_3BVT_FWD_Stdless_low_spd.csv\n",
      "Extracted 20231026_0008_8_3BVT_FWD_Stdless_low_spd.csv to c:\\TSDE_Workarea\\ktt2yk\\CARSIM\\Sim_Work_HGT_3BVT_BB88574_VAR01_Matlab2012b\n",
      "9/410, c:\\TSDE_Workarea\\ktt2yk\\Projects\\3BVT\\20231026_TCS_VDC\\20231026_0008.csv: c:\\TSDE_Workarea\\ktt2yk\\CARSIM\\Sim_Work_HGT_3BVT_BB88574_VAR01_Matlab2012b\\20231026_0008_8_3BVT_FWD_Stdless_low_spd.csv\n",
      "10/410, c:\\TSDE_Workarea\\ktt2yk\\Projects\\3BVT\\20231026_TCS_VDC\\20231026_0009.csv: None\n",
      "11/410, c:\\TSDE_Workarea\\ktt2yk\\Projects\\3BVT\\20231026_TCS_VDC\\20231026_0010.csv: None\n",
      "12/410, c:\\TSDE_Workarea\\ktt2yk\\Projects\\3BVT\\20231026_TCS_VDC\\20231026_0011.csv: None\n",
      "Extracted 20231026_0012_12_3BVT_FWD_Stdless_low_spd.csv to c:\\TSDE_Workarea\\ktt2yk\\CARSIM\\Sim_Work_HGT_3BVT_BB88574_VAR01_Matlab2012b\n",
      "13/410, c:\\TSDE_Workarea\\ktt2yk\\Projects\\3BVT\\20231026_TCS_VDC\\20231026_0012.csv: c:\\TSDE_Workarea\\ktt2yk\\CARSIM\\Sim_Work_HGT_3BVT_BB88574_VAR01_Matlab2012b\\20231026_0012_12_3BVT_FWD_Stdless_low_spd.csv\n",
      "Extracted 20231026_0013_13_3BVT_FWD_Stdless_low_spd.csv to c:\\TSDE_Workarea\\ktt2yk\\CARSIM\\Sim_Work_HGT_3BVT_BB88574_VAR01_Matlab2012b\n",
      "14/410, c:\\TSDE_Workarea\\ktt2yk\\Projects\\3BVT\\20231026_TCS_VDC\\20231026_0013.csv: c:\\TSDE_Workarea\\ktt2yk\\CARSIM\\Sim_Work_HGT_3BVT_BB88574_VAR01_Matlab2012b\\20231026_0013_13_3BVT_FWD_Stdless_low_spd.csv\n",
      "Extracted 20231026_0014_14_3BVT_FWD_Stdless_low_spd.csv to c:\\TSDE_Workarea\\ktt2yk\\CARSIM\\Sim_Work_HGT_3BVT_BB88574_VAR01_Matlab2012b\n",
      "15/410, c:\\TSDE_Workarea\\ktt2yk\\Projects\\3BVT\\20231026_TCS_VDC\\20231026_0014.csv: c:\\TSDE_Workarea\\ktt2yk\\CARSIM\\Sim_Work_HGT_3BVT_BB88574_VAR01_Matlab2012b\\20231026_0014_14_3BVT_FWD_Stdless_low_spd.csv\n",
      "16/410, c:\\TSDE_Workarea\\ktt2yk\\Projects\\3BVT\\20231026_TCS_VDC\\20231026_0015.csv: None\n",
      "17/410, c:\\TSDE_Workarea\\ktt2yk\\Projects\\3BVT\\20231026_TCS_VDC\\20231026_0016.csv: None\n",
      "Extracted 20231026_0017_17_3BVT_FWD_Stdless_low_spd.csv to c:\\TSDE_Workarea\\ktt2yk\\CARSIM\\Sim_Work_HGT_3BVT_BB88574_VAR01_Matlab2012b\n",
      "18/410, c:\\TSDE_Workarea\\ktt2yk\\Projects\\3BVT\\20231026_TCS_VDC\\20231026_0017.csv: c:\\TSDE_Workarea\\ktt2yk\\CARSIM\\Sim_Work_HGT_3BVT_BB88574_VAR01_Matlab2012b\\20231026_0017_17_3BVT_FWD_Stdless_low_spd.csv\n",
      "19/410, c:\\TSDE_Workarea\\ktt2yk\\Projects\\3BVT\\20231026_TCS_VDC\\20231026_0018.csv: None\n",
      "Extracted 20231026_0019_19_3BVT_FWD_Stdless_low_spd.csv to c:\\TSDE_Workarea\\ktt2yk\\CARSIM\\Sim_Work_HGT_3BVT_BB88574_VAR01_Matlab2012b\n",
      "20/410, c:\\TSDE_Workarea\\ktt2yk\\Projects\\3BVT\\20231026_TCS_VDC\\20231026_0019.csv: c:\\TSDE_Workarea\\ktt2yk\\CARSIM\\Sim_Work_HGT_3BVT_BB88574_VAR01_Matlab2012b\\20231026_0019_19_3BVT_FWD_Stdless_low_spd.csv\n",
      "Extracted 20231026_0020_20_3BVT_FWD_Stdless_low_spd.csv to c:\\TSDE_Workarea\\ktt2yk\\CARSIM\\Sim_Work_HGT_3BVT_BB88574_VAR01_Matlab2012b\n",
      "21/410, c:\\TSDE_Workarea\\ktt2yk\\Projects\\3BVT\\20231026_TCS_VDC\\20231026_0020.csv: c:\\TSDE_Workarea\\ktt2yk\\CARSIM\\Sim_Work_HGT_3BVT_BB88574_VAR01_Matlab2012b\\20231026_0020_20_3BVT_FWD_Stdless_low_spd.csv\n",
      "Extracted 20231026_0021_21_3BVT_FWD_Stdless_low_spd.csv to c:\\TSDE_Workarea\\ktt2yk\\CARSIM\\Sim_Work_HGT_3BVT_BB88574_VAR01_Matlab2012b\n",
      "22/410, c:\\TSDE_Workarea\\ktt2yk\\Projects\\3BVT\\20231026_TCS_VDC\\20231026_0021.csv: c:\\TSDE_Workarea\\ktt2yk\\CARSIM\\Sim_Work_HGT_3BVT_BB88574_VAR01_Matlab2012b\\20231026_0021_21_3BVT_FWD_Stdless_low_spd.csv\n",
      "Extracted 20231026_0022_22_3BVT_FWD_Stdless_low_spd.csv to c:\\TSDE_Workarea\\ktt2yk\\CARSIM\\Sim_Work_HGT_3BVT_BB88574_VAR01_Matlab2012b\n",
      "23/410, c:\\TSDE_Workarea\\ktt2yk\\Projects\\3BVT\\20231026_TCS_VDC\\20231026_0022.csv: c:\\TSDE_Workarea\\ktt2yk\\CARSIM\\Sim_Work_HGT_3BVT_BB88574_VAR01_Matlab2012b\\20231026_0022_22_3BVT_FWD_Stdless_low_spd.csv\n",
      "Extracted 20231026_0023_23_3BVT_FWD_Stdless_low_spd.csv to c:\\TSDE_Workarea\\ktt2yk\\CARSIM\\Sim_Work_HGT_3BVT_BB88574_VAR01_Matlab2012b\n",
      "24/410, c:\\TSDE_Workarea\\ktt2yk\\Projects\\3BVT\\20231026_TCS_VDC\\20231026_0023.csv: c:\\TSDE_Workarea\\ktt2yk\\CARSIM\\Sim_Work_HGT_3BVT_BB88574_VAR01_Matlab2012b\\20231026_0023_23_3BVT_FWD_Stdless_low_spd.csv\n",
      "Extracted 20231026_0024_24_3BVT_FWD_Stdless_low_spd.csv to c:\\TSDE_Workarea\\ktt2yk\\CARSIM\\Sim_Work_HGT_3BVT_BB88574_VAR01_Matlab2012b\n",
      "25/410, c:\\TSDE_Workarea\\ktt2yk\\Projects\\3BVT\\20231026_TCS_VDC\\20231026_0024.csv: c:\\TSDE_Workarea\\ktt2yk\\CARSIM\\Sim_Work_HGT_3BVT_BB88574_VAR01_Matlab2012b\\20231026_0024_24_3BVT_FWD_Stdless_low_spd.csv\n",
      "26/410, c:\\TSDE_Workarea\\ktt2yk\\Projects\\3BVT\\20231026_TCS_VDC\\20231026_0025.csv: None\n",
      "27/410, c:\\TSDE_Workarea\\ktt2yk\\Projects\\3BVT\\20231026_TCS_VDC\\20231026_0026.csv: None\n",
      "28/410, c:\\TSDE_Workarea\\ktt2yk\\Projects\\3BVT\\20231026_TCS_VDC\\20231026_0027.csv: None\n",
      "Extracted 20231026_0028_28_3BVT_FWD_Stdless_low_spd.csv to c:\\TSDE_Workarea\\ktt2yk\\CARSIM\\Sim_Work_HGT_3BVT_BB88574_VAR01_Matlab2012b\n",
      "29/410, c:\\TSDE_Workarea\\ktt2yk\\Projects\\3BVT\\20231026_TCS_VDC\\20231026_0028.csv: c:\\TSDE_Workarea\\ktt2yk\\CARSIM\\Sim_Work_HGT_3BVT_BB88574_VAR01_Matlab2012b\\20231026_0028_28_3BVT_FWD_Stdless_low_spd.csv\n",
      "Extracted 20231026_0029_29_3BVT_FWD_Stdless_low_spd.csv to c:\\TSDE_Workarea\\ktt2yk\\CARSIM\\Sim_Work_HGT_3BVT_BB88574_VAR01_Matlab2012b\n",
      "30/410, c:\\TSDE_Workarea\\ktt2yk\\Projects\\3BVT\\20231026_TCS_VDC\\20231026_0029.csv: c:\\TSDE_Workarea\\ktt2yk\\CARSIM\\Sim_Work_HGT_3BVT_BB88574_VAR01_Matlab2012b\\20231026_0029_29_3BVT_FWD_Stdless_low_spd.csv\n",
      "Extracted 20231026_0030_30_3BVT_FWD_Stdless_low_spd.csv to c:\\TSDE_Workarea\\ktt2yk\\CARSIM\\Sim_Work_HGT_3BVT_BB88574_VAR01_Matlab2012b\n",
      "31/410, c:\\TSDE_Workarea\\ktt2yk\\Projects\\3BVT\\20231026_TCS_VDC\\20231026_0030.csv: c:\\TSDE_Workarea\\ktt2yk\\CARSIM\\Sim_Work_HGT_3BVT_BB88574_VAR01_Matlab2012b\\20231026_0030_30_3BVT_FWD_Stdless_low_spd.csv\n",
      "Extracted 20231026_0000_31_3BVT_FWD_Stdless_low_spd.csv to c:\\TSDE_Workarea\\ktt2yk\\CARSIM\\Sim_Work_HGT_3BVT_BB88574_VAR01_Matlab2012b\n",
      "32/410, c:\\TSDE_Workarea\\ktt2yk\\Projects\\3BVT\\20231026_VDC_TCS_Onakasan\\20231026_0000.csv: c:\\TSDE_Workarea\\ktt2yk\\CARSIM\\Sim_Work_HGT_3BVT_BB88574_VAR01_Matlab2012b\\20231026_0000_31_3BVT_FWD_Stdless_low_spd.csv\n",
      "33/410, c:\\TSDE_Workarea\\ktt2yk\\Projects\\3BVT\\20231026_VDC_TCS_Onakasan\\20231026_0001.csv: None\n",
      "Extracted 20231026_0002_33_3BVT_FWD_Stdless_low_spd.csv to c:\\TSDE_Workarea\\ktt2yk\\CARSIM\\Sim_Work_HGT_3BVT_BB88574_VAR01_Matlab2012b\n",
      "34/410, c:\\TSDE_Workarea\\ktt2yk\\Projects\\3BVT\\20231026_VDC_TCS_Onakasan\\20231026_0002.csv: c:\\TSDE_Workarea\\ktt2yk\\CARSIM\\Sim_Work_HGT_3BVT_BB88574_VAR01_Matlab2012b\\20231026_0002_33_3BVT_FWD_Stdless_low_spd.csv\n",
      "Extracted 20231026_0003_34_3BVT_FWD_Stdless_low_spd.csv to c:\\TSDE_Workarea\\ktt2yk\\CARSIM\\Sim_Work_HGT_3BVT_BB88574_VAR01_Matlab2012b\n",
      "35/410, c:\\TSDE_Workarea\\ktt2yk\\Projects\\3BVT\\20231026_VDC_TCS_Onakasan\\20231026_0003.csv: c:\\TSDE_Workarea\\ktt2yk\\CARSIM\\Sim_Work_HGT_3BVT_BB88574_VAR01_Matlab2012b\\20231026_0003_34_3BVT_FWD_Stdless_low_spd.csv\n",
      "Extracted 20231026_0004_35_3BVT_FWD_Stdless_low_spd.csv to c:\\TSDE_Workarea\\ktt2yk\\CARSIM\\Sim_Work_HGT_3BVT_BB88574_VAR01_Matlab2012b\n",
      "36/410, c:\\TSDE_Workarea\\ktt2yk\\Projects\\3BVT\\20231026_VDC_TCS_Onakasan\\20231026_0004.csv: c:\\TSDE_Workarea\\ktt2yk\\CARSIM\\Sim_Work_HGT_3BVT_BB88574_VAR01_Matlab2012b\\20231026_0004_35_3BVT_FWD_Stdless_low_spd.csv\n",
      "Extracted 20231026_0005_36_3BVT_FWD_Stdless_low_spd.csv to c:\\TSDE_Workarea\\ktt2yk\\CARSIM\\Sim_Work_HGT_3BVT_BB88574_VAR01_Matlab2012b\n",
      "37/410, c:\\TSDE_Workarea\\ktt2yk\\Projects\\3BVT\\20231026_VDC_TCS_Onakasan\\20231026_0005.csv: c:\\TSDE_Workarea\\ktt2yk\\CARSIM\\Sim_Work_HGT_3BVT_BB88574_VAR01_Matlab2012b\\20231026_0005_36_3BVT_FWD_Stdless_low_spd.csv\n",
      "Extracted 20231026_0006_37_3BVT_FWD_Stdless_low_spd.csv to c:\\TSDE_Workarea\\ktt2yk\\CARSIM\\Sim_Work_HGT_3BVT_BB88574_VAR01_Matlab2012b\n",
      "38/410, c:\\TSDE_Workarea\\ktt2yk\\Projects\\3BVT\\20231026_VDC_TCS_Onakasan\\20231026_0006.csv: c:\\TSDE_Workarea\\ktt2yk\\CARSIM\\Sim_Work_HGT_3BVT_BB88574_VAR01_Matlab2012b\\20231026_0006_37_3BVT_FWD_Stdless_low_spd.csv\n",
      "Extracted 20231026_0007_38_3BVT_FWD_Stdless_low_spd.csv to c:\\TSDE_Workarea\\ktt2yk\\CARSIM\\Sim_Work_HGT_3BVT_BB88574_VAR01_Matlab2012b\n",
      "39/410, c:\\TSDE_Workarea\\ktt2yk\\Projects\\3BVT\\20231026_VDC_TCS_Onakasan\\20231026_0007.csv: c:\\TSDE_Workarea\\ktt2yk\\CARSIM\\Sim_Work_HGT_3BVT_BB88574_VAR01_Matlab2012b\\20231026_0007_38_3BVT_FWD_Stdless_low_spd.csv\n",
      "Extracted 20231026_0008_39_3BVT_FWD_Stdless_low_spd.csv to c:\\TSDE_Workarea\\ktt2yk\\CARSIM\\Sim_Work_HGT_3BVT_BB88574_VAR01_Matlab2012b\n",
      "40/410, c:\\TSDE_Workarea\\ktt2yk\\Projects\\3BVT\\20231026_VDC_TCS_Onakasan\\20231026_0008.csv: c:\\TSDE_Workarea\\ktt2yk\\CARSIM\\Sim_Work_HGT_3BVT_BB88574_VAR01_Matlab2012b\\20231026_0008_39_3BVT_FWD_Stdless_low_spd.csv\n",
      "Extracted 20231026_0009_40_3BVT_FWD_Stdless_low_spd.csv to c:\\TSDE_Workarea\\ktt2yk\\CARSIM\\Sim_Work_HGT_3BVT_BB88574_VAR01_Matlab2012b\n",
      "41/410, c:\\TSDE_Workarea\\ktt2yk\\Projects\\3BVT\\20231026_VDC_TCS_Onakasan\\20231026_0009.csv: c:\\TSDE_Workarea\\ktt2yk\\CARSIM\\Sim_Work_HGT_3BVT_BB88574_VAR01_Matlab2012b\\20231026_0009_40_3BVT_FWD_Stdless_low_spd.csv\n",
      "Extracted 20231026_0010_41_3BVT_FWD_Stdless_low_spd.csv to c:\\TSDE_Workarea\\ktt2yk\\CARSIM\\Sim_Work_HGT_3BVT_BB88574_VAR01_Matlab2012b\n",
      "42/410, c:\\TSDE_Workarea\\ktt2yk\\Projects\\3BVT\\20231026_VDC_TCS_Onakasan\\20231026_0010.csv: c:\\TSDE_Workarea\\ktt2yk\\CARSIM\\Sim_Work_HGT_3BVT_BB88574_VAR01_Matlab2012b\\20231026_0010_41_3BVT_FWD_Stdless_low_spd.csv\n",
      "Extracted 20231026_0011_42_3BVT_FWD_Stdless_low_spd.csv to c:\\TSDE_Workarea\\ktt2yk\\CARSIM\\Sim_Work_HGT_3BVT_BB88574_VAR01_Matlab2012b\n",
      "43/410, c:\\TSDE_Workarea\\ktt2yk\\Projects\\3BVT\\20231026_VDC_TCS_Onakasan\\20231026_0011.csv: c:\\TSDE_Workarea\\ktt2yk\\CARSIM\\Sim_Work_HGT_3BVT_BB88574_VAR01_Matlab2012b\\20231026_0011_42_3BVT_FWD_Stdless_low_spd.csv\n",
      "44/410, c:\\TSDE_Workarea\\ktt2yk\\Projects\\3BVT\\20231026_VDC_TCS_Onakasan\\20231026_0012.csv: None\n",
      "45/410, c:\\TSDE_Workarea\\ktt2yk\\Projects\\3BVT\\20231026_VDC_TCS_Onakasan\\20231026_0013.csv: None\n",
      "46/410, c:\\TSDE_Workarea\\ktt2yk\\Projects\\3BVT\\20231026_VDC_TCS_Onakasan\\20231026_0014.csv: None\n",
      "Extracted 20231026_0015_46_3BVT_FWD_Stdless_low_spd.csv to c:\\TSDE_Workarea\\ktt2yk\\CARSIM\\Sim_Work_HGT_3BVT_BB88574_VAR01_Matlab2012b\n",
      "47/410, c:\\TSDE_Workarea\\ktt2yk\\Projects\\3BVT\\20231026_VDC_TCS_Onakasan\\20231026_0015.csv: c:\\TSDE_Workarea\\ktt2yk\\CARSIM\\Sim_Work_HGT_3BVT_BB88574_VAR01_Matlab2012b\\20231026_0015_46_3BVT_FWD_Stdless_low_spd.csv\n",
      "48/410, c:\\TSDE_Workarea\\ktt2yk\\Projects\\3BVT\\20231026_VDC_TCS_Onakasan\\20231026_0016.csv: None\n",
      "Extracted 20231026_0017_48_3BVT_FWD_Stdless_low_spd.csv to c:\\TSDE_Workarea\\ktt2yk\\CARSIM\\Sim_Work_HGT_3BVT_BB88574_VAR01_Matlab2012b\n",
      "49/410, c:\\TSDE_Workarea\\ktt2yk\\Projects\\3BVT\\20231026_VDC_TCS_Onakasan\\20231026_0017.csv: c:\\TSDE_Workarea\\ktt2yk\\CARSIM\\Sim_Work_HGT_3BVT_BB88574_VAR01_Matlab2012b\\20231026_0017_48_3BVT_FWD_Stdless_low_spd.csv\n",
      "50/410, c:\\TSDE_Workarea\\ktt2yk\\Projects\\3BVT\\20231026_VDC_TCS_Onakasan\\20231026_0018.csv: None\n",
      "51/410, c:\\TSDE_Workarea\\ktt2yk\\Projects\\3BVT\\20231026_VDC_TCS_Onakasan\\20231026_0019.csv: None\n",
      "52/410, c:\\TSDE_Workarea\\ktt2yk\\Projects\\3BVT\\20231026_VDC_TCS_Onakasan\\20231026_0020.csv: None\n",
      "53/410, c:\\TSDE_Workarea\\ktt2yk\\Projects\\3BVT\\20231026_VDC_TCS_Onakasan\\20231026_0021.csv: None\n",
      "54/410, c:\\TSDE_Workarea\\ktt2yk\\Projects\\3BVT\\20231027_TCS_VDC_EPB\\20231027_0000.csv: None\n",
      "Extracted 20231027_0001_54_3BVT_FWD_Stdless_low_spd.csv to c:\\TSDE_Workarea\\ktt2yk\\CARSIM\\Sim_Work_HGT_3BVT_BB88574_VAR01_Matlab2012b\n",
      "55/410, c:\\TSDE_Workarea\\ktt2yk\\Projects\\3BVT\\20231027_TCS_VDC_EPB\\20231027_0001.csv: c:\\TSDE_Workarea\\ktt2yk\\CARSIM\\Sim_Work_HGT_3BVT_BB88574_VAR01_Matlab2012b\\20231027_0001_54_3BVT_FWD_Stdless_low_spd.csv\n",
      "56/410, c:\\TSDE_Workarea\\ktt2yk\\Projects\\3BVT\\20231027_TCS_VDC_EPB\\20231027_0002.csv: None\n",
      "57/410, c:\\TSDE_Workarea\\ktt2yk\\Projects\\3BVT\\20231027_TCS_VDC_EPB\\20231027_0003.csv: None\n",
      "Extracted 20231027_0004_57_3BVT_FWD_Stdless_low_spd.csv to c:\\TSDE_Workarea\\ktt2yk\\CARSIM\\Sim_Work_HGT_3BVT_BB88574_VAR01_Matlab2012b\n",
      "58/410, c:\\TSDE_Workarea\\ktt2yk\\Projects\\3BVT\\20231027_TCS_VDC_EPB\\20231027_0004.csv: c:\\TSDE_Workarea\\ktt2yk\\CARSIM\\Sim_Work_HGT_3BVT_BB88574_VAR01_Matlab2012b\\20231027_0004_57_3BVT_FWD_Stdless_low_spd.csv\n",
      "Extracted 20231027_0005_58_3BVT_FWD_Stdless_low_spd.csv to c:\\TSDE_Workarea\\ktt2yk\\CARSIM\\Sim_Work_HGT_3BVT_BB88574_VAR01_Matlab2012b\n",
      "59/410, c:\\TSDE_Workarea\\ktt2yk\\Projects\\3BVT\\20231027_TCS_VDC_EPB\\20231027_0005.csv: c:\\TSDE_Workarea\\ktt2yk\\CARSIM\\Sim_Work_HGT_3BVT_BB88574_VAR01_Matlab2012b\\20231027_0005_58_3BVT_FWD_Stdless_low_spd.csv\n",
      "Extracted 20231027_0006_59_3BVT_FWD_Stdless_low_spd.csv to c:\\TSDE_Workarea\\ktt2yk\\CARSIM\\Sim_Work_HGT_3BVT_BB88574_VAR01_Matlab2012b\n",
      "60/410, c:\\TSDE_Workarea\\ktt2yk\\Projects\\3BVT\\20231027_TCS_VDC_EPB\\20231027_0006.csv: c:\\TSDE_Workarea\\ktt2yk\\CARSIM\\Sim_Work_HGT_3BVT_BB88574_VAR01_Matlab2012b\\20231027_0006_59_3BVT_FWD_Stdless_low_spd.csv\n",
      "61/410, c:\\TSDE_Workarea\\ktt2yk\\Projects\\3BVT\\20231027_TCS_VDC_EPB\\20231027_0007.csv: None\n",
      "62/410, c:\\TSDE_Workarea\\ktt2yk\\Projects\\3BVT\\20231027_TCS_VDC_EPB\\20231027_0008.csv: None\n",
      "Extracted 20231027_0009_62_3BVT_FWD_Stdless_low_spd.csv to c:\\TSDE_Workarea\\ktt2yk\\CARSIM\\Sim_Work_HGT_3BVT_BB88574_VAR01_Matlab2012b\n",
      "63/410, c:\\TSDE_Workarea\\ktt2yk\\Projects\\3BVT\\20231027_TCS_VDC_EPB\\20231027_0009.csv: c:\\TSDE_Workarea\\ktt2yk\\CARSIM\\Sim_Work_HGT_3BVT_BB88574_VAR01_Matlab2012b\\20231027_0009_62_3BVT_FWD_Stdless_low_spd.csv\n",
      "64/410, c:\\TSDE_Workarea\\ktt2yk\\Projects\\3BVT\\20231027_TCS_VDC_EPB\\20231027_0010.csv: None\n",
      "Extracted 20231027_0011_64_3BVT_FWD_Stdless_low_spd.csv to c:\\TSDE_Workarea\\ktt2yk\\CARSIM\\Sim_Work_HGT_3BVT_BB88574_VAR01_Matlab2012b\n",
      "65/410, c:\\TSDE_Workarea\\ktt2yk\\Projects\\3BVT\\20231027_TCS_VDC_EPB\\20231027_0011.csv: c:\\TSDE_Workarea\\ktt2yk\\CARSIM\\Sim_Work_HGT_3BVT_BB88574_VAR01_Matlab2012b\\20231027_0011_64_3BVT_FWD_Stdless_low_spd.csv\n",
      "Extracted 20231027_0012_65_3BVT_FWD_Stdless_low_spd.csv to c:\\TSDE_Workarea\\ktt2yk\\CARSIM\\Sim_Work_HGT_3BVT_BB88574_VAR01_Matlab2012b\n",
      "66/410, c:\\TSDE_Workarea\\ktt2yk\\Projects\\3BVT\\20231027_TCS_VDC_EPB\\20231027_0012.csv: c:\\TSDE_Workarea\\ktt2yk\\CARSIM\\Sim_Work_HGT_3BVT_BB88574_VAR01_Matlab2012b\\20231027_0012_65_3BVT_FWD_Stdless_low_spd.csv\n",
      "Extracted 20231027_0013_66_3BVT_FWD_Stdless_low_spd.csv to c:\\TSDE_Workarea\\ktt2yk\\CARSIM\\Sim_Work_HGT_3BVT_BB88574_VAR01_Matlab2012b\n",
      "67/410, c:\\TSDE_Workarea\\ktt2yk\\Projects\\3BVT\\20231027_TCS_VDC_EPB\\20231027_0013.csv: c:\\TSDE_Workarea\\ktt2yk\\CARSIM\\Sim_Work_HGT_3BVT_BB88574_VAR01_Matlab2012b\\20231027_0013_66_3BVT_FWD_Stdless_low_spd.csv\n",
      "Extracted 20231027_0014_67_3BVT_FWD_Stdless_low_spd.csv to c:\\TSDE_Workarea\\ktt2yk\\CARSIM\\Sim_Work_HGT_3BVT_BB88574_VAR01_Matlab2012b\n",
      "68/410, c:\\TSDE_Workarea\\ktt2yk\\Projects\\3BVT\\20231027_TCS_VDC_EPB\\20231027_0014.csv: c:\\TSDE_Workarea\\ktt2yk\\CARSIM\\Sim_Work_HGT_3BVT_BB88574_VAR01_Matlab2012b\\20231027_0014_67_3BVT_FWD_Stdless_low_spd.csv\n",
      "Extracted 20231027_0015_68_3BVT_FWD_Stdless_low_spd.csv to c:\\TSDE_Workarea\\ktt2yk\\CARSIM\\Sim_Work_HGT_3BVT_BB88574_VAR01_Matlab2012b\n",
      "69/410, c:\\TSDE_Workarea\\ktt2yk\\Projects\\3BVT\\20231027_TCS_VDC_EPB\\20231027_0015.csv: c:\\TSDE_Workarea\\ktt2yk\\CARSIM\\Sim_Work_HGT_3BVT_BB88574_VAR01_Matlab2012b\\20231027_0015_68_3BVT_FWD_Stdless_low_spd.csv\n",
      "Extracted 20231027_0016_69_3BVT_FWD_Stdless_low_spd.csv to c:\\TSDE_Workarea\\ktt2yk\\CARSIM\\Sim_Work_HGT_3BVT_BB88574_VAR01_Matlab2012b\n",
      "70/410, c:\\TSDE_Workarea\\ktt2yk\\Projects\\3BVT\\20231027_TCS_VDC_EPB\\20231027_0016.csv: c:\\TSDE_Workarea\\ktt2yk\\CARSIM\\Sim_Work_HGT_3BVT_BB88574_VAR01_Matlab2012b\\20231027_0016_69_3BVT_FWD_Stdless_low_spd.csv\n",
      "Extracted 20231027_0017_70_3BVT_FWD_Stdless_low_spd.csv to c:\\TSDE_Workarea\\ktt2yk\\CARSIM\\Sim_Work_HGT_3BVT_BB88574_VAR01_Matlab2012b\n",
      "71/410, c:\\TSDE_Workarea\\ktt2yk\\Projects\\3BVT\\20231027_TCS_VDC_EPB\\20231027_0017.csv: c:\\TSDE_Workarea\\ktt2yk\\CARSIM\\Sim_Work_HGT_3BVT_BB88574_VAR01_Matlab2012b\\20231027_0017_70_3BVT_FWD_Stdless_low_spd.csv\n",
      "Extracted 20231027_0018_71_3BVT_FWD_Stdless_low_spd.csv to c:\\TSDE_Workarea\\ktt2yk\\CARSIM\\Sim_Work_HGT_3BVT_BB88574_VAR01_Matlab2012b\n",
      "72/410, c:\\TSDE_Workarea\\ktt2yk\\Projects\\3BVT\\20231027_TCS_VDC_EPB\\20231027_0018.csv: c:\\TSDE_Workarea\\ktt2yk\\CARSIM\\Sim_Work_HGT_3BVT_BB88574_VAR01_Matlab2012b\\20231027_0018_71_3BVT_FWD_Stdless_low_spd.csv\n",
      "Extracted 20231027_0019_72_3BVT_FWD_Stdless_low_spd.csv to c:\\TSDE_Workarea\\ktt2yk\\CARSIM\\Sim_Work_HGT_3BVT_BB88574_VAR01_Matlab2012b\n",
      "73/410, c:\\TSDE_Workarea\\ktt2yk\\Projects\\3BVT\\20231027_TCS_VDC_EPB\\20231027_0019.csv: c:\\TSDE_Workarea\\ktt2yk\\CARSIM\\Sim_Work_HGT_3BVT_BB88574_VAR01_Matlab2012b\\20231027_0019_72_3BVT_FWD_Stdless_low_spd.csv\n",
      "Extracted 20231027_0020_73_3BVT_FWD_Stdless_low_spd.csv to c:\\TSDE_Workarea\\ktt2yk\\CARSIM\\Sim_Work_HGT_3BVT_BB88574_VAR01_Matlab2012b\n",
      "74/410, c:\\TSDE_Workarea\\ktt2yk\\Projects\\3BVT\\20231027_TCS_VDC_EPB\\20231027_0020.csv: c:\\TSDE_Workarea\\ktt2yk\\CARSIM\\Sim_Work_HGT_3BVT_BB88574_VAR01_Matlab2012b\\20231027_0020_73_3BVT_FWD_Stdless_low_spd.csv\n",
      "Extracted 20231027_0021_74_3BVT_FWD_Stdless_low_spd.csv to c:\\TSDE_Workarea\\ktt2yk\\CARSIM\\Sim_Work_HGT_3BVT_BB88574_VAR01_Matlab2012b\n",
      "75/410, c:\\TSDE_Workarea\\ktt2yk\\Projects\\3BVT\\20231027_TCS_VDC_EPB\\20231027_0021.csv: c:\\TSDE_Workarea\\ktt2yk\\CARSIM\\Sim_Work_HGT_3BVT_BB88574_VAR01_Matlab2012b\\20231027_0021_74_3BVT_FWD_Stdless_low_spd.csv\n",
      "Extracted 20231027_0022_75_3BVT_FWD_Stdless_low_spd.csv to c:\\TSDE_Workarea\\ktt2yk\\CARSIM\\Sim_Work_HGT_3BVT_BB88574_VAR01_Matlab2012b\n",
      "76/410, c:\\TSDE_Workarea\\ktt2yk\\Projects\\3BVT\\20231027_TCS_VDC_EPB\\20231027_0022.csv: c:\\TSDE_Workarea\\ktt2yk\\CARSIM\\Sim_Work_HGT_3BVT_BB88574_VAR01_Matlab2012b\\20231027_0022_75_3BVT_FWD_Stdless_low_spd.csv\n",
      "Extracted 20231027_0023_76_3BVT_FWD_Stdless_low_spd.csv to c:\\TSDE_Workarea\\ktt2yk\\CARSIM\\Sim_Work_HGT_3BVT_BB88574_VAR01_Matlab2012b\n",
      "77/410, c:\\TSDE_Workarea\\ktt2yk\\Projects\\3BVT\\20231027_TCS_VDC_EPB\\20231027_0023.csv: c:\\TSDE_Workarea\\ktt2yk\\CARSIM\\Sim_Work_HGT_3BVT_BB88574_VAR01_Matlab2012b\\20231027_0023_76_3BVT_FWD_Stdless_low_spd.csv\n",
      "Extracted 20231027_0024_77_3BVT_FWD_Stdless_low_spd.csv to c:\\TSDE_Workarea\\ktt2yk\\CARSIM\\Sim_Work_HGT_3BVT_BB88574_VAR01_Matlab2012b\n",
      "78/410, c:\\TSDE_Workarea\\ktt2yk\\Projects\\3BVT\\20231027_TCS_VDC_EPB\\20231027_0024.csv: c:\\TSDE_Workarea\\ktt2yk\\CARSIM\\Sim_Work_HGT_3BVT_BB88574_VAR01_Matlab2012b\\20231027_0024_77_3BVT_FWD_Stdless_low_spd.csv\n",
      "Extracted 20231027_0025_78_3BVT_FWD_Stdless_low_spd.csv to c:\\TSDE_Workarea\\ktt2yk\\CARSIM\\Sim_Work_HGT_3BVT_BB88574_VAR01_Matlab2012b\n",
      "79/410, c:\\TSDE_Workarea\\ktt2yk\\Projects\\3BVT\\20231027_TCS_VDC_EPB\\20231027_0025.csv: c:\\TSDE_Workarea\\ktt2yk\\CARSIM\\Sim_Work_HGT_3BVT_BB88574_VAR01_Matlab2012b\\20231027_0025_78_3BVT_FWD_Stdless_low_spd.csv\n",
      "Extracted 20231027_0026_79_3BVT_FWD_Stdless_low_spd.csv to c:\\TSDE_Workarea\\ktt2yk\\CARSIM\\Sim_Work_HGT_3BVT_BB88574_VAR01_Matlab2012b\n",
      "80/410, c:\\TSDE_Workarea\\ktt2yk\\Projects\\3BVT\\20231027_TCS_VDC_EPB\\20231027_0026.csv: c:\\TSDE_Workarea\\ktt2yk\\CARSIM\\Sim_Work_HGT_3BVT_BB88574_VAR01_Matlab2012b\\20231027_0026_79_3BVT_FWD_Stdless_low_spd.csv\n",
      "Extracted 20231027_0027_80_3BVT_FWD_Stdless_low_spd.csv to c:\\TSDE_Workarea\\ktt2yk\\CARSIM\\Sim_Work_HGT_3BVT_BB88574_VAR01_Matlab2012b\n",
      "81/410, c:\\TSDE_Workarea\\ktt2yk\\Projects\\3BVT\\20231027_TCS_VDC_EPB\\20231027_0027.csv: c:\\TSDE_Workarea\\ktt2yk\\CARSIM\\Sim_Work_HGT_3BVT_BB88574_VAR01_Matlab2012b\\20231027_0027_80_3BVT_FWD_Stdless_low_spd.csv\n",
      "Extracted 20231027_0028_81_3BVT_FWD_Stdless_low_spd.csv to c:\\TSDE_Workarea\\ktt2yk\\CARSIM\\Sim_Work_HGT_3BVT_BB88574_VAR01_Matlab2012b\n",
      "82/410, c:\\TSDE_Workarea\\ktt2yk\\Projects\\3BVT\\20231027_TCS_VDC_EPB\\20231027_0028.csv: c:\\TSDE_Workarea\\ktt2yk\\CARSIM\\Sim_Work_HGT_3BVT_BB88574_VAR01_Matlab2012b\\20231027_0028_81_3BVT_FWD_Stdless_low_spd.csv\n",
      "Extracted 20231027_0029_82_3BVT_FWD_Stdless_low_spd.csv to c:\\TSDE_Workarea\\ktt2yk\\CARSIM\\Sim_Work_HGT_3BVT_BB88574_VAR01_Matlab2012b\n",
      "83/410, c:\\TSDE_Workarea\\ktt2yk\\Projects\\3BVT\\20231027_TCS_VDC_EPB\\20231027_0029.csv: c:\\TSDE_Workarea\\ktt2yk\\CARSIM\\Sim_Work_HGT_3BVT_BB88574_VAR01_Matlab2012b\\20231027_0029_82_3BVT_FWD_Stdless_low_spd.csv\n",
      "Extracted 20231027_0030_83_3BVT_FWD_Stdless_low_spd.csv to c:\\TSDE_Workarea\\ktt2yk\\CARSIM\\Sim_Work_HGT_3BVT_BB88574_VAR01_Matlab2012b\n",
      "84/410, c:\\TSDE_Workarea\\ktt2yk\\Projects\\3BVT\\20231027_TCS_VDC_EPB\\20231027_0030.csv: c:\\TSDE_Workarea\\ktt2yk\\CARSIM\\Sim_Work_HGT_3BVT_BB88574_VAR01_Matlab2012b\\20231027_0030_83_3BVT_FWD_Stdless_low_spd.csv\n",
      "Extracted 20231027_0031_84_3BVT_FWD_Stdless_low_spd.csv to c:\\TSDE_Workarea\\ktt2yk\\CARSIM\\Sim_Work_HGT_3BVT_BB88574_VAR01_Matlab2012b\n",
      "85/410, c:\\TSDE_Workarea\\ktt2yk\\Projects\\3BVT\\20231027_TCS_VDC_EPB\\20231027_0031.csv: c:\\TSDE_Workarea\\ktt2yk\\CARSIM\\Sim_Work_HGT_3BVT_BB88574_VAR01_Matlab2012b\\20231027_0031_84_3BVT_FWD_Stdless_low_spd.csv\n",
      "Extracted 20231027_0032_85_3BVT_FWD_Stdless_low_spd.csv to c:\\TSDE_Workarea\\ktt2yk\\CARSIM\\Sim_Work_HGT_3BVT_BB88574_VAR01_Matlab2012b\n",
      "86/410, c:\\TSDE_Workarea\\ktt2yk\\Projects\\3BVT\\20231027_TCS_VDC_EPB\\20231027_0032.csv: c:\\TSDE_Workarea\\ktt2yk\\CARSIM\\Sim_Work_HGT_3BVT_BB88574_VAR01_Matlab2012b\\20231027_0032_85_3BVT_FWD_Stdless_low_spd.csv\n",
      "Extracted 20231027_0033_86_3BVT_FWD_Stdless_low_spd.csv to c:\\TSDE_Workarea\\ktt2yk\\CARSIM\\Sim_Work_HGT_3BVT_BB88574_VAR01_Matlab2012b\n",
      "87/410, c:\\TSDE_Workarea\\ktt2yk\\Projects\\3BVT\\20231027_TCS_VDC_EPB\\20231027_0033.csv: c:\\TSDE_Workarea\\ktt2yk\\CARSIM\\Sim_Work_HGT_3BVT_BB88574_VAR01_Matlab2012b\\20231027_0033_86_3BVT_FWD_Stdless_low_spd.csv\n",
      "Extracted 20231027_0034_87_3BVT_FWD_Stdless_low_spd.csv to c:\\TSDE_Workarea\\ktt2yk\\CARSIM\\Sim_Work_HGT_3BVT_BB88574_VAR01_Matlab2012b\n",
      "88/410, c:\\TSDE_Workarea\\ktt2yk\\Projects\\3BVT\\20231027_TCS_VDC_EPB\\20231027_0034.csv: c:\\TSDE_Workarea\\ktt2yk\\CARSIM\\Sim_Work_HGT_3BVT_BB88574_VAR01_Matlab2012b\\20231027_0034_87_3BVT_FWD_Stdless_low_spd.csv\n",
      "Extracted 20231027_0035_88_3BVT_FWD_Stdless_low_spd.csv to c:\\TSDE_Workarea\\ktt2yk\\CARSIM\\Sim_Work_HGT_3BVT_BB88574_VAR01_Matlab2012b\n",
      "89/410, c:\\TSDE_Workarea\\ktt2yk\\Projects\\3BVT\\20231027_TCS_VDC_EPB\\20231027_0035.csv: c:\\TSDE_Workarea\\ktt2yk\\CARSIM\\Sim_Work_HGT_3BVT_BB88574_VAR01_Matlab2012b\\20231027_0035_88_3BVT_FWD_Stdless_low_spd.csv\n",
      "Extracted 20231027_0036_89_3BVT_FWD_Stdless_low_spd.csv to c:\\TSDE_Workarea\\ktt2yk\\CARSIM\\Sim_Work_HGT_3BVT_BB88574_VAR01_Matlab2012b\n",
      "90/410, c:\\TSDE_Workarea\\ktt2yk\\Projects\\3BVT\\20231027_TCS_VDC_EPB\\20231027_0036.csv: c:\\TSDE_Workarea\\ktt2yk\\CARSIM\\Sim_Work_HGT_3BVT_BB88574_VAR01_Matlab2012b\\20231027_0036_89_3BVT_FWD_Stdless_low_spd.csv\n",
      "Extracted 20231027_0037_90_3BVT_FWD_Stdless_low_spd.csv to c:\\TSDE_Workarea\\ktt2yk\\CARSIM\\Sim_Work_HGT_3BVT_BB88574_VAR01_Matlab2012b\n",
      "91/410, c:\\TSDE_Workarea\\ktt2yk\\Projects\\3BVT\\20231027_TCS_VDC_EPB\\20231027_0037.csv: c:\\TSDE_Workarea\\ktt2yk\\CARSIM\\Sim_Work_HGT_3BVT_BB88574_VAR01_Matlab2012b\\20231027_0037_90_3BVT_FWD_Stdless_low_spd.csv\n",
      "Extracted 20231027_0038_91_3BVT_FWD_Stdless_low_spd.csv to c:\\TSDE_Workarea\\ktt2yk\\CARSIM\\Sim_Work_HGT_3BVT_BB88574_VAR01_Matlab2012b\n",
      "92/410, c:\\TSDE_Workarea\\ktt2yk\\Projects\\3BVT\\20231027_TCS_VDC_EPB\\20231027_0038.csv: c:\\TSDE_Workarea\\ktt2yk\\CARSIM\\Sim_Work_HGT_3BVT_BB88574_VAR01_Matlab2012b\\20231027_0038_91_3BVT_FWD_Stdless_low_spd.csv\n",
      "Extracted 20231027_0039_92_3BVT_FWD_Stdless_low_spd.csv to c:\\TSDE_Workarea\\ktt2yk\\CARSIM\\Sim_Work_HGT_3BVT_BB88574_VAR01_Matlab2012b\n",
      "93/410, c:\\TSDE_Workarea\\ktt2yk\\Projects\\3BVT\\20231027_TCS_VDC_EPB\\20231027_0039.csv: c:\\TSDE_Workarea\\ktt2yk\\CARSIM\\Sim_Work_HGT_3BVT_BB88574_VAR01_Matlab2012b\\20231027_0039_92_3BVT_FWD_Stdless_low_spd.csv\n",
      "Extracted 20231027_0040_93_3BVT_FWD_Stdless_low_spd.csv to c:\\TSDE_Workarea\\ktt2yk\\CARSIM\\Sim_Work_HGT_3BVT_BB88574_VAR01_Matlab2012b\n",
      "94/410, c:\\TSDE_Workarea\\ktt2yk\\Projects\\3BVT\\20231027_TCS_VDC_EPB\\20231027_0040.csv: c:\\TSDE_Workarea\\ktt2yk\\CARSIM\\Sim_Work_HGT_3BVT_BB88574_VAR01_Matlab2012b\\20231027_0040_93_3BVT_FWD_Stdless_low_spd.csv\n",
      "Extracted 20231027_0041_94_3BVT_FWD_Stdless_low_spd.csv to c:\\TSDE_Workarea\\ktt2yk\\CARSIM\\Sim_Work_HGT_3BVT_BB88574_VAR01_Matlab2012b\n",
      "95/410, c:\\TSDE_Workarea\\ktt2yk\\Projects\\3BVT\\20231027_TCS_VDC_EPB\\20231027_0041.csv: c:\\TSDE_Workarea\\ktt2yk\\CARSIM\\Sim_Work_HGT_3BVT_BB88574_VAR01_Matlab2012b\\20231027_0041_94_3BVT_FWD_Stdless_low_spd.csv\n",
      "Extracted 20231027_0042_95_3BVT_FWD_Stdless_low_spd.csv to c:\\TSDE_Workarea\\ktt2yk\\CARSIM\\Sim_Work_HGT_3BVT_BB88574_VAR01_Matlab2012b\n",
      "96/410, c:\\TSDE_Workarea\\ktt2yk\\Projects\\3BVT\\20231027_TCS_VDC_EPB\\20231027_0042.csv: c:\\TSDE_Workarea\\ktt2yk\\CARSIM\\Sim_Work_HGT_3BVT_BB88574_VAR01_Matlab2012b\\20231027_0042_95_3BVT_FWD_Stdless_low_spd.csv\n",
      "Extracted 20231101_0000_96_3BVT_FWD_Stdless_low_spd.csv to c:\\TSDE_Workarea\\ktt2yk\\CARSIM\\Sim_Work_HGT_3BVT_BB88574_VAR01_Matlab2012b\n",
      "97/410, c:\\TSDE_Workarea\\ktt2yk\\Projects\\3BVT\\20231101_AHA_TCS\\20231101_0000.csv: c:\\TSDE_Workarea\\ktt2yk\\CARSIM\\Sim_Work_HGT_3BVT_BB88574_VAR01_Matlab2012b\\20231101_0000_96_3BVT_FWD_Stdless_low_spd.csv\n",
      "Extracted 20231101_0001_97_3BVT_FWD_Stdless_low_spd.csv to c:\\TSDE_Workarea\\ktt2yk\\CARSIM\\Sim_Work_HGT_3BVT_BB88574_VAR01_Matlab2012b\n",
      "98/410, c:\\TSDE_Workarea\\ktt2yk\\Projects\\3BVT\\20231101_AHA_TCS\\20231101_0001.csv: c:\\TSDE_Workarea\\ktt2yk\\CARSIM\\Sim_Work_HGT_3BVT_BB88574_VAR01_Matlab2012b\\20231101_0001_97_3BVT_FWD_Stdless_low_spd.csv\n",
      "Extracted 20231101_0002_98_3BVT_FWD_Stdless_low_spd.csv to c:\\TSDE_Workarea\\ktt2yk\\CARSIM\\Sim_Work_HGT_3BVT_BB88574_VAR01_Matlab2012b\n",
      "99/410, c:\\TSDE_Workarea\\ktt2yk\\Projects\\3BVT\\20231101_AHA_TCS\\20231101_0002.csv: c:\\TSDE_Workarea\\ktt2yk\\CARSIM\\Sim_Work_HGT_3BVT_BB88574_VAR01_Matlab2012b\\20231101_0002_98_3BVT_FWD_Stdless_low_spd.csv\n",
      "Extracted 20231101_0003_99_3BVT_FWD_Stdless_low_spd.csv to c:\\TSDE_Workarea\\ktt2yk\\CARSIM\\Sim_Work_HGT_3BVT_BB88574_VAR01_Matlab2012b\n",
      "100/410, c:\\TSDE_Workarea\\ktt2yk\\Projects\\3BVT\\20231101_AHA_TCS\\20231101_0003.csv: c:\\TSDE_Workarea\\ktt2yk\\CARSIM\\Sim_Work_HGT_3BVT_BB88574_VAR01_Matlab2012b\\20231101_0003_99_3BVT_FWD_Stdless_low_spd.csv\n",
      "Extracted 20231101_0004_100_3BVT_FWD_Stdless_low_spd.csv to c:\\TSDE_Workarea\\ktt2yk\\CARSIM\\Sim_Work_HGT_3BVT_BB88574_VAR01_Matlab2012b\n",
      "101/410, c:\\TSDE_Workarea\\ktt2yk\\Projects\\3BVT\\20231101_AHA_TCS\\20231101_0004.csv: c:\\TSDE_Workarea\\ktt2yk\\CARSIM\\Sim_Work_HGT_3BVT_BB88574_VAR01_Matlab2012b\\20231101_0004_100_3BVT_FWD_Stdless_low_spd.csv\n",
      "Extracted 20231102_0000_101_3BVT_FWD_Stdless_low_spd.csv to c:\\TSDE_Workarea\\ktt2yk\\CARSIM\\Sim_Work_HGT_3BVT_BB88574_VAR01_Matlab2012b\n",
      "102/410, c:\\TSDE_Workarea\\ktt2yk\\Projects\\3BVT\\20231102_Onakasan_AHA_TCS\\20231102_0000.csv: c:\\TSDE_Workarea\\ktt2yk\\CARSIM\\Sim_Work_HGT_3BVT_BB88574_VAR01_Matlab2012b\\20231102_0000_101_3BVT_FWD_Stdless_low_spd.csv\n",
      "Extracted 20231102_0001_102_3BVT_FWD_Stdless_low_spd.csv to c:\\TSDE_Workarea\\ktt2yk\\CARSIM\\Sim_Work_HGT_3BVT_BB88574_VAR01_Matlab2012b\n",
      "103/410, c:\\TSDE_Workarea\\ktt2yk\\Projects\\3BVT\\20231102_Onakasan_AHA_TCS\\20231102_0001.csv: c:\\TSDE_Workarea\\ktt2yk\\CARSIM\\Sim_Work_HGT_3BVT_BB88574_VAR01_Matlab2012b\\20231102_0001_102_3BVT_FWD_Stdless_low_spd.csv\n",
      "Extracted 20231102_0002_103_3BVT_FWD_Stdless_low_spd.csv to c:\\TSDE_Workarea\\ktt2yk\\CARSIM\\Sim_Work_HGT_3BVT_BB88574_VAR01_Matlab2012b\n",
      "104/410, c:\\TSDE_Workarea\\ktt2yk\\Projects\\3BVT\\20231102_Onakasan_AHA_TCS\\20231102_0002.csv: c:\\TSDE_Workarea\\ktt2yk\\CARSIM\\Sim_Work_HGT_3BVT_BB88574_VAR01_Matlab2012b\\20231102_0002_103_3BVT_FWD_Stdless_low_spd.csv\n",
      "105/410, c:\\TSDE_Workarea\\ktt2yk\\Projects\\3BVT\\20231102_Onakasan_AHA_TCS\\20231102_0003.csv: None\n",
      "Extracted 20231102_0004_105_3BVT_FWD_Stdless_low_spd.csv to c:\\TSDE_Workarea\\ktt2yk\\CARSIM\\Sim_Work_HGT_3BVT_BB88574_VAR01_Matlab2012b\n",
      "106/410, c:\\TSDE_Workarea\\ktt2yk\\Projects\\3BVT\\20231102_Onakasan_AHA_TCS\\20231102_0004.csv: c:\\TSDE_Workarea\\ktt2yk\\CARSIM\\Sim_Work_HGT_3BVT_BB88574_VAR01_Matlab2012b\\20231102_0004_105_3BVT_FWD_Stdless_low_spd.csv\n",
      "Extracted 20231102_0005_106_3BVT_FWD_Stdless_low_spd.csv to c:\\TSDE_Workarea\\ktt2yk\\CARSIM\\Sim_Work_HGT_3BVT_BB88574_VAR01_Matlab2012b\n",
      "107/410, c:\\TSDE_Workarea\\ktt2yk\\Projects\\3BVT\\20231102_Onakasan_AHA_TCS\\20231102_0005.csv: c:\\TSDE_Workarea\\ktt2yk\\CARSIM\\Sim_Work_HGT_3BVT_BB88574_VAR01_Matlab2012b\\20231102_0005_106_3BVT_FWD_Stdless_low_spd.csv\n",
      "Extracted 20231102_0006_107_3BVT_FWD_Stdless_low_spd.csv to c:\\TSDE_Workarea\\ktt2yk\\CARSIM\\Sim_Work_HGT_3BVT_BB88574_VAR01_Matlab2012b\n",
      "108/410, c:\\TSDE_Workarea\\ktt2yk\\Projects\\3BVT\\20231102_Onakasan_AHA_TCS\\20231102_0006.csv: c:\\TSDE_Workarea\\ktt2yk\\CARSIM\\Sim_Work_HGT_3BVT_BB88574_VAR01_Matlab2012b\\20231102_0006_107_3BVT_FWD_Stdless_low_spd.csv\n",
      "109/410, c:\\TSDE_Workarea\\ktt2yk\\Projects\\3BVT\\20231102_Onakasan_AHA_TCS\\20231102_0007.csv: None\n",
      "Extracted 20231102_0008_109_3BVT_FWD_Stdless_low_spd.csv to c:\\TSDE_Workarea\\ktt2yk\\CARSIM\\Sim_Work_HGT_3BVT_BB88574_VAR01_Matlab2012b\n",
      "110/410, c:\\TSDE_Workarea\\ktt2yk\\Projects\\3BVT\\20231102_Onakasan_AHA_TCS\\20231102_0008.csv: c:\\TSDE_Workarea\\ktt2yk\\CARSIM\\Sim_Work_HGT_3BVT_BB88574_VAR01_Matlab2012b\\20231102_0008_109_3BVT_FWD_Stdless_low_spd.csv\n",
      "Extracted 20231102_0009_110_3BVT_FWD_Stdless_low_spd.csv to c:\\TSDE_Workarea\\ktt2yk\\CARSIM\\Sim_Work_HGT_3BVT_BB88574_VAR01_Matlab2012b\n",
      "111/410, c:\\TSDE_Workarea\\ktt2yk\\Projects\\3BVT\\20231102_Onakasan_AHA_TCS\\20231102_0009.csv: c:\\TSDE_Workarea\\ktt2yk\\CARSIM\\Sim_Work_HGT_3BVT_BB88574_VAR01_Matlab2012b\\20231102_0009_110_3BVT_FWD_Stdless_low_spd.csv\n",
      "Extracted 20231102_0010_111_3BVT_FWD_Stdless_low_spd.csv to c:\\TSDE_Workarea\\ktt2yk\\CARSIM\\Sim_Work_HGT_3BVT_BB88574_VAR01_Matlab2012b\n",
      "112/410, c:\\TSDE_Workarea\\ktt2yk\\Projects\\3BVT\\20231102_Onakasan_AHA_TCS\\20231102_0010.csv: c:\\TSDE_Workarea\\ktt2yk\\CARSIM\\Sim_Work_HGT_3BVT_BB88574_VAR01_Matlab2012b\\20231102_0010_111_3BVT_FWD_Stdless_low_spd.csv\n",
      "Extracted 20231102_0011_112_3BVT_FWD_Stdless_low_spd.csv to c:\\TSDE_Workarea\\ktt2yk\\CARSIM\\Sim_Work_HGT_3BVT_BB88574_VAR01_Matlab2012b\n",
      "113/410, c:\\TSDE_Workarea\\ktt2yk\\Projects\\3BVT\\20231102_Onakasan_AHA_TCS\\20231102_0011.csv: c:\\TSDE_Workarea\\ktt2yk\\CARSIM\\Sim_Work_HGT_3BVT_BB88574_VAR01_Matlab2012b\\20231102_0011_112_3BVT_FWD_Stdless_low_spd.csv\n",
      "114/410, c:\\TSDE_Workarea\\ktt2yk\\Projects\\3BVT\\20231102_Onakasan_AHA_TCS\\20231102_0012.csv: None\n",
      "Extracted 20231102_0013_114_3BVT_FWD_Stdless_low_spd.csv to c:\\TSDE_Workarea\\ktt2yk\\CARSIM\\Sim_Work_HGT_3BVT_BB88574_VAR01_Matlab2012b\n",
      "115/410, c:\\TSDE_Workarea\\ktt2yk\\Projects\\3BVT\\20231102_Onakasan_AHA_TCS\\20231102_0013.csv: c:\\TSDE_Workarea\\ktt2yk\\CARSIM\\Sim_Work_HGT_3BVT_BB88574_VAR01_Matlab2012b\\20231102_0013_114_3BVT_FWD_Stdless_low_spd.csv\n",
      "116/410, c:\\TSDE_Workarea\\ktt2yk\\Projects\\3BVT\\20231102_Onakasan_AHA_TCS\\20231102_0014.csv: None\n",
      "Extracted 20231102_0015_116_3BVT_FWD_Stdless_low_spd.csv to c:\\TSDE_Workarea\\ktt2yk\\CARSIM\\Sim_Work_HGT_3BVT_BB88574_VAR01_Matlab2012b\n",
      "117/410, c:\\TSDE_Workarea\\ktt2yk\\Projects\\3BVT\\20231102_Onakasan_AHA_TCS\\20231102_0015.csv: c:\\TSDE_Workarea\\ktt2yk\\CARSIM\\Sim_Work_HGT_3BVT_BB88574_VAR01_Matlab2012b\\20231102_0015_116_3BVT_FWD_Stdless_low_spd.csv\n",
      "Extracted 20231102_0016_117_3BVT_FWD_Stdless_low_spd.csv to c:\\TSDE_Workarea\\ktt2yk\\CARSIM\\Sim_Work_HGT_3BVT_BB88574_VAR01_Matlab2012b\n",
      "118/410, c:\\TSDE_Workarea\\ktt2yk\\Projects\\3BVT\\20231102_Onakasan_AHA_TCS\\20231102_0016.csv: c:\\TSDE_Workarea\\ktt2yk\\CARSIM\\Sim_Work_HGT_3BVT_BB88574_VAR01_Matlab2012b\\20231102_0016_117_3BVT_FWD_Stdless_low_spd.csv\n",
      "Extracted 20231102_0017_118_3BVT_FWD_Stdless_low_spd.csv to c:\\TSDE_Workarea\\ktt2yk\\CARSIM\\Sim_Work_HGT_3BVT_BB88574_VAR01_Matlab2012b\n",
      "119/410, c:\\TSDE_Workarea\\ktt2yk\\Projects\\3BVT\\20231102_Onakasan_AHA_TCS\\20231102_0017.csv: c:\\TSDE_Workarea\\ktt2yk\\CARSIM\\Sim_Work_HGT_3BVT_BB88574_VAR01_Matlab2012b\\20231102_0017_118_3BVT_FWD_Stdless_low_spd.csv\n",
      "Extracted 20231102_0018_119_3BVT_FWD_Stdless_low_spd.csv to c:\\TSDE_Workarea\\ktt2yk\\CARSIM\\Sim_Work_HGT_3BVT_BB88574_VAR01_Matlab2012b\n",
      "120/410, c:\\TSDE_Workarea\\ktt2yk\\Projects\\3BVT\\20231102_Onakasan_AHA_TCS\\20231102_0018.csv: c:\\TSDE_Workarea\\ktt2yk\\CARSIM\\Sim_Work_HGT_3BVT_BB88574_VAR01_Matlab2012b\\20231102_0018_119_3BVT_FWD_Stdless_low_spd.csv\n",
      "Extracted 20231102_0019_120_3BVT_FWD_Stdless_low_spd.csv to c:\\TSDE_Workarea\\ktt2yk\\CARSIM\\Sim_Work_HGT_3BVT_BB88574_VAR01_Matlab2012b\n",
      "121/410, c:\\TSDE_Workarea\\ktt2yk\\Projects\\3BVT\\20231102_Onakasan_AHA_TCS\\20231102_0019.csv: c:\\TSDE_Workarea\\ktt2yk\\CARSIM\\Sim_Work_HGT_3BVT_BB88574_VAR01_Matlab2012b\\20231102_0019_120_3BVT_FWD_Stdless_low_spd.csv\n",
      "Extracted 20231102_0020_121_3BVT_FWD_Stdless_low_spd.csv to c:\\TSDE_Workarea\\ktt2yk\\CARSIM\\Sim_Work_HGT_3BVT_BB88574_VAR01_Matlab2012b\n",
      "122/410, c:\\TSDE_Workarea\\ktt2yk\\Projects\\3BVT\\20231102_Onakasan_AHA_TCS\\20231102_0020.csv: c:\\TSDE_Workarea\\ktt2yk\\CARSIM\\Sim_Work_HGT_3BVT_BB88574_VAR01_Matlab2012b\\20231102_0020_121_3BVT_FWD_Stdless_low_spd.csv\n",
      "Extracted 20231102_0021_122_3BVT_FWD_Stdless_low_spd.csv to c:\\TSDE_Workarea\\ktt2yk\\CARSIM\\Sim_Work_HGT_3BVT_BB88574_VAR01_Matlab2012b\n",
      "123/410, c:\\TSDE_Workarea\\ktt2yk\\Projects\\3BVT\\20231102_Onakasan_AHA_TCS\\20231102_0021.csv: c:\\TSDE_Workarea\\ktt2yk\\CARSIM\\Sim_Work_HGT_3BVT_BB88574_VAR01_Matlab2012b\\20231102_0021_122_3BVT_FWD_Stdless_low_spd.csv\n",
      "124/410, c:\\TSDE_Workarea\\ktt2yk\\Projects\\3BVT\\20231102_Onakasan_AHA_TCS\\20231102_0022.csv: None\n",
      "Extracted 20231102_0023_124_3BVT_FWD_Stdless_low_spd.csv to c:\\TSDE_Workarea\\ktt2yk\\CARSIM\\Sim_Work_HGT_3BVT_BB88574_VAR01_Matlab2012b\n",
      "125/410, c:\\TSDE_Workarea\\ktt2yk\\Projects\\3BVT\\20231102_Onakasan_AHA_TCS\\20231102_0023.csv: c:\\TSDE_Workarea\\ktt2yk\\CARSIM\\Sim_Work_HGT_3BVT_BB88574_VAR01_Matlab2012b\\20231102_0023_124_3BVT_FWD_Stdless_low_spd.csv\n",
      "Extracted 20231102_0024_125_3BVT_FWD_Stdless_low_spd.csv to c:\\TSDE_Workarea\\ktt2yk\\CARSIM\\Sim_Work_HGT_3BVT_BB88574_VAR01_Matlab2012b\n",
      "126/410, c:\\TSDE_Workarea\\ktt2yk\\Projects\\3BVT\\20231102_Onakasan_AHA_TCS\\20231102_0024.csv: c:\\TSDE_Workarea\\ktt2yk\\CARSIM\\Sim_Work_HGT_3BVT_BB88574_VAR01_Matlab2012b\\20231102_0024_125_3BVT_FWD_Stdless_low_spd.csv\n",
      "127/410, c:\\TSDE_Workarea\\ktt2yk\\Projects\\3BVT\\20231103_Bank_TCS_AHA_VDC\\20231103_0000.csv: None\n",
      "128/410, c:\\TSDE_Workarea\\ktt2yk\\Projects\\3BVT\\20231103_Bank_TCS_AHA_VDC\\20231103_0001.csv: None\n",
      "129/410, c:\\TSDE_Workarea\\ktt2yk\\Projects\\3BVT\\20231103_Bank_TCS_AHA_VDC\\20231103_0002.csv: None\n",
      "Extracted 20231103_0003_129_3BVT_FWD_Stdless_low_spd.csv to c:\\TSDE_Workarea\\ktt2yk\\CARSIM\\Sim_Work_HGT_3BVT_BB88574_VAR01_Matlab2012b\n",
      "130/410, c:\\TSDE_Workarea\\ktt2yk\\Projects\\3BVT\\20231103_Bank_TCS_AHA_VDC\\20231103_0003.csv: c:\\TSDE_Workarea\\ktt2yk\\CARSIM\\Sim_Work_HGT_3BVT_BB88574_VAR01_Matlab2012b\\20231103_0003_129_3BVT_FWD_Stdless_low_spd.csv\n",
      "131/410, c:\\TSDE_Workarea\\ktt2yk\\Projects\\3BVT\\20231103_Bank_TCS_AHA_VDC\\20231103_0004.csv: None\n",
      "132/410, c:\\TSDE_Workarea\\ktt2yk\\Projects\\3BVT\\20231103_Bank_TCS_AHA_VDC\\20231103_0005.csv: None\n",
      "133/410, c:\\TSDE_Workarea\\ktt2yk\\Projects\\3BVT\\20231103_Bank_TCS_AHA_VDC\\20231103_0006.csv: None\n",
      "Extracted 20231103_0007_133_3BVT_FWD_Stdless_low_spd.csv to c:\\TSDE_Workarea\\ktt2yk\\CARSIM\\Sim_Work_HGT_3BVT_BB88574_VAR01_Matlab2012b\n",
      "134/410, c:\\TSDE_Workarea\\ktt2yk\\Projects\\3BVT\\20231103_Bank_TCS_AHA_VDC\\20231103_0007.csv: c:\\TSDE_Workarea\\ktt2yk\\CARSIM\\Sim_Work_HGT_3BVT_BB88574_VAR01_Matlab2012b\\20231103_0007_133_3BVT_FWD_Stdless_low_spd.csv\n",
      "135/410, c:\\TSDE_Workarea\\ktt2yk\\Projects\\3BVT\\20231103_Bank_TCS_AHA_VDC\\20231103_0008.csv: None\n",
      "136/410, c:\\TSDE_Workarea\\ktt2yk\\Projects\\3BVT\\20231103_Bank_TCS_AHA_VDC\\20231103_0009.csv: None\n",
      "137/410, c:\\TSDE_Workarea\\ktt2yk\\Projects\\3BVT\\20231103_Bank_TCS_AHA_VDC\\20231103_0010.csv: None\n",
      "Extracted 20231103_0011_137_3BVT_FWD_Stdless_low_spd.csv to c:\\TSDE_Workarea\\ktt2yk\\CARSIM\\Sim_Work_HGT_3BVT_BB88574_VAR01_Matlab2012b\n",
      "138/410, c:\\TSDE_Workarea\\ktt2yk\\Projects\\3BVT\\20231103_Bank_TCS_AHA_VDC\\20231103_0011.csv: c:\\TSDE_Workarea\\ktt2yk\\CARSIM\\Sim_Work_HGT_3BVT_BB88574_VAR01_Matlab2012b\\20231103_0011_137_3BVT_FWD_Stdless_low_spd.csv\n",
      "Extracted 20231103_0012_138_3BVT_FWD_Stdless_low_spd.csv to c:\\TSDE_Workarea\\ktt2yk\\CARSIM\\Sim_Work_HGT_3BVT_BB88574_VAR01_Matlab2012b\n",
      "139/410, c:\\TSDE_Workarea\\ktt2yk\\Projects\\3BVT\\20231103_Bank_TCS_AHA_VDC\\20231103_0012.csv: c:\\TSDE_Workarea\\ktt2yk\\CARSIM\\Sim_Work_HGT_3BVT_BB88574_VAR01_Matlab2012b\\20231103_0012_138_3BVT_FWD_Stdless_low_spd.csv\n",
      "140/410, c:\\TSDE_Workarea\\ktt2yk\\Projects\\3BVT\\20231103_Bank_TCS_AHA_VDC\\20231103_0013.csv: None\n",
      "141/410, c:\\TSDE_Workarea\\ktt2yk\\Projects\\3BVT\\20231103_Bank_TCS_AHA_VDC\\20231103_0014.csv: None\n",
      "Extracted 20231103_0015_141_3BVT_FWD_Stdless_low_spd.csv to c:\\TSDE_Workarea\\ktt2yk\\CARSIM\\Sim_Work_HGT_3BVT_BB88574_VAR01_Matlab2012b\n",
      "142/410, c:\\TSDE_Workarea\\ktt2yk\\Projects\\3BVT\\20231103_Bank_TCS_AHA_VDC\\20231103_0015.csv: c:\\TSDE_Workarea\\ktt2yk\\CARSIM\\Sim_Work_HGT_3BVT_BB88574_VAR01_Matlab2012b\\20231103_0015_141_3BVT_FWD_Stdless_low_spd.csv\n",
      "Extracted 20231103_0016_142_3BVT_FWD_Stdless_low_spd.csv to c:\\TSDE_Workarea\\ktt2yk\\CARSIM\\Sim_Work_HGT_3BVT_BB88574_VAR01_Matlab2012b\n",
      "143/410, c:\\TSDE_Workarea\\ktt2yk\\Projects\\3BVT\\20231103_Bank_TCS_AHA_VDC\\20231103_0016.csv: c:\\TSDE_Workarea\\ktt2yk\\CARSIM\\Sim_Work_HGT_3BVT_BB88574_VAR01_Matlab2012b\\20231103_0016_142_3BVT_FWD_Stdless_low_spd.csv\n",
      "Extracted 20231103_0017_143_3BVT_FWD_Stdless_low_spd.csv to c:\\TSDE_Workarea\\ktt2yk\\CARSIM\\Sim_Work_HGT_3BVT_BB88574_VAR01_Matlab2012b\n",
      "144/410, c:\\TSDE_Workarea\\ktt2yk\\Projects\\3BVT\\20231103_Bank_TCS_AHA_VDC\\20231103_0017.csv: c:\\TSDE_Workarea\\ktt2yk\\CARSIM\\Sim_Work_HGT_3BVT_BB88574_VAR01_Matlab2012b\\20231103_0017_143_3BVT_FWD_Stdless_low_spd.csv\n",
      "Extracted 20231103_0018_144_3BVT_FWD_Stdless_low_spd.csv to c:\\TSDE_Workarea\\ktt2yk\\CARSIM\\Sim_Work_HGT_3BVT_BB88574_VAR01_Matlab2012b\n",
      "145/410, c:\\TSDE_Workarea\\ktt2yk\\Projects\\3BVT\\20231103_Bank_TCS_AHA_VDC\\20231103_0018.csv: c:\\TSDE_Workarea\\ktt2yk\\CARSIM\\Sim_Work_HGT_3BVT_BB88574_VAR01_Matlab2012b\\20231103_0018_144_3BVT_FWD_Stdless_low_spd.csv\n",
      "Extracted 20231103_0019_145_3BVT_FWD_Stdless_low_spd.csv to c:\\TSDE_Workarea\\ktt2yk\\CARSIM\\Sim_Work_HGT_3BVT_BB88574_VAR01_Matlab2012b\n",
      "146/410, c:\\TSDE_Workarea\\ktt2yk\\Projects\\3BVT\\20231103_Bank_TCS_AHA_VDC\\20231103_0019.csv: c:\\TSDE_Workarea\\ktt2yk\\CARSIM\\Sim_Work_HGT_3BVT_BB88574_VAR01_Matlab2012b\\20231103_0019_145_3BVT_FWD_Stdless_low_spd.csv\n",
      "Extracted 20231103_0020_146_3BVT_FWD_Stdless_low_spd.csv to c:\\TSDE_Workarea\\ktt2yk\\CARSIM\\Sim_Work_HGT_3BVT_BB88574_VAR01_Matlab2012b\n",
      "147/410, c:\\TSDE_Workarea\\ktt2yk\\Projects\\3BVT\\20231103_Bank_TCS_AHA_VDC\\20231103_0020.csv: c:\\TSDE_Workarea\\ktt2yk\\CARSIM\\Sim_Work_HGT_3BVT_BB88574_VAR01_Matlab2012b\\20231103_0020_146_3BVT_FWD_Stdless_low_spd.csv\n",
      "Extracted 20231103_0021_147_3BVT_FWD_Stdless_low_spd.csv to c:\\TSDE_Workarea\\ktt2yk\\CARSIM\\Sim_Work_HGT_3BVT_BB88574_VAR01_Matlab2012b\n",
      "148/410, c:\\TSDE_Workarea\\ktt2yk\\Projects\\3BVT\\20231103_Bank_TCS_AHA_VDC\\20231103_0021.csv: c:\\TSDE_Workarea\\ktt2yk\\CARSIM\\Sim_Work_HGT_3BVT_BB88574_VAR01_Matlab2012b\\20231103_0021_147_3BVT_FWD_Stdless_low_spd.csv\n",
      "Extracted 20231103_0022_148_3BVT_FWD_Stdless_low_spd.csv to c:\\TSDE_Workarea\\ktt2yk\\CARSIM\\Sim_Work_HGT_3BVT_BB88574_VAR01_Matlab2012b\n",
      "149/410, c:\\TSDE_Workarea\\ktt2yk\\Projects\\3BVT\\20231103_Bank_TCS_AHA_VDC\\20231103_0022.csv: c:\\TSDE_Workarea\\ktt2yk\\CARSIM\\Sim_Work_HGT_3BVT_BB88574_VAR01_Matlab2012b\\20231103_0022_148_3BVT_FWD_Stdless_low_spd.csv\n",
      "Extracted 20231103_0023_149_3BVT_FWD_Stdless_low_spd.csv to c:\\TSDE_Workarea\\ktt2yk\\CARSIM\\Sim_Work_HGT_3BVT_BB88574_VAR01_Matlab2012b\n",
      "150/410, c:\\TSDE_Workarea\\ktt2yk\\Projects\\3BVT\\20231103_Bank_TCS_AHA_VDC\\20231103_0023.csv: c:\\TSDE_Workarea\\ktt2yk\\CARSIM\\Sim_Work_HGT_3BVT_BB88574_VAR01_Matlab2012b\\20231103_0023_149_3BVT_FWD_Stdless_low_spd.csv\n",
      "Extracted 20231103_0024_150_3BVT_FWD_Stdless_low_spd.csv to c:\\TSDE_Workarea\\ktt2yk\\CARSIM\\Sim_Work_HGT_3BVT_BB88574_VAR01_Matlab2012b\n",
      "151/410, c:\\TSDE_Workarea\\ktt2yk\\Projects\\3BVT\\20231103_Bank_TCS_AHA_VDC\\20231103_0024.csv: c:\\TSDE_Workarea\\ktt2yk\\CARSIM\\Sim_Work_HGT_3BVT_BB88574_VAR01_Matlab2012b\\20231103_0024_150_3BVT_FWD_Stdless_low_spd.csv\n",
      "Extracted 20231107_0035_151_3BVT_FWD_Stdless_low_spd.csv to c:\\TSDE_Workarea\\ktt2yk\\CARSIM\\Sim_Work_HGT_3BVT_BB88574_VAR01_Matlab2012b\n",
      "152/410, c:\\TSDE_Workarea\\ktt2yk\\Projects\\3BVT\\20231107_0.3split_Araisan\\20231107_0035.csv: c:\\TSDE_Workarea\\ktt2yk\\CARSIM\\Sim_Work_HGT_3BVT_BB88574_VAR01_Matlab2012b\\20231107_0035_151_3BVT_FWD_Stdless_low_spd.csv\n",
      "Extracted 20231107_0000_152_3BVT_FWD_Stdless_low_spd.csv to c:\\TSDE_Workarea\\ktt2yk\\CARSIM\\Sim_Work_HGT_3BVT_BB88574_VAR01_Matlab2012b\n",
      "153/410, c:\\TSDE_Workarea\\ktt2yk\\Projects\\3BVT\\20231107_Wet_SenkaiTCS_ABS\\20231107_0000.csv: c:\\TSDE_Workarea\\ktt2yk\\CARSIM\\Sim_Work_HGT_3BVT_BB88574_VAR01_Matlab2012b\\20231107_0000_152_3BVT_FWD_Stdless_low_spd.csv\n",
      "154/410, c:\\TSDE_Workarea\\ktt2yk\\Projects\\3BVT\\20231107_Wet_SenkaiTCS_ABS\\20231107_0001.csv: None\n",
      "155/410, c:\\TSDE_Workarea\\ktt2yk\\Projects\\3BVT\\20231107_Wet_SenkaiTCS_ABS\\20231107_0002.csv: None\n",
      "156/410, c:\\TSDE_Workarea\\ktt2yk\\Projects\\3BVT\\20231107_Wet_SenkaiTCS_ABS\\20231107_0003.csv: None\n",
      "157/410, c:\\TSDE_Workarea\\ktt2yk\\Projects\\3BVT\\20231107_Wet_SenkaiTCS_ABS\\20231107_0004.csv: None\n",
      "158/410, c:\\TSDE_Workarea\\ktt2yk\\Projects\\3BVT\\20231107_Wet_SenkaiTCS_ABS\\20231107_0005.csv: None\n",
      "159/410, c:\\TSDE_Workarea\\ktt2yk\\Projects\\3BVT\\20231107_Wet_SenkaiTCS_ABS\\20231107_0006.csv: None\n",
      "160/410, c:\\TSDE_Workarea\\ktt2yk\\Projects\\3BVT\\20231107_Wet_SenkaiTCS_ABS\\20231107_0007.csv: None\n",
      "161/410, c:\\TSDE_Workarea\\ktt2yk\\Projects\\3BVT\\20231107_Wet_SenkaiTCS_ABS\\20231107_0008.csv: None\n",
      "162/410, c:\\TSDE_Workarea\\ktt2yk\\Projects\\3BVT\\20231107_Wet_SenkaiTCS_ABS\\20231107_0009.csv: None\n",
      "163/410, c:\\TSDE_Workarea\\ktt2yk\\Projects\\3BVT\\20231107_Wet_SenkaiTCS_ABS\\20231107_0010.csv: None\n",
      "164/410, c:\\TSDE_Workarea\\ktt2yk\\Projects\\3BVT\\20231107_Wet_SenkaiTCS_ABS\\20231107_0011.csv: None\n",
      "165/410, c:\\TSDE_Workarea\\ktt2yk\\Projects\\3BVT\\20231107_Wet_SenkaiTCS_ABS\\20231107_0012.csv: None\n",
      "Extracted 20231107_0013_165_3BVT_FWD_Stdless_low_spd.csv to c:\\TSDE_Workarea\\ktt2yk\\CARSIM\\Sim_Work_HGT_3BVT_BB88574_VAR01_Matlab2012b\n",
      "166/410, c:\\TSDE_Workarea\\ktt2yk\\Projects\\3BVT\\20231107_Wet_SenkaiTCS_ABS\\20231107_0013.csv: c:\\TSDE_Workarea\\ktt2yk\\CARSIM\\Sim_Work_HGT_3BVT_BB88574_VAR01_Matlab2012b\\20231107_0013_165_3BVT_FWD_Stdless_low_spd.csv\n",
      "Extracted 20231107_0014_166_3BVT_FWD_Stdless_low_spd.csv to c:\\TSDE_Workarea\\ktt2yk\\CARSIM\\Sim_Work_HGT_3BVT_BB88574_VAR01_Matlab2012b\n",
      "167/410, c:\\TSDE_Workarea\\ktt2yk\\Projects\\3BVT\\20231107_Wet_SenkaiTCS_ABS\\20231107_0014.csv: c:\\TSDE_Workarea\\ktt2yk\\CARSIM\\Sim_Work_HGT_3BVT_BB88574_VAR01_Matlab2012b\\20231107_0014_166_3BVT_FWD_Stdless_low_spd.csv\n",
      "Extracted 20231107_0015_167_3BVT_FWD_Stdless_low_spd.csv to c:\\TSDE_Workarea\\ktt2yk\\CARSIM\\Sim_Work_HGT_3BVT_BB88574_VAR01_Matlab2012b\n",
      "168/410, c:\\TSDE_Workarea\\ktt2yk\\Projects\\3BVT\\20231107_Wet_SenkaiTCS_ABS\\20231107_0015.csv: c:\\TSDE_Workarea\\ktt2yk\\CARSIM\\Sim_Work_HGT_3BVT_BB88574_VAR01_Matlab2012b\\20231107_0015_167_3BVT_FWD_Stdless_low_spd.csv\n",
      "Extracted 20231107_0016_168_3BVT_FWD_Stdless_low_spd.csv to c:\\TSDE_Workarea\\ktt2yk\\CARSIM\\Sim_Work_HGT_3BVT_BB88574_VAR01_Matlab2012b\n",
      "169/410, c:\\TSDE_Workarea\\ktt2yk\\Projects\\3BVT\\20231107_Wet_SenkaiTCS_ABS\\20231107_0016.csv: c:\\TSDE_Workarea\\ktt2yk\\CARSIM\\Sim_Work_HGT_3BVT_BB88574_VAR01_Matlab2012b\\20231107_0016_168_3BVT_FWD_Stdless_low_spd.csv\n",
      "Extracted 20231107_0017_169_3BVT_FWD_Stdless_low_spd.csv to c:\\TSDE_Workarea\\ktt2yk\\CARSIM\\Sim_Work_HGT_3BVT_BB88574_VAR01_Matlab2012b\n",
      "170/410, c:\\TSDE_Workarea\\ktt2yk\\Projects\\3BVT\\20231107_Wet_SenkaiTCS_ABS\\20231107_0017.csv: c:\\TSDE_Workarea\\ktt2yk\\CARSIM\\Sim_Work_HGT_3BVT_BB88574_VAR01_Matlab2012b\\20231107_0017_169_3BVT_FWD_Stdless_low_spd.csv\n",
      "171/410, c:\\TSDE_Workarea\\ktt2yk\\Projects\\3BVT\\20231107_Wet_SenkaiTCS_ABS\\20231107_0018.csv: None\n",
      "Extracted 20231107_0019_171_3BVT_FWD_Stdless_low_spd.csv to c:\\TSDE_Workarea\\ktt2yk\\CARSIM\\Sim_Work_HGT_3BVT_BB88574_VAR01_Matlab2012b\n",
      "172/410, c:\\TSDE_Workarea\\ktt2yk\\Projects\\3BVT\\20231107_Wet_SenkaiTCS_ABS\\20231107_0019.csv: c:\\TSDE_Workarea\\ktt2yk\\CARSIM\\Sim_Work_HGT_3BVT_BB88574_VAR01_Matlab2012b\\20231107_0019_171_3BVT_FWD_Stdless_low_spd.csv\n",
      "Extracted 20231107_0020_172_3BVT_FWD_Stdless_low_spd.csv to c:\\TSDE_Workarea\\ktt2yk\\CARSIM\\Sim_Work_HGT_3BVT_BB88574_VAR01_Matlab2012b\n",
      "173/410, c:\\TSDE_Workarea\\ktt2yk\\Projects\\3BVT\\20231107_Wet_SenkaiTCS_ABS\\20231107_0020.csv: c:\\TSDE_Workarea\\ktt2yk\\CARSIM\\Sim_Work_HGT_3BVT_BB88574_VAR01_Matlab2012b\\20231107_0020_172_3BVT_FWD_Stdless_low_spd.csv\n",
      "Extracted 20231107_0021_173_3BVT_FWD_Stdless_low_spd.csv to c:\\TSDE_Workarea\\ktt2yk\\CARSIM\\Sim_Work_HGT_3BVT_BB88574_VAR01_Matlab2012b\n",
      "174/410, c:\\TSDE_Workarea\\ktt2yk\\Projects\\3BVT\\20231107_Wet_SenkaiTCS_ABS\\20231107_0021.csv: c:\\TSDE_Workarea\\ktt2yk\\CARSIM\\Sim_Work_HGT_3BVT_BB88574_VAR01_Matlab2012b\\20231107_0021_173_3BVT_FWD_Stdless_low_spd.csv\n",
      "Extracted 20231107_0022_174_3BVT_FWD_Stdless_low_spd.csv to c:\\TSDE_Workarea\\ktt2yk\\CARSIM\\Sim_Work_HGT_3BVT_BB88574_VAR01_Matlab2012b\n",
      "175/410, c:\\TSDE_Workarea\\ktt2yk\\Projects\\3BVT\\20231107_Wet_SenkaiTCS_ABS\\20231107_0022.csv: c:\\TSDE_Workarea\\ktt2yk\\CARSIM\\Sim_Work_HGT_3BVT_BB88574_VAR01_Matlab2012b\\20231107_0022_174_3BVT_FWD_Stdless_low_spd.csv\n",
      "Extracted 20231107_0023_175_3BVT_FWD_Stdless_low_spd.csv to c:\\TSDE_Workarea\\ktt2yk\\CARSIM\\Sim_Work_HGT_3BVT_BB88574_VAR01_Matlab2012b\n",
      "176/410, c:\\TSDE_Workarea\\ktt2yk\\Projects\\3BVT\\20231107_Wet_SenkaiTCS_ABS\\20231107_0023.csv: c:\\TSDE_Workarea\\ktt2yk\\CARSIM\\Sim_Work_HGT_3BVT_BB88574_VAR01_Matlab2012b\\20231107_0023_175_3BVT_FWD_Stdless_low_spd.csv\n",
      "Extracted 20231107_0024_176_3BVT_FWD_Stdless_low_spd.csv to c:\\TSDE_Workarea\\ktt2yk\\CARSIM\\Sim_Work_HGT_3BVT_BB88574_VAR01_Matlab2012b\n",
      "177/410, c:\\TSDE_Workarea\\ktt2yk\\Projects\\3BVT\\20231107_Wet_SenkaiTCS_ABS\\20231107_0024.csv: c:\\TSDE_Workarea\\ktt2yk\\CARSIM\\Sim_Work_HGT_3BVT_BB88574_VAR01_Matlab2012b\\20231107_0024_176_3BVT_FWD_Stdless_low_spd.csv\n",
      "Extracted 20231107_0025_177_3BVT_FWD_Stdless_low_spd.csv to c:\\TSDE_Workarea\\ktt2yk\\CARSIM\\Sim_Work_HGT_3BVT_BB88574_VAR01_Matlab2012b\n",
      "178/410, c:\\TSDE_Workarea\\ktt2yk\\Projects\\3BVT\\20231107_Wet_SenkaiTCS_ABS\\20231107_0025.csv: c:\\TSDE_Workarea\\ktt2yk\\CARSIM\\Sim_Work_HGT_3BVT_BB88574_VAR01_Matlab2012b\\20231107_0025_177_3BVT_FWD_Stdless_low_spd.csv\n",
      "Extracted 20231107_0026_178_3BVT_FWD_Stdless_low_spd.csv to c:\\TSDE_Workarea\\ktt2yk\\CARSIM\\Sim_Work_HGT_3BVT_BB88574_VAR01_Matlab2012b\n",
      "179/410, c:\\TSDE_Workarea\\ktt2yk\\Projects\\3BVT\\20231107_Wet_SenkaiTCS_ABS\\20231107_0026.csv: c:\\TSDE_Workarea\\ktt2yk\\CARSIM\\Sim_Work_HGT_3BVT_BB88574_VAR01_Matlab2012b\\20231107_0026_178_3BVT_FWD_Stdless_low_spd.csv\n",
      "180/410, c:\\TSDE_Workarea\\ktt2yk\\Projects\\3BVT\\20231108_TCS_Araisan\\20231108_0036.csv: None\n",
      "181/410, c:\\TSDE_Workarea\\ktt2yk\\Projects\\3BVT\\20231108_TCS_Araisan\\20231108_0037.csv: None\n",
      "182/410, c:\\TSDE_Workarea\\ktt2yk\\Projects\\3BVT\\20231108_TCS_Araisan\\20231108_0038.csv: None\n",
      "183/410, c:\\TSDE_Workarea\\ktt2yk\\Projects\\3BVT\\20231108_TCS_Araisan\\20231108_0039.csv: None\n",
      "Extracted 20231108_0040_183_3BVT_FWD_Stdless_low_spd.csv to c:\\TSDE_Workarea\\ktt2yk\\CARSIM\\Sim_Work_HGT_3BVT_BB88574_VAR01_Matlab2012b\n",
      "184/410, c:\\TSDE_Workarea\\ktt2yk\\Projects\\3BVT\\20231108_TCS_Araisan\\20231108_0040.csv: c:\\TSDE_Workarea\\ktt2yk\\CARSIM\\Sim_Work_HGT_3BVT_BB88574_VAR01_Matlab2012b\\20231108_0040_183_3BVT_FWD_Stdless_low_spd.csv\n",
      "Extracted 20231108_0041_184_3BVT_FWD_Stdless_low_spd.csv to c:\\TSDE_Workarea\\ktt2yk\\CARSIM\\Sim_Work_HGT_3BVT_BB88574_VAR01_Matlab2012b\n",
      "185/410, c:\\TSDE_Workarea\\ktt2yk\\Projects\\3BVT\\20231108_TCS_Araisan\\20231108_0041.csv: c:\\TSDE_Workarea\\ktt2yk\\CARSIM\\Sim_Work_HGT_3BVT_BB88574_VAR01_Matlab2012b\\20231108_0041_184_3BVT_FWD_Stdless_low_spd.csv\n",
      "186/410, c:\\TSDE_Workarea\\ktt2yk\\Projects\\3BVT\\20231108_TCS_Araisan\\20231108_0042.csv: None\n",
      "187/410, c:\\TSDE_Workarea\\ktt2yk\\Projects\\3BVT\\20231108_TCS_VDC_Onakasan\\20231108_0000.csv: None\n",
      "Extracted 20231108_0001_187_3BVT_FWD_Stdless_low_spd.csv to c:\\TSDE_Workarea\\ktt2yk\\CARSIM\\Sim_Work_HGT_3BVT_BB88574_VAR01_Matlab2012b\n",
      "188/410, c:\\TSDE_Workarea\\ktt2yk\\Projects\\3BVT\\20231108_TCS_VDC_Onakasan\\20231108_0001.csv: c:\\TSDE_Workarea\\ktt2yk\\CARSIM\\Sim_Work_HGT_3BVT_BB88574_VAR01_Matlab2012b\\20231108_0001_187_3BVT_FWD_Stdless_low_spd.csv\n",
      "189/410, c:\\TSDE_Workarea\\ktt2yk\\Projects\\3BVT\\20231108_TCS_VDC_Onakasan\\20231108_0002.csv: None\n",
      "190/410, c:\\TSDE_Workarea\\ktt2yk\\Projects\\3BVT\\20231108_TCS_VDC_Onakasan\\20231108_0003.csv: None\n",
      "191/410, c:\\TSDE_Workarea\\ktt2yk\\Projects\\3BVT\\20231108_TCS_VDC_Onakasan\\20231108_0004.csv: None\n",
      "Extracted 20231108_0005_191_3BVT_FWD_Stdless_low_spd.csv to c:\\TSDE_Workarea\\ktt2yk\\CARSIM\\Sim_Work_HGT_3BVT_BB88574_VAR01_Matlab2012b\n",
      "192/410, c:\\TSDE_Workarea\\ktt2yk\\Projects\\3BVT\\20231108_TCS_VDC_Onakasan\\20231108_0005.csv: c:\\TSDE_Workarea\\ktt2yk\\CARSIM\\Sim_Work_HGT_3BVT_BB88574_VAR01_Matlab2012b\\20231108_0005_191_3BVT_FWD_Stdless_low_spd.csv\n",
      "Extracted 20231108_0006_192_3BVT_FWD_Stdless_low_spd.csv to c:\\TSDE_Workarea\\ktt2yk\\CARSIM\\Sim_Work_HGT_3BVT_BB88574_VAR01_Matlab2012b\n",
      "193/410, c:\\TSDE_Workarea\\ktt2yk\\Projects\\3BVT\\20231108_TCS_VDC_Onakasan\\20231108_0006.csv: c:\\TSDE_Workarea\\ktt2yk\\CARSIM\\Sim_Work_HGT_3BVT_BB88574_VAR01_Matlab2012b\\20231108_0006_192_3BVT_FWD_Stdless_low_spd.csv\n",
      "Extracted 20231108_0007_193_3BVT_FWD_Stdless_low_spd.csv to c:\\TSDE_Workarea\\ktt2yk\\CARSIM\\Sim_Work_HGT_3BVT_BB88574_VAR01_Matlab2012b\n",
      "194/410, c:\\TSDE_Workarea\\ktt2yk\\Projects\\3BVT\\20231108_TCS_VDC_Onakasan\\20231108_0007.csv: c:\\TSDE_Workarea\\ktt2yk\\CARSIM\\Sim_Work_HGT_3BVT_BB88574_VAR01_Matlab2012b\\20231108_0007_193_3BVT_FWD_Stdless_low_spd.csv\n",
      "Extracted 20231108_0008_194_3BVT_FWD_Stdless_low_spd.csv to c:\\TSDE_Workarea\\ktt2yk\\CARSIM\\Sim_Work_HGT_3BVT_BB88574_VAR01_Matlab2012b\n",
      "195/410, c:\\TSDE_Workarea\\ktt2yk\\Projects\\3BVT\\20231108_TCS_VDC_Onakasan\\20231108_0008.csv: c:\\TSDE_Workarea\\ktt2yk\\CARSIM\\Sim_Work_HGT_3BVT_BB88574_VAR01_Matlab2012b\\20231108_0008_194_3BVT_FWD_Stdless_low_spd.csv\n",
      "Extracted 20231108_0009_195_3BVT_FWD_Stdless_low_spd.csv to c:\\TSDE_Workarea\\ktt2yk\\CARSIM\\Sim_Work_HGT_3BVT_BB88574_VAR01_Matlab2012b\n",
      "196/410, c:\\TSDE_Workarea\\ktt2yk\\Projects\\3BVT\\20231108_TCS_VDC_Onakasan\\20231108_0009.csv: c:\\TSDE_Workarea\\ktt2yk\\CARSIM\\Sim_Work_HGT_3BVT_BB88574_VAR01_Matlab2012b\\20231108_0009_195_3BVT_FWD_Stdless_low_spd.csv\n",
      "197/410, c:\\TSDE_Workarea\\ktt2yk\\Projects\\3BVT\\20231108_TCS_VDC_Onakasan\\20231108_0010.csv: None\n",
      "198/410, c:\\TSDE_Workarea\\ktt2yk\\Projects\\3BVT\\20231108_TCS_VDC_Onakasan\\20231108_0011.csv: None\n",
      "Extracted 20231108_0012_198_3BVT_FWD_Stdless_low_spd.csv to c:\\TSDE_Workarea\\ktt2yk\\CARSIM\\Sim_Work_HGT_3BVT_BB88574_VAR01_Matlab2012b\n",
      "199/410, c:\\TSDE_Workarea\\ktt2yk\\Projects\\3BVT\\20231108_TCS_VDC_Onakasan\\20231108_0012.csv: c:\\TSDE_Workarea\\ktt2yk\\CARSIM\\Sim_Work_HGT_3BVT_BB88574_VAR01_Matlab2012b\\20231108_0012_198_3BVT_FWD_Stdless_low_spd.csv\n",
      "Extracted 20231108_0013_199_3BVT_FWD_Stdless_low_spd.csv to c:\\TSDE_Workarea\\ktt2yk\\CARSIM\\Sim_Work_HGT_3BVT_BB88574_VAR01_Matlab2012b\n",
      "200/410, c:\\TSDE_Workarea\\ktt2yk\\Projects\\3BVT\\20231108_TCS_VDC_Onakasan\\20231108_0013.csv: c:\\TSDE_Workarea\\ktt2yk\\CARSIM\\Sim_Work_HGT_3BVT_BB88574_VAR01_Matlab2012b\\20231108_0013_199_3BVT_FWD_Stdless_low_spd.csv\n",
      "Extracted 20231108_0014_200_3BVT_FWD_Stdless_low_spd.csv to c:\\TSDE_Workarea\\ktt2yk\\CARSIM\\Sim_Work_HGT_3BVT_BB88574_VAR01_Matlab2012b\n",
      "201/410, c:\\TSDE_Workarea\\ktt2yk\\Projects\\3BVT\\20231108_TCS_VDC_Onakasan\\20231108_0014.csv: c:\\TSDE_Workarea\\ktt2yk\\CARSIM\\Sim_Work_HGT_3BVT_BB88574_VAR01_Matlab2012b\\20231108_0014_200_3BVT_FWD_Stdless_low_spd.csv\n",
      "202/410, c:\\TSDE_Workarea\\ktt2yk\\Projects\\3BVT\\20231108_TCS_VDC_Onakasan\\20231108_0015.csv: None\n",
      "203/410, c:\\TSDE_Workarea\\ktt2yk\\Projects\\3BVT\\20231108_TCS_VDC_Onakasan\\20231108_0016.csv: None\n",
      "204/410, c:\\TSDE_Workarea\\ktt2yk\\Projects\\3BVT\\20231108_TCS_VDC_Onakasan\\20231108_0017.csv: None\n",
      "Extracted 20231108_0018_204_3BVT_FWD_Stdless_low_spd.csv to c:\\TSDE_Workarea\\ktt2yk\\CARSIM\\Sim_Work_HGT_3BVT_BB88574_VAR01_Matlab2012b\n",
      "205/410, c:\\TSDE_Workarea\\ktt2yk\\Projects\\3BVT\\20231108_TCS_VDC_Onakasan\\20231108_0018.csv: c:\\TSDE_Workarea\\ktt2yk\\CARSIM\\Sim_Work_HGT_3BVT_BB88574_VAR01_Matlab2012b\\20231108_0018_204_3BVT_FWD_Stdless_low_spd.csv\n",
      "Extracted 20231108_0019_205_3BVT_FWD_Stdless_low_spd.csv to c:\\TSDE_Workarea\\ktt2yk\\CARSIM\\Sim_Work_HGT_3BVT_BB88574_VAR01_Matlab2012b\n",
      "206/410, c:\\TSDE_Workarea\\ktt2yk\\Projects\\3BVT\\20231108_TCS_VDC_Onakasan\\20231108_0019.csv: c:\\TSDE_Workarea\\ktt2yk\\CARSIM\\Sim_Work_HGT_3BVT_BB88574_VAR01_Matlab2012b\\20231108_0019_205_3BVT_FWD_Stdless_low_spd.csv\n",
      "Extracted 20231109_0027_206_3BVT_FWD_Stdless_low_spd.csv to c:\\TSDE_Workarea\\ktt2yk\\CARSIM\\Sim_Work_HGT_3BVT_BB88574_VAR01_Matlab2012b\n",
      "207/410, c:\\TSDE_Workarea\\ktt2yk\\Projects\\3BVT\\20231109_TCS_Split_Flat\\20231109_0027.csv: c:\\TSDE_Workarea\\ktt2yk\\CARSIM\\Sim_Work_HGT_3BVT_BB88574_VAR01_Matlab2012b\\20231109_0027_206_3BVT_FWD_Stdless_low_spd.csv\n",
      "Extracted 20231109_0028_207_3BVT_FWD_Stdless_low_spd.csv to c:\\TSDE_Workarea\\ktt2yk\\CARSIM\\Sim_Work_HGT_3BVT_BB88574_VAR01_Matlab2012b\n",
      "208/410, c:\\TSDE_Workarea\\ktt2yk\\Projects\\3BVT\\20231109_TCS_Split_Flat\\20231109_0028.csv: c:\\TSDE_Workarea\\ktt2yk\\CARSIM\\Sim_Work_HGT_3BVT_BB88574_VAR01_Matlab2012b\\20231109_0028_207_3BVT_FWD_Stdless_low_spd.csv\n",
      "Extracted 20231109_0037_208_3BVT_FWD_Stdless_low_spd.csv to c:\\TSDE_Workarea\\ktt2yk\\CARSIM\\Sim_Work_HGT_3BVT_BB88574_VAR01_Matlab2012b\n",
      "209/410, c:\\TSDE_Workarea\\ktt2yk\\Projects\\3BVT\\20231109_TCS_Split_Flat\\20231109_0037.csv: c:\\TSDE_Workarea\\ktt2yk\\CARSIM\\Sim_Work_HGT_3BVT_BB88574_VAR01_Matlab2012b\\20231109_0037_208_3BVT_FWD_Stdless_low_spd.csv\n",
      "Extracted 20231109_0038_209_3BVT_FWD_Stdless_low_spd.csv to c:\\TSDE_Workarea\\ktt2yk\\CARSIM\\Sim_Work_HGT_3BVT_BB88574_VAR01_Matlab2012b\n",
      "210/410, c:\\TSDE_Workarea\\ktt2yk\\Projects\\3BVT\\20231109_TCS_Split_Flat\\20231109_0038.csv: c:\\TSDE_Workarea\\ktt2yk\\CARSIM\\Sim_Work_HGT_3BVT_BB88574_VAR01_Matlab2012b\\20231109_0038_209_3BVT_FWD_Stdless_low_spd.csv\n",
      "Extracted 20231109_0039_210_3BVT_FWD_Stdless_low_spd.csv to c:\\TSDE_Workarea\\ktt2yk\\CARSIM\\Sim_Work_HGT_3BVT_BB88574_VAR01_Matlab2012b\n",
      "211/410, c:\\TSDE_Workarea\\ktt2yk\\Projects\\3BVT\\20231109_TCS_Split_Flat\\20231109_0039.csv: c:\\TSDE_Workarea\\ktt2yk\\CARSIM\\Sim_Work_HGT_3BVT_BB88574_VAR01_Matlab2012b\\20231109_0039_210_3BVT_FWD_Stdless_low_spd.csv\n",
      "Extracted 20231109_0040_211_3BVT_FWD_Stdless_low_spd.csv to c:\\TSDE_Workarea\\ktt2yk\\CARSIM\\Sim_Work_HGT_3BVT_BB88574_VAR01_Matlab2012b\n",
      "212/410, c:\\TSDE_Workarea\\ktt2yk\\Projects\\3BVT\\20231109_TCS_Split_Flat\\20231109_0040.csv: c:\\TSDE_Workarea\\ktt2yk\\CARSIM\\Sim_Work_HGT_3BVT_BB88574_VAR01_Matlab2012b\\20231109_0040_211_3BVT_FWD_Stdless_low_spd.csv\n",
      "Extracted 20231109_0041_212_3BVT_FWD_Stdless_low_spd.csv to c:\\TSDE_Workarea\\ktt2yk\\CARSIM\\Sim_Work_HGT_3BVT_BB88574_VAR01_Matlab2012b\n",
      "213/410, c:\\TSDE_Workarea\\ktt2yk\\Projects\\3BVT\\20231109_TCS_Split_Flat\\20231109_0041.csv: c:\\TSDE_Workarea\\ktt2yk\\CARSIM\\Sim_Work_HGT_3BVT_BB88574_VAR01_Matlab2012b\\20231109_0041_212_3BVT_FWD_Stdless_low_spd.csv\n",
      "Extracted 20231214_0001_213_3BVT_FWD_Stdless_low_spd.csv to c:\\TSDE_Workarea\\ktt2yk\\CARSIM\\Sim_Work_HGT_3BVT_BB88574_VAR01_Matlab2012b\n",
      "214/410, c:\\TSDE_Workarea\\ktt2yk\\Projects\\3BVT\\20231214_HSR\\20231214_0001.csv: c:\\TSDE_Workarea\\ktt2yk\\CARSIM\\Sim_Work_HGT_3BVT_BB88574_VAR01_Matlab2012b\\20231214_0001_213_3BVT_FWD_Stdless_low_spd.csv\n",
      "Extracted 20231214_0002_214_3BVT_FWD_Stdless_low_spd.csv to c:\\TSDE_Workarea\\ktt2yk\\CARSIM\\Sim_Work_HGT_3BVT_BB88574_VAR01_Matlab2012b\n",
      "215/410, c:\\TSDE_Workarea\\ktt2yk\\Projects\\3BVT\\20231214_HSR\\20231214_0002.csv: c:\\TSDE_Workarea\\ktt2yk\\CARSIM\\Sim_Work_HGT_3BVT_BB88574_VAR01_Matlab2012b\\20231214_0002_214_3BVT_FWD_Stdless_low_spd.csv\n",
      "Extracted 20231214_0003_215_3BVT_FWD_Stdless_low_spd.csv to c:\\TSDE_Workarea\\ktt2yk\\CARSIM\\Sim_Work_HGT_3BVT_BB88574_VAR01_Matlab2012b\n",
      "216/410, c:\\TSDE_Workarea\\ktt2yk\\Projects\\3BVT\\20231214_HSR\\20231214_0003.csv: c:\\TSDE_Workarea\\ktt2yk\\CARSIM\\Sim_Work_HGT_3BVT_BB88574_VAR01_Matlab2012b\\20231214_0003_215_3BVT_FWD_Stdless_low_spd.csv\n",
      "Extracted 20231214_0004_216_3BVT_FWD_Stdless_low_spd.csv to c:\\TSDE_Workarea\\ktt2yk\\CARSIM\\Sim_Work_HGT_3BVT_BB88574_VAR01_Matlab2012b\n",
      "217/410, c:\\TSDE_Workarea\\ktt2yk\\Projects\\3BVT\\20231214_HSR\\20231214_0004.csv: c:\\TSDE_Workarea\\ktt2yk\\CARSIM\\Sim_Work_HGT_3BVT_BB88574_VAR01_Matlab2012b\\20231214_0004_216_3BVT_FWD_Stdless_low_spd.csv\n",
      "Extracted 20231214_0005_217_3BVT_FWD_Stdless_low_spd.csv to c:\\TSDE_Workarea\\ktt2yk\\CARSIM\\Sim_Work_HGT_3BVT_BB88574_VAR01_Matlab2012b\n",
      "218/410, c:\\TSDE_Workarea\\ktt2yk\\Projects\\3BVT\\20231214_HSR\\20231214_0005.csv: c:\\TSDE_Workarea\\ktt2yk\\CARSIM\\Sim_Work_HGT_3BVT_BB88574_VAR01_Matlab2012b\\20231214_0005_217_3BVT_FWD_Stdless_low_spd.csv\n",
      "Extracted 20231214_0006_218_3BVT_FWD_Stdless_low_spd.csv to c:\\TSDE_Workarea\\ktt2yk\\CARSIM\\Sim_Work_HGT_3BVT_BB88574_VAR01_Matlab2012b\n",
      "219/410, c:\\TSDE_Workarea\\ktt2yk\\Projects\\3BVT\\20231214_HSR\\20231214_0006.csv: c:\\TSDE_Workarea\\ktt2yk\\CARSIM\\Sim_Work_HGT_3BVT_BB88574_VAR01_Matlab2012b\\20231214_0006_218_3BVT_FWD_Stdless_low_spd.csv\n",
      "Extracted 20231214_0007_219_3BVT_FWD_Stdless_low_spd.csv to c:\\TSDE_Workarea\\ktt2yk\\CARSIM\\Sim_Work_HGT_3BVT_BB88574_VAR01_Matlab2012b\n",
      "220/410, c:\\TSDE_Workarea\\ktt2yk\\Projects\\3BVT\\20231214_HSR\\20231214_0007.csv: c:\\TSDE_Workarea\\ktt2yk\\CARSIM\\Sim_Work_HGT_3BVT_BB88574_VAR01_Matlab2012b\\20231214_0007_219_3BVT_FWD_Stdless_low_spd.csv\n",
      "Extracted 20231214_0008_220_3BVT_FWD_Stdless_low_spd.csv to c:\\TSDE_Workarea\\ktt2yk\\CARSIM\\Sim_Work_HGT_3BVT_BB88574_VAR01_Matlab2012b\n",
      "221/410, c:\\TSDE_Workarea\\ktt2yk\\Projects\\3BVT\\20231214_HSR\\20231214_0008.csv: c:\\TSDE_Workarea\\ktt2yk\\CARSIM\\Sim_Work_HGT_3BVT_BB88574_VAR01_Matlab2012b\\20231214_0008_220_3BVT_FWD_Stdless_low_spd.csv\n",
      "Extracted 20231214_0009_221_3BVT_FWD_Stdless_low_spd.csv to c:\\TSDE_Workarea\\ktt2yk\\CARSIM\\Sim_Work_HGT_3BVT_BB88574_VAR01_Matlab2012b\n",
      "222/410, c:\\TSDE_Workarea\\ktt2yk\\Projects\\3BVT\\20231214_HSR\\20231214_0009.csv: c:\\TSDE_Workarea\\ktt2yk\\CARSIM\\Sim_Work_HGT_3BVT_BB88574_VAR01_Matlab2012b\\20231214_0009_221_3BVT_FWD_Stdless_low_spd.csv\n",
      "Extracted 20231214_0010_222_3BVT_FWD_Stdless_low_spd.csv to c:\\TSDE_Workarea\\ktt2yk\\CARSIM\\Sim_Work_HGT_3BVT_BB88574_VAR01_Matlab2012b\n",
      "223/410, c:\\TSDE_Workarea\\ktt2yk\\Projects\\3BVT\\20231214_HSR\\20231214_0010.csv: c:\\TSDE_Workarea\\ktt2yk\\CARSIM\\Sim_Work_HGT_3BVT_BB88574_VAR01_Matlab2012b\\20231214_0010_222_3BVT_FWD_Stdless_low_spd.csv\n",
      "Extracted 20231214_0011_223_3BVT_FWD_Stdless_low_spd.csv to c:\\TSDE_Workarea\\ktt2yk\\CARSIM\\Sim_Work_HGT_3BVT_BB88574_VAR01_Matlab2012b\n",
      "224/410, c:\\TSDE_Workarea\\ktt2yk\\Projects\\3BVT\\20231214_HSR\\20231214_0011.csv: c:\\TSDE_Workarea\\ktt2yk\\CARSIM\\Sim_Work_HGT_3BVT_BB88574_VAR01_Matlab2012b\\20231214_0011_223_3BVT_FWD_Stdless_low_spd.csv\n",
      "Extracted 20231214_0012_224_3BVT_FWD_Stdless_low_spd.csv to c:\\TSDE_Workarea\\ktt2yk\\CARSIM\\Sim_Work_HGT_3BVT_BB88574_VAR01_Matlab2012b\n",
      "225/410, c:\\TSDE_Workarea\\ktt2yk\\Projects\\3BVT\\20231214_HSR\\20231214_0012.csv: c:\\TSDE_Workarea\\ktt2yk\\CARSIM\\Sim_Work_HGT_3BVT_BB88574_VAR01_Matlab2012b\\20231214_0012_224_3BVT_FWD_Stdless_low_spd.csv\n",
      "Extracted 20231214_0013_225_3BVT_FWD_Stdless_low_spd.csv to c:\\TSDE_Workarea\\ktt2yk\\CARSIM\\Sim_Work_HGT_3BVT_BB88574_VAR01_Matlab2012b\n",
      "226/410, c:\\TSDE_Workarea\\ktt2yk\\Projects\\3BVT\\20231214_HSR\\20231214_0013.csv: c:\\TSDE_Workarea\\ktt2yk\\CARSIM\\Sim_Work_HGT_3BVT_BB88574_VAR01_Matlab2012b\\20231214_0013_225_3BVT_FWD_Stdless_low_spd.csv\n",
      "Extracted 20231214_0014_226_3BVT_FWD_Stdless_low_spd.csv to c:\\TSDE_Workarea\\ktt2yk\\CARSIM\\Sim_Work_HGT_3BVT_BB88574_VAR01_Matlab2012b\n",
      "227/410, c:\\TSDE_Workarea\\ktt2yk\\Projects\\3BVT\\20231214_HSR\\20231214_0014.csv: c:\\TSDE_Workarea\\ktt2yk\\CARSIM\\Sim_Work_HGT_3BVT_BB88574_VAR01_Matlab2012b\\20231214_0014_226_3BVT_FWD_Stdless_low_spd.csv\n",
      "Extracted 20231214_0015_227_3BVT_FWD_Stdless_low_spd.csv to c:\\TSDE_Workarea\\ktt2yk\\CARSIM\\Sim_Work_HGT_3BVT_BB88574_VAR01_Matlab2012b\n",
      "228/410, c:\\TSDE_Workarea\\ktt2yk\\Projects\\3BVT\\20231214_HSR\\20231214_0015.csv: c:\\TSDE_Workarea\\ktt2yk\\CARSIM\\Sim_Work_HGT_3BVT_BB88574_VAR01_Matlab2012b\\20231214_0015_227_3BVT_FWD_Stdless_low_spd.csv\n",
      "229/410, c:\\TSDE_Workarea\\ktt2yk\\Projects\\3BVT\\20231214_HSR\\20231214_0016.csv: None\n",
      "Extracted 20231214_0017_229_3BVT_FWD_Stdless_low_spd.csv to c:\\TSDE_Workarea\\ktt2yk\\CARSIM\\Sim_Work_HGT_3BVT_BB88574_VAR01_Matlab2012b\n",
      "230/410, c:\\TSDE_Workarea\\ktt2yk\\Projects\\3BVT\\20231214_HSR\\20231214_0017.csv: c:\\TSDE_Workarea\\ktt2yk\\CARSIM\\Sim_Work_HGT_3BVT_BB88574_VAR01_Matlab2012b\\20231214_0017_229_3BVT_FWD_Stdless_low_spd.csv\n",
      "Extracted 20231214_0018_230_3BVT_FWD_Stdless_low_spd.csv to c:\\TSDE_Workarea\\ktt2yk\\CARSIM\\Sim_Work_HGT_3BVT_BB88574_VAR01_Matlab2012b\n",
      "231/410, c:\\TSDE_Workarea\\ktt2yk\\Projects\\3BVT\\20231214_HSR\\20231214_0018.csv: c:\\TSDE_Workarea\\ktt2yk\\CARSIM\\Sim_Work_HGT_3BVT_BB88574_VAR01_Matlab2012b\\20231214_0018_230_3BVT_FWD_Stdless_low_spd.csv\n",
      "Extracted 20231214_0019_231_3BVT_FWD_Stdless_low_spd.csv to c:\\TSDE_Workarea\\ktt2yk\\CARSIM\\Sim_Work_HGT_3BVT_BB88574_VAR01_Matlab2012b\n",
      "232/410, c:\\TSDE_Workarea\\ktt2yk\\Projects\\3BVT\\20231214_HSR\\20231214_0019.csv: c:\\TSDE_Workarea\\ktt2yk\\CARSIM\\Sim_Work_HGT_3BVT_BB88574_VAR01_Matlab2012b\\20231214_0019_231_3BVT_FWD_Stdless_low_spd.csv\n",
      "Extracted 20231214_0020_232_3BVT_FWD_Stdless_low_spd.csv to c:\\TSDE_Workarea\\ktt2yk\\CARSIM\\Sim_Work_HGT_3BVT_BB88574_VAR01_Matlab2012b\n",
      "233/410, c:\\TSDE_Workarea\\ktt2yk\\Projects\\3BVT\\20231214_HSR\\20231214_0020.csv: c:\\TSDE_Workarea\\ktt2yk\\CARSIM\\Sim_Work_HGT_3BVT_BB88574_VAR01_Matlab2012b\\20231214_0020_232_3BVT_FWD_Stdless_low_spd.csv\n",
      "Extracted 20231214_0022_233_3BVT_FWD_Stdless_low_spd.csv to c:\\TSDE_Workarea\\ktt2yk\\CARSIM\\Sim_Work_HGT_3BVT_BB88574_VAR01_Matlab2012b\n",
      "234/410, c:\\TSDE_Workarea\\ktt2yk\\Projects\\3BVT\\20231214_HSR\\20231214_0022.csv: c:\\TSDE_Workarea\\ktt2yk\\CARSIM\\Sim_Work_HGT_3BVT_BB88574_VAR01_Matlab2012b\\20231214_0022_233_3BVT_FWD_Stdless_low_spd.csv\n",
      "235/410, c:\\TSDE_Workarea\\ktt2yk\\Projects\\3BVT\\20231214_HSR\\20231214_0023.csv: None\n",
      "Extracted 20231214_0024_235_3BVT_FWD_Stdless_low_spd.csv to c:\\TSDE_Workarea\\ktt2yk\\CARSIM\\Sim_Work_HGT_3BVT_BB88574_VAR01_Matlab2012b\n",
      "236/410, c:\\TSDE_Workarea\\ktt2yk\\Projects\\3BVT\\20231214_HSR\\20231214_0024.csv: c:\\TSDE_Workarea\\ktt2yk\\CARSIM\\Sim_Work_HGT_3BVT_BB88574_VAR01_Matlab2012b\\20231214_0024_235_3BVT_FWD_Stdless_low_spd.csv\n",
      "Extracted 20231214_0025_236_3BVT_FWD_Stdless_low_spd.csv to c:\\TSDE_Workarea\\ktt2yk\\CARSIM\\Sim_Work_HGT_3BVT_BB88574_VAR01_Matlab2012b\n",
      "237/410, c:\\TSDE_Workarea\\ktt2yk\\Projects\\3BVT\\20231214_HSR\\20231214_0025.csv: c:\\TSDE_Workarea\\ktt2yk\\CARSIM\\Sim_Work_HGT_3BVT_BB88574_VAR01_Matlab2012b\\20231214_0025_236_3BVT_FWD_Stdless_low_spd.csv\n",
      "Extracted 20231214_0026_237_3BVT_FWD_Stdless_low_spd.csv to c:\\TSDE_Workarea\\ktt2yk\\CARSIM\\Sim_Work_HGT_3BVT_BB88574_VAR01_Matlab2012b\n",
      "238/410, c:\\TSDE_Workarea\\ktt2yk\\Projects\\3BVT\\20231214_HSR\\20231214_0026.csv: c:\\TSDE_Workarea\\ktt2yk\\CARSIM\\Sim_Work_HGT_3BVT_BB88574_VAR01_Matlab2012b\\20231214_0026_237_3BVT_FWD_Stdless_low_spd.csv\n",
      "Extracted 20240206_0010_238_3BVT_FWD_Stdless_low_spd.csv to c:\\TSDE_Workarea\\ktt2yk\\CARSIM\\Sim_Work_HGT_3BVT_BB88574_VAR01_Matlab2012b\n",
      "239/410, c:\\TSDE_Workarea\\ktt2yk\\Projects\\3BVT\\2024_0x1_TakasuWinter\\0206_TCS_AYC\\20240206_0010.csv: c:\\TSDE_Workarea\\ktt2yk\\CARSIM\\Sim_Work_HGT_3BVT_BB88574_VAR01_Matlab2012b\\20240206_0010_238_3BVT_FWD_Stdless_low_spd.csv\n",
      "Extracted 20240206_0011_239_3BVT_FWD_Stdless_low_spd.csv to c:\\TSDE_Workarea\\ktt2yk\\CARSIM\\Sim_Work_HGT_3BVT_BB88574_VAR01_Matlab2012b\n",
      "240/410, c:\\TSDE_Workarea\\ktt2yk\\Projects\\3BVT\\2024_0x1_TakasuWinter\\0206_TCS_AYC\\20240206_0011.csv: c:\\TSDE_Workarea\\ktt2yk\\CARSIM\\Sim_Work_HGT_3BVT_BB88574_VAR01_Matlab2012b\\20240206_0011_239_3BVT_FWD_Stdless_low_spd.csv\n",
      "Extracted 20240206_0012_240_3BVT_FWD_Stdless_low_spd.csv to c:\\TSDE_Workarea\\ktt2yk\\CARSIM\\Sim_Work_HGT_3BVT_BB88574_VAR01_Matlab2012b\n",
      "241/410, c:\\TSDE_Workarea\\ktt2yk\\Projects\\3BVT\\2024_0x1_TakasuWinter\\0206_TCS_AYC\\20240206_0012.csv: c:\\TSDE_Workarea\\ktt2yk\\CARSIM\\Sim_Work_HGT_3BVT_BB88574_VAR01_Matlab2012b\\20240206_0012_240_3BVT_FWD_Stdless_low_spd.csv\n",
      "Extracted 20240206_0013_241_3BVT_FWD_Stdless_low_spd.csv to c:\\TSDE_Workarea\\ktt2yk\\CARSIM\\Sim_Work_HGT_3BVT_BB88574_VAR01_Matlab2012b\n",
      "242/410, c:\\TSDE_Workarea\\ktt2yk\\Projects\\3BVT\\2024_0x1_TakasuWinter\\0206_TCS_AYC\\20240206_0013.csv: c:\\TSDE_Workarea\\ktt2yk\\CARSIM\\Sim_Work_HGT_3BVT_BB88574_VAR01_Matlab2012b\\20240206_0013_241_3BVT_FWD_Stdless_low_spd.csv\n",
      "Extracted 20240206_0014_242_3BVT_FWD_Stdless_low_spd.csv to c:\\TSDE_Workarea\\ktt2yk\\CARSIM\\Sim_Work_HGT_3BVT_BB88574_VAR01_Matlab2012b\n",
      "243/410, c:\\TSDE_Workarea\\ktt2yk\\Projects\\3BVT\\2024_0x1_TakasuWinter\\0206_TCS_AYC\\20240206_0014.csv: c:\\TSDE_Workarea\\ktt2yk\\CARSIM\\Sim_Work_HGT_3BVT_BB88574_VAR01_Matlab2012b\\20240206_0014_242_3BVT_FWD_Stdless_low_spd.csv\n",
      "Extracted 20240206_0015_243_3BVT_FWD_Stdless_low_spd.csv to c:\\TSDE_Workarea\\ktt2yk\\CARSIM\\Sim_Work_HGT_3BVT_BB88574_VAR01_Matlab2012b\n",
      "244/410, c:\\TSDE_Workarea\\ktt2yk\\Projects\\3BVT\\2024_0x1_TakasuWinter\\0206_TCS_AYC\\20240206_0015.csv: c:\\TSDE_Workarea\\ktt2yk\\CARSIM\\Sim_Work_HGT_3BVT_BB88574_VAR01_Matlab2012b\\20240206_0015_243_3BVT_FWD_Stdless_low_spd.csv\n",
      "245/410, c:\\TSDE_Workarea\\ktt2yk\\Projects\\3BVT\\2024_0x1_TakasuWinter\\0206_TCS_AYC\\20240206_0016.csv: None\n",
      "Extracted 20240206_0017_245_3BVT_FWD_Stdless_low_spd.csv to c:\\TSDE_Workarea\\ktt2yk\\CARSIM\\Sim_Work_HGT_3BVT_BB88574_VAR01_Matlab2012b\n",
      "246/410, c:\\TSDE_Workarea\\ktt2yk\\Projects\\3BVT\\2024_0x1_TakasuWinter\\0206_TCS_AYC\\20240206_0017.csv: c:\\TSDE_Workarea\\ktt2yk\\CARSIM\\Sim_Work_HGT_3BVT_BB88574_VAR01_Matlab2012b\\20240206_0017_245_3BVT_FWD_Stdless_low_spd.csv\n",
      "Extracted 20240206_0018_246_3BVT_FWD_Stdless_low_spd.csv to c:\\TSDE_Workarea\\ktt2yk\\CARSIM\\Sim_Work_HGT_3BVT_BB88574_VAR01_Matlab2012b\n",
      "247/410, c:\\TSDE_Workarea\\ktt2yk\\Projects\\3BVT\\2024_0x1_TakasuWinter\\0206_TCS_AYC\\20240206_0018.csv: c:\\TSDE_Workarea\\ktt2yk\\CARSIM\\Sim_Work_HGT_3BVT_BB88574_VAR01_Matlab2012b\\20240206_0018_246_3BVT_FWD_Stdless_low_spd.csv\n",
      "Extracted 20240206_0019_247_3BVT_FWD_Stdless_low_spd.csv to c:\\TSDE_Workarea\\ktt2yk\\CARSIM\\Sim_Work_HGT_3BVT_BB88574_VAR01_Matlab2012b\n",
      "248/410, c:\\TSDE_Workarea\\ktt2yk\\Projects\\3BVT\\2024_0x1_TakasuWinter\\0206_TCS_AYC\\20240206_0019.csv: c:\\TSDE_Workarea\\ktt2yk\\CARSIM\\Sim_Work_HGT_3BVT_BB88574_VAR01_Matlab2012b\\20240206_0019_247_3BVT_FWD_Stdless_low_spd.csv\n",
      "249/410, c:\\TSDE_Workarea\\ktt2yk\\Projects\\3BVT\\2024_0x1_TakasuWinter\\0206_TCS_AYC\\20240206_0020.csv: None\n",
      "Extracted 20240206_0021_249_3BVT_FWD_Stdless_low_spd.csv to c:\\TSDE_Workarea\\ktt2yk\\CARSIM\\Sim_Work_HGT_3BVT_BB88574_VAR01_Matlab2012b\n",
      "250/410, c:\\TSDE_Workarea\\ktt2yk\\Projects\\3BVT\\2024_0x1_TakasuWinter\\0206_TCS_AYC\\20240206_0021.csv: c:\\TSDE_Workarea\\ktt2yk\\CARSIM\\Sim_Work_HGT_3BVT_BB88574_VAR01_Matlab2012b\\20240206_0021_249_3BVT_FWD_Stdless_low_spd.csv\n",
      "Extracted 20240206_0022_250_3BVT_FWD_Stdless_low_spd.csv to c:\\TSDE_Workarea\\ktt2yk\\CARSIM\\Sim_Work_HGT_3BVT_BB88574_VAR01_Matlab2012b\n",
      "251/410, c:\\TSDE_Workarea\\ktt2yk\\Projects\\3BVT\\2024_0x1_TakasuWinter\\0206_TCS_AYC\\20240206_0022.csv: c:\\TSDE_Workarea\\ktt2yk\\CARSIM\\Sim_Work_HGT_3BVT_BB88574_VAR01_Matlab2012b\\20240206_0022_250_3BVT_FWD_Stdless_low_spd.csv\n",
      "Extracted 20240206_0023_251_3BVT_FWD_Stdless_low_spd.csv to c:\\TSDE_Workarea\\ktt2yk\\CARSIM\\Sim_Work_HGT_3BVT_BB88574_VAR01_Matlab2012b\n",
      "252/410, c:\\TSDE_Workarea\\ktt2yk\\Projects\\3BVT\\2024_0x1_TakasuWinter\\0206_TCS_AYC\\20240206_0023.csv: c:\\TSDE_Workarea\\ktt2yk\\CARSIM\\Sim_Work_HGT_3BVT_BB88574_VAR01_Matlab2012b\\20240206_0023_251_3BVT_FWD_Stdless_low_spd.csv\n",
      "253/410, c:\\TSDE_Workarea\\ktt2yk\\Projects\\3BVT\\2024_0x1_TakasuWinter\\0206_TCS_AYC\\20240206_0024.csv: None\n",
      "254/410, c:\\TSDE_Workarea\\ktt2yk\\Projects\\3BVT\\2024_0x1_TakasuWinter\\0206_TCS_AYC\\20240206_0025.csv: None\n",
      "Extracted 20240206_0026_254_3BVT_FWD_Stdless_low_spd.csv to c:\\TSDE_Workarea\\ktt2yk\\CARSIM\\Sim_Work_HGT_3BVT_BB88574_VAR01_Matlab2012b\n",
      "255/410, c:\\TSDE_Workarea\\ktt2yk\\Projects\\3BVT\\2024_0x1_TakasuWinter\\0206_TCS_AYC\\20240206_0026.csv: c:\\TSDE_Workarea\\ktt2yk\\CARSIM\\Sim_Work_HGT_3BVT_BB88574_VAR01_Matlab2012b\\20240206_0026_254_3BVT_FWD_Stdless_low_spd.csv\n",
      "Extracted 20240206_0027_255_3BVT_FWD_Stdless_low_spd.csv to c:\\TSDE_Workarea\\ktt2yk\\CARSIM\\Sim_Work_HGT_3BVT_BB88574_VAR01_Matlab2012b\n",
      "256/410, c:\\TSDE_Workarea\\ktt2yk\\Projects\\3BVT\\2024_0x1_TakasuWinter\\0206_TCS_AYC\\20240206_0027.csv: c:\\TSDE_Workarea\\ktt2yk\\CARSIM\\Sim_Work_HGT_3BVT_BB88574_VAR01_Matlab2012b\\20240206_0027_255_3BVT_FWD_Stdless_low_spd.csv\n",
      "257/410, c:\\TSDE_Workarea\\ktt2yk\\Projects\\3BVT\\2024_0x1_TakasuWinter\\0206_TCS_AYC\\20240206_0028.csv: None\n",
      "Extracted 20240206_0029_257_3BVT_FWD_Stdless_low_spd.csv to c:\\TSDE_Workarea\\ktt2yk\\CARSIM\\Sim_Work_HGT_3BVT_BB88574_VAR01_Matlab2012b\n",
      "258/410, c:\\TSDE_Workarea\\ktt2yk\\Projects\\3BVT\\2024_0x1_TakasuWinter\\0206_TCS_AYC\\20240206_0029.csv: c:\\TSDE_Workarea\\ktt2yk\\CARSIM\\Sim_Work_HGT_3BVT_BB88574_VAR01_Matlab2012b\\20240206_0029_257_3BVT_FWD_Stdless_low_spd.csv\n",
      "259/410, c:\\TSDE_Workarea\\ktt2yk\\Projects\\3BVT\\2024_0x1_TakasuWinter\\0206_TCS_AYC\\20240206_0030.csv: None\n",
      "260/410, c:\\TSDE_Workarea\\ktt2yk\\Projects\\3BVT\\2024_0x1_TakasuWinter\\0206_TCS_AYC\\20240206_0031.csv: None\n",
      "Extracted 20240206_0032_260_3BVT_FWD_Stdless_low_spd.csv to c:\\TSDE_Workarea\\ktt2yk\\CARSIM\\Sim_Work_HGT_3BVT_BB88574_VAR01_Matlab2012b\n",
      "261/410, c:\\TSDE_Workarea\\ktt2yk\\Projects\\3BVT\\2024_0x1_TakasuWinter\\0206_TCS_AYC\\20240206_0032.csv: c:\\TSDE_Workarea\\ktt2yk\\CARSIM\\Sim_Work_HGT_3BVT_BB88574_VAR01_Matlab2012b\\20240206_0032_260_3BVT_FWD_Stdless_low_spd.csv\n",
      "Extracted 20240207_0000_261_3BVT_FWD_Stdless_low_spd.csv to c:\\TSDE_Workarea\\ktt2yk\\CARSIM\\Sim_Work_HGT_3BVT_BB88574_VAR01_Matlab2012b\n",
      "262/410, c:\\TSDE_Workarea\\ktt2yk\\Projects\\3BVT\\2024_0x1_TakasuWinter\\0207_SplitHill_AYC\\20240207_0000.csv: c:\\TSDE_Workarea\\ktt2yk\\CARSIM\\Sim_Work_HGT_3BVT_BB88574_VAR01_Matlab2012b\\20240207_0000_261_3BVT_FWD_Stdless_low_spd.csv\n",
      "Extracted 20240207_0001_262_3BVT_FWD_Stdless_low_spd.csv to c:\\TSDE_Workarea\\ktt2yk\\CARSIM\\Sim_Work_HGT_3BVT_BB88574_VAR01_Matlab2012b\n",
      "263/410, c:\\TSDE_Workarea\\ktt2yk\\Projects\\3BVT\\2024_0x1_TakasuWinter\\0207_SplitHill_AYC\\20240207_0001.csv: c:\\TSDE_Workarea\\ktt2yk\\CARSIM\\Sim_Work_HGT_3BVT_BB88574_VAR01_Matlab2012b\\20240207_0001_262_3BVT_FWD_Stdless_low_spd.csv\n",
      "Extracted 20240207_0002_263_3BVT_FWD_Stdless_low_spd.csv to c:\\TSDE_Workarea\\ktt2yk\\CARSIM\\Sim_Work_HGT_3BVT_BB88574_VAR01_Matlab2012b\n",
      "264/410, c:\\TSDE_Workarea\\ktt2yk\\Projects\\3BVT\\2024_0x1_TakasuWinter\\0207_SplitHill_AYC\\20240207_0002.csv: c:\\TSDE_Workarea\\ktt2yk\\CARSIM\\Sim_Work_HGT_3BVT_BB88574_VAR01_Matlab2012b\\20240207_0002_263_3BVT_FWD_Stdless_low_spd.csv\n",
      "Extracted 20240207_0003_264_3BVT_FWD_Stdless_low_spd.csv to c:\\TSDE_Workarea\\ktt2yk\\CARSIM\\Sim_Work_HGT_3BVT_BB88574_VAR01_Matlab2012b\n",
      "265/410, c:\\TSDE_Workarea\\ktt2yk\\Projects\\3BVT\\2024_0x1_TakasuWinter\\0207_SplitHill_AYC\\20240207_0003.csv: c:\\TSDE_Workarea\\ktt2yk\\CARSIM\\Sim_Work_HGT_3BVT_BB88574_VAR01_Matlab2012b\\20240207_0003_264_3BVT_FWD_Stdless_low_spd.csv\n",
      "266/410, c:\\TSDE_Workarea\\ktt2yk\\Projects\\3BVT\\2024_0x1_TakasuWinter\\0207_SplitHill_AYC\\20240207_0004.csv: None\n",
      "267/410, c:\\TSDE_Workarea\\ktt2yk\\Projects\\3BVT\\2024_0x1_TakasuWinter\\0207_SplitHill_AYC\\20240207_0005.csv: None\n",
      "268/410, c:\\TSDE_Workarea\\ktt2yk\\Projects\\3BVT\\2024_0x1_TakasuWinter\\0207_SplitHill_AYC\\20240207_0006.csv: None\n",
      "Extracted 20240207_0007_268_3BVT_FWD_Stdless_low_spd.csv to c:\\TSDE_Workarea\\ktt2yk\\CARSIM\\Sim_Work_HGT_3BVT_BB88574_VAR01_Matlab2012b\n",
      "269/410, c:\\TSDE_Workarea\\ktt2yk\\Projects\\3BVT\\2024_0x1_TakasuWinter\\0207_SplitHill_AYC\\20240207_0007.csv: c:\\TSDE_Workarea\\ktt2yk\\CARSIM\\Sim_Work_HGT_3BVT_BB88574_VAR01_Matlab2012b\\20240207_0007_268_3BVT_FWD_Stdless_low_spd.csv\n",
      "270/410, c:\\TSDE_Workarea\\ktt2yk\\Projects\\3BVT\\2024_0x1_TakasuWinter\\0207_SplitHill_AYC\\20240207_0008.csv: None\n",
      "271/410, c:\\TSDE_Workarea\\ktt2yk\\Projects\\3BVT\\2024_0x1_TakasuWinter\\0207_SplitHill_AYC\\20240207_0009.csv: None\n",
      "Extracted 20240207_0010_271_3BVT_FWD_Stdless_low_spd.csv to c:\\TSDE_Workarea\\ktt2yk\\CARSIM\\Sim_Work_HGT_3BVT_BB88574_VAR01_Matlab2012b\n",
      "272/410, c:\\TSDE_Workarea\\ktt2yk\\Projects\\3BVT\\2024_0x1_TakasuWinter\\0207_SplitHill_AYC\\20240207_0010.csv: c:\\TSDE_Workarea\\ktt2yk\\CARSIM\\Sim_Work_HGT_3BVT_BB88574_VAR01_Matlab2012b\\20240207_0010_271_3BVT_FWD_Stdless_low_spd.csv\n",
      "273/410, c:\\TSDE_Workarea\\ktt2yk\\Projects\\3BVT\\2024_0x1_TakasuWinter\\0207_SplitHill_AYC\\20240207_0011.csv: None\n",
      "Extracted 20240207_0012_273_3BVT_FWD_Stdless_low_spd.csv to c:\\TSDE_Workarea\\ktt2yk\\CARSIM\\Sim_Work_HGT_3BVT_BB88574_VAR01_Matlab2012b\n",
      "274/410, c:\\TSDE_Workarea\\ktt2yk\\Projects\\3BVT\\2024_0x1_TakasuWinter\\0207_SplitHill_AYC\\20240207_0012.csv: c:\\TSDE_Workarea\\ktt2yk\\CARSIM\\Sim_Work_HGT_3BVT_BB88574_VAR01_Matlab2012b\\20240207_0012_273_3BVT_FWD_Stdless_low_spd.csv\n",
      "275/410, c:\\TSDE_Workarea\\ktt2yk\\Projects\\3BVT\\2024_0x1_TakasuWinter\\0207_SplitHill_AYC\\20240207_0013.csv: None\n",
      "Extracted 20240207_0014_275_3BVT_FWD_Stdless_low_spd.csv to c:\\TSDE_Workarea\\ktt2yk\\CARSIM\\Sim_Work_HGT_3BVT_BB88574_VAR01_Matlab2012b\n",
      "276/410, c:\\TSDE_Workarea\\ktt2yk\\Projects\\3BVT\\2024_0x1_TakasuWinter\\0207_SplitHill_AYC\\20240207_0014.csv: c:\\TSDE_Workarea\\ktt2yk\\CARSIM\\Sim_Work_HGT_3BVT_BB88574_VAR01_Matlab2012b\\20240207_0014_275_3BVT_FWD_Stdless_low_spd.csv\n",
      "Extracted 20240207_0015_276_3BVT_FWD_Stdless_low_spd.csv to c:\\TSDE_Workarea\\ktt2yk\\CARSIM\\Sim_Work_HGT_3BVT_BB88574_VAR01_Matlab2012b\n",
      "277/410, c:\\TSDE_Workarea\\ktt2yk\\Projects\\3BVT\\2024_0x1_TakasuWinter\\0207_SplitHill_AYC\\20240207_0015.csv: c:\\TSDE_Workarea\\ktt2yk\\CARSIM\\Sim_Work_HGT_3BVT_BB88574_VAR01_Matlab2012b\\20240207_0015_276_3BVT_FWD_Stdless_low_spd.csv\n",
      "Extracted 20240207_0016_277_3BVT_FWD_Stdless_low_spd.csv to c:\\TSDE_Workarea\\ktt2yk\\CARSIM\\Sim_Work_HGT_3BVT_BB88574_VAR01_Matlab2012b\n",
      "278/410, c:\\TSDE_Workarea\\ktt2yk\\Projects\\3BVT\\2024_0x1_TakasuWinter\\0207_SplitHill_AYC\\20240207_0016.csv: c:\\TSDE_Workarea\\ktt2yk\\CARSIM\\Sim_Work_HGT_3BVT_BB88574_VAR01_Matlab2012b\\20240207_0016_277_3BVT_FWD_Stdless_low_spd.csv\n",
      "Extracted 20240207_0017_278_3BVT_FWD_Stdless_low_spd.csv to c:\\TSDE_Workarea\\ktt2yk\\CARSIM\\Sim_Work_HGT_3BVT_BB88574_VAR01_Matlab2012b\n",
      "279/410, c:\\TSDE_Workarea\\ktt2yk\\Projects\\3BVT\\2024_0x1_TakasuWinter\\0207_SplitHill_AYC\\20240207_0017.csv: c:\\TSDE_Workarea\\ktt2yk\\CARSIM\\Sim_Work_HGT_3BVT_BB88574_VAR01_Matlab2012b\\20240207_0017_278_3BVT_FWD_Stdless_low_spd.csv\n",
      "Extracted 20240207_0018_279_3BVT_FWD_Stdless_low_spd.csv to c:\\TSDE_Workarea\\ktt2yk\\CARSIM\\Sim_Work_HGT_3BVT_BB88574_VAR01_Matlab2012b\n",
      "280/410, c:\\TSDE_Workarea\\ktt2yk\\Projects\\3BVT\\2024_0x1_TakasuWinter\\0207_SplitHill_AYC\\20240207_0018.csv: c:\\TSDE_Workarea\\ktt2yk\\CARSIM\\Sim_Work_HGT_3BVT_BB88574_VAR01_Matlab2012b\\20240207_0018_279_3BVT_FWD_Stdless_low_spd.csv\n",
      "Extracted 20240207_0019_280_3BVT_FWD_Stdless_low_spd.csv to c:\\TSDE_Workarea\\ktt2yk\\CARSIM\\Sim_Work_HGT_3BVT_BB88574_VAR01_Matlab2012b\n",
      "281/410, c:\\TSDE_Workarea\\ktt2yk\\Projects\\3BVT\\2024_0x1_TakasuWinter\\0207_SplitHill_AYC\\20240207_0019.csv: c:\\TSDE_Workarea\\ktt2yk\\CARSIM\\Sim_Work_HGT_3BVT_BB88574_VAR01_Matlab2012b\\20240207_0019_280_3BVT_FWD_Stdless_low_spd.csv\n",
      "282/410, c:\\TSDE_Workarea\\ktt2yk\\Projects\\3BVT\\2024_0x1_TakasuWinter\\0207_SplitHill_AYC\\20240207_0020.csv: None\n",
      "283/410, c:\\TSDE_Workarea\\ktt2yk\\Projects\\3BVT\\2024_0x1_TakasuWinter\\0207_SplitHill_AYC\\20240207_0021.csv: None\n",
      "Extracted 20240207_0005_283_3BVT_FWD_Stdless_low_spd.csv to c:\\TSDE_Workarea\\ktt2yk\\CARSIM\\Sim_Work_HGT_3BVT_BB88574_VAR01_Matlab2012b\n",
      "284/410, c:\\TSDE_Workarea\\ktt2yk\\Projects\\3BVT\\2024_0x1_TakasuWinter\\0207_SplitHill_Slalome_OnakaSan\\20240207_0005.csv: c:\\TSDE_Workarea\\ktt2yk\\CARSIM\\Sim_Work_HGT_3BVT_BB88574_VAR01_Matlab2012b\\20240207_0005_283_3BVT_FWD_Stdless_low_spd.csv\n",
      "Extracted 20240207_0009_284_3BVT_FWD_Stdless_low_spd.csv to c:\\TSDE_Workarea\\ktt2yk\\CARSIM\\Sim_Work_HGT_3BVT_BB88574_VAR01_Matlab2012b\n",
      "285/410, c:\\TSDE_Workarea\\ktt2yk\\Projects\\3BVT\\2024_0x1_TakasuWinter\\0207_SplitHill_Slalome_OnakaSan\\20240207_0009.csv: c:\\TSDE_Workarea\\ktt2yk\\CARSIM\\Sim_Work_HGT_3BVT_BB88574_VAR01_Matlab2012b\\20240207_0009_284_3BVT_FWD_Stdless_low_spd.csv\n",
      "286/410, c:\\TSDE_Workarea\\ktt2yk\\Projects\\3BVT\\2024_0x1_TakasuWinter\\0207_SplitHill_Slalome_OnakaSan\\20240207_0010.csv: None\n",
      "287/410, c:\\TSDE_Workarea\\ktt2yk\\Projects\\3BVT\\2024_0x1_TakasuWinter\\0207_SplitHill_Slalome_OnakaSan\\20240207_0011.csv: None\n",
      "Extracted 20240207_0012_287_3BVT_FWD_Stdless_low_spd.csv to c:\\TSDE_Workarea\\ktt2yk\\CARSIM\\Sim_Work_HGT_3BVT_BB88574_VAR01_Matlab2012b\n",
      "288/410, c:\\TSDE_Workarea\\ktt2yk\\Projects\\3BVT\\2024_0x1_TakasuWinter\\0207_SplitHill_Slalome_OnakaSan\\20240207_0012.csv: c:\\TSDE_Workarea\\ktt2yk\\CARSIM\\Sim_Work_HGT_3BVT_BB88574_VAR01_Matlab2012b\\20240207_0012_287_3BVT_FWD_Stdless_low_spd.csv\n",
      "Extracted 20240207_0013_288_3BVT_FWD_Stdless_low_spd.csv to c:\\TSDE_Workarea\\ktt2yk\\CARSIM\\Sim_Work_HGT_3BVT_BB88574_VAR01_Matlab2012b\n",
      "289/410, c:\\TSDE_Workarea\\ktt2yk\\Projects\\3BVT\\2024_0x1_TakasuWinter\\0207_SplitHill_Slalome_OnakaSan\\20240207_0013.csv: c:\\TSDE_Workarea\\ktt2yk\\CARSIM\\Sim_Work_HGT_3BVT_BB88574_VAR01_Matlab2012b\\20240207_0013_288_3BVT_FWD_Stdless_low_spd.csv\n",
      "Extracted 20240207_0014_289_3BVT_FWD_Stdless_low_spd.csv to c:\\TSDE_Workarea\\ktt2yk\\CARSIM\\Sim_Work_HGT_3BVT_BB88574_VAR01_Matlab2012b\n",
      "290/410, c:\\TSDE_Workarea\\ktt2yk\\Projects\\3BVT\\2024_0x1_TakasuWinter\\0207_SplitHill_Slalome_OnakaSan\\20240207_0014.csv: c:\\TSDE_Workarea\\ktt2yk\\CARSIM\\Sim_Work_HGT_3BVT_BB88574_VAR01_Matlab2012b\\20240207_0014_289_3BVT_FWD_Stdless_low_spd.csv\n",
      "Extracted 20240207_0015_290_3BVT_FWD_Stdless_low_spd.csv to c:\\TSDE_Workarea\\ktt2yk\\CARSIM\\Sim_Work_HGT_3BVT_BB88574_VAR01_Matlab2012b\n",
      "291/410, c:\\TSDE_Workarea\\ktt2yk\\Projects\\3BVT\\2024_0x1_TakasuWinter\\0207_SplitHill_Slalome_OnakaSan\\20240207_0015.csv: c:\\TSDE_Workarea\\ktt2yk\\CARSIM\\Sim_Work_HGT_3BVT_BB88574_VAR01_Matlab2012b\\20240207_0015_290_3BVT_FWD_Stdless_low_spd.csv\n",
      "Extracted 20240207_0016_291_3BVT_FWD_Stdless_low_spd.csv to c:\\TSDE_Workarea\\ktt2yk\\CARSIM\\Sim_Work_HGT_3BVT_BB88574_VAR01_Matlab2012b\n",
      "292/410, c:\\TSDE_Workarea\\ktt2yk\\Projects\\3BVT\\2024_0x1_TakasuWinter\\0207_SplitHill_Slalome_OnakaSan\\20240207_0016.csv: c:\\TSDE_Workarea\\ktt2yk\\CARSIM\\Sim_Work_HGT_3BVT_BB88574_VAR01_Matlab2012b\\20240207_0016_291_3BVT_FWD_Stdless_low_spd.csv\n",
      "Extracted 20240207_0017_292_3BVT_FWD_Stdless_low_spd.csv to c:\\TSDE_Workarea\\ktt2yk\\CARSIM\\Sim_Work_HGT_3BVT_BB88574_VAR01_Matlab2012b\n",
      "293/410, c:\\TSDE_Workarea\\ktt2yk\\Projects\\3BVT\\2024_0x1_TakasuWinter\\0207_SplitHill_Slalome_OnakaSan\\20240207_0017.csv: c:\\TSDE_Workarea\\ktt2yk\\CARSIM\\Sim_Work_HGT_3BVT_BB88574_VAR01_Matlab2012b\\20240207_0017_292_3BVT_FWD_Stdless_low_spd.csv\n",
      "Extracted 20240207_0018_293_3BVT_FWD_Stdless_low_spd.csv to c:\\TSDE_Workarea\\ktt2yk\\CARSIM\\Sim_Work_HGT_3BVT_BB88574_VAR01_Matlab2012b\n",
      "294/410, c:\\TSDE_Workarea\\ktt2yk\\Projects\\3BVT\\2024_0x1_TakasuWinter\\0207_SplitHill_Slalome_OnakaSan\\20240207_0018.csv: c:\\TSDE_Workarea\\ktt2yk\\CARSIM\\Sim_Work_HGT_3BVT_BB88574_VAR01_Matlab2012b\\20240207_0018_293_3BVT_FWD_Stdless_low_spd.csv\n",
      "Extracted 20240207_0019_294_3BVT_FWD_Stdless_low_spd.csv to c:\\TSDE_Workarea\\ktt2yk\\CARSIM\\Sim_Work_HGT_3BVT_BB88574_VAR01_Matlab2012b\n",
      "295/410, c:\\TSDE_Workarea\\ktt2yk\\Projects\\3BVT\\2024_0x1_TakasuWinter\\0207_SplitHill_Slalome_OnakaSan\\20240207_0019.csv: c:\\TSDE_Workarea\\ktt2yk\\CARSIM\\Sim_Work_HGT_3BVT_BB88574_VAR01_Matlab2012b\\20240207_0019_294_3BVT_FWD_Stdless_low_spd.csv\n",
      "Extracted 20240207_0020_295_3BVT_FWD_Stdless_low_spd.csv to c:\\TSDE_Workarea\\ktt2yk\\CARSIM\\Sim_Work_HGT_3BVT_BB88574_VAR01_Matlab2012b\n",
      "296/410, c:\\TSDE_Workarea\\ktt2yk\\Projects\\3BVT\\2024_0x1_TakasuWinter\\0207_SplitHill_Slalome_OnakaSan\\20240207_0020.csv: c:\\TSDE_Workarea\\ktt2yk\\CARSIM\\Sim_Work_HGT_3BVT_BB88574_VAR01_Matlab2012b\\20240207_0020_295_3BVT_FWD_Stdless_low_spd.csv\n",
      "297/410, c:\\TSDE_Workarea\\ktt2yk\\Projects\\3BVT\\2024_0x1_TakasuWinter\\0207_SplitHill_Slalome_OnakaSan\\20240207_0021.csv: None\n",
      "Extracted 20240207_0022_297_3BVT_FWD_Stdless_low_spd.csv to c:\\TSDE_Workarea\\ktt2yk\\CARSIM\\Sim_Work_HGT_3BVT_BB88574_VAR01_Matlab2012b\n",
      "298/410, c:\\TSDE_Workarea\\ktt2yk\\Projects\\3BVT\\2024_0x1_TakasuWinter\\0207_SplitHill_Slalome_OnakaSan\\20240207_0022.csv: c:\\TSDE_Workarea\\ktt2yk\\CARSIM\\Sim_Work_HGT_3BVT_BB88574_VAR01_Matlab2012b\\20240207_0022_297_3BVT_FWD_Stdless_low_spd.csv\n",
      "Extracted 20240207_0023_298_3BVT_FWD_Stdless_low_spd.csv to c:\\TSDE_Workarea\\ktt2yk\\CARSIM\\Sim_Work_HGT_3BVT_BB88574_VAR01_Matlab2012b\n",
      "299/410, c:\\TSDE_Workarea\\ktt2yk\\Projects\\3BVT\\2024_0x1_TakasuWinter\\0207_SplitHill_Slalome_OnakaSan\\20240207_0023.csv: c:\\TSDE_Workarea\\ktt2yk\\CARSIM\\Sim_Work_HGT_3BVT_BB88574_VAR01_Matlab2012b\\20240207_0023_298_3BVT_FWD_Stdless_low_spd.csv\n",
      "Extracted 20240207_0024_299_3BVT_FWD_Stdless_low_spd.csv to c:\\TSDE_Workarea\\ktt2yk\\CARSIM\\Sim_Work_HGT_3BVT_BB88574_VAR01_Matlab2012b\n",
      "300/410, c:\\TSDE_Workarea\\ktt2yk\\Projects\\3BVT\\2024_0x1_TakasuWinter\\0207_SplitHill_Slalome_OnakaSan\\20240207_0024.csv: c:\\TSDE_Workarea\\ktt2yk\\CARSIM\\Sim_Work_HGT_3BVT_BB88574_VAR01_Matlab2012b\\20240207_0024_299_3BVT_FWD_Stdless_low_spd.csv\n",
      "Extracted 20240207_0025_300_3BVT_FWD_Stdless_low_spd.csv to c:\\TSDE_Workarea\\ktt2yk\\CARSIM\\Sim_Work_HGT_3BVT_BB88574_VAR01_Matlab2012b\n",
      "301/410, c:\\TSDE_Workarea\\ktt2yk\\Projects\\3BVT\\2024_0x1_TakasuWinter\\0207_SplitHill_Slalome_OnakaSan\\20240207_0025.csv: c:\\TSDE_Workarea\\ktt2yk\\CARSIM\\Sim_Work_HGT_3BVT_BB88574_VAR01_Matlab2012b\\20240207_0025_300_3BVT_FWD_Stdless_low_spd.csv\n",
      "Extracted 20240207_0026_301_3BVT_FWD_Stdless_low_spd.csv to c:\\TSDE_Workarea\\ktt2yk\\CARSIM\\Sim_Work_HGT_3BVT_BB88574_VAR01_Matlab2012b\n",
      "302/410, c:\\TSDE_Workarea\\ktt2yk\\Projects\\3BVT\\2024_0x1_TakasuWinter\\0207_SplitHill_Slalome_OnakaSan\\20240207_0026.csv: c:\\TSDE_Workarea\\ktt2yk\\CARSIM\\Sim_Work_HGT_3BVT_BB88574_VAR01_Matlab2012b\\20240207_0026_301_3BVT_FWD_Stdless_low_spd.csv\n",
      "303/410, c:\\TSDE_Workarea\\ktt2yk\\Projects\\3BVT\\2024_0x1_TakasuWinter\\0207_SplitHill_Slalome_OnakaSan\\20240207_0027.csv: None\n",
      "Extracted 20240207_0028_303_3BVT_FWD_Stdless_low_spd.csv to c:\\TSDE_Workarea\\ktt2yk\\CARSIM\\Sim_Work_HGT_3BVT_BB88574_VAR01_Matlab2012b\n",
      "304/410, c:\\TSDE_Workarea\\ktt2yk\\Projects\\3BVT\\2024_0x1_TakasuWinter\\0207_SplitHill_Slalome_OnakaSan\\20240207_0028.csv: c:\\TSDE_Workarea\\ktt2yk\\CARSIM\\Sim_Work_HGT_3BVT_BB88574_VAR01_Matlab2012b\\20240207_0028_303_3BVT_FWD_Stdless_low_spd.csv\n",
      "Extracted 20240207_0030_304_3BVT_FWD_Stdless_low_spd.csv to c:\\TSDE_Workarea\\ktt2yk\\CARSIM\\Sim_Work_HGT_3BVT_BB88574_VAR01_Matlab2012b\n",
      "305/410, c:\\TSDE_Workarea\\ktt2yk\\Projects\\3BVT\\2024_0x1_TakasuWinter\\0207_SplitHill_Slalome_OnakaSan\\20240207_0030.csv: c:\\TSDE_Workarea\\ktt2yk\\CARSIM\\Sim_Work_HGT_3BVT_BB88574_VAR01_Matlab2012b\\20240207_0030_304_3BVT_FWD_Stdless_low_spd.csv\n",
      "Extracted 20240207_0031_305_3BVT_FWD_Stdless_low_spd.csv to c:\\TSDE_Workarea\\ktt2yk\\CARSIM\\Sim_Work_HGT_3BVT_BB88574_VAR01_Matlab2012b\n",
      "306/410, c:\\TSDE_Workarea\\ktt2yk\\Projects\\3BVT\\2024_0x1_TakasuWinter\\0207_SplitHill_Slalome_OnakaSan\\20240207_0031.csv: c:\\TSDE_Workarea\\ktt2yk\\CARSIM\\Sim_Work_HGT_3BVT_BB88574_VAR01_Matlab2012b\\20240207_0031_305_3BVT_FWD_Stdless_low_spd.csv\n",
      "Extracted 20240207_0032_306_3BVT_FWD_Stdless_low_spd.csv to c:\\TSDE_Workarea\\ktt2yk\\CARSIM\\Sim_Work_HGT_3BVT_BB88574_VAR01_Matlab2012b\n",
      "307/410, c:\\TSDE_Workarea\\ktt2yk\\Projects\\3BVT\\2024_0x1_TakasuWinter\\0207_SplitHill_Slalome_OnakaSan\\20240207_0032.csv: c:\\TSDE_Workarea\\ktt2yk\\CARSIM\\Sim_Work_HGT_3BVT_BB88574_VAR01_Matlab2012b\\20240207_0032_306_3BVT_FWD_Stdless_low_spd.csv\n",
      "308/410, c:\\TSDE_Workarea\\ktt2yk\\Projects\\3BVT\\2024_0x1_TakasuWinter\\0207_SplitHill_Slalome_OnakaSan\\20240207_0033.csv: None\n",
      "309/410, c:\\TSDE_Workarea\\ktt2yk\\Projects\\3BVT\\2024_0x1_TakasuWinter\\0207_SplitHill_Slalome_OnakaSan\\20240207_0036.csv: None\n",
      "Extracted 20240207_0038_309_3BVT_FWD_Stdless_low_spd.csv to c:\\TSDE_Workarea\\ktt2yk\\CARSIM\\Sim_Work_HGT_3BVT_BB88574_VAR01_Matlab2012b\n",
      "310/410, c:\\TSDE_Workarea\\ktt2yk\\Projects\\3BVT\\2024_0x1_TakasuWinter\\0207_SplitHill_Slalome_OnakaSan\\20240207_0038.csv: c:\\TSDE_Workarea\\ktt2yk\\CARSIM\\Sim_Work_HGT_3BVT_BB88574_VAR01_Matlab2012b\\20240207_0038_309_3BVT_FWD_Stdless_low_spd.csv\n",
      "Extracted 20240208_0000_310_3BVT_FWD_Stdless_low_spd.csv to c:\\TSDE_Workarea\\ktt2yk\\CARSIM\\Sim_Work_HGT_3BVT_BB88574_VAR01_Matlab2012b\n",
      "311/410, c:\\TSDE_Workarea\\ktt2yk\\Projects\\3BVT\\2024_0x1_TakasuWinter\\0208_TCS_AYC\\20240208_0000.csv: c:\\TSDE_Workarea\\ktt2yk\\CARSIM\\Sim_Work_HGT_3BVT_BB88574_VAR01_Matlab2012b\\20240208_0000_310_3BVT_FWD_Stdless_low_spd.csv\n",
      "Extracted 20240208_0001_311_3BVT_FWD_Stdless_low_spd.csv to c:\\TSDE_Workarea\\ktt2yk\\CARSIM\\Sim_Work_HGT_3BVT_BB88574_VAR01_Matlab2012b\n",
      "312/410, c:\\TSDE_Workarea\\ktt2yk\\Projects\\3BVT\\2024_0x1_TakasuWinter\\0208_TCS_AYC\\20240208_0001.csv: c:\\TSDE_Workarea\\ktt2yk\\CARSIM\\Sim_Work_HGT_3BVT_BB88574_VAR01_Matlab2012b\\20240208_0001_311_3BVT_FWD_Stdless_low_spd.csv\n",
      "Extracted 20240208_0002_312_3BVT_FWD_Stdless_low_spd.csv to c:\\TSDE_Workarea\\ktt2yk\\CARSIM\\Sim_Work_HGT_3BVT_BB88574_VAR01_Matlab2012b\n",
      "313/410, c:\\TSDE_Workarea\\ktt2yk\\Projects\\3BVT\\2024_0x1_TakasuWinter\\0208_TCS_AYC\\20240208_0002.csv: c:\\TSDE_Workarea\\ktt2yk\\CARSIM\\Sim_Work_HGT_3BVT_BB88574_VAR01_Matlab2012b\\20240208_0002_312_3BVT_FWD_Stdless_low_spd.csv\n",
      "Extracted 20240208_0003_313_3BVT_FWD_Stdless_low_spd.csv to c:\\TSDE_Workarea\\ktt2yk\\CARSIM\\Sim_Work_HGT_3BVT_BB88574_VAR01_Matlab2012b\n",
      "314/410, c:\\TSDE_Workarea\\ktt2yk\\Projects\\3BVT\\2024_0x1_TakasuWinter\\0208_TCS_AYC\\20240208_0003.csv: c:\\TSDE_Workarea\\ktt2yk\\CARSIM\\Sim_Work_HGT_3BVT_BB88574_VAR01_Matlab2012b\\20240208_0003_313_3BVT_FWD_Stdless_low_spd.csv\n",
      "315/410, c:\\TSDE_Workarea\\ktt2yk\\Projects\\3BVT\\2024_0x1_TakasuWinter\\0208_TCS_AYC\\20240208_0004.csv: None\n",
      "316/410, c:\\TSDE_Workarea\\ktt2yk\\Projects\\3BVT\\2024_0x1_TakasuWinter\\0208_TCS_AYC\\20240208_0005.csv: None\n",
      "317/410, c:\\TSDE_Workarea\\ktt2yk\\Projects\\3BVT\\2024_0x1_TakasuWinter\\0208_TCS_AYC\\20240208_0006.csv: None\n",
      "318/410, c:\\TSDE_Workarea\\ktt2yk\\Projects\\3BVT\\2024_0x1_TakasuWinter\\0208_TCS_AYC\\20240208_0007.csv: None\n",
      "Extracted 20240208_0008_318_3BVT_FWD_Stdless_low_spd.csv to c:\\TSDE_Workarea\\ktt2yk\\CARSIM\\Sim_Work_HGT_3BVT_BB88574_VAR01_Matlab2012b\n",
      "319/410, c:\\TSDE_Workarea\\ktt2yk\\Projects\\3BVT\\2024_0x1_TakasuWinter\\0208_TCS_AYC\\20240208_0008.csv: c:\\TSDE_Workarea\\ktt2yk\\CARSIM\\Sim_Work_HGT_3BVT_BB88574_VAR01_Matlab2012b\\20240208_0008_318_3BVT_FWD_Stdless_low_spd.csv\n",
      "Extracted 20240208_0009_319_3BVT_FWD_Stdless_low_spd.csv to c:\\TSDE_Workarea\\ktt2yk\\CARSIM\\Sim_Work_HGT_3BVT_BB88574_VAR01_Matlab2012b\n",
      "320/410, c:\\TSDE_Workarea\\ktt2yk\\Projects\\3BVT\\2024_0x1_TakasuWinter\\0208_TCS_AYC\\20240208_0009.csv: c:\\TSDE_Workarea\\ktt2yk\\CARSIM\\Sim_Work_HGT_3BVT_BB88574_VAR01_Matlab2012b\\20240208_0009_319_3BVT_FWD_Stdless_low_spd.csv\n",
      "321/410, c:\\TSDE_Workarea\\ktt2yk\\Projects\\3BVT\\2024_0x1_TakasuWinter\\0208_TCS_AYC\\20240208_0010.csv: None\n",
      "322/410, c:\\TSDE_Workarea\\ktt2yk\\Projects\\3BVT\\2024_0x1_TakasuWinter\\0208_TCS_AYC\\20240208_0011.csv: None\n",
      "Extracted 20240208_0012_322_3BVT_FWD_Stdless_low_spd.csv to c:\\TSDE_Workarea\\ktt2yk\\CARSIM\\Sim_Work_HGT_3BVT_BB88574_VAR01_Matlab2012b\n",
      "323/410, c:\\TSDE_Workarea\\ktt2yk\\Projects\\3BVT\\2024_0x1_TakasuWinter\\0208_TCS_AYC\\20240208_0012.csv: c:\\TSDE_Workarea\\ktt2yk\\CARSIM\\Sim_Work_HGT_3BVT_BB88574_VAR01_Matlab2012b\\20240208_0012_322_3BVT_FWD_Stdless_low_spd.csv\n",
      "324/410, c:\\TSDE_Workarea\\ktt2yk\\Projects\\3BVT\\2024_0x1_TakasuWinter\\0208_TCS_AYC\\20240208_0013.csv: None\n",
      "325/410, c:\\TSDE_Workarea\\ktt2yk\\Projects\\3BVT\\2024_0x1_TakasuWinter\\0208_TCS_AYC\\20240208_0014.csv: None\n",
      "326/410, c:\\TSDE_Workarea\\ktt2yk\\Projects\\3BVT\\2024_0x1_TakasuWinter\\0208_TCS_AYC\\20240208_0015.csv: None\n",
      "Extracted 20240208_0016_326_3BVT_FWD_Stdless_low_spd.csv to c:\\TSDE_Workarea\\ktt2yk\\CARSIM\\Sim_Work_HGT_3BVT_BB88574_VAR01_Matlab2012b\n",
      "327/410, c:\\TSDE_Workarea\\ktt2yk\\Projects\\3BVT\\2024_0x1_TakasuWinter\\0208_TCS_AYC\\20240208_0016.csv: c:\\TSDE_Workarea\\ktt2yk\\CARSIM\\Sim_Work_HGT_3BVT_BB88574_VAR01_Matlab2012b\\20240208_0016_326_3BVT_FWD_Stdless_low_spd.csv\n",
      "328/410, c:\\TSDE_Workarea\\ktt2yk\\Projects\\3BVT\\2024_0x1_TakasuWinter\\0208_TCS_AYC\\20240208_0017.csv: None\n",
      "329/410, c:\\TSDE_Workarea\\ktt2yk\\Projects\\3BVT\\2024_0x1_TakasuWinter\\0208_TCS_AYC\\20240208_0018.csv: None\n",
      "Extracted 20240208_0019_329_3BVT_FWD_Stdless_low_spd.csv to c:\\TSDE_Workarea\\ktt2yk\\CARSIM\\Sim_Work_HGT_3BVT_BB88574_VAR01_Matlab2012b\n",
      "330/410, c:\\TSDE_Workarea\\ktt2yk\\Projects\\3BVT\\2024_0x1_TakasuWinter\\0208_TCS_AYC\\20240208_0019.csv: c:\\TSDE_Workarea\\ktt2yk\\CARSIM\\Sim_Work_HGT_3BVT_BB88574_VAR01_Matlab2012b\\20240208_0019_329_3BVT_FWD_Stdless_low_spd.csv\n",
      "331/410, c:\\TSDE_Workarea\\ktt2yk\\Projects\\3BVT\\2024_0x1_TakasuWinter\\0208_TCS_AYC\\20240208_0020.csv: None\n",
      "332/410, c:\\TSDE_Workarea\\ktt2yk\\Projects\\3BVT\\2024_0x1_TakasuWinter\\0208_TCS_AYC\\20240208_0021.csv: None\n",
      "333/410, c:\\TSDE_Workarea\\ktt2yk\\Projects\\3BVT\\2024_0x1_TakasuWinter\\0208_TCS_AYC\\20240208_0022.csv: None\n",
      "Extracted 20240208_0023_333_3BVT_FWD_Stdless_low_spd.csv to c:\\TSDE_Workarea\\ktt2yk\\CARSIM\\Sim_Work_HGT_3BVT_BB88574_VAR01_Matlab2012b\n",
      "334/410, c:\\TSDE_Workarea\\ktt2yk\\Projects\\3BVT\\2024_0x1_TakasuWinter\\0208_TCS_AYC\\20240208_0023.csv: c:\\TSDE_Workarea\\ktt2yk\\CARSIM\\Sim_Work_HGT_3BVT_BB88574_VAR01_Matlab2012b\\20240208_0023_333_3BVT_FWD_Stdless_low_spd.csv\n",
      "Extracted 20240208_0024_334_3BVT_FWD_Stdless_low_spd.csv to c:\\TSDE_Workarea\\ktt2yk\\CARSIM\\Sim_Work_HGT_3BVT_BB88574_VAR01_Matlab2012b\n",
      "335/410, c:\\TSDE_Workarea\\ktt2yk\\Projects\\3BVT\\2024_0x1_TakasuWinter\\0208_TCS_AYC\\20240208_0024.csv: c:\\TSDE_Workarea\\ktt2yk\\CARSIM\\Sim_Work_HGT_3BVT_BB88574_VAR01_Matlab2012b\\20240208_0024_334_3BVT_FWD_Stdless_low_spd.csv\n",
      "336/410, c:\\TSDE_Workarea\\ktt2yk\\Projects\\3BVT\\2024_0x1_TakasuWinter\\0208_TCS_AYC\\20240208_0025.csv: None\n",
      "Extracted 20240208_0026_336_3BVT_FWD_Stdless_low_spd.csv to c:\\TSDE_Workarea\\ktt2yk\\CARSIM\\Sim_Work_HGT_3BVT_BB88574_VAR01_Matlab2012b\n",
      "337/410, c:\\TSDE_Workarea\\ktt2yk\\Projects\\3BVT\\2024_0x1_TakasuWinter\\0208_TCS_AYC\\20240208_0026.csv: c:\\TSDE_Workarea\\ktt2yk\\CARSIM\\Sim_Work_HGT_3BVT_BB88574_VAR01_Matlab2012b\\20240208_0026_336_3BVT_FWD_Stdless_low_spd.csv\n",
      "Extracted 20240208_0027_337_3BVT_FWD_Stdless_low_spd.csv to c:\\TSDE_Workarea\\ktt2yk\\CARSIM\\Sim_Work_HGT_3BVT_BB88574_VAR01_Matlab2012b\n",
      "338/410, c:\\TSDE_Workarea\\ktt2yk\\Projects\\3BVT\\2024_0x1_TakasuWinter\\0208_TCS_AYC\\20240208_0027.csv: c:\\TSDE_Workarea\\ktt2yk\\CARSIM\\Sim_Work_HGT_3BVT_BB88574_VAR01_Matlab2012b\\20240208_0027_337_3BVT_FWD_Stdless_low_spd.csv\n",
      "Extracted 20240208_0028_338_3BVT_FWD_Stdless_low_spd.csv to c:\\TSDE_Workarea\\ktt2yk\\CARSIM\\Sim_Work_HGT_3BVT_BB88574_VAR01_Matlab2012b\n",
      "339/410, c:\\TSDE_Workarea\\ktt2yk\\Projects\\3BVT\\2024_0x1_TakasuWinter\\0208_TCS_AYC\\20240208_0028.csv: c:\\TSDE_Workarea\\ktt2yk\\CARSIM\\Sim_Work_HGT_3BVT_BB88574_VAR01_Matlab2012b\\20240208_0028_338_3BVT_FWD_Stdless_low_spd.csv\n",
      "Extracted 20240208_0029_339_3BVT_FWD_Stdless_low_spd.csv to c:\\TSDE_Workarea\\ktt2yk\\CARSIM\\Sim_Work_HGT_3BVT_BB88574_VAR01_Matlab2012b\n",
      "340/410, c:\\TSDE_Workarea\\ktt2yk\\Projects\\3BVT\\2024_0x1_TakasuWinter\\0208_TCS_AYC\\20240208_0029.csv: c:\\TSDE_Workarea\\ktt2yk\\CARSIM\\Sim_Work_HGT_3BVT_BB88574_VAR01_Matlab2012b\\20240208_0029_339_3BVT_FWD_Stdless_low_spd.csv\n",
      "341/410, c:\\TSDE_Workarea\\ktt2yk\\Projects\\3BVT\\2024_0x1_TakasuWinter\\0208_TCS_AYC\\20240208_0030.csv: None\n",
      "Extracted 20240208_0031_341_3BVT_FWD_Stdless_low_spd.csv to c:\\TSDE_Workarea\\ktt2yk\\CARSIM\\Sim_Work_HGT_3BVT_BB88574_VAR01_Matlab2012b\n",
      "342/410, c:\\TSDE_Workarea\\ktt2yk\\Projects\\3BVT\\2024_0x1_TakasuWinter\\0208_TCS_AYC\\20240208_0031.csv: c:\\TSDE_Workarea\\ktt2yk\\CARSIM\\Sim_Work_HGT_3BVT_BB88574_VAR01_Matlab2012b\\20240208_0031_341_3BVT_FWD_Stdless_low_spd.csv\n",
      "Extracted 20240208_0032_342_3BVT_FWD_Stdless_low_spd.csv to c:\\TSDE_Workarea\\ktt2yk\\CARSIM\\Sim_Work_HGT_3BVT_BB88574_VAR01_Matlab2012b\n",
      "343/410, c:\\TSDE_Workarea\\ktt2yk\\Projects\\3BVT\\2024_0x1_TakasuWinter\\0208_TCS_AYC\\20240208_0032.csv: c:\\TSDE_Workarea\\ktt2yk\\CARSIM\\Sim_Work_HGT_3BVT_BB88574_VAR01_Matlab2012b\\20240208_0032_342_3BVT_FWD_Stdless_low_spd.csv\n",
      "Extracted 20240208_0033_343_3BVT_FWD_Stdless_low_spd.csv to c:\\TSDE_Workarea\\ktt2yk\\CARSIM\\Sim_Work_HGT_3BVT_BB88574_VAR01_Matlab2012b\n",
      "344/410, c:\\TSDE_Workarea\\ktt2yk\\Projects\\3BVT\\2024_0x1_TakasuWinter\\0208_TCS_AYC\\20240208_0033.csv: c:\\TSDE_Workarea\\ktt2yk\\CARSIM\\Sim_Work_HGT_3BVT_BB88574_VAR01_Matlab2012b\\20240208_0033_343_3BVT_FWD_Stdless_low_spd.csv\n",
      "Extracted 20240208_0034_344_3BVT_FWD_Stdless_low_spd.csv to c:\\TSDE_Workarea\\ktt2yk\\CARSIM\\Sim_Work_HGT_3BVT_BB88574_VAR01_Matlab2012b\n",
      "345/410, c:\\TSDE_Workarea\\ktt2yk\\Projects\\3BVT\\2024_0x1_TakasuWinter\\0208_TCS_AYC\\20240208_0034.csv: c:\\TSDE_Workarea\\ktt2yk\\CARSIM\\Sim_Work_HGT_3BVT_BB88574_VAR01_Matlab2012b\\20240208_0034_344_3BVT_FWD_Stdless_low_spd.csv\n",
      "Extracted 20240208_0035_345_3BVT_FWD_Stdless_low_spd.csv to c:\\TSDE_Workarea\\ktt2yk\\CARSIM\\Sim_Work_HGT_3BVT_BB88574_VAR01_Matlab2012b\n",
      "346/410, c:\\TSDE_Workarea\\ktt2yk\\Projects\\3BVT\\2024_0x1_TakasuWinter\\0208_TCS_AYC\\20240208_0035.csv: c:\\TSDE_Workarea\\ktt2yk\\CARSIM\\Sim_Work_HGT_3BVT_BB88574_VAR01_Matlab2012b\\20240208_0035_345_3BVT_FWD_Stdless_low_spd.csv\n",
      "347/410, c:\\TSDE_Workarea\\ktt2yk\\Projects\\3BVT\\2024_0x1_TakasuWinter\\0208_TCS_AYC\\20240208_0036.csv: None\n",
      "Extracted 20240208_0037_347_3BVT_FWD_Stdless_low_spd.csv to c:\\TSDE_Workarea\\ktt2yk\\CARSIM\\Sim_Work_HGT_3BVT_BB88574_VAR01_Matlab2012b\n",
      "348/410, c:\\TSDE_Workarea\\ktt2yk\\Projects\\3BVT\\2024_0x1_TakasuWinter\\0208_TCS_AYC\\20240208_0037.csv: c:\\TSDE_Workarea\\ktt2yk\\CARSIM\\Sim_Work_HGT_3BVT_BB88574_VAR01_Matlab2012b\\20240208_0037_347_3BVT_FWD_Stdless_low_spd.csv\n",
      "Extracted 20240208_0038_348_3BVT_FWD_Stdless_low_spd.csv to c:\\TSDE_Workarea\\ktt2yk\\CARSIM\\Sim_Work_HGT_3BVT_BB88574_VAR01_Matlab2012b\n",
      "349/410, c:\\TSDE_Workarea\\ktt2yk\\Projects\\3BVT\\2024_0x1_TakasuWinter\\0208_TCS_AYC\\20240208_0038.csv: c:\\TSDE_Workarea\\ktt2yk\\CARSIM\\Sim_Work_HGT_3BVT_BB88574_VAR01_Matlab2012b\\20240208_0038_348_3BVT_FWD_Stdless_low_spd.csv\n",
      "Extracted 20240208_0039_349_3BVT_FWD_Stdless_low_spd.csv to c:\\TSDE_Workarea\\ktt2yk\\CARSIM\\Sim_Work_HGT_3BVT_BB88574_VAR01_Matlab2012b\n",
      "350/410, c:\\TSDE_Workarea\\ktt2yk\\Projects\\3BVT\\2024_0x1_TakasuWinter\\0208_TCS_AYC\\20240208_0039.csv: c:\\TSDE_Workarea\\ktt2yk\\CARSIM\\Sim_Work_HGT_3BVT_BB88574_VAR01_Matlab2012b\\20240208_0039_349_3BVT_FWD_Stdless_low_spd.csv\n",
      "Extracted 20240208_0040_350_3BVT_FWD_Stdless_low_spd.csv to c:\\TSDE_Workarea\\ktt2yk\\CARSIM\\Sim_Work_HGT_3BVT_BB88574_VAR01_Matlab2012b\n",
      "351/410, c:\\TSDE_Workarea\\ktt2yk\\Projects\\3BVT\\2024_0x1_TakasuWinter\\0208_TCS_AYC\\20240208_0040.csv: c:\\TSDE_Workarea\\ktt2yk\\CARSIM\\Sim_Work_HGT_3BVT_BB88574_VAR01_Matlab2012b\\20240208_0040_350_3BVT_FWD_Stdless_low_spd.csv\n",
      "Extracted 20240208_0041_351_3BVT_FWD_Stdless_low_spd.csv to c:\\TSDE_Workarea\\ktt2yk\\CARSIM\\Sim_Work_HGT_3BVT_BB88574_VAR01_Matlab2012b\n",
      "352/410, c:\\TSDE_Workarea\\ktt2yk\\Projects\\3BVT\\2024_0x1_TakasuWinter\\0208_TCS_AYC\\20240208_0041.csv: c:\\TSDE_Workarea\\ktt2yk\\CARSIM\\Sim_Work_HGT_3BVT_BB88574_VAR01_Matlab2012b\\20240208_0041_351_3BVT_FWD_Stdless_low_spd.csv\n",
      "Extracted 20240208_0042_352_3BVT_FWD_Stdless_low_spd.csv to c:\\TSDE_Workarea\\ktt2yk\\CARSIM\\Sim_Work_HGT_3BVT_BB88574_VAR01_Matlab2012b\n",
      "353/410, c:\\TSDE_Workarea\\ktt2yk\\Projects\\3BVT\\2024_0x1_TakasuWinter\\0208_TCS_AYC\\20240208_0042.csv: c:\\TSDE_Workarea\\ktt2yk\\CARSIM\\Sim_Work_HGT_3BVT_BB88574_VAR01_Matlab2012b\\20240208_0042_352_3BVT_FWD_Stdless_low_spd.csv\n",
      "Extracted 20240208_0043_353_3BVT_FWD_Stdless_low_spd.csv to c:\\TSDE_Workarea\\ktt2yk\\CARSIM\\Sim_Work_HGT_3BVT_BB88574_VAR01_Matlab2012b\n",
      "354/410, c:\\TSDE_Workarea\\ktt2yk\\Projects\\3BVT\\2024_0x1_TakasuWinter\\0208_TCS_AYC\\20240208_0043.csv: c:\\TSDE_Workarea\\ktt2yk\\CARSIM\\Sim_Work_HGT_3BVT_BB88574_VAR01_Matlab2012b\\20240208_0043_353_3BVT_FWD_Stdless_low_spd.csv\n",
      "Extracted 20240208_0044_354_3BVT_FWD_Stdless_low_spd.csv to c:\\TSDE_Workarea\\ktt2yk\\CARSIM\\Sim_Work_HGT_3BVT_BB88574_VAR01_Matlab2012b\n",
      "355/410, c:\\TSDE_Workarea\\ktt2yk\\Projects\\3BVT\\2024_0x1_TakasuWinter\\0208_TCS_AYC\\20240208_0044.csv: c:\\TSDE_Workarea\\ktt2yk\\CARSIM\\Sim_Work_HGT_3BVT_BB88574_VAR01_Matlab2012b\\20240208_0044_354_3BVT_FWD_Stdless_low_spd.csv\n",
      "356/410, c:\\TSDE_Workarea\\ktt2yk\\Projects\\3BVT\\2024_0x1_TakasuWinter\\0208_TCS_AYC\\20240208_0045.csv: None\n",
      "357/410, c:\\TSDE_Workarea\\ktt2yk\\Projects\\3BVT\\2024_0x1_TakasuWinter\\0208_TCS_AYC\\20240208_0046.csv: None\n",
      "Extracted 20240208_0047_357_3BVT_FWD_Stdless_low_spd.csv to c:\\TSDE_Workarea\\ktt2yk\\CARSIM\\Sim_Work_HGT_3BVT_BB88574_VAR01_Matlab2012b\n",
      "358/410, c:\\TSDE_Workarea\\ktt2yk\\Projects\\3BVT\\2024_0x1_TakasuWinter\\0208_TCS_AYC\\20240208_0047.csv: c:\\TSDE_Workarea\\ktt2yk\\CARSIM\\Sim_Work_HGT_3BVT_BB88574_VAR01_Matlab2012b\\20240208_0047_357_3BVT_FWD_Stdless_low_spd.csv\n",
      "Extracted 20240208_0048_358_3BVT_FWD_Stdless_low_spd.csv to c:\\TSDE_Workarea\\ktt2yk\\CARSIM\\Sim_Work_HGT_3BVT_BB88574_VAR01_Matlab2012b\n",
      "359/410, c:\\TSDE_Workarea\\ktt2yk\\Projects\\3BVT\\2024_0x1_TakasuWinter\\0208_TCS_AYC\\20240208_0048.csv: c:\\TSDE_Workarea\\ktt2yk\\CARSIM\\Sim_Work_HGT_3BVT_BB88574_VAR01_Matlab2012b\\20240208_0048_358_3BVT_FWD_Stdless_low_spd.csv\n",
      "360/410, c:\\TSDE_Workarea\\ktt2yk\\Projects\\3BVT\\2024_0x1_TakasuWinter\\0208_TCS_AYC\\20240208_0049.csv: None\n",
      "Extracted 20240208_0050_360_3BVT_FWD_Stdless_low_spd.csv to c:\\TSDE_Workarea\\ktt2yk\\CARSIM\\Sim_Work_HGT_3BVT_BB88574_VAR01_Matlab2012b\n",
      "361/410, c:\\TSDE_Workarea\\ktt2yk\\Projects\\3BVT\\2024_0x1_TakasuWinter\\0208_TCS_AYC\\20240208_0050.csv: c:\\TSDE_Workarea\\ktt2yk\\CARSIM\\Sim_Work_HGT_3BVT_BB88574_VAR01_Matlab2012b\\20240208_0050_360_3BVT_FWD_Stdless_low_spd.csv\n",
      "Extracted 20240208_0051_361_3BVT_FWD_Stdless_low_spd.csv to c:\\TSDE_Workarea\\ktt2yk\\CARSIM\\Sim_Work_HGT_3BVT_BB88574_VAR01_Matlab2012b\n",
      "362/410, c:\\TSDE_Workarea\\ktt2yk\\Projects\\3BVT\\2024_0x1_TakasuWinter\\0208_TCS_AYC\\20240208_0051.csv: c:\\TSDE_Workarea\\ktt2yk\\CARSIM\\Sim_Work_HGT_3BVT_BB88574_VAR01_Matlab2012b\\20240208_0051_361_3BVT_FWD_Stdless_low_spd.csv\n",
      "363/410, c:\\TSDE_Workarea\\ktt2yk\\Projects\\3BVT\\2024_0x1_TakasuWinter\\0208_TCS_AYC\\20240208_0052.csv: None\n",
      "364/410, c:\\TSDE_Workarea\\ktt2yk\\Projects\\3BVT\\2024_0x1_TakasuWinter\\0208_TCS_Onakasan\\20240208_0008.csv: None\n",
      "Extracted 20240208_0009_364_3BVT_FWD_Stdless_low_spd.csv to c:\\TSDE_Workarea\\ktt2yk\\CARSIM\\Sim_Work_HGT_3BVT_BB88574_VAR01_Matlab2012b\n",
      "365/410, c:\\TSDE_Workarea\\ktt2yk\\Projects\\3BVT\\2024_0x1_TakasuWinter\\0208_TCS_Onakasan\\20240208_0009.csv: c:\\TSDE_Workarea\\ktt2yk\\CARSIM\\Sim_Work_HGT_3BVT_BB88574_VAR01_Matlab2012b\\20240208_0009_364_3BVT_FWD_Stdless_low_spd.csv\n",
      "Extracted 20240208_0010_365_3BVT_FWD_Stdless_low_spd.csv to c:\\TSDE_Workarea\\ktt2yk\\CARSIM\\Sim_Work_HGT_3BVT_BB88574_VAR01_Matlab2012b\n",
      "366/410, c:\\TSDE_Workarea\\ktt2yk\\Projects\\3BVT\\2024_0x1_TakasuWinter\\0208_TCS_Onakasan\\20240208_0010.csv: c:\\TSDE_Workarea\\ktt2yk\\CARSIM\\Sim_Work_HGT_3BVT_BB88574_VAR01_Matlab2012b\\20240208_0010_365_3BVT_FWD_Stdless_low_spd.csv\n",
      "Extracted 20240208_0011_366_3BVT_FWD_Stdless_low_spd.csv to c:\\TSDE_Workarea\\ktt2yk\\CARSIM\\Sim_Work_HGT_3BVT_BB88574_VAR01_Matlab2012b\n",
      "367/410, c:\\TSDE_Workarea\\ktt2yk\\Projects\\3BVT\\2024_0x1_TakasuWinter\\0208_TCS_Onakasan\\20240208_0011.csv: c:\\TSDE_Workarea\\ktt2yk\\CARSIM\\Sim_Work_HGT_3BVT_BB88574_VAR01_Matlab2012b\\20240208_0011_366_3BVT_FWD_Stdless_low_spd.csv\n",
      "Extracted 20240208_0012_367_3BVT_FWD_Stdless_low_spd.csv to c:\\TSDE_Workarea\\ktt2yk\\CARSIM\\Sim_Work_HGT_3BVT_BB88574_VAR01_Matlab2012b\n",
      "368/410, c:\\TSDE_Workarea\\ktt2yk\\Projects\\3BVT\\2024_0x1_TakasuWinter\\0208_TCS_Onakasan\\20240208_0012.csv: c:\\TSDE_Workarea\\ktt2yk\\CARSIM\\Sim_Work_HGT_3BVT_BB88574_VAR01_Matlab2012b\\20240208_0012_367_3BVT_FWD_Stdless_low_spd.csv\n",
      "Extracted 20240208_0013_368_3BVT_FWD_Stdless_low_spd.csv to c:\\TSDE_Workarea\\ktt2yk\\CARSIM\\Sim_Work_HGT_3BVT_BB88574_VAR01_Matlab2012b\n",
      "369/410, c:\\TSDE_Workarea\\ktt2yk\\Projects\\3BVT\\2024_0x1_TakasuWinter\\0208_TCS_Onakasan\\20240208_0013.csv: c:\\TSDE_Workarea\\ktt2yk\\CARSIM\\Sim_Work_HGT_3BVT_BB88574_VAR01_Matlab2012b\\20240208_0013_368_3BVT_FWD_Stdless_low_spd.csv\n",
      "Extracted 20240208_0014_369_3BVT_FWD_Stdless_low_spd.csv to c:\\TSDE_Workarea\\ktt2yk\\CARSIM\\Sim_Work_HGT_3BVT_BB88574_VAR01_Matlab2012b\n",
      "370/410, c:\\TSDE_Workarea\\ktt2yk\\Projects\\3BVT\\2024_0x1_TakasuWinter\\0208_TCS_Onakasan\\20240208_0014.csv: c:\\TSDE_Workarea\\ktt2yk\\CARSIM\\Sim_Work_HGT_3BVT_BB88574_VAR01_Matlab2012b\\20240208_0014_369_3BVT_FWD_Stdless_low_spd.csv\n",
      "Extracted 20240208_0015_370_3BVT_FWD_Stdless_low_spd.csv to c:\\TSDE_Workarea\\ktt2yk\\CARSIM\\Sim_Work_HGT_3BVT_BB88574_VAR01_Matlab2012b\n",
      "371/410, c:\\TSDE_Workarea\\ktt2yk\\Projects\\3BVT\\2024_0x1_TakasuWinter\\0208_TCS_Onakasan\\20240208_0015.csv: c:\\TSDE_Workarea\\ktt2yk\\CARSIM\\Sim_Work_HGT_3BVT_BB88574_VAR01_Matlab2012b\\20240208_0015_370_3BVT_FWD_Stdless_low_spd.csv\n",
      "Extracted 20240208_0016_371_3BVT_FWD_Stdless_low_spd.csv to c:\\TSDE_Workarea\\ktt2yk\\CARSIM\\Sim_Work_HGT_3BVT_BB88574_VAR01_Matlab2012b\n",
      "372/410, c:\\TSDE_Workarea\\ktt2yk\\Projects\\3BVT\\2024_0x1_TakasuWinter\\0208_TCS_Onakasan\\20240208_0016.csv: c:\\TSDE_Workarea\\ktt2yk\\CARSIM\\Sim_Work_HGT_3BVT_BB88574_VAR01_Matlab2012b\\20240208_0016_371_3BVT_FWD_Stdless_low_spd.csv\n",
      "Extracted 20240208_0017_372_3BVT_FWD_Stdless_low_spd.csv to c:\\TSDE_Workarea\\ktt2yk\\CARSIM\\Sim_Work_HGT_3BVT_BB88574_VAR01_Matlab2012b\n",
      "373/410, c:\\TSDE_Workarea\\ktt2yk\\Projects\\3BVT\\2024_0x1_TakasuWinter\\0208_TCS_Onakasan\\20240208_0017.csv: c:\\TSDE_Workarea\\ktt2yk\\CARSIM\\Sim_Work_HGT_3BVT_BB88574_VAR01_Matlab2012b\\20240208_0017_372_3BVT_FWD_Stdless_low_spd.csv\n",
      "Extracted 20240208_0018_373_3BVT_FWD_Stdless_low_spd.csv to c:\\TSDE_Workarea\\ktt2yk\\CARSIM\\Sim_Work_HGT_3BVT_BB88574_VAR01_Matlab2012b\n",
      "374/410, c:\\TSDE_Workarea\\ktt2yk\\Projects\\3BVT\\2024_0x1_TakasuWinter\\0208_TCS_Onakasan\\20240208_0018.csv: c:\\TSDE_Workarea\\ktt2yk\\CARSIM\\Sim_Work_HGT_3BVT_BB88574_VAR01_Matlab2012b\\20240208_0018_373_3BVT_FWD_Stdless_low_spd.csv\n",
      "Extracted 20240208_0019_374_3BVT_FWD_Stdless_low_spd.csv to c:\\TSDE_Workarea\\ktt2yk\\CARSIM\\Sim_Work_HGT_3BVT_BB88574_VAR01_Matlab2012b\n",
      "375/410, c:\\TSDE_Workarea\\ktt2yk\\Projects\\3BVT\\2024_0x1_TakasuWinter\\0208_TCS_Onakasan\\20240208_0019.csv: c:\\TSDE_Workarea\\ktt2yk\\CARSIM\\Sim_Work_HGT_3BVT_BB88574_VAR01_Matlab2012b\\20240208_0019_374_3BVT_FWD_Stdless_low_spd.csv\n",
      "Extracted 20240208_0020_375_3BVT_FWD_Stdless_low_spd.csv to c:\\TSDE_Workarea\\ktt2yk\\CARSIM\\Sim_Work_HGT_3BVT_BB88574_VAR01_Matlab2012b\n",
      "376/410, c:\\TSDE_Workarea\\ktt2yk\\Projects\\3BVT\\2024_0x1_TakasuWinter\\0208_TCS_Onakasan\\20240208_0020.csv: c:\\TSDE_Workarea\\ktt2yk\\CARSIM\\Sim_Work_HGT_3BVT_BB88574_VAR01_Matlab2012b\\20240208_0020_375_3BVT_FWD_Stdless_low_spd.csv\n",
      "Extracted 20240208_0021_376_3BVT_FWD_Stdless_low_spd.csv to c:\\TSDE_Workarea\\ktt2yk\\CARSIM\\Sim_Work_HGT_3BVT_BB88574_VAR01_Matlab2012b\n",
      "377/410, c:\\TSDE_Workarea\\ktt2yk\\Projects\\3BVT\\2024_0x1_TakasuWinter\\0208_TCS_Onakasan\\20240208_0021.csv: c:\\TSDE_Workarea\\ktt2yk\\CARSIM\\Sim_Work_HGT_3BVT_BB88574_VAR01_Matlab2012b\\20240208_0021_376_3BVT_FWD_Stdless_low_spd.csv\n",
      "Extracted 20240208_0022_377_3BVT_FWD_Stdless_low_spd.csv to c:\\TSDE_Workarea\\ktt2yk\\CARSIM\\Sim_Work_HGT_3BVT_BB88574_VAR01_Matlab2012b\n",
      "378/410, c:\\TSDE_Workarea\\ktt2yk\\Projects\\3BVT\\2024_0x1_TakasuWinter\\0208_TCS_Onakasan\\20240208_0022.csv: c:\\TSDE_Workarea\\ktt2yk\\CARSIM\\Sim_Work_HGT_3BVT_BB88574_VAR01_Matlab2012b\\20240208_0022_377_3BVT_FWD_Stdless_low_spd.csv\n",
      "379/410, c:\\TSDE_Workarea\\ktt2yk\\Projects\\3BVT\\2024_0x1_TakasuWinter\\0208_TCS_Onakasan\\20240208_0023.csv: None\n",
      "380/410, c:\\TSDE_Workarea\\ktt2yk\\Projects\\3BVT\\2024_0x1_TakasuWinter\\0208_TCS_Onakasan\\20240208_0024.csv: None\n",
      "Extracted 20240208_0025_380_3BVT_FWD_Stdless_low_spd.csv to c:\\TSDE_Workarea\\ktt2yk\\CARSIM\\Sim_Work_HGT_3BVT_BB88574_VAR01_Matlab2012b\n",
      "381/410, c:\\TSDE_Workarea\\ktt2yk\\Projects\\3BVT\\2024_0x1_TakasuWinter\\0208_TCS_Onakasan\\20240208_0025.csv: c:\\TSDE_Workarea\\ktt2yk\\CARSIM\\Sim_Work_HGT_3BVT_BB88574_VAR01_Matlab2012b\\20240208_0025_380_3BVT_FWD_Stdless_low_spd.csv\n",
      "382/410, c:\\TSDE_Workarea\\ktt2yk\\Projects\\3BVT\\2024_0x1_TakasuWinter\\0208_TCS_Onakasan\\20240208_0026.csv: None\n",
      "383/410, c:\\TSDE_Workarea\\ktt2yk\\Projects\\3BVT\\2024_0x1_TakasuWinter\\0208_TCS_Onakasan\\20240208_0027.csv: None\n",
      "Extracted 20240213_0000_383_3BVT_FWD_Stdless_low_spd.csv to c:\\TSDE_Workarea\\ktt2yk\\CARSIM\\Sim_Work_HGT_3BVT_BB88574_VAR01_Matlab2012b\n",
      "384/410, c:\\TSDE_Workarea\\ktt2yk\\Projects\\3BVT\\2024_0x1_TakasuWinter_for_Sim\\0213_TCS_For_Simulation\\20240213_0000.csv: c:\\TSDE_Workarea\\ktt2yk\\CARSIM\\Sim_Work_HGT_3BVT_BB88574_VAR01_Matlab2012b\\20240213_0000_383_3BVT_FWD_Stdless_low_spd.csv\n",
      "Extracted 20240213_0001_384_3BVT_FWD_Stdless_low_spd.csv to c:\\TSDE_Workarea\\ktt2yk\\CARSIM\\Sim_Work_HGT_3BVT_BB88574_VAR01_Matlab2012b\n",
      "385/410, c:\\TSDE_Workarea\\ktt2yk\\Projects\\3BVT\\2024_0x1_TakasuWinter_for_Sim\\0213_TCS_For_Simulation\\20240213_0001.csv: c:\\TSDE_Workarea\\ktt2yk\\CARSIM\\Sim_Work_HGT_3BVT_BB88574_VAR01_Matlab2012b\\20240213_0001_384_3BVT_FWD_Stdless_low_spd.csv\n",
      "Extracted 20240213_0002_385_3BVT_FWD_Stdless_low_spd.csv to c:\\TSDE_Workarea\\ktt2yk\\CARSIM\\Sim_Work_HGT_3BVT_BB88574_VAR01_Matlab2012b\n",
      "386/410, c:\\TSDE_Workarea\\ktt2yk\\Projects\\3BVT\\2024_0x1_TakasuWinter_for_Sim\\0213_TCS_For_Simulation\\20240213_0002.csv: c:\\TSDE_Workarea\\ktt2yk\\CARSIM\\Sim_Work_HGT_3BVT_BB88574_VAR01_Matlab2012b\\20240213_0002_385_3BVT_FWD_Stdless_low_spd.csv\n",
      "Extracted 20240213_0003_386_3BVT_FWD_Stdless_low_spd.csv to c:\\TSDE_Workarea\\ktt2yk\\CARSIM\\Sim_Work_HGT_3BVT_BB88574_VAR01_Matlab2012b\n",
      "387/410, c:\\TSDE_Workarea\\ktt2yk\\Projects\\3BVT\\2024_0x1_TakasuWinter_for_Sim\\0213_TCS_For_Simulation\\20240213_0003.csv: c:\\TSDE_Workarea\\ktt2yk\\CARSIM\\Sim_Work_HGT_3BVT_BB88574_VAR01_Matlab2012b\\20240213_0003_386_3BVT_FWD_Stdless_low_spd.csv\n",
      "Extracted 20240213_0004_387_3BVT_FWD_Stdless_low_spd.csv to c:\\TSDE_Workarea\\ktt2yk\\CARSIM\\Sim_Work_HGT_3BVT_BB88574_VAR01_Matlab2012b\n",
      "388/410, c:\\TSDE_Workarea\\ktt2yk\\Projects\\3BVT\\2024_0x1_TakasuWinter_for_Sim\\0213_TCS_For_Simulation\\20240213_0004.csv: c:\\TSDE_Workarea\\ktt2yk\\CARSIM\\Sim_Work_HGT_3BVT_BB88574_VAR01_Matlab2012b\\20240213_0004_387_3BVT_FWD_Stdless_low_spd.csv\n",
      "Extracted 20240213_0005_388_3BVT_FWD_Stdless_low_spd.csv to c:\\TSDE_Workarea\\ktt2yk\\CARSIM\\Sim_Work_HGT_3BVT_BB88574_VAR01_Matlab2012b\n",
      "389/410, c:\\TSDE_Workarea\\ktt2yk\\Projects\\3BVT\\2024_0x1_TakasuWinter_for_Sim\\0213_TCS_For_Simulation\\20240213_0005.csv: c:\\TSDE_Workarea\\ktt2yk\\CARSIM\\Sim_Work_HGT_3BVT_BB88574_VAR01_Matlab2012b\\20240213_0005_388_3BVT_FWD_Stdless_low_spd.csv\n",
      "Extracted 20240213_0006_389_3BVT_FWD_Stdless_low_spd.csv to c:\\TSDE_Workarea\\ktt2yk\\CARSIM\\Sim_Work_HGT_3BVT_BB88574_VAR01_Matlab2012b\n",
      "390/410, c:\\TSDE_Workarea\\ktt2yk\\Projects\\3BVT\\2024_0x1_TakasuWinter_for_Sim\\0213_TCS_For_Simulation\\20240213_0006.csv: c:\\TSDE_Workarea\\ktt2yk\\CARSIM\\Sim_Work_HGT_3BVT_BB88574_VAR01_Matlab2012b\\20240213_0006_389_3BVT_FWD_Stdless_low_spd.csv\n",
      "Extracted 20240213_0007_390_3BVT_FWD_Stdless_low_spd.csv to c:\\TSDE_Workarea\\ktt2yk\\CARSIM\\Sim_Work_HGT_3BVT_BB88574_VAR01_Matlab2012b\n",
      "391/410, c:\\TSDE_Workarea\\ktt2yk\\Projects\\3BVT\\2024_0x1_TakasuWinter_for_Sim\\0213_TCS_For_Simulation\\20240213_0007.csv: c:\\TSDE_Workarea\\ktt2yk\\CARSIM\\Sim_Work_HGT_3BVT_BB88574_VAR01_Matlab2012b\\20240213_0007_390_3BVT_FWD_Stdless_low_spd.csv\n",
      "Extracted 20240213_0008_391_3BVT_FWD_Stdless_low_spd.csv to c:\\TSDE_Workarea\\ktt2yk\\CARSIM\\Sim_Work_HGT_3BVT_BB88574_VAR01_Matlab2012b\n",
      "392/410, c:\\TSDE_Workarea\\ktt2yk\\Projects\\3BVT\\2024_0x1_TakasuWinter_for_Sim\\0213_TCS_For_Simulation\\20240213_0008.csv: c:\\TSDE_Workarea\\ktt2yk\\CARSIM\\Sim_Work_HGT_3BVT_BB88574_VAR01_Matlab2012b\\20240213_0008_391_3BVT_FWD_Stdless_low_spd.csv\n",
      "Extracted 20240213_0009_392_3BVT_FWD_Stdless_low_spd.csv to c:\\TSDE_Workarea\\ktt2yk\\CARSIM\\Sim_Work_HGT_3BVT_BB88574_VAR01_Matlab2012b\n",
      "393/410, c:\\TSDE_Workarea\\ktt2yk\\Projects\\3BVT\\2024_0x1_TakasuWinter_for_Sim\\0213_TCS_For_Simulation\\20240213_0009.csv: c:\\TSDE_Workarea\\ktt2yk\\CARSIM\\Sim_Work_HGT_3BVT_BB88574_VAR01_Matlab2012b\\20240213_0009_392_3BVT_FWD_Stdless_low_spd.csv\n",
      "Extracted 20240213_0010_393_3BVT_FWD_Stdless_low_spd.csv to c:\\TSDE_Workarea\\ktt2yk\\CARSIM\\Sim_Work_HGT_3BVT_BB88574_VAR01_Matlab2012b\n",
      "394/410, c:\\TSDE_Workarea\\ktt2yk\\Projects\\3BVT\\2024_0x1_TakasuWinter_for_Sim\\0213_TCS_For_Simulation\\20240213_0010.csv: c:\\TSDE_Workarea\\ktt2yk\\CARSIM\\Sim_Work_HGT_3BVT_BB88574_VAR01_Matlab2012b\\20240213_0010_393_3BVT_FWD_Stdless_low_spd.csv\n",
      "Extracted 20240213_0011_394_3BVT_FWD_Stdless_low_spd.csv to c:\\TSDE_Workarea\\ktt2yk\\CARSIM\\Sim_Work_HGT_3BVT_BB88574_VAR01_Matlab2012b\n",
      "395/410, c:\\TSDE_Workarea\\ktt2yk\\Projects\\3BVT\\2024_0x1_TakasuWinter_for_Sim\\0213_TCS_For_Simulation\\20240213_0011.csv: c:\\TSDE_Workarea\\ktt2yk\\CARSIM\\Sim_Work_HGT_3BVT_BB88574_VAR01_Matlab2012b\\20240213_0011_394_3BVT_FWD_Stdless_low_spd.csv\n",
      "Extracted 20240213_0012_395_3BVT_FWD_Stdless_low_spd.csv to c:\\TSDE_Workarea\\ktt2yk\\CARSIM\\Sim_Work_HGT_3BVT_BB88574_VAR01_Matlab2012b\n",
      "396/410, c:\\TSDE_Workarea\\ktt2yk\\Projects\\3BVT\\2024_0x1_TakasuWinter_for_Sim\\0213_TCS_For_Simulation\\20240213_0012.csv: c:\\TSDE_Workarea\\ktt2yk\\CARSIM\\Sim_Work_HGT_3BVT_BB88574_VAR01_Matlab2012b\\20240213_0012_395_3BVT_FWD_Stdless_low_spd.csv\n",
      "Extracted 20240213_0013_396_3BVT_FWD_Stdless_low_spd.csv to c:\\TSDE_Workarea\\ktt2yk\\CARSIM\\Sim_Work_HGT_3BVT_BB88574_VAR01_Matlab2012b\n",
      "397/410, c:\\TSDE_Workarea\\ktt2yk\\Projects\\3BVT\\2024_0x1_TakasuWinter_for_Sim\\0213_TCS_For_Simulation\\20240213_0013.csv: c:\\TSDE_Workarea\\ktt2yk\\CARSIM\\Sim_Work_HGT_3BVT_BB88574_VAR01_Matlab2012b\\20240213_0013_396_3BVT_FWD_Stdless_low_spd.csv\n",
      "Extracted 20240213_0014_397_3BVT_FWD_Stdless_low_spd.csv to c:\\TSDE_Workarea\\ktt2yk\\CARSIM\\Sim_Work_HGT_3BVT_BB88574_VAR01_Matlab2012b\n",
      "398/410, c:\\TSDE_Workarea\\ktt2yk\\Projects\\3BVT\\2024_0x1_TakasuWinter_for_Sim\\0213_TCS_For_Simulation\\20240213_0014.csv: c:\\TSDE_Workarea\\ktt2yk\\CARSIM\\Sim_Work_HGT_3BVT_BB88574_VAR01_Matlab2012b\\20240213_0014_397_3BVT_FWD_Stdless_low_spd.csv\n",
      "Extracted 20240213_0015_398_3BVT_FWD_Stdless_low_spd.csv to c:\\TSDE_Workarea\\ktt2yk\\CARSIM\\Sim_Work_HGT_3BVT_BB88574_VAR01_Matlab2012b\n",
      "399/410, c:\\TSDE_Workarea\\ktt2yk\\Projects\\3BVT\\2024_0x1_TakasuWinter_for_Sim\\0213_TCS_For_Simulation\\20240213_0015.csv: c:\\TSDE_Workarea\\ktt2yk\\CARSIM\\Sim_Work_HGT_3BVT_BB88574_VAR01_Matlab2012b\\20240213_0015_398_3BVT_FWD_Stdless_low_spd.csv\n",
      "Extracted 20240213_0016_399_3BVT_FWD_Stdless_low_spd.csv to c:\\TSDE_Workarea\\ktt2yk\\CARSIM\\Sim_Work_HGT_3BVT_BB88574_VAR01_Matlab2012b\n",
      "400/410, c:\\TSDE_Workarea\\ktt2yk\\Projects\\3BVT\\2024_0x1_TakasuWinter_for_Sim\\0213_TCS_For_Simulation\\20240213_0016.csv: c:\\TSDE_Workarea\\ktt2yk\\CARSIM\\Sim_Work_HGT_3BVT_BB88574_VAR01_Matlab2012b\\20240213_0016_399_3BVT_FWD_Stdless_low_spd.csv\n",
      "Extracted 20240213_0017_400_3BVT_FWD_Stdless_low_spd.csv to c:\\TSDE_Workarea\\ktt2yk\\CARSIM\\Sim_Work_HGT_3BVT_BB88574_VAR01_Matlab2012b\n",
      "401/410, c:\\TSDE_Workarea\\ktt2yk\\Projects\\3BVT\\2024_0x1_TakasuWinter_for_Sim\\0213_TCS_For_Simulation\\20240213_0017.csv: c:\\TSDE_Workarea\\ktt2yk\\CARSIM\\Sim_Work_HGT_3BVT_BB88574_VAR01_Matlab2012b\\20240213_0017_400_3BVT_FWD_Stdless_low_spd.csv\n",
      "Extracted 20240213_0018_401_3BVT_FWD_Stdless_low_spd.csv to c:\\TSDE_Workarea\\ktt2yk\\CARSIM\\Sim_Work_HGT_3BVT_BB88574_VAR01_Matlab2012b\n",
      "402/410, c:\\TSDE_Workarea\\ktt2yk\\Projects\\3BVT\\2024_0x1_TakasuWinter_for_Sim\\0213_TCS_For_Simulation\\20240213_0018.csv: c:\\TSDE_Workarea\\ktt2yk\\CARSIM\\Sim_Work_HGT_3BVT_BB88574_VAR01_Matlab2012b\\20240213_0018_401_3BVT_FWD_Stdless_low_spd.csv\n",
      "Extracted 20240213_0019_402_3BVT_FWD_Stdless_low_spd.csv to c:\\TSDE_Workarea\\ktt2yk\\CARSIM\\Sim_Work_HGT_3BVT_BB88574_VAR01_Matlab2012b\n",
      "403/410, c:\\TSDE_Workarea\\ktt2yk\\Projects\\3BVT\\2024_0x1_TakasuWinter_for_Sim\\0213_TCS_For_Simulation\\20240213_0019.csv: c:\\TSDE_Workarea\\ktt2yk\\CARSIM\\Sim_Work_HGT_3BVT_BB88574_VAR01_Matlab2012b\\20240213_0019_402_3BVT_FWD_Stdless_low_spd.csv\n",
      "Extracted 20240213_0020_403_3BVT_FWD_Stdless_low_spd.csv to c:\\TSDE_Workarea\\ktt2yk\\CARSIM\\Sim_Work_HGT_3BVT_BB88574_VAR01_Matlab2012b\n",
      "404/410, c:\\TSDE_Workarea\\ktt2yk\\Projects\\3BVT\\2024_0x1_TakasuWinter_for_Sim\\0213_TCS_For_Simulation\\20240213_0020.csv: c:\\TSDE_Workarea\\ktt2yk\\CARSIM\\Sim_Work_HGT_3BVT_BB88574_VAR01_Matlab2012b\\20240213_0020_403_3BVT_FWD_Stdless_low_spd.csv\n",
      "Extracted 20240213_0021_404_3BVT_FWD_Stdless_low_spd.csv to c:\\TSDE_Workarea\\ktt2yk\\CARSIM\\Sim_Work_HGT_3BVT_BB88574_VAR01_Matlab2012b\n",
      "405/410, c:\\TSDE_Workarea\\ktt2yk\\Projects\\3BVT\\2024_0x1_TakasuWinter_for_Sim\\0213_TCS_For_Simulation\\20240213_0021.csv: c:\\TSDE_Workarea\\ktt2yk\\CARSIM\\Sim_Work_HGT_3BVT_BB88574_VAR01_Matlab2012b\\20240213_0021_404_3BVT_FWD_Stdless_low_spd.csv\n",
      "Extracted 20240213_0022_405_3BVT_FWD_Stdless_low_spd.csv to c:\\TSDE_Workarea\\ktt2yk\\CARSIM\\Sim_Work_HGT_3BVT_BB88574_VAR01_Matlab2012b\n",
      "406/410, c:\\TSDE_Workarea\\ktt2yk\\Projects\\3BVT\\2024_0x1_TakasuWinter_for_Sim\\0213_TCS_For_Simulation\\20240213_0022.csv: c:\\TSDE_Workarea\\ktt2yk\\CARSIM\\Sim_Work_HGT_3BVT_BB88574_VAR01_Matlab2012b\\20240213_0022_405_3BVT_FWD_Stdless_low_spd.csv\n",
      "Extracted 20240213_0023_406_3BVT_FWD_Stdless_low_spd.csv to c:\\TSDE_Workarea\\ktt2yk\\CARSIM\\Sim_Work_HGT_3BVT_BB88574_VAR01_Matlab2012b\n",
      "407/410, c:\\TSDE_Workarea\\ktt2yk\\Projects\\3BVT\\2024_0x1_TakasuWinter_for_Sim\\0213_TCS_For_Simulation\\20240213_0023.csv: c:\\TSDE_Workarea\\ktt2yk\\CARSIM\\Sim_Work_HGT_3BVT_BB88574_VAR01_Matlab2012b\\20240213_0023_406_3BVT_FWD_Stdless_low_spd.csv\n",
      "Extracted 20240213_0024_407_3BVT_FWD_Stdless_low_spd.csv to c:\\TSDE_Workarea\\ktt2yk\\CARSIM\\Sim_Work_HGT_3BVT_BB88574_VAR01_Matlab2012b\n",
      "408/410, c:\\TSDE_Workarea\\ktt2yk\\Projects\\3BVT\\2024_0x1_TakasuWinter_for_Sim\\0213_TCS_For_Simulation\\20240213_0024.csv: c:\\TSDE_Workarea\\ktt2yk\\CARSIM\\Sim_Work_HGT_3BVT_BB88574_VAR01_Matlab2012b\\20240213_0024_407_3BVT_FWD_Stdless_low_spd.csv\n",
      "Extracted 20240213_0025_408_3BVT_FWD_Stdless_low_spd.csv to c:\\TSDE_Workarea\\ktt2yk\\CARSIM\\Sim_Work_HGT_3BVT_BB88574_VAR01_Matlab2012b\n",
      "409/410, c:\\TSDE_Workarea\\ktt2yk\\Projects\\3BVT\\2024_0x1_TakasuWinter_for_Sim\\0213_TCS_For_Simulation\\20240213_0025.csv: c:\\TSDE_Workarea\\ktt2yk\\CARSIM\\Sim_Work_HGT_3BVT_BB88574_VAR01_Matlab2012b\\20240213_0025_408_3BVT_FWD_Stdless_low_spd.csv\n",
      "Extracted 20240213_0026_409_3BVT_FWD_Stdless_low_spd.csv to c:\\TSDE_Workarea\\ktt2yk\\CARSIM\\Sim_Work_HGT_3BVT_BB88574_VAR01_Matlab2012b\n",
      "410/410, c:\\TSDE_Workarea\\ktt2yk\\Projects\\3BVT\\2024_0x1_TakasuWinter_for_Sim\\0213_TCS_For_Simulation\\20240213_0026.csv: c:\\TSDE_Workarea\\ktt2yk\\CARSIM\\Sim_Work_HGT_3BVT_BB88574_VAR01_Matlab2012b\\20240213_0026_409_3BVT_FWD_Stdless_low_spd.csv\n"
     ]
    }
   ],
   "source": [
    "DIR = 'c:\\\\TSDE_Workarea\\\\ktt2yk\\\\CARSIM\\\\Sim_Work_HGT_3BVT_BB88574_VAR01_Matlab2012b\\\\'\n",
    "MDL_Est = f'{DIR}Carsim_Est_2_HGT_3BVT.mdl'\n",
    "matlab_version = \"R2022b\"\n",
    "\n",
    "d_SIMs = ML.EstimateWheelTorque(d_CSV_vRef, '3BVT_FWD_Stdless_low_spd', DIR, MDL_Est, matlab_version, override=False)\n",
    "\n",
    "PKL = f'{DIR}\\\\Sim_List_{Project}.pkl'\n",
    "with open(PKL, 'wb') as file:\n",
    "    pickle.dump(d_SIMs, file)"
   ]
  },
  {
   "cell_type": "markdown",
   "id": "b5e705d7-d829-4934-8782-b6db2b1c3514",
   "metadata": {},
   "source": [
    "## Selecting Data"
   ]
  },
  {
   "cell_type": "code",
   "execution_count": 55,
   "id": "639eecc4-8c90-4398-b826-7266c0531d70",
   "metadata": {
    "scrolled": true
   },
   "outputs": [
    {
     "name": "stdout",
     "output_type": "stream",
     "text": [
      "Snow: 37\n",
      "Duplication: 37\n"
     ]
    }
   ],
   "source": [
    "# データ選別\n",
    "contain_list = ['snow']\n",
    "not_contain_list = ['split', 'abs', 'ice', 'hill', '10%']\n",
    "ignore_list = []\n",
    "d_Selected_CSVs = ML.Search_Comment(d_SIMs, contain_list, not_contain_list, ignore_list=ignore_list)\n",
    "print(f'Snow: {len(d_Selected_CSVs)}')\n",
    "\n",
    "# contain_list = ['ms']\n",
    "# not_contain_list = ['summer', 'measure_v57_2wd', 'measure_v53_kh', 'measure_v75_2wd_wtsa', 'measure_v85_2wd_kyg']\n",
    "# d_Selected_CSVs = ML.Search_Comment(d_Selected_CSVs, contain_list, not_contain_list)\n",
    "# print(f'MS: {len(d_Selected_CSVs)}')\n",
    "\n",
    "# 重複データの削除\n",
    "d_Selected_CSVs = ML.removing_duplication_files(d_Selected_CSVs)\n",
    "print(f'Duplication: {len(d_Selected_CSVs)}')\n",
    "\n",
    "PKL = f'{DIR}\\\\Sim_List_{Project}.pkl'\n",
    "with open(PKL, 'wb') as file:\n",
    "    pickle.dump(d_Selected_CSVs, file)"
   ]
  },
  {
   "cell_type": "code",
   "execution_count": 56,
   "id": "4d5280d0-b7de-43a9-ae81-b80fc91cfa32",
   "metadata": {
    "scrolled": true
   },
   "outputs": [],
   "source": [
    "# d_Selected_CSVs"
   ]
  },
  {
   "cell_type": "markdown",
   "id": "34cb90aa-3b95-4be4-a1db-e729b3f689e7",
   "metadata": {},
   "source": [
    "# Data for ML"
   ]
  },
  {
   "cell_type": "markdown",
   "id": "b469dd4f-25aa-4bcf-a062-bb1db12da1cd",
   "metadata": {},
   "source": [
    "## Features"
   ]
  },
  {
   "cell_type": "code",
   "execution_count": 13,
   "id": "ae8a142c-40ac-4c89-ba82-8a5e37d3bf7b",
   "metadata": {},
   "outputs": [],
   "source": [
    "def Create_Features_EstWhlTrq(d_Datas, abrollumfang, vibration_thresholds=None, vibration=False):\n",
    "    for F in d_Datas:\n",
    "        File = d_Datas[F]['Features']\n",
    "        root, ext = os.path.splitext(File)\n",
    "        zip_file = f'{root}.zip'\n",
    "        extracted_files = Common.Unpack_ZIP_to_CSV(zip_file, remove_zip=True)\n",
    "        df = pd.read_table(extracted_files[0], sep=',')\n",
    "\n",
    "        df['diff_Vx_L1'] = df['Vx_L1'] - df['Vx_R1']\n",
    "        df['diff_Vx_R1'] = df['Vx_R1'] - df['Vx_L1']\n",
    "        df['diff_Vx_L2'] = df['Vx_L2'] - df['Vx_R2']\n",
    "        df['diff_Vx_R2'] = df['Vx_R2'] - df['Vx_L2']\n",
    "        df['dev_Vx_L1'] = df['Vx_L1'] - df['Vx']\n",
    "        df['dev_Vx_R1'] = df['Vx_R1'] - df['Vx'] \n",
    "        df['dev_Vx_L2'] = df['Vx_L2'] - df['Vx']\n",
    "        df['dev_Vx_R2'] = df['Vx_R2'] - df['Vx']\n",
    "\n",
    "        df['abs_diff_Vx'] = (df['Vx'] - df['V'] * 3.6).abs()\n",
    "        df['abs_diff_Vx_L1'] = (df['Vx_L1'] - df['v_FL'] * 3.6).abs()\n",
    "        df['abs_diff_Vx_R1'] = (df['Vx_R1'] - df['v_FR'] * 3.6).abs()\n",
    "        df['abs_diff_Vx_L2'] = (df['Vx_L2'] - df['v_RL'] * 3.6).abs()\n",
    "        df['abs_diff_Vx_R2'] = (df['Vx_R2'] - df['v_RR'] * 3.6).abs()\n",
    "\n",
    "        df['GearRatio'] = (df['nDrvUnit'] / 60 ) / (((df['Vx_L1'] + df['Vx_R1']) / 2 * df['Co_FA'] + (df['Vx_L2'] + df['Vx_R2']) / 2 * (1 - df['Co_FA'])) / 3.6 / abrollumfang)\n",
    "        df['GearRatio'] = df['GearRatio'].clip(lower=0, upper=20)\n",
    "\n",
    "        df['abs_Sas'] = df['Steer_in'].abs()\n",
    "        df['abs_vGiF'] = df['vGiF'].abs()\n",
    "        df['abs_ayToF'] = df['ayToF'].abs()\n",
    "    \n",
    "        if 'ThrottlePos' not in df.columns and 'Throttle_in' in df.columns:\n",
    "            df['ThrottlePos'] = df['Throttle_in']\n",
    "        \n",
    "        Filtered_Sigs = [(['IMP_MY_OUT_DR_L1', 'IMP_MY_OUT_DR_R1', 'IMP_MY_OUT_DR_L2', 'IMP_MY_OUT_DR_R2'], [10, 20, 40, 100, 200, 400], True),\n",
    "                         (['IMP_FX_L1', 'IMP_FX_R1', 'IMP_FX_L2', 'IMP_FX_R2'], [10, 20, 40, 100, 200, 400], False),\n",
    "                         (['Fz_L1', 'Fz_R1', 'Fz_L2', 'Fz_R2'], [400], False),\n",
    "                         (['Ax_SM', 'MMotAct', 'ThrottlePos', 'GearRatio'], [10, 20, 40, 100, 200, 400], False),\n",
    "                         (['diff_Vx_L1', 'diff_Vx_R1', 'diff_Vx_L2', 'diff_Vx_R2'], [10, 20, 40, 100, 200, 400], False),\n",
    "                         (['dev_Vx_L1', 'dev_Vx_R1', 'dev_Vx_L2', 'dev_Vx_R2'], [10, 20, 40, 100, 200, 400], False),\n",
    "                         (['p_FL', 'p_FR'], [10, 20, 40, 100, 200, 400], False)]\n",
    "        \n",
    "        for data in Filtered_Sigs:\n",
    "            Sigs, Ns, center = data\n",
    "            for Sig in Sigs:\n",
    "                for N in Ns:\n",
    "                    df[f'{Sig}_{str(N)}'] = df[Sig].rolling(window=N, center=center).mean()\n",
    "\n",
    "        if vibration == True:\n",
    "            df = ML.detect_vibration(df, thresholds)\n",
    "        \n",
    "        df.to_csv(extracted_files[0], index=False)\n",
    "        _ = Common.SAVE_CSV_to_ZIP(extracted_files[0], remove_csv=True)"
   ]
  },
  {
   "cell_type": "code",
   "execution_count": 14,
   "id": "86b152ba-6268-4def-b099-2f6097945e16",
   "metadata": {},
   "outputs": [],
   "source": [
    "def Create_Features(Datas, Filtered_Sigs):\n",
    "    for file in Datas:\n",
    "        df = pd.read_table(file, sep=',')\n",
    "\n",
    "        df['v_RA_kph'] = (df['v_RL'] + df['v_RR']) / 2 * 3.6\n",
    "        \n",
    "        for data in Filtered_Sigs:\n",
    "            Sigs, Ns = data\n",
    "            for Sig in Sigs:\n",
    "                for N in Ns:\n",
    "                    df[f'{Sig}_{str(N)}'] = df[Sig].rolling(window=N, center=False).mean()\n",
    "        \n",
    "        df.to_csv(file, index=False)"
   ]
  },
  {
   "cell_type": "code",
   "execution_count": 15,
   "id": "88f97174-98cd-4fd8-ae7d-4b89aa2b7f74",
   "metadata": {},
   "outputs": [],
   "source": [
    "def Create_Train_Val_Data_EstWhlTrq(d_Datas, dir, project, train=0.7, MY_OUT=False, add=''):\n",
    "    data_list = list(d_Datas.keys())\n",
    "    shuffled_indices = np.random.permutation(len(data_list))\n",
    "    end = int(len(data_list) * train)\n",
    "    train_indices = shuffled_indices[:end]\n",
    "    val_indices = shuffled_indices[end:]\n",
    "\n",
    "    train_list = []\n",
    "    for i in train_indices:\n",
    "        file = d_Datas[data_list[i]]['Features']\n",
    "        train_list.append(file)\n",
    "\n",
    "    if len(train_list) != 0:\n",
    "        df = Create_Data_EstWhlTrq(train_list, MY_OUT)\n",
    "        train_file = f'{dir}train_data_{project}_EstWhlTrq{add}.pkl'\n",
    "        with open(train_file, 'wb') as file:\n",
    "            pickle.dump(df, file)\n",
    "    else:\n",
    "        train_file = None\n",
    "            \n",
    "    val_list = []\n",
    "    for i in val_indices:\n",
    "        file = d_Datas[data_list[i]]['Features']\n",
    "        val_list.append(file)\n",
    "\n",
    "    if len(val_list) != 0:\n",
    "        df = Create_Data_EstWhlTrq(val_list, MY_OUT)\n",
    "        val_file = f'{dir}val_data_{project}_EstWhlTrq{add}.pkl'\n",
    "        with open(val_file, 'wb') as file:\n",
    "            pickle.dump(df, file)\n",
    "    else:\n",
    "        val_file = None\n",
    "\n",
    "    return train_file, val_file, train_list, val_list"
   ]
  },
  {
   "cell_type": "code",
   "execution_count": 16,
   "id": "23f3ec73-9904-49de-8a70-5df9be569229",
   "metadata": {},
   "outputs": [],
   "source": [
    "def Create_Train_Val_Data(Datas, dir, project, add_name=None, train=0.7):\n",
    "    data_list = list(Datas.keys())\n",
    "    shuffled_indices = np.random.permutation(len(data_list))\n",
    "    end = int(len(data_list) * train)\n",
    "    train_indices = shuffled_indices[:end]\n",
    "    val_indices = shuffled_indices[end:]\n",
    "\n",
    "    train_list = []\n",
    "    for i in train_indices:\n",
    "        file = data_list[i]\n",
    "        train_list.append(file)\n",
    "\n",
    "    if add_name == None:\n",
    "        add = ''\n",
    "    else:\n",
    "        add = f'_{add_name}'\n",
    "    \n",
    "    df = Create_Data(train_list)\n",
    "    train_file = f'{dir}train_data_{project}{add}.pkl'\n",
    "    with open(train_file, 'wb') as file:\n",
    "        pickle.dump(df, file)\n",
    "        \n",
    "    val_list = []\n",
    "    for i in val_indices:\n",
    "        file = data_list[i]\n",
    "        val_list.append(file)\n",
    "\n",
    "    df = Create_Data(val_list)\n",
    "\n",
    "    val_file = f'{dir}val_data_{project}{add}.pkl'\n",
    "    with open(val_file, 'wb') as file:\n",
    "        pickle.dump(df, file)\n",
    "\n",
    "    return train_file, val_file, train_list, val_list"
   ]
  },
  {
   "cell_type": "code",
   "execution_count": 17,
   "id": "f38a9600-1207-49b0-9210-c5885351af40",
   "metadata": {},
   "outputs": [],
   "source": [
    "def Create_Data_EstWhlTrq(data_list, MY_OUT):    \n",
    "    for i, File in enumerate(data_list):    \n",
    "        root, ext = os.path.splitext(File)\n",
    "        zip_file = f'{root}.zip'\n",
    "        extracted_files = Common.Unpack_ZIP_to_CSV(zip_file, remove_zip=False)\n",
    "        df = pd.read_table(File, sep=',')\n",
    "        \n",
    "        if i == 0:\n",
    "            df_concat = df\n",
    "        else:\n",
    "            df_concat = pd.concat([df_concat, df], axis=0, ignore_index=True)\n",
    "    \n",
    "        for file in extracted_files:\n",
    "            if os.path.exists(file):\n",
    "                os.remove(file)\n",
    "\n",
    "    if MY_OUT == True:\n",
    "        # print(File)\n",
    "        change_sigs = {}\n",
    "        change_sigs['IMP_FX_x1_10'] = ['IMP_FX_L1_10', 'IMP_FX_R1_10']\n",
    "        change_sigs['IMP_FX_x1_20'] = ['IMP_FX_L1_20', 'IMP_FX_R1_20']\n",
    "        change_sigs['IMP_FX_x1_40'] = ['IMP_FX_L1_40', 'IMP_FX_R1_40']\n",
    "        change_sigs['IMP_FX_x1_100'] = ['IMP_FX_L1_100', 'IMP_FX_R1_100']\n",
    "        change_sigs['IMP_FX_x1_200'] = ['IMP_FX_L1_200', 'IMP_FX_R1_200']\n",
    "        change_sigs['IMP_FX_x1_400'] = ['IMP_FX_L1_400', 'IMP_FX_R1_400']\n",
    "        # change_sigs['IMP_FX_x2'] = ['IMP_FX_L2_40', 'IMP_FX_R2_40']\n",
    "        change_sigs['Fz_x1'] = ['Fz_L1_400', 'Fz_R1_400']\n",
    "        change_sigs['Fz_x2'] = ['Fz_L2_400', 'Fz_R2_400']\n",
    "        change_sigs['diff_Vx_x1_10'] = ['diff_Vx_L1_10', 'diff_Vx_R1_10']\n",
    "        change_sigs['diff_Vx_x1_20'] = ['diff_Vx_L1_20', 'diff_Vx_R1_20']\n",
    "        change_sigs['diff_Vx_x1_40'] = ['diff_Vx_L1_40', 'diff_Vx_R1_40']\n",
    "        change_sigs['diff_Vx_x1_100'] = ['diff_Vx_L1_100', 'diff_Vx_R1_100']\n",
    "        change_sigs['diff_Vx_x1_200'] = ['diff_Vx_L1_200', 'diff_Vx_R1_200']\n",
    "        change_sigs['diff_Vx_x1_400'] = ['diff_Vx_L1_400', 'diff_Vx_R1_400']\n",
    "        change_sigs['dev_Vx_x1_10'] = ['dev_Vx_L1_10', 'dev_Vx_R1_10']\n",
    "        change_sigs['dev_Vx_x1_20'] = ['dev_Vx_L1_20', 'dev_Vx_R1_20']\n",
    "        change_sigs['dev_Vx_x1_40'] = ['dev_Vx_L1_40', 'dev_Vx_R1_40']\n",
    "        change_sigs['dev_Vx_x1_100'] = ['dev_Vx_L1_100', 'dev_Vx_R1_100']\n",
    "        change_sigs['dev_Vx_x1_200'] = ['dev_Vx_L1_200', 'dev_Vx_R1_200']\n",
    "        change_sigs['dev_Vx_x1_400'] = ['dev_Vx_L1_400', 'dev_Vx_R1_400']\n",
    "        change_sigs['diff_Vx_x2_10'] = ['diff_Vx_L2_10', 'diff_Vx_R2_10']\n",
    "        change_sigs['diff_Vx_x2_20'] = ['diff_Vx_L2_20', 'diff_Vx_R2_20']\n",
    "        change_sigs['diff_Vx_x2_40'] = ['diff_Vx_L2_40', 'diff_Vx_R2_40']\n",
    "        change_sigs['diff_Vx_x2_100'] = ['diff_Vx_L2_100', 'diff_Vx_R2_100']\n",
    "        change_sigs['diff_Vx_x2_200'] = ['diff_Vx_L2_200', 'diff_Vx_R2_200']\n",
    "        change_sigs['diff_Vx_x2_400'] = ['diff_Vx_L2_400', 'diff_Vx_R2_400']\n",
    "        change_sigs['dev_Vx_x2_10'] = ['dev_Vx_L2_10', 'dev_Vx_R2_10']\n",
    "        change_sigs['dev_Vx_x2_20'] = ['dev_Vx_L2_20', 'dev_Vx_R2_20']\n",
    "        change_sigs['dev_Vx_x2_40'] = ['dev_Vx_L2_40', 'dev_Vx_R2_40']\n",
    "        change_sigs['dev_Vx_x2_100'] = ['dev_Vx_L2_100', 'dev_Vx_R2_100']\n",
    "        change_sigs['dev_Vx_x2_200'] = ['dev_Vx_L2_200', 'dev_Vx_R2_200']\n",
    "        change_sigs['dev_Vx_x2_400'] = ['dev_Vx_L2_400', 'dev_Vx_R2_400']\n",
    "        change_sigs['p_Fx_10'] = ['p_FL_10', 'p_FR_10']\n",
    "        change_sigs['p_Fx_20'] = ['p_FL_20', 'p_FR_20']\n",
    "        change_sigs['p_Fx_40'] = ['p_FL_40', 'p_FR_40']\n",
    "        change_sigs['p_Fx_100'] = ['p_FL_100', 'p_FR_100']\n",
    "        change_sigs['p_Fx_200'] = ['p_FL_200', 'p_FR_200']\n",
    "        change_sigs['p_Fx_400'] = ['p_FL_400', 'p_FR_400']\n",
    "        change_sigs['p_Fx_2_10'] = ['p_FR_10', 'p_FL_10']\n",
    "        change_sigs['p_Fx_2_20'] = ['p_FR_20', 'p_FL_20']\n",
    "        change_sigs['p_Fx_2_40'] = ['p_FR_40', 'p_FL_40']\n",
    "        change_sigs['p_Fx_2_100'] = ['p_FR_100', 'p_FL_100']\n",
    "        change_sigs['p_Fx_2_200'] = ['p_FR_200', 'p_FL_200']\n",
    "        change_sigs['p_Fx_2_400'] = ['p_FR_400', 'p_FL_400']\n",
    "        change_sigs['IMP_MY_OUT_DR_x1'] = ['IMP_MY_OUT_DR_L1_40', 'IMP_MY_OUT_DR_R1_40']\n",
    "        change_sigs['IMP_MY_OUT_DR_x2'] = ['IMP_MY_OUT_DR_L2_40', 'IMP_MY_OUT_DR_R2_40']\n",
    "        \n",
    "        for i in [0, 1]:\n",
    "            for sig in change_sigs:\n",
    "                # print(df_concat.columns)\n",
    "                # print(change_sigs[sig][i])\n",
    "                df_concat[sig] = df_concat[change_sigs[sig][i]]\n",
    "            if i == 0:\n",
    "                df_out = df_concat\n",
    "            else:\n",
    "                df_out = pd.concat([df_out, df_concat], axis=0, ignore_index=True)\n",
    "        \n",
    "        # df_out.to_csv(out, index=False)\n",
    "\n",
    "    else:\n",
    "        df_out = df_concat\n",
    "    return df_out"
   ]
  },
  {
   "cell_type": "code",
   "execution_count": 18,
   "id": "c3307f11-2469-4e5f-b970-d46d586978a0",
   "metadata": {},
   "outputs": [],
   "source": [
    "def Create_Data(data_list):    \n",
    "    for i, file in enumerate(data_list):    \n",
    "        df = pd.read_table(file, sep=',')\n",
    "        \n",
    "        if i == 0:\n",
    "            df_concat = df\n",
    "        else:\n",
    "            df_concat = pd.concat([df_concat, df], axis=0, ignore_index=True)\n",
    "\n",
    "    return df_concat"
   ]
  },
  {
   "cell_type": "markdown",
   "id": "9546e940-0379-4dc1-bc68-1068695db1a7",
   "metadata": {},
   "source": [
    "## Run"
   ]
  },
  {
   "cell_type": "markdown",
   "id": "1a33167a-5618-4775-bb91-cd4066602304",
   "metadata": {},
   "source": [
    "### Estimating Wheel Torque(MY_OUT)"
   ]
  },
  {
   "cell_type": "code",
   "execution_count": 27,
   "id": "0663e96b-9294-4625-9200-96459c53e891",
   "metadata": {},
   "outputs": [],
   "source": [
    "# pickleファイルを読み込む\n",
    "DIR = 'c:\\\\TSDE_Workarea\\\\ktt2yk\\\\CARSIM\\\\Sim_Work_HGT_3BVT_BB88574_VAR01_Matlab2012b\\\\'\n",
    "file_path = f'{DIR}Sim_List_{Project}.pkl'\n",
    "with open(file_path, 'rb') as file:\n",
    "    d_SIMs = pickle.load(file)"
   ]
  },
  {
   "cell_type": "code",
   "execution_count": 28,
   "id": "57fb6933-19d5-4202-89ec-f604d88e5234",
   "metadata": {
    "scrolled": true
   },
   "outputs": [
    {
     "name": "stdout",
     "output_type": "stream",
     "text": [
      "37\n"
     ]
    }
   ],
   "source": [
    "# サンプリング時間の変更\n",
    "d_SIMs = ML.Resampling(d_SIMs, override=False)\n",
    "print(len(d_SIMs))"
   ]
  },
  {
   "cell_type": "raw",
   "id": "2657834d-b39f-43cf-84bd-5164ee836eb0",
   "metadata": {
    "scrolled": true
   },
   "source": [
    "# 特徴量（振動検出）の検討\n",
    "# Dir = 'c:\\\\TSDE_Workarea\\\\ktt2yk\\\\CARSIM\\\\CarSim_HGT_3A0A_BB85363_Var10_20230516_Matlab2022b\\\\'\n",
    "# File = f'{Dir}20210203_0009_1434_3A0A_ABS_FHEV_KA_4WD_5ms.csv'\n",
    "# df = pd.read_table(File, sep=',')\n",
    "# df, thresholds = detect_vibration_threshold(df)\n",
    "# df.to_csv(f'{Dir}vibration_threshold.csv', index=False)\n",
    "# print(thresholds)\n",
    "\n",
    "# File = f'{Dir}20200114_0033_2521_3A0A_ABS_FHEV_KA_4WD_5ms.csv'\n",
    "# df = pd.read_table(File, sep=',')\n",
    "# df = detect_vibration(df, thresholds)\n",
    "# df.to_csv(f'{Dir}vibration.csv', index=False)\n",
    "\n",
    "# 特徴量の作成\n",
    "# Vibration_Thresholds = {'Vx_L1_rolling_std': 5.545621794003921,\n",
    "#                        'Vx_R1_rolling_std': 4.5422820543420155,\n",
    "#                        'Vx_L2_rolling_std': 0.5126707363352918,\n",
    "#                        'Vx_R2_rolling_std': 0.5143928413297248,\n",
    "#                        'IMP_FX_L1_rolling_std': 815.7665907984712,\n",
    "#                        'IMP_FX_R1_rolling_std': 815.7665907984712,\n",
    "#                        'IMP_FX_L2_rolling_std': 0.012278214377030465,\n",
    "#                        'IMP_FX_R2_rolling_std': 0.012278214377030465,\n",
    "#                        'IMP_MY_OUT_DR_L1_rolling_std': 320.3087461357675,\n",
    "#                        'IMP_MY_OUT_DR_R1_rolling_std': 301.498065560067,\n",
    "#                        'IMP_MY_OUT_DR_L2_rolling_std': 241.34109167283475,\n",
    "#                        'IMP_MY_OUT_DR_R2_rolling_std': 233.73903668765968}\n",
    "\n",
    "Abrollumfang = 1.7021148997\n",
    "Create_Features_EstWhlTrq(d_SIMs, Abrollumfang)"
   ]
  },
  {
   "cell_type": "code",
   "execution_count": 29,
   "id": "430ddb4e-b669-440c-a5bc-1788f530569b",
   "metadata": {},
   "outputs": [],
   "source": [
    "# Adding signals\n",
    "# PLT = 'c:\\\\TSDE_Workarea\\\\ktt2yk\\\\Work\\\\Tire_Torque\\\\Conv_Est_Tire.PLT'\n",
    "# Add_Signals = ['MDriverRequest']\n",
    "# d_SIMs = ML.Adding_Signals(d_SIMs, Add_Signals, PLT)"
   ]
  },
  {
   "cell_type": "raw",
   "id": "71fa5127-c201-4976-82e2-109756ab6a92",
   "metadata": {
    "scrolled": true
   },
   "source": [
    "# データチェック\n",
    "# Coping target file\n",
    "for label in d_SIMs:\n",
    "    root, ext = os.path.splitext(label)\n",
    "    # print(f'{root}_5ms.zip')\n",
    "\n",
    "    # コピー元ファイルのパス\n",
    "    source_path = f'{root}_5ms.zip'\n",
    "    basename = os.path.basename(source_path)\n",
    "\n",
    "    # コピー先ファイルのパス\n",
    "    dir = f'{DIR}Check\\\\'\n",
    "    destination_path = f'{dir}{basename}'\n",
    "\n",
    "    if os.path.exists(source_path):\n",
    "        # ファイルをコピーする\n",
    "        shutil.copyfile(source_path, destination_path)\n",
    "        \n",
    "        print(f\"File copied from {source_path} to {destination_path}\")"
   ]
  },
  {
   "cell_type": "code",
   "execution_count": 30,
   "id": "9c9a8524-12ed-4036-a27f-6b9b7047658c",
   "metadata": {},
   "outputs": [
    {
     "name": "stdout",
     "output_type": "stream",
     "text": [
      "Train: 24/24\n"
     ]
    }
   ],
   "source": [
    "# データ選別\n",
    "# contain_list = []\n",
    "# not_contain_list = ['2024_0x1_TakasuWinter_for_Sim']\n",
    "# ignore_list = []\n",
    "# d_SIMs_Train = ML.Search_Comment(d_SIMs, contain_list, not_contain_list, ignore_list=ignore_list)\n",
    "# print(f'Train: {len(d_SIMs_Train)}/{len(d_SIMs)}')\n",
    "\n",
    "# contain_list = ['2024_0x1_TakasuWinter_for_Sim']\n",
    "# not_contain_list = []\n",
    "# ignore_list = []\n",
    "# d_SIMs_Val = ML.Search_Comment(d_SIMs, contain_list, not_contain_list, ignore_list=ignore_list)\n",
    "# print(f'Val: {len(d_SIMs_Val)}/{len(d_SIMs)}')\n",
    "\n",
    "contain_list = []\n",
    "not_contain_list = ['20240208_0051_361', '20240208_0048_358', '20240208_0047_357', '20240208_0023_333', '20240208_0020_375', '20240208_0016_326', '20240208_0013_368', '20240208_0012_322', '20240208_0011_366', '20240208_0009_319', '20240208_0000_310', '20240206_0032_260', '20240206_0012_240']\n",
    "ignore_list = []\n",
    "d_SIMs = ML.Search_Comment(d_SIMs, contain_list, not_contain_list, ignore_list=ignore_list)\n",
    "print(f'Train: {len(d_SIMs)}/{len(d_SIMs)}')"
   ]
  },
  {
   "cell_type": "code",
   "execution_count": 31,
   "id": "b1408a58-ba36-4fac-8db8-cd0fa054d178",
   "metadata": {
    "scrolled": true
   },
   "outputs": [
    {
     "name": "stdout",
     "output_type": "stream",
     "text": [
      "Extracted 20240213_0006_389_3BVT_FWD_Stdless_low_spd_5ms.csv to c:\\TSDE_Workarea\\ktt2yk\\CARSIM\\Sim_Work_HGT_3BVT_BB88574_VAR01_Matlab2012b\n",
      "Extracted 20240208_0026_336_3BVT_FWD_Stdless_low_spd_5ms.csv to c:\\TSDE_Workarea\\ktt2yk\\CARSIM\\Sim_Work_HGT_3BVT_BB88574_VAR01_Matlab2012b\n",
      "Extracted 20240213_0013_396_3BVT_FWD_Stdless_low_spd_5ms.csv to c:\\TSDE_Workarea\\ktt2yk\\CARSIM\\Sim_Work_HGT_3BVT_BB88574_VAR01_Matlab2012b\n",
      "Extracted 20240213_0025_408_3BVT_FWD_Stdless_low_spd_5ms.csv to c:\\TSDE_Workarea\\ktt2yk\\CARSIM\\Sim_Work_HGT_3BVT_BB88574_VAR01_Matlab2012b\n",
      "Extracted 20240213_0001_384_3BVT_FWD_Stdless_low_spd_5ms.csv to c:\\TSDE_Workarea\\ktt2yk\\CARSIM\\Sim_Work_HGT_3BVT_BB88574_VAR01_Matlab2012b\n",
      "Extracted 20240208_0014_369_3BVT_FWD_Stdless_low_spd_5ms.csv to c:\\TSDE_Workarea\\ktt2yk\\CARSIM\\Sim_Work_HGT_3BVT_BB88574_VAR01_Matlab2012b\n",
      "Extracted 20240213_0008_391_3BVT_FWD_Stdless_low_spd_5ms.csv to c:\\TSDE_Workarea\\ktt2yk\\CARSIM\\Sim_Work_HGT_3BVT_BB88574_VAR01_Matlab2012b\n",
      "Extracted 20240213_0021_404_3BVT_FWD_Stdless_low_spd_5ms.csv to c:\\TSDE_Workarea\\ktt2yk\\CARSIM\\Sim_Work_HGT_3BVT_BB88574_VAR01_Matlab2012b\n",
      "Extracted 20240213_0017_400_3BVT_FWD_Stdless_low_spd_5ms.csv to c:\\TSDE_Workarea\\ktt2yk\\CARSIM\\Sim_Work_HGT_3BVT_BB88574_VAR01_Matlab2012b\n",
      "Extracted 20240213_0026_409_3BVT_FWD_Stdless_low_spd_5ms.csv to c:\\TSDE_Workarea\\ktt2yk\\CARSIM\\Sim_Work_HGT_3BVT_BB88574_VAR01_Matlab2012b\n",
      "Extracted 20240213_0004_387_3BVT_FWD_Stdless_low_spd_5ms.csv to c:\\TSDE_Workarea\\ktt2yk\\CARSIM\\Sim_Work_HGT_3BVT_BB88574_VAR01_Matlab2012b\n",
      "Extracted 20240208_0027_337_3BVT_FWD_Stdless_low_spd_5ms.csv to c:\\TSDE_Workarea\\ktt2yk\\CARSIM\\Sim_Work_HGT_3BVT_BB88574_VAR01_Matlab2012b\n",
      "Extracted 20240213_0010_393_3BVT_FWD_Stdless_low_spd_5ms.csv to c:\\TSDE_Workarea\\ktt2yk\\CARSIM\\Sim_Work_HGT_3BVT_BB88574_VAR01_Matlab2012b\n",
      "Extracted 20240208_0031_341_3BVT_FWD_Stdless_low_spd_5ms.csv to c:\\TSDE_Workarea\\ktt2yk\\CARSIM\\Sim_Work_HGT_3BVT_BB88574_VAR01_Matlab2012b\n",
      "Extracted 20240206_0014_242_3BVT_FWD_Stdless_low_spd_5ms.csv to c:\\TSDE_Workarea\\ktt2yk\\CARSIM\\Sim_Work_HGT_3BVT_BB88574_VAR01_Matlab2012b\n",
      "Extracted 20240213_0002_385_3BVT_FWD_Stdless_low_spd_5ms.csv to c:\\TSDE_Workarea\\ktt2yk\\CARSIM\\Sim_Work_HGT_3BVT_BB88574_VAR01_Matlab2012b\n",
      "Extracted 20240208_0019_374_3BVT_FWD_Stdless_low_spd_5ms.csv to c:\\TSDE_Workarea\\ktt2yk\\CARSIM\\Sim_Work_HGT_3BVT_BB88574_VAR01_Matlab2012b\n",
      "Extracted 20240213_0015_398_3BVT_FWD_Stdless_low_spd_5ms.csv to c:\\TSDE_Workarea\\ktt2yk\\CARSIM\\Sim_Work_HGT_3BVT_BB88574_VAR01_Matlab2012b\n",
      "Extracted 20240208_0009_364_3BVT_FWD_Stdless_low_spd_5ms.csv to c:\\TSDE_Workarea\\ktt2yk\\CARSIM\\Sim_Work_HGT_3BVT_BB88574_VAR01_Matlab2012b\n",
      "Extracted 20240213_0005_388_3BVT_FWD_Stdless_low_spd_5ms.csv to c:\\TSDE_Workarea\\ktt2yk\\CARSIM\\Sim_Work_HGT_3BVT_BB88574_VAR01_Matlab2012b\n",
      "Extracted 20240208_0042_352_3BVT_FWD_Stdless_low_spd_5ms.csv to c:\\TSDE_Workarea\\ktt2yk\\CARSIM\\Sim_Work_HGT_3BVT_BB88574_VAR01_Matlab2012b\n",
      "Extracted 20240206_0010_238_3BVT_FWD_Stdless_low_spd_5ms.csv to c:\\TSDE_Workarea\\ktt2yk\\CARSIM\\Sim_Work_HGT_3BVT_BB88574_VAR01_Matlab2012b\n",
      "Extracted 20240213_0020_403_3BVT_FWD_Stdless_low_spd_5ms.csv to c:\\TSDE_Workarea\\ktt2yk\\CARSIM\\Sim_Work_HGT_3BVT_BB88574_VAR01_Matlab2012b\n",
      "Extracted 20240213_0018_401_3BVT_FWD_Stdless_low_spd_5ms.csv to c:\\TSDE_Workarea\\ktt2yk\\CARSIM\\Sim_Work_HGT_3BVT_BB88574_VAR01_Matlab2012b\n",
      "Train: c:\\TSDE_Workarea\\ktt2yk\\CARSIM\\Sim_Work_HGT_3BVT_BB88574_VAR01_Matlab2012b\\train_data_3BVT_EstWhlTrq.pkl\n",
      "Validation: c:\\TSDE_Workarea\\ktt2yk\\CARSIM\\Sim_Work_HGT_3BVT_BB88574_VAR01_Matlab2012b\\val_data_3BVT_EstWhlTrq.pkl\n"
     ]
    }
   ],
   "source": [
    "# 特徴量の作成\n",
    "# Train_Data, _, Train_list, _ = Create_Train_Val_Data_EstWhlTrq(d_SIMs_Train, DIR, train=1.0)\n",
    "# _, Val_Data, _, Val_list = Create_Train_Val_Data_EstWhlTrq(d_SIMs_Val, DIR, train=0.0)\n",
    "Train_Data, Val_Data, Train_list, Val_list = Create_Train_Val_Data_EstWhlTrq(d_SIMs, DIR, Project, train=0.7, MY_OUT=True)\n",
    "print(f'Train: {Train_Data}')\n",
    "print(f'Validation: {Val_Data}')\n",
    "\n",
    "# PKL = f'{Dir}\\\\Train_Val_Datas.pkl'\n",
    "# with open(PKL, 'wb') as file:\n",
    "#     pickle.dump((Train_Data, Val_Data, Train_list, Val_list), file)"
   ]
  },
  {
   "cell_type": "markdown",
   "id": "c51f3e1e-9d76-46ed-a3a3-54f3fabae0c4",
   "metadata": {},
   "source": [
    "### Estimating Wheel Torque(FX)"
   ]
  },
  {
   "cell_type": "code",
   "execution_count": 32,
   "id": "14073411-9971-4f72-8ae2-08b5f28d64b5",
   "metadata": {},
   "outputs": [],
   "source": [
    "# pickleファイルを読み込む\n",
    "DIR = 'c:\\\\TSDE_Workarea\\\\ktt2yk\\\\CARSIM\\\\Sim_Work_HGT_3BVT_BB88574_VAR01_Matlab2012b\\\\'\n",
    "file_path = f'{DIR}Sim_List_{Project}.pkl'\n",
    "with open(file_path, 'rb') as file:\n",
    "    d_SIMs = pickle.load(file)"
   ]
  },
  {
   "cell_type": "code",
   "execution_count": 33,
   "id": "f4bf9103-ed44-4621-82fd-1baddc13bc8d",
   "metadata": {
    "scrolled": true
   },
   "outputs": [
    {
     "name": "stdout",
     "output_type": "stream",
     "text": [
      "37\n"
     ]
    }
   ],
   "source": [
    "# サンプリング時間の変更\n",
    "d_SIMs = ML.Resampling(d_SIMs, override=False)\n",
    "print(len(d_SIMs))"
   ]
  },
  {
   "cell_type": "raw",
   "id": "d0eb7ce3-1f82-44b8-937c-d8a0e3c2bc48",
   "metadata": {
    "scrolled": true
   },
   "source": [
    "# 特徴量（振動検出）の検討\n",
    "# Dir = 'c:\\\\TSDE_Workarea\\\\ktt2yk\\\\CARSIM\\\\CarSim_HGT_3A0A_BB85363_Var10_20230516_Matlab2022b\\\\'\n",
    "# File = f'{Dir}20210203_0009_1434_3A0A_ABS_FHEV_KA_4WD_5ms.csv'\n",
    "# df = pd.read_table(File, sep=',')\n",
    "# df, thresholds = detect_vibration_threshold(df)\n",
    "# df.to_csv(f'{Dir}vibration_threshold.csv', index=False)\n",
    "# print(thresholds)\n",
    "\n",
    "# File = f'{Dir}20200114_0033_2521_3A0A_ABS_FHEV_KA_4WD_5ms.csv'\n",
    "# df = pd.read_table(File, sep=',')\n",
    "# df = detect_vibration(df, thresholds)\n",
    "# df.to_csv(f'{Dir}vibration.csv', index=False)\n",
    "\n",
    "# 特徴量の作成\n",
    "# Vibration_Thresholds = {'Vx_L1_rolling_std': 5.545621794003921,\n",
    "#                        'Vx_R1_rolling_std': 4.5422820543420155,\n",
    "#                        'Vx_L2_rolling_std': 0.5126707363352918,\n",
    "#                        'Vx_R2_rolling_std': 0.5143928413297248,\n",
    "#                        'IMP_FX_L1_rolling_std': 815.7665907984712,\n",
    "#                        'IMP_FX_R1_rolling_std': 815.7665907984712,\n",
    "#                        'IMP_FX_L2_rolling_std': 0.012278214377030465,\n",
    "#                        'IMP_FX_R2_rolling_std': 0.012278214377030465,\n",
    "#                        'IMP_MY_OUT_DR_L1_rolling_std': 320.3087461357675,\n",
    "#                        'IMP_MY_OUT_DR_R1_rolling_std': 301.498065560067,\n",
    "#                        'IMP_MY_OUT_DR_L2_rolling_std': 241.34109167283475,\n",
    "#                        'IMP_MY_OUT_DR_R2_rolling_std': 233.73903668765968}\n",
    "\n",
    "Abrollumfang = 1.7021148997\n",
    "Create_Features_EstWhlTrq(d_SIMs, Abrollumfang)"
   ]
  },
  {
   "cell_type": "code",
   "execution_count": 34,
   "id": "32978ba0-674a-49f4-af7b-91c65ca08a64",
   "metadata": {},
   "outputs": [],
   "source": [
    "# Adding signals\n",
    "# PLT = 'c:\\\\TSDE_Workarea\\\\ktt2yk\\\\Work\\\\Tire_Torque\\\\Conv_Est_Tire.PLT'\n",
    "# Add_Signals = ['MDriverRequest']\n",
    "# d_SIMs = ML.Adding_Signals(d_SIMs, Add_Signals, PLT)"
   ]
  },
  {
   "cell_type": "raw",
   "id": "1475b6a2-5755-45bd-a31e-8e22e215e6e8",
   "metadata": {
    "scrolled": true
   },
   "source": [
    "# データチェック\n",
    "# Coping target file\n",
    "for label in d_SIMs:\n",
    "    root, ext = os.path.splitext(label)\n",
    "    # print(f'{root}_5ms.zip')\n",
    "\n",
    "    # コピー元ファイルのパス\n",
    "    source_path = f'{root}_5ms.zip'\n",
    "    basename = os.path.basename(source_path)\n",
    "\n",
    "    # コピー先ファイルのパス\n",
    "    dir = f'{DIR}Check\\\\'\n",
    "    destination_path = f'{dir}{basename}'\n",
    "\n",
    "    if os.path.exists(source_path):\n",
    "        # ファイルをコピーする\n",
    "        shutil.copyfile(source_path, destination_path)\n",
    "        \n",
    "        print(f\"File copied from {source_path} to {destination_path}\")"
   ]
  },
  {
   "cell_type": "code",
   "execution_count": 35,
   "id": "9fc1b4ef-65a3-4aed-96b5-dc5501bf1093",
   "metadata": {},
   "outputs": [
    {
     "name": "stdout",
     "output_type": "stream",
     "text": [
      "Train: 24/24\n"
     ]
    }
   ],
   "source": [
    "# データ選別\n",
    "# contain_list = []\n",
    "# not_contain_list = ['2024_0x1_TakasuWinter_for_Sim', '20240208_0051_361', '20240208_0048_358', '20240208_0047_357', '20240208_0023_333', '20240208_0020_375', '20240208_0016_326', '20240208_0013_368', '20240208_0012_322', '20240208_0011_366', '20240208_0009_319', '20240208_0000_310', '20240206_0032_260', '20240206_0012_240']\n",
    "# ignore_list = []\n",
    "# d_SIMs_Train = ML.Search_Comment(d_SIMs, contain_list, not_contain_list, ignore_list=ignore_list)\n",
    "# print(f'Train: {len(d_SIMs_Train)}/{len(d_SIMs)}')\n",
    "\n",
    "# contain_list = ['2024_0x1_TakasuWinter_for_Sim']\n",
    "# not_contain_list = ['20240208_0051_361', '20240208_0048_358', '20240208_0047_357', '20240208_0023_333', '20240208_0020_375', '20240208_0016_326', '20240208_0013_368', '20240208_0012_322', '20240208_0011_366', '20240208_0009_319', '20240208_0000_310', '20240206_0032_260', '20240206_0012_240']\n",
    "# ignore_list = []\n",
    "# d_SIMs_Val = ML.Search_Comment(d_SIMs, contain_list, not_contain_list, ignore_list=ignore_list)\n",
    "# print(f'Val: {len(d_SIMs_Val)}/{len(d_SIMs)}')\n",
    "\n",
    "contain_list = []\n",
    "not_contain_list = ['20240208_0051_361', '20240208_0048_358', '20240208_0047_357', '20240208_0023_333', '20240208_0020_375', '20240208_0016_326', '20240208_0013_368', '20240208_0012_322', '20240208_0011_366', '20240208_0009_319', '20240208_0000_310', '20240206_0032_260', '20240206_0012_240']\n",
    "ignore_list = []\n",
    "d_SIMs = ML.Search_Comment(d_SIMs, contain_list, not_contain_list, ignore_list=ignore_list)\n",
    "print(f'Train: {len(d_SIMs)}/{len(d_SIMs)}')"
   ]
  },
  {
   "cell_type": "code",
   "execution_count": 36,
   "id": "2bd07d8d-bc99-45df-9b54-90e2ae411981",
   "metadata": {
    "scrolled": true
   },
   "outputs": [
    {
     "name": "stdout",
     "output_type": "stream",
     "text": [
      "Extracted 20240213_0026_409_3BVT_FWD_Stdless_low_spd_5ms.csv to c:\\TSDE_Workarea\\ktt2yk\\CARSIM\\Sim_Work_HGT_3BVT_BB88574_VAR01_Matlab2012b\n",
      "Extracted 20240206_0010_238_3BVT_FWD_Stdless_low_spd_5ms.csv to c:\\TSDE_Workarea\\ktt2yk\\CARSIM\\Sim_Work_HGT_3BVT_BB88574_VAR01_Matlab2012b\n",
      "Extracted 20240208_0027_337_3BVT_FWD_Stdless_low_spd_5ms.csv to c:\\TSDE_Workarea\\ktt2yk\\CARSIM\\Sim_Work_HGT_3BVT_BB88574_VAR01_Matlab2012b\n",
      "Extracted 20240213_0005_388_3BVT_FWD_Stdless_low_spd_5ms.csv to c:\\TSDE_Workarea\\ktt2yk\\CARSIM\\Sim_Work_HGT_3BVT_BB88574_VAR01_Matlab2012b\n",
      "Extracted 20240213_0010_393_3BVT_FWD_Stdless_low_spd_5ms.csv to c:\\TSDE_Workarea\\ktt2yk\\CARSIM\\Sim_Work_HGT_3BVT_BB88574_VAR01_Matlab2012b\n",
      "Extracted 20240213_0020_403_3BVT_FWD_Stdless_low_spd_5ms.csv to c:\\TSDE_Workarea\\ktt2yk\\CARSIM\\Sim_Work_HGT_3BVT_BB88574_VAR01_Matlab2012b\n",
      "Extracted 20240213_0015_398_3BVT_FWD_Stdless_low_spd_5ms.csv to c:\\TSDE_Workarea\\ktt2yk\\CARSIM\\Sim_Work_HGT_3BVT_BB88574_VAR01_Matlab2012b\n",
      "Extracted 20240208_0031_341_3BVT_FWD_Stdless_low_spd_5ms.csv to c:\\TSDE_Workarea\\ktt2yk\\CARSIM\\Sim_Work_HGT_3BVT_BB88574_VAR01_Matlab2012b\n",
      "Extracted 20240213_0018_401_3BVT_FWD_Stdless_low_spd_5ms.csv to c:\\TSDE_Workarea\\ktt2yk\\CARSIM\\Sim_Work_HGT_3BVT_BB88574_VAR01_Matlab2012b\n",
      "Extracted 20240208_0026_336_3BVT_FWD_Stdless_low_spd_5ms.csv to c:\\TSDE_Workarea\\ktt2yk\\CARSIM\\Sim_Work_HGT_3BVT_BB88574_VAR01_Matlab2012b\n",
      "Extracted 20240213_0006_389_3BVT_FWD_Stdless_low_spd_5ms.csv to c:\\TSDE_Workarea\\ktt2yk\\CARSIM\\Sim_Work_HGT_3BVT_BB88574_VAR01_Matlab2012b\n",
      "Extracted 20240208_0009_364_3BVT_FWD_Stdless_low_spd_5ms.csv to c:\\TSDE_Workarea\\ktt2yk\\CARSIM\\Sim_Work_HGT_3BVT_BB88574_VAR01_Matlab2012b\n",
      "Extracted 20240208_0042_352_3BVT_FWD_Stdless_low_spd_5ms.csv to c:\\TSDE_Workarea\\ktt2yk\\CARSIM\\Sim_Work_HGT_3BVT_BB88574_VAR01_Matlab2012b\n",
      "Extracted 20240213_0021_404_3BVT_FWD_Stdless_low_spd_5ms.csv to c:\\TSDE_Workarea\\ktt2yk\\CARSIM\\Sim_Work_HGT_3BVT_BB88574_VAR01_Matlab2012b\n",
      "Extracted 20240213_0001_384_3BVT_FWD_Stdless_low_spd_5ms.csv to c:\\TSDE_Workarea\\ktt2yk\\CARSIM\\Sim_Work_HGT_3BVT_BB88574_VAR01_Matlab2012b\n",
      "Extracted 20240213_0002_385_3BVT_FWD_Stdless_low_spd_5ms.csv to c:\\TSDE_Workarea\\ktt2yk\\CARSIM\\Sim_Work_HGT_3BVT_BB88574_VAR01_Matlab2012b\n",
      "Extracted 20240206_0014_242_3BVT_FWD_Stdless_low_spd_5ms.csv to c:\\TSDE_Workarea\\ktt2yk\\CARSIM\\Sim_Work_HGT_3BVT_BB88574_VAR01_Matlab2012b\n",
      "Extracted 20240213_0017_400_3BVT_FWD_Stdless_low_spd_5ms.csv to c:\\TSDE_Workarea\\ktt2yk\\CARSIM\\Sim_Work_HGT_3BVT_BB88574_VAR01_Matlab2012b\n",
      "Extracted 20240208_0014_369_3BVT_FWD_Stdless_low_spd_5ms.csv to c:\\TSDE_Workarea\\ktt2yk\\CARSIM\\Sim_Work_HGT_3BVT_BB88574_VAR01_Matlab2012b\n",
      "Extracted 20240213_0004_387_3BVT_FWD_Stdless_low_spd_5ms.csv to c:\\TSDE_Workarea\\ktt2yk\\CARSIM\\Sim_Work_HGT_3BVT_BB88574_VAR01_Matlab2012b\n",
      "Extracted 20240213_0008_391_3BVT_FWD_Stdless_low_spd_5ms.csv to c:\\TSDE_Workarea\\ktt2yk\\CARSIM\\Sim_Work_HGT_3BVT_BB88574_VAR01_Matlab2012b\n",
      "Extracted 20240208_0019_374_3BVT_FWD_Stdless_low_spd_5ms.csv to c:\\TSDE_Workarea\\ktt2yk\\CARSIM\\Sim_Work_HGT_3BVT_BB88574_VAR01_Matlab2012b\n",
      "Extracted 20240213_0025_408_3BVT_FWD_Stdless_low_spd_5ms.csv to c:\\TSDE_Workarea\\ktt2yk\\CARSIM\\Sim_Work_HGT_3BVT_BB88574_VAR01_Matlab2012b\n",
      "Extracted 20240213_0013_396_3BVT_FWD_Stdless_low_spd_5ms.csv to c:\\TSDE_Workarea\\ktt2yk\\CARSIM\\Sim_Work_HGT_3BVT_BB88574_VAR01_Matlab2012b\n",
      "Train: c:\\TSDE_Workarea\\ktt2yk\\CARSIM\\Sim_Work_HGT_3BVT_BB88574_VAR01_Matlab2012b\\train_data_3BVT_EstWhlTrq_FX.pkl\n",
      "Validation: c:\\TSDE_Workarea\\ktt2yk\\CARSIM\\Sim_Work_HGT_3BVT_BB88574_VAR01_Matlab2012b\\val_data_3BVT_EstWhlTrq_FX.pkl\n"
     ]
    }
   ],
   "source": [
    "# 特徴量の作成\n",
    "Train_Data, Val_Data, Train_list, Val_list = Create_Train_Val_Data_EstWhlTrq(d_SIMs, DIR, Project, train=0.7, add='_FX')\n",
    "print(f'Train: {Train_Data}')\n",
    "print(f'Validation: {Val_Data}')\n",
    "\n",
    "# PKL = f'{Dir}\\\\Train_Val_Datas.pkl'\n",
    "# with open(PKL, 'wb') as file:\n",
    "#     pickle.dump((Train_Data, Val_Data, Train_list, Val_list), file)"
   ]
  },
  {
   "cell_type": "markdown",
   "id": "24100d8c-9d69-4302-a952-d37f73db9d3b",
   "metadata": {},
   "source": [
    "### MMotAct, MDriverRequest"
   ]
  },
  {
   "cell_type": "code",
   "execution_count": 7,
   "id": "9fbf60fa-e981-4fc3-a904-60a8eb0f876b",
   "metadata": {},
   "outputs": [],
   "source": [
    "# pickleファイルを読み込む\n",
    "DIR = 'c:\\\\TSDE_Workarea\\\\ktt2yk\\\\CARSIM\\\\Sim_Work_HGT_3BVT_BB88574_VAR01_Matlab2012b\\\\'\n",
    "PKL = f'{DIR}\\\\Data_List_{Project}_MMotAct_MDriverRequest.pkl'\n",
    "with open(PKL, 'rb') as file:\n",
    "    d_CSV = pickle.load(file)"
   ]
  },
  {
   "cell_type": "code",
   "execution_count": 21,
   "id": "52e1500f-e613-4a70-beba-ee60e5ec3f92",
   "metadata": {
    "scrolled": true
   },
   "outputs": [
    {
     "name": "stdout",
     "output_type": "stream",
     "text": [
      "Train: c:\\TSDE_Workarea\\ktt2yk\\CARSIM\\Sim_Work_HGT_3BVT_BB88574_VAR01_Matlab2012b\\train_data_3BVT.pkl\n",
      "Validation: c:\\TSDE_Workarea\\ktt2yk\\CARSIM\\Sim_Work_HGT_3BVT_BB88574_VAR01_Matlab2012b\\val_data_3BVT.pkl\n"
     ]
    }
   ],
   "source": [
    "# 特徴量の作成\n",
    "Train_Data, Val_Data, Train_list, Val_list = Create_Train_Val_Data(d_CSV, DIR, Project, train=0.8)\n",
    "print(f'Train: {Train_Data}')\n",
    "print(f'Validation: {Val_Data}')\n",
    "\n",
    "# PKL = f'{Dir}\\\\Train_Val_Datas.pkl'\n",
    "# with open(PKL, 'wb') as file:\n",
    "#     pickle.dump((Train_Data, Val_Data, Train_list, Val_list), file)"
   ]
  },
  {
   "cell_type": "markdown",
   "id": "4b604ccc-66e1-4e21-9251-926a477fe1cd",
   "metadata": {},
   "source": [
    "# ML"
   ]
  },
  {
   "cell_type": "code",
   "execution_count": 2,
   "id": "8f6c4048-6a49-4215-a838-15cdec1c1da6",
   "metadata": {},
   "outputs": [],
   "source": [
    "class NN(nn.Module):\n",
    "    def __init__(self, num_in):\n",
    "        super().__init__()\n",
    "        # self.l1 = nn.Linear(num_in, 256)\n",
    "        # self.b1 = nn.BatchNorm1d(256)\n",
    "        # self.l2 = nn.Linear(256, 128)\n",
    "        # self.b2 = nn.BatchNorm1d(128)\n",
    "        # self.l3 = nn.Linear(128, 64)\n",
    "        # self.b3 = nn.BatchNorm1d(64)\n",
    "        # self.l4 = nn.Linear(64, 32)\n",
    "        # self.b4 = nn.BatchNorm1d(32)\n",
    "        # self.l5 = nn.Linear(32, 1)\n",
    "        self.l1 = nn.Linear(num_in, 64)\n",
    "        self.b1 = nn.BatchNorm1d(64)\n",
    "        self.l2 = nn.Linear(64, 32)\n",
    "        self.b2 = nn.BatchNorm1d(32)\n",
    "        self.l3 = nn.Linear(32, 16)\n",
    "        self.b3 = nn.BatchNorm1d(16)\n",
    "        self.l4 = nn.Linear(16, 8)\n",
    "        self.b4 = nn.BatchNorm1d(8)\n",
    "        self.l5 = nn.Linear(8, 4) \n",
    "        self.b5 = nn.BatchNorm1d(4)\n",
    "        self.l6 = nn.Linear(4, 1) \n",
    "        # パラメータの初期化\n",
    "        self._initialize_weights()\n",
    "\n",
    "    def forward(self, x):\n",
    "        x = torch.relu(self.b1(self.l1(x)))\n",
    "        x = torch.relu(self.b2(self.l2(x)))\n",
    "        x = torch.relu(self.b3(self.l3(x)))\n",
    "        x = torch.relu(self.b4(self.l4(x)))\n",
    "        x = torch.relu(self.b5(self.l5(x)))\n",
    "        x = self.l6(x)\n",
    "        return x\n",
    "    \n",
    "    def _initialize_weights(self):\n",
    "        for m in self.modules():\n",
    "            if isinstance(m, nn.Linear):\n",
    "                init.kaiming_normal_(m.weight, nonlinearity='relu')\n",
    "                if m.bias is not None:\n",
    "                    init.constant_(m.bias, 0)\n",
    "            elif isinstance(m, nn.BatchNorm1d):\n",
    "                init.constant_(m.weight, 1)\n",
    "                init.constant_(m.bias, 0)"
   ]
  },
  {
   "cell_type": "code",
   "execution_count": 3,
   "id": "b587cdb7-cca9-4516-86a1-9bf4e03bc63a",
   "metadata": {},
   "outputs": [],
   "source": [
    "def transfer_learning(model, load_path):\n",
    "    # load_path = 'MDriverRequest.pth'\n",
    "    loaded_model = torch.load(load_path)\n",
    "    model.load_state_dict(loaded_model['model_state_dict'])\n",
    "\n",
    "    elements = ['l3', 'd3', 'l4', 'd4', 'l5', 'd5', 'l6']\n",
    "    \n",
    "    for name, param in model.named_parameters():\n",
    "        grad = False\n",
    "        for e in elements:\n",
    "            if name.startswith(e):\n",
    "                grad = True\n",
    "                break\n",
    "        if grad == False:\n",
    "            param.requires_grad = False\n",
    "\n",
    "    return model"
   ]
  },
  {
   "cell_type": "code",
   "execution_count": 4,
   "id": "4ff944b8-2bf4-43f9-9bd6-83bc6bec8e08",
   "metadata": {},
   "outputs": [],
   "source": [
    "def Treatment_Data_IMP_MY_OUT_DR_x1(df, selected_columns, target):\n",
    "    df = df[(df['TIME'] > 10) & (df['ThrottlePos'] > 0) & (df['V_TCS'] != 10000)]\n",
    "\n",
    "    df = df[(df['abs_diff_Vx'] < 1.0) & (df['abs_diff_Vx_L1'] < 1.0) & (df['abs_diff_Vx_R1'] < 1.0)\n",
    "            & (df['abs_diff_Vx_L2'] < 1.0) & (df['abs_diff_Vx_R2'] < 1.0)]\n",
    "    \n",
    "    # df = df[(df['diff_Vx_L1_10'] < 1.0) & (df['diff_Vx_R1_10'] < 1.0) \n",
    "    #         & (df['diff_Vx_L2_10'] < 1.0) & (df['diff_Vx_R2_10'] < 1.0)]\n",
    "\n",
    "    df = df[(df['abs_Sas'] < 0.5) & (df['abs_vGiF'] < 0.5) & (df['abs_ayToF'] < 0.5)]\n",
    "\n",
    "    df = df[(df['GearRatio_10'] < 20) & (df['Ax_SM_40'] > 0.01)]\n",
    "    \n",
    "    condition = (df['ThrottlePos'] > 90) & (df['dev_Vx_x1_10'] < 0) & (df['dev_Vx_x1_20'] < 0) & (df['dev_Vx_x1_40'] < 0)\n",
    "    df = df[~condition]\n",
    "   \n",
    "    df = df[selected_columns]\n",
    "    df = df.dropna()\n",
    "    X = df.drop(columns=[target])\n",
    "    y = df[target]\n",
    "    \n",
    "    return X, y, df"
   ]
  },
  {
   "cell_type": "code",
   "execution_count": 5,
   "id": "e06ed8b2-4d1d-4700-970a-e5853d9e7e6c",
   "metadata": {},
   "outputs": [],
   "source": [
    "def Treatment_Data_IMP_FX(df, selected_columns, target):\n",
    "    df = df[(df['TIME'] > 10) & (df['ThrottlePos'] > 0) & (df['V_TCS'] != 10000)]\n",
    "\n",
    "    df = df[(df['abs_diff_Vx'] < 1.0) & (df['abs_diff_Vx_L1'] < 1.0) & (df['abs_diff_Vx_R1'] < 1.0)\n",
    "            & (df['abs_diff_Vx_L2'] < 1.0) & (df['abs_diff_Vx_R2'] < 1.0)]\n",
    "    \n",
    "    # df = df[(df['diff_Vx_L1_10'] < 1.0) & (df['diff_Vx_R1_10'] < 1.0) \n",
    "    #         & (df['diff_Vx_L2_10'] < 1.0) & (df['diff_Vx_R2_10'] < 1.0)]\n",
    "\n",
    "    df = df[(df['abs_Sas'] < 0.5) & (df['abs_vGiF'] < 0.5) & (df['abs_ayToF'] < 0.5)]\n",
    "\n",
    "    df = df[(df['GearRatio_10'] < 20) & (df['Ax_SM_40'] > 0.01)]\n",
    "    \n",
    "    condition = (df['ThrottlePos'] > 90) & (df['dev_Vx_L1_10'] < 0) & (df['dev_Vx_R1_10'] < 0)\n",
    "    df = df[~condition]\n",
    "   \n",
    "    df = df[selected_columns]\n",
    "    df = df.dropna()\n",
    "    X = df.drop(columns=[target])\n",
    "    y = df[target]\n",
    "    \n",
    "    return X, y, df"
   ]
  },
  {
   "cell_type": "code",
   "execution_count": 6,
   "id": "1c131e62-5420-4c89-8a91-5411b0152605",
   "metadata": {},
   "outputs": [],
   "source": [
    "def Treatment_Data_MMotAct(df, selected_columns, target):\n",
    "    # df = df[(df['TIME'] > 10) & (df['MotPedalPosDriver'] > 0)]\n",
    "    df = df[df['MotPedalPosDriver'] > 0]\n",
    "   \n",
    "    df = df[selected_columns]\n",
    "    df = df.dropna()\n",
    "    X = df.drop(columns=[target])\n",
    "    y = df[target]\n",
    "    \n",
    "    return X, y, df"
   ]
  },
  {
   "cell_type": "markdown",
   "id": "f71cf7b8-3e41-4222-99a5-6108a4101e6b",
   "metadata": {},
   "source": [
    "### IMP_MY_OUT_DR"
   ]
  },
  {
   "cell_type": "code",
   "execution_count": 7,
   "id": "fcb1e3e0-aa34-4f1f-95f0-2517d92c7825",
   "metadata": {
    "scrolled": true
   },
   "outputs": [
    {
     "name": "stdout",
     "output_type": "stream",
     "text": [
      "Read: c:\\TSDE_Workarea\\ktt2yk\\CARSIM\\Sim_Work_HGT_3BVT_BB88574_VAR01_Matlab2012b\\train_data_3BVT_EstWhlTrq.pkl\n",
      "Read: c:\\TSDE_Workarea\\ktt2yk\\CARSIM\\Sim_Work_HGT_3BVT_BB88574_VAR01_Matlab2012b\\val_data_3BVT_EstWhlTrq.pkl\n"
     ]
    }
   ],
   "source": [
    "# データ準備\n",
    "Dir = 'c:\\\\TSDE_Workarea\\\\ktt2yk\\\\CARSIM\\\\Sim_Work_HGT_3BVT_BB88574_VAR01_Matlab2012b\\\\'\n",
    "train_data = f'{Dir}train_data_{Project}_EstWhlTrq.pkl'\n",
    "val_data = f'{Dir}val_data_{Project}_EstWhlTrq.pkl'\n",
    "\n",
    "Features = ['Vx', \n",
    "            # 'Ax_SM_10', 'Ax_SM_20', 'Ax_SM_40', 'Ax_SM_100', 'Ax_SM_200', 'Ax_SM_400', \n",
    "            'Ax_SM_100', 'Ax_SM_200', 'Ax_SM_400', \n",
    "            'diff_Vx_x1_10', 'diff_Vx_x1_20', 'diff_Vx_x1_40', 'diff_Vx_x1_100', 'diff_Vx_x1_200', 'diff_Vx_x1_400',\n",
    "            'dev_Vx_x1_10', 'dev_Vx_x1_20', 'dev_Vx_x1_40', 'dev_Vx_x1_100', 'dev_Vx_x1_200', 'dev_Vx_x1_400',\n",
    "            'p_Fx_10', 'p_Fx_20', 'p_Fx_40', 'p_Fx_100', 'p_Fx_200', 'p_Fx_400',\n",
    "            'p_Fx_2_10', 'p_Fx_2_20', 'p_Fx_2_40', 'p_Fx_2_100', 'p_Fx_2_200', 'p_Fx_2_400',\n",
    "            # 'GearRatio_10', 'GearRatio_20', 'GearRatio_40', 'GearRatio_100', 'GearRatio_200', 'GearRatio_400',\n",
    "            'MMotAct', 'MMotAct_10', 'MMotAct_20', 'MMotAct_40', 'MMotAct_100', 'MMotAct_200', 'MMotAct_400',\n",
    "            'ThrottlePos', 'ThrottlePos_10', 'ThrottlePos_20', 'ThrottlePos_40', 'ThrottlePos_100', 'ThrottlePos_200', 'ThrottlePos_400', \n",
    "            'IMP_FX_x1_100', 'IMP_FX_x1_200', 'IMP_FX_x1_400',\n",
    "            'Fz_x1', 'IMP_MY_OUT_DR_x1']\n",
    "    \n",
    "Target = 'IMP_MY_OUT_DR_x1'\n",
    "\n",
    "print(f'Read: {train_data}')\n",
    "with open(train_data, 'rb') as file:\n",
    "    df = pickle.load(file)\n",
    "X, y, df = Treatment_Data_IMP_MY_OUT_DR_x1(df, Features, Target)\n",
    "df.to_csv(f'train_{Project}_{Target}.csv', index=False)\n",
    "\n",
    "print(f'Read: {val_data}')\n",
    "with open(val_data, 'rb') as file:\n",
    "    df = pickle.load(file)\n",
    "X_val, y_val, df = Treatment_Data_IMP_MY_OUT_DR_x1(df, Features, Target)\n",
    "df.to_csv(f'val_{Project}_{Target}.csv', index=False)"
   ]
  },
  {
   "cell_type": "code",
   "execution_count": 8,
   "id": "384a804f-70cf-44b5-ba4f-a901b8dcac08",
   "metadata": {
    "scrolled": true
   },
   "outputs": [],
   "source": [
    "# X_train, X_val, y_train, y_val = train_test_split(X, y, test_size=0.2, random_state=42)\n",
    "X_train, X_val, y_train, y_val = X, X_val, y, y_val\n",
    "\n",
    "# Numpy配列をTensorに変換\n",
    "X_train = torch.tensor(X_train.values, dtype=torch.float32)\n",
    "y_train = torch.tensor(y_train.values, dtype=torch.float32).view(-1, 1)\n",
    "X_val = torch.tensor(X_val.values, dtype=torch.float32)\n",
    "y_val = torch.tensor(y_val.values, dtype=torch.float32).view(-1, 1)\n",
    "\n",
    "# データの平均と標準偏差を計算\n",
    "mean = X_train.mean(dim=0)\n",
    "std = X_train.std(dim=0)\n",
    "\n",
    "# Normalize変換を定義\n",
    "transform = ML.CustomNormalize(mean, std)\n",
    "\n",
    "train_dataset = ML.MyDataset(X_train, y_train, transform)\n",
    "val_dataset = ML.MyDataset(X_val, y_val, transform)"
   ]
  },
  {
   "cell_type": "code",
   "execution_count": 9,
   "id": "d3a96ca4-e991-4f06-a506-6b474688af01",
   "metadata": {
    "scrolled": true
   },
   "outputs": [],
   "source": [
    "train_loader = DataLoader(train_dataset, batch_size=1024, shuffle=True, num_workers=0)\n",
    "val_loader = DataLoader(val_dataset, batch_size=1024, num_workers=0)"
   ]
  },
  {
   "cell_type": "code",
   "execution_count": 10,
   "id": "c5d6d86e-9f54-4f05-b6ca-09e32f484aa9",
   "metadata": {
    "scrolled": true
   },
   "outputs": [
    {
     "ename": "FileNotFoundError",
     "evalue": "[Errno 2] No such file or directory: 'IMP_MY_OUT_DR_x1_3A0A_model.pth'",
     "output_type": "error",
     "traceback": [
      "\u001b[1;31m---------------------------------------------------------------------------\u001b[0m",
      "\u001b[1;31mFileNotFoundError\u001b[0m                         Traceback (most recent call last)",
      "Cell \u001b[1;32mIn[10], line 6\u001b[0m\n\u001b[0;32m      4\u001b[0m model \u001b[38;5;241m=\u001b[39m NN(num_in)\n\u001b[0;32m      5\u001b[0m model \u001b[38;5;241m=\u001b[39m model\u001b[38;5;241m.\u001b[39mto(device)\n\u001b[1;32m----> 6\u001b[0m model \u001b[38;5;241m=\u001b[39m \u001b[43mtransfer_learning\u001b[49m\u001b[43m(\u001b[49m\u001b[43mmodel\u001b[49m\u001b[43m,\u001b[49m\u001b[43m \u001b[49m\u001b[38;5;124;43m'\u001b[39;49m\u001b[38;5;124;43mIMP_MY_OUT_DR_x1_3A0A_model.pth\u001b[39;49m\u001b[38;5;124;43m'\u001b[39;49m\u001b[43m)\u001b[49m\n",
      "Cell \u001b[1;32mIn[3], line 3\u001b[0m, in \u001b[0;36mtransfer_learning\u001b[1;34m(model, load_path)\u001b[0m\n\u001b[0;32m      1\u001b[0m \u001b[38;5;28;01mdef\u001b[39;00m \u001b[38;5;21mtransfer_learning\u001b[39m(model, load_path):\n\u001b[0;32m      2\u001b[0m     \u001b[38;5;66;03m# load_path = 'MDriverRequest.pth'\u001b[39;00m\n\u001b[1;32m----> 3\u001b[0m     loaded_model \u001b[38;5;241m=\u001b[39m \u001b[43mtorch\u001b[49m\u001b[38;5;241;43m.\u001b[39;49m\u001b[43mload\u001b[49m\u001b[43m(\u001b[49m\u001b[43mload_path\u001b[49m\u001b[43m)\u001b[49m\n\u001b[0;32m      4\u001b[0m     model\u001b[38;5;241m.\u001b[39mload_state_dict(loaded_model[\u001b[38;5;124m'\u001b[39m\u001b[38;5;124mmodel_state_dict\u001b[39m\u001b[38;5;124m'\u001b[39m])\n\u001b[0;32m      6\u001b[0m     elements \u001b[38;5;241m=\u001b[39m [\u001b[38;5;124m'\u001b[39m\u001b[38;5;124ml3\u001b[39m\u001b[38;5;124m'\u001b[39m, \u001b[38;5;124m'\u001b[39m\u001b[38;5;124md3\u001b[39m\u001b[38;5;124m'\u001b[39m, \u001b[38;5;124m'\u001b[39m\u001b[38;5;124ml4\u001b[39m\u001b[38;5;124m'\u001b[39m, \u001b[38;5;124m'\u001b[39m\u001b[38;5;124md4\u001b[39m\u001b[38;5;124m'\u001b[39m, \u001b[38;5;124m'\u001b[39m\u001b[38;5;124ml5\u001b[39m\u001b[38;5;124m'\u001b[39m, \u001b[38;5;124m'\u001b[39m\u001b[38;5;124md5\u001b[39m\u001b[38;5;124m'\u001b[39m, \u001b[38;5;124m'\u001b[39m\u001b[38;5;124ml6\u001b[39m\u001b[38;5;124m'\u001b[39m]\n",
      "File \u001b[1;32m~\\.conda\\envs\\pytorch\\lib\\site-packages\\torch\\serialization.py:997\u001b[0m, in \u001b[0;36mload\u001b[1;34m(f, map_location, pickle_module, weights_only, mmap, **pickle_load_args)\u001b[0m\n\u001b[0;32m    994\u001b[0m \u001b[38;5;28;01mif\u001b[39;00m \u001b[38;5;124m'\u001b[39m\u001b[38;5;124mencoding\u001b[39m\u001b[38;5;124m'\u001b[39m \u001b[38;5;129;01mnot\u001b[39;00m \u001b[38;5;129;01min\u001b[39;00m pickle_load_args\u001b[38;5;241m.\u001b[39mkeys():\n\u001b[0;32m    995\u001b[0m     pickle_load_args[\u001b[38;5;124m'\u001b[39m\u001b[38;5;124mencoding\u001b[39m\u001b[38;5;124m'\u001b[39m] \u001b[38;5;241m=\u001b[39m \u001b[38;5;124m'\u001b[39m\u001b[38;5;124mutf-8\u001b[39m\u001b[38;5;124m'\u001b[39m\n\u001b[1;32m--> 997\u001b[0m \u001b[38;5;28;01mwith\u001b[39;00m \u001b[43m_open_file_like\u001b[49m\u001b[43m(\u001b[49m\u001b[43mf\u001b[49m\u001b[43m,\u001b[49m\u001b[43m \u001b[49m\u001b[38;5;124;43m'\u001b[39;49m\u001b[38;5;124;43mrb\u001b[39;49m\u001b[38;5;124;43m'\u001b[39;49m\u001b[43m)\u001b[49m \u001b[38;5;28;01mas\u001b[39;00m opened_file:\n\u001b[0;32m    998\u001b[0m     \u001b[38;5;28;01mif\u001b[39;00m _is_zipfile(opened_file):\n\u001b[0;32m    999\u001b[0m         \u001b[38;5;66;03m# The zipfile reader is going to advance the current file position.\u001b[39;00m\n\u001b[0;32m   1000\u001b[0m         \u001b[38;5;66;03m# If we want to actually tail call to torch.jit.load, we need to\u001b[39;00m\n\u001b[0;32m   1001\u001b[0m         \u001b[38;5;66;03m# reset back to the original position.\u001b[39;00m\n\u001b[0;32m   1002\u001b[0m         orig_position \u001b[38;5;241m=\u001b[39m opened_file\u001b[38;5;241m.\u001b[39mtell()\n",
      "File \u001b[1;32m~\\.conda\\envs\\pytorch\\lib\\site-packages\\torch\\serialization.py:444\u001b[0m, in \u001b[0;36m_open_file_like\u001b[1;34m(name_or_buffer, mode)\u001b[0m\n\u001b[0;32m    442\u001b[0m \u001b[38;5;28;01mdef\u001b[39;00m \u001b[38;5;21m_open_file_like\u001b[39m(name_or_buffer, mode):\n\u001b[0;32m    443\u001b[0m     \u001b[38;5;28;01mif\u001b[39;00m _is_path(name_or_buffer):\n\u001b[1;32m--> 444\u001b[0m         \u001b[38;5;28;01mreturn\u001b[39;00m \u001b[43m_open_file\u001b[49m\u001b[43m(\u001b[49m\u001b[43mname_or_buffer\u001b[49m\u001b[43m,\u001b[49m\u001b[43m \u001b[49m\u001b[43mmode\u001b[49m\u001b[43m)\u001b[49m\n\u001b[0;32m    445\u001b[0m     \u001b[38;5;28;01melse\u001b[39;00m:\n\u001b[0;32m    446\u001b[0m         \u001b[38;5;28;01mif\u001b[39;00m \u001b[38;5;124m'\u001b[39m\u001b[38;5;124mw\u001b[39m\u001b[38;5;124m'\u001b[39m \u001b[38;5;129;01min\u001b[39;00m mode:\n",
      "File \u001b[1;32m~\\.conda\\envs\\pytorch\\lib\\site-packages\\torch\\serialization.py:425\u001b[0m, in \u001b[0;36m_open_file.__init__\u001b[1;34m(self, name, mode)\u001b[0m\n\u001b[0;32m    424\u001b[0m \u001b[38;5;28;01mdef\u001b[39;00m \u001b[38;5;21m__init__\u001b[39m(\u001b[38;5;28mself\u001b[39m, name, mode):\n\u001b[1;32m--> 425\u001b[0m     \u001b[38;5;28msuper\u001b[39m()\u001b[38;5;241m.\u001b[39m\u001b[38;5;21m__init__\u001b[39m(\u001b[38;5;28;43mopen\u001b[39;49m\u001b[43m(\u001b[49m\u001b[43mname\u001b[49m\u001b[43m,\u001b[49m\u001b[43m \u001b[49m\u001b[43mmode\u001b[49m\u001b[43m)\u001b[49m)\n",
      "\u001b[1;31mFileNotFoundError\u001b[0m: [Errno 2] No such file or directory: 'IMP_MY_OUT_DR_x1_3A0A_model.pth'"
     ]
    }
   ],
   "source": [
    "# モデル準備\n",
    "X, y = next(iter(train_loader))\n",
    "num_in = X.shape[1]\n",
    "model = NN(num_in)\n",
    "model = model.to(device)\n",
    "model = transfer_learning(model, 'IMP_MY_OUT_DR_x1_3A0A_model.pth')"
   ]
  },
  {
   "cell_type": "code",
   "execution_count": null,
   "id": "8a69b05b-b9cb-42fe-a408-70f78ff9fd6c",
   "metadata": {
    "scrolled": true
   },
   "outputs": [],
   "source": [
    "# 学習率の最適値\n",
    "lrs, losses = utils.lr_finder(model, train_loader, nn.MSELoss(), lr_multiplier=1.2)"
   ]
  },
  {
   "cell_type": "code",
   "execution_count": null,
   "id": "a676cf26-fabf-4572-8908-dfa903e9b7b2",
   "metadata": {
    "scrolled": true
   },
   "outputs": [],
   "source": [
    "fig = plt.figure(figsize=(8, 3), dpi=100)\n",
    "plt.plot(lrs, losses, label='losses')\n",
    "plt.xscale('log')\n",
    "plt.legend()\n",
    "plt.ylim(0, 1000000)\n",
    "plt.show()"
   ]
  },
  {
   "cell_type": "code",
   "execution_count": 42,
   "id": "8bdea330-9658-4259-b24c-76588d6e5321",
   "metadata": {
    "scrolled": true
   },
   "outputs": [
    {
     "name": "stderr",
     "output_type": "stream",
     "text": [
      "                                                                                                                       \r"
     ]
    },
    {
     "name": "stdout",
     "output_type": "stream",
     "text": [
      "epoch: 0: train error: 12380.30543854277, validation error: 3985.372455596924, validation accuracy: 0.08333333333333333\n"
     ]
    },
    {
     "name": "stderr",
     "output_type": "stream",
     "text": [
      "                                                                                                                       \r"
     ]
    },
    {
     "name": "stdout",
     "output_type": "stream",
     "text": [
      "epoch: 1: train error: 3068.5890078787074, validation error: 3504.402088165283, validation accuracy: 0.08333333333333333\n"
     ]
    },
    {
     "name": "stderr",
     "output_type": "stream",
     "text": [
      "                                                                                                                       \r"
     ]
    },
    {
     "name": "stdout",
     "output_type": "stream",
     "text": [
      "epoch: 2: train error: 2622.257318011785, validation error: 3262.454750061035, validation accuracy: 0.08333333333333333\n"
     ]
    },
    {
     "name": "stderr",
     "output_type": "stream",
     "text": [
      "                                                                                                                       \r"
     ]
    },
    {
     "name": "stdout",
     "output_type": "stream",
     "text": [
      "epoch: 3: train error: 2453.2215886520125, validation error: 3210.1041634877524, validation accuracy: 0.08333333333333333\n"
     ]
    },
    {
     "name": "stderr",
     "output_type": "stream",
     "text": [
      "                                                                                                                       \r"
     ]
    },
    {
     "name": "stdout",
     "output_type": "stream",
     "text": [
      "epoch: 4: train error: 2380.5161774198887, validation error: 3117.0029805501304, validation accuracy: 0.08333333333333333\n"
     ]
    },
    {
     "name": "stderr",
     "output_type": "stream",
     "text": [
      "                                                                                                                       \r"
     ]
    },
    {
     "name": "stdout",
     "output_type": "stream",
     "text": [
      "epoch: 5: train error: 2333.9459404379636, validation error: 3063.2083683013916, validation accuracy: 0.08333333333333333\n"
     ]
    },
    {
     "name": "stderr",
     "output_type": "stream",
     "text": [
      "                                                                                                                       \r"
     ]
    },
    {
     "name": "stdout",
     "output_type": "stream",
     "text": [
      "epoch: 6: train error: 2300.31052204714, validation error: 3070.6897983551025, validation accuracy: 0.08333333333333333\n"
     ]
    },
    {
     "name": "stderr",
     "output_type": "stream",
     "text": [
      "                                                                                                                       \r"
     ]
    },
    {
     "name": "stdout",
     "output_type": "stream",
     "text": [
      "epoch: 7: train error: 2275.675584696107, validation error: 3032.0996284484863, validation accuracy: 0.08333333333333333\n"
     ]
    },
    {
     "name": "stderr",
     "output_type": "stream",
     "text": [
      "                                                                                                                       \r"
     ]
    },
    {
     "name": "stdout",
     "output_type": "stream",
     "text": [
      "epoch: 8: train error: 2265.289376986229, validation error: 3046.837074915568, validation accuracy: 0.08333333333333333\n"
     ]
    },
    {
     "name": "stderr",
     "output_type": "stream",
     "text": [
      "                                                                                                                       \r"
     ]
    },
    {
     "name": "stdout",
     "output_type": "stream",
     "text": [
      "epoch: 9: train error: 2262.417664608713, validation error: 3019.7313067118325, validation accuracy: 0.08333333333333333\n"
     ]
    },
    {
     "name": "stderr",
     "output_type": "stream",
     "text": [
      "                                                                                                                       \r"
     ]
    },
    {
     "name": "stdout",
     "output_type": "stream",
     "text": [
      "epoch: 10: train error: 2262.086377160024, validation error: 3005.257527669271, validation accuracy: 0.08333333333333333\n"
     ]
    },
    {
     "name": "stderr",
     "output_type": "stream",
     "text": [
      "                                                                                                                       \r"
     ]
    },
    {
     "name": "stdout",
     "output_type": "stream",
     "text": [
      "epoch: 11: train error: 2256.123054116459, validation error: 3037.9637254079184, validation accuracy: 0.08333333333333333\n"
     ]
    },
    {
     "name": "stderr",
     "output_type": "stream",
     "text": [
      "                                                                                                                       \r"
     ]
    },
    {
     "name": "stdout",
     "output_type": "stream",
     "text": [
      "epoch: 12: train error: 2255.402658236229, validation error: 2996.5420373280845, validation accuracy: 0.08333333333333333\n"
     ]
    },
    {
     "name": "stderr",
     "output_type": "stream",
     "text": [
      "                                                                                                                       \r"
     ]
    },
    {
     "name": "stdout",
     "output_type": "stream",
     "text": [
      "epoch: 13: train error: 2243.7706712625795, validation error: 2970.3090642293296, validation accuracy: 0.08333333333333333\n"
     ]
    },
    {
     "name": "stderr",
     "output_type": "stream",
     "text": [
      "                                                                                                                       \r"
     ]
    },
    {
     "name": "stdout",
     "output_type": "stream",
     "text": [
      "epoch: 14: train error: 2233.3001646914727, validation error: 2962.930883407593, validation accuracy: 0.08333333333333333\n"
     ]
    },
    {
     "name": "stderr",
     "output_type": "stream",
     "text": [
      "                                                                                                                       \r"
     ]
    },
    {
     "name": "stdout",
     "output_type": "stream",
     "text": [
      "epoch: 15: train error: 2206.9050975734904, validation error: 2919.0080744425454, validation accuracy: 0.08333333333333333\n"
     ]
    },
    {
     "name": "stderr",
     "output_type": "stream",
     "text": [
      "                                                                                                                       \r"
     ]
    },
    {
     "name": "stdout",
     "output_type": "stream",
     "text": [
      "epoch: 16: train error: 2171.331595727953, validation error: 2875.3337020874023, validation accuracy: 0.08333333333333333\n"
     ]
    },
    {
     "name": "stderr",
     "output_type": "stream",
     "text": [
      "                                                                                                                       \r"
     ]
    },
    {
     "name": "stdout",
     "output_type": "stream",
     "text": [
      "epoch: 17: train error: 2124.778175483316, validation error: 2802.5810527801514, validation accuracy: 0.08333333333333333\n"
     ]
    },
    {
     "name": "stderr",
     "output_type": "stream",
     "text": [
      "                                                                                                                       \r"
     ]
    },
    {
     "name": "stdout",
     "output_type": "stream",
     "text": [
      "epoch: 18: train error: 2086.180233712924, validation error: 2786.7114804585776, validation accuracy: 0.08333333333333333\n"
     ]
    },
    {
     "name": "stderr",
     "output_type": "stream",
     "text": [
      "                                                                                                                       \r"
     ]
    },
    {
     "name": "stdout",
     "output_type": "stream",
     "text": [
      "epoch: 19: train error: 2039.483749131025, validation error: 2712.118406931559, validation accuracy: 0.08333333333333333\n"
     ]
    },
    {
     "name": "stderr",
     "output_type": "stream",
     "text": [
      "                                                                                                                       \r"
     ]
    },
    {
     "name": "stdout",
     "output_type": "stream",
     "text": [
      "epoch: 20: train error: 1999.1936655852753, validation error: 2650.9602406819663, validation accuracy: 0.08333333333333333\n"
     ]
    },
    {
     "name": "stderr",
     "output_type": "stream",
     "text": [
      "                                                                                                                       \r"
     ]
    },
    {
     "name": "stdout",
     "output_type": "stream",
     "text": [
      "epoch: 21: train error: 1960.76441050384, validation error: 2639.975870768229, validation accuracy: 0.08333333333333333\n"
     ]
    },
    {
     "name": "stderr",
     "output_type": "stream",
     "text": [
      "                                                                                                                       \r"
     ]
    },
    {
     "name": "stdout",
     "output_type": "stream",
     "text": [
      "epoch: 22: train error: 1932.2808320643537, validation error: 2575.3122227986655, validation accuracy: 0.08333333333333333\n"
     ]
    },
    {
     "name": "stderr",
     "output_type": "stream",
     "text": [
      "                                                                                                                       \r"
     ]
    },
    {
     "name": "stdout",
     "output_type": "stream",
     "text": [
      "epoch: 23: train error: 1901.2637060133077, validation error: 2590.295689264933, validation accuracy: 0.08333333333333333\n"
     ]
    },
    {
     "name": "stderr",
     "output_type": "stream",
     "text": [
      "                                                                                                                       \r"
     ]
    },
    {
     "name": "stdout",
     "output_type": "stream",
     "text": [
      "epoch: 24: train error: 1878.6595624503443, validation error: 2529.057421684265, validation accuracy: 0.08333333333333333\n"
     ]
    },
    {
     "name": "stderr",
     "output_type": "stream",
     "text": [
      "                                                                                                                       \r"
     ]
    },
    {
     "name": "stdout",
     "output_type": "stream",
     "text": [
      "epoch: 25: train error: 1865.4156307931673, validation error: 2520.8750089009604, validation accuracy: 0.08333333333333333\n"
     ]
    },
    {
     "name": "stderr",
     "output_type": "stream",
     "text": [
      "                                                                                                                       \r"
     ]
    },
    {
     "name": "stdout",
     "output_type": "stream",
     "text": [
      "epoch: 26: train error: 1852.4318299374338, validation error: 2518.8240283330283, validation accuracy: 0.08333333333333333\n"
     ]
    },
    {
     "name": "stderr",
     "output_type": "stream",
     "text": [
      "                                                                                                                       \r"
     ]
    },
    {
     "name": "stdout",
     "output_type": "stream",
     "text": [
      "epoch: 27: train error: 1839.241312317929, validation error: 2485.850327809652, validation accuracy: 0.08333333333333333\n"
     ]
    },
    {
     "name": "stderr",
     "output_type": "stream",
     "text": [
      "                                                                                                                       \r"
     ]
    },
    {
     "name": "stdout",
     "output_type": "stream",
     "text": [
      "epoch: 28: train error: 1844.6609703969148, validation error: 2504.634734471639, validation accuracy: 0.08333333333333333\n"
     ]
    },
    {
     "name": "stderr",
     "output_type": "stream",
     "text": [
      "                                                                                                                       \r"
     ]
    },
    {
     "name": "stdout",
     "output_type": "stream",
     "text": [
      "epoch: 29: train error: 1834.8208949202199, validation error: 2495.891180038452, validation accuracy: 0.08333333333333333\n"
     ]
    },
    {
     "name": "stderr",
     "output_type": "stream",
     "text": [
      "                                                                                                                       \r"
     ]
    },
    {
     "name": "stdout",
     "output_type": "stream",
     "text": [
      "epoch: 30: train error: 1833.7176834365068, validation error: 2495.7634773254395, validation accuracy: 0.08333333333333333\n"
     ]
    },
    {
     "name": "stderr",
     "output_type": "stream",
     "text": [
      "                                                                                                                       \r"
     ]
    },
    {
     "name": "stdout",
     "output_type": "stream",
     "text": [
      "epoch: 31: train error: 1834.525265451205, validation error: 2489.931138356527, validation accuracy: 0.08333333333333333\n"
     ]
    },
    {
     "name": "stderr",
     "output_type": "stream",
     "text": [
      "                                                                                                                       \r"
     ]
    },
    {
     "name": "stdout",
     "output_type": "stream",
     "text": [
      "epoch: 32: train error: 1834.4138007729741, validation error: 2493.3140506744385, validation accuracy: 0.08333333333333333\n"
     ]
    },
    {
     "name": "stderr",
     "output_type": "stream",
     "text": [
      "                                                                                                                       \r"
     ]
    },
    {
     "name": "stdout",
     "output_type": "stream",
     "text": [
      "epoch: 33: train error: 1831.9128821421477, validation error: 2494.9960622787476, validation accuracy: 0.08333333333333333\n"
     ]
    },
    {
     "name": "stderr",
     "output_type": "stream",
     "text": [
      "                                                                                                                       \r"
     ]
    },
    {
     "name": "stdout",
     "output_type": "stream",
     "text": [
      "epoch: 34: train error: 1819.7490120580642, validation error: 2491.6094512939453, validation accuracy: 0.08333333333333333\n"
     ]
    },
    {
     "name": "stderr",
     "output_type": "stream",
     "text": [
      "                                                                                                                       \r"
     ]
    },
    {
     "name": "stdout",
     "output_type": "stream",
     "text": [
      "epoch: 35: train error: 1805.1844358282574, validation error: 2465.961867014567, validation accuracy: 0.08333333333333333\n"
     ]
    },
    {
     "name": "stderr",
     "output_type": "stream",
     "text": [
      "                                                                                                                       \r"
     ]
    },
    {
     "name": "stdout",
     "output_type": "stream",
     "text": [
      "epoch: 36: train error: 1791.5896171957759, validation error: 2407.118410428365, validation accuracy: 0.08333333333333333\n"
     ]
    },
    {
     "name": "stderr",
     "output_type": "stream",
     "text": [
      "                                                                                                                       \r"
     ]
    },
    {
     "name": "stdout",
     "output_type": "stream",
     "text": [
      "epoch: 37: train error: 1774.0787219031383, validation error: 2416.8944396972656, validation accuracy: 0.08333333333333333\n"
     ]
    },
    {
     "name": "stderr",
     "output_type": "stream",
     "text": [
      "                                                                                                                       \r"
     ]
    },
    {
     "name": "stdout",
     "output_type": "stream",
     "text": [
      "epoch: 38: train error: 1749.8758162159031, validation error: 2382.1103191375732, validation accuracy: 0.08333333333333333\n"
     ]
    },
    {
     "name": "stderr",
     "output_type": "stream",
     "text": [
      "                                                                                                                       \r"
     ]
    },
    {
     "name": "stdout",
     "output_type": "stream",
     "text": [
      "epoch: 39: train error: 1727.8536387298066, validation error: 2361.2336603800454, validation accuracy: 0.08333333333333333\n"
     ]
    },
    {
     "data": {
      "image/png": "[encoded data removed]",
      "text/plain": [
       "<Figure size 800x300 with 1 Axes>"
      ]
     },
     "metadata": {},
     "output_type": "display_data"
    }
   ],
   "source": [
    "# 学習\n",
    "model = NN(num_in)\n",
    "model = model.to(device)\n",
    "model = transfer_learning(model, 'IMP_MY_OUT_DR_x1_3A0A_model.pth')\n",
    "\n",
    "num_epoch = 40\n",
    "early_stopping = None\n",
    "save_path = f'IMP_MY_OUT_DR_x1_{Project}_model.pth'\n",
    "\n",
    "opt = optim.SGD(model.parameters(), lr=10**-4)\n",
    "scheduler = CosineAnnealingLR(opt, T_max=10)\n",
    "# opt = optim.Adam(model.parameters(), lr=10**-5, betas=(0.9, 0.999))\n",
    "# scheduler=None\n",
    "# scheduler = StepLR(opt, step_size=30, gamma=0.1)\n",
    "\n",
    "\n",
    "train_losses, val_losses, val_accuracies, best_val_loss = utils.learn(model, train_loader, val_loader, opt, nn.MSELoss(), num_epoch=num_epoch, early_stopping=early_stopping, save_path=save_path, scheduler=scheduler)\n",
    "\n",
    "fig = plt.figure(figsize=(8, 3), dpi=100)\n",
    "plt.plot(train_losses, label='train')\n",
    "plt.plot(val_losses, label='val')\n",
    "plt.legend()\n",
    "plt.xlabel('epoch')\n",
    "plt.ylabel('loss')\n",
    "plt.title(f'best_val_loss = {best_val_loss}')\n",
    "# plt.ylim(0, 1000000)\n",
    "plt.show()"
   ]
  },
  {
   "cell_type": "code",
   "execution_count": 43,
   "id": "b6df168d-d096-48c9-85cf-da63755baecd",
   "metadata": {
    "scrolled": true
   },
   "outputs": [
    {
     "name": "stderr",
     "output_type": "stream",
     "text": [
      "                                                                                                                       \r"
     ]
    },
    {
     "name": "stdout",
     "output_type": "stream",
     "text": [
      "epoch: 0: train error: 1716.4605578406383, validation error: 2351.2466259002686, validation accuracy: 0.08333333333333333\n"
     ]
    },
    {
     "name": "stderr",
     "output_type": "stream",
     "text": [
      "                                                                                                                       \r"
     ]
    },
    {
     "name": "stdout",
     "output_type": "stream",
     "text": [
      "epoch: 1: train error: 1715.0489677817134, validation error: 2343.1716690063477, validation accuracy: 0.08333333333333333\n"
     ]
    },
    {
     "name": "stderr",
     "output_type": "stream",
     "text": [
      "                                                                                                                       \r"
     ]
    },
    {
     "name": "stdout",
     "output_type": "stream",
     "text": [
      "epoch: 2: train error: 1718.615019200212, validation error: 2330.55552927653, validation accuracy: 0.08333333333333333\n"
     ]
    },
    {
     "name": "stderr",
     "output_type": "stream",
     "text": [
      "                                                                                                                       \r"
     ]
    },
    {
     "name": "stdout",
     "output_type": "stream",
     "text": [
      "epoch: 3: train error: 1718.2426581948491, validation error: 2352.6368821461997, validation accuracy: 0.08333333333333333\n"
     ]
    },
    {
     "name": "stderr",
     "output_type": "stream",
     "text": [
      "                                                                                                                       \r"
     ]
    },
    {
     "name": "stdout",
     "output_type": "stream",
     "text": [
      "epoch: 4: train error: 1721.3506955938824, validation error: 2347.5813020070395, validation accuracy: 0.08333333333333333\n"
     ]
    },
    {
     "name": "stderr",
     "output_type": "stream",
     "text": [
      "                                                                                                                       \r"
     ]
    },
    {
     "name": "stdout",
     "output_type": "stream",
     "text": [
      "epoch: 5: train error: 1720.5961831302966, validation error: 2339.233664830526, validation accuracy: 0.08333333333333333\n"
     ]
    },
    {
     "name": "stderr",
     "output_type": "stream",
     "text": [
      "                                                                                                                       \r"
     ]
    },
    {
     "name": "stdout",
     "output_type": "stream",
     "text": [
      "epoch: 6: train error: 1716.153933767545, validation error: 2343.9407316843667, validation accuracy: 0.08333333333333333\n"
     ]
    },
    {
     "name": "stderr",
     "output_type": "stream",
     "text": [
      "                                                                                                                       \r"
     ]
    },
    {
     "name": "stdout",
     "output_type": "stream",
     "text": [
      "epoch: 7: train error: 1714.0537192134534, validation error: 2340.5359309514365, validation accuracy: 0.08333333333333333\n",
      "Stopping early\n"
     ]
    },
    {
     "data": {
      "image/png": "[encoded data removed]",
      "text/plain": [
       "<Figure size 800x300 with 1 Axes>"
      ]
     },
     "metadata": {},
     "output_type": "display_data"
    }
   ],
   "source": [
    "# 再学習\n",
    "# model = NN(num_in)\n",
    "# model = model.to(device)\n",
    "\n",
    "# loaded_model = torch.load(save_path)\n",
    "# model.load_state_dict(loaded_model['model_state_dict'])\n",
    "model = transfer_learning(model, save_path)\n",
    "\n",
    "num_epoch = 100\n",
    "early_stopping = 5\n",
    "\n",
    "opt = optim.Adam(model.parameters(), lr=10**-5, betas=(0.9, 0.999))\n",
    "scheduler=None\n",
    "# opt = optim.SGD(model.parameters(), lr=0.0001)\n",
    "# scheduler = CosineAnnealingLR(opt, T_max=20)\n",
    "# scheduler = StepLR(opt, step_size=30, gamma=0.1)\n",
    "\n",
    "train_losses, val_losses, val_accuracies, best_val_loss = utils.learn(model, train_loader, val_loader, opt, nn.MSELoss(), num_epoch=num_epoch, early_stopping=early_stopping, save_path=save_path, scheduler=scheduler, best_val_loss=best_val_loss)\n",
    "\n",
    "fig = plt.figure(figsize=(8, 3), dpi=100)\n",
    "plt.plot(train_losses, label='train')\n",
    "plt.plot(val_losses, label='val')\n",
    "plt.legend()\n",
    "plt.xlabel('epoch')\n",
    "plt.ylabel('loss')\n",
    "plt.title(f'best_val_loss = {best_val_loss}')\n",
    "# plt.ylim(0, 1000000)\n",
    "plt.show()"
   ]
  },
  {
   "cell_type": "code",
   "execution_count": 44,
   "id": "0999c967-6113-4b17-95e3-712b363628fd",
   "metadata": {
    "scrolled": true
   },
   "outputs": [
    {
     "name": "stdout",
     "output_type": "stream",
     "text": [
      "Read: c:\\TSDE_Workarea\\ktt2yk\\CARSIM\\Sim_Work_HGT_3BVT_BB88574_VAR01_Matlab2012b\\val_data_3BVT_EstWhlTrq.pkl\n",
      "MSE Loss: 2511.873046875\n"
     ]
    }
   ],
   "source": [
    "# 検証データの予測\n",
    "\n",
    "# データ準備\n",
    "print(f'Read: {val_data}')\n",
    "with open(val_data, 'rb') as file:\n",
    "    df = pickle.load(file)\n",
    "X_val, y_val, _ = Treatment_Data_IMP_MY_OUT_DR_x1(df, Features, Target)\n",
    "\n",
    "# Numpy配列をTensorに変換\n",
    "X = torch.tensor(X_val.values, dtype=torch.float32)\n",
    "y = torch.tensor(y_val.values, dtype=torch.float32).view(-1, 1)\n",
    "X = transform(X)\n",
    "\n",
    "model = NN(num_in)\n",
    "loaded_model = torch.load(save_path)\n",
    "model.load_state_dict(loaded_model['model_state_dict'])\n",
    "\n",
    "y_pred = model(X)\n",
    "\n",
    "# MSEの計算\n",
    "# loss = mean_squared_error(y_val.detach().numpy(), y_pred.detach().numpy())\n",
    "mse = nn.MSELoss()\n",
    "loss = mse(y, y_pred)\n",
    "print(f'MSE Loss: {loss}')\n",
    "\n",
    "X_val[f'{Target}'] = y.detach().numpy()\n",
    "X_val[f'{Target}_pred'] = y_pred.detach().numpy()\n",
    "X_val['TIME'] = np.arange(0, len(X_val)*0.005, 0.005)\n",
    "columns = ['TIME'] + list(X_val.columns)\n",
    "X_val = X_val[columns]\n",
    "X_val.to_csv(f'{Target}_{Project}_pred.csv', index=False)"
   ]
  },
  {
   "cell_type": "markdown",
   "id": "8b5aa9ca-586e-46f8-b76a-50497d1ae71c",
   "metadata": {},
   "source": [
    "### IMP_FX"
   ]
  },
  {
   "cell_type": "code",
   "execution_count": 7,
   "id": "a1978baa-a4ae-4b0b-b586-f2459d7b2a87",
   "metadata": {
    "scrolled": true
   },
   "outputs": [
    {
     "name": "stdout",
     "output_type": "stream",
     "text": [
      "Read: c:\\TSDE_Workarea\\ktt2yk\\CARSIM\\Sim_Work_HGT_3BVT_BB88574_VAR01_Matlab2012b\\train_data_3BVT_EstWhlTrq_FX.pkl\n",
      "Read: c:\\TSDE_Workarea\\ktt2yk\\CARSIM\\Sim_Work_HGT_3BVT_BB88574_VAR01_Matlab2012b\\val_data_3BVT_EstWhlTrq_FX.pkl\n"
     ]
    }
   ],
   "source": [
    "# データ準備\n",
    "Dir = 'c:\\\\TSDE_Workarea\\\\ktt2yk\\\\CARSIM\\\\Sim_Work_HGT_3BVT_BB88574_VAR01_Matlab2012b\\\\'\n",
    "train_data = f'{Dir}train_data_{Project}_EstWhlTrq_FX.pkl'\n",
    "val_data = f'{Dir}val_data_{Project}_EstWhlTrq_FX.pkl'\n",
    "\n",
    "Features = ['Vx', \n",
    "            # 'Ax_SM_10', 'Ax_SM_20', 'Ax_SM_40', 'Ax_SM_100', 'Ax_SM_200', 'Ax_SM_400', \n",
    "            'Ax_SM_100', 'Ax_SM_200', 'Ax_SM_400', \n",
    "            'dev_Vx_L1_10', 'dev_Vx_L1_20', 'dev_Vx_L1_40', 'dev_Vx_L1_100', 'dev_Vx_L1_200', 'dev_Vx_L1_400',\n",
    "            'dev_Vx_R1_10', 'dev_Vx_R1_20', 'dev_Vx_R1_40', 'dev_Vx_R1_100', 'dev_Vx_R1_200', 'dev_Vx_R1_400',\n",
    "            'p_FL_10', 'p_FL_20', 'p_FL_40', 'p_FL_100', 'p_FL_200', 'p_FL_400',\n",
    "            'p_FR_10', 'p_FR_20', 'p_FR_40', 'p_FR_100', 'p_FR_200', 'p_FR_400',\n",
    "            # 'GearRatio_10', 'GearRatio_20', 'GearRatio_40', 'GearRatio_100', 'GearRatio_200', 'GearRatio_400',\n",
    "            'MMotAct', 'MMotAct_10', 'MMotAct_20', 'MMotAct_40', 'MMotAct_100', 'MMotAct_200', 'MMotAct_400',\n",
    "            'ThrottlePos', 'ThrottlePos_10', 'ThrottlePos_20', 'ThrottlePos_40', 'ThrottlePos_100', 'ThrottlePos_200', 'ThrottlePos_400', \n",
    "            # 'IMP_FX_x1_10', 'IMP_FX_x1_20', 'IMP_FX_x1_40', 'IMP_FX_x1_100', 'IMP_FX_x1_200', 'IMP_FX_x1_400',\n",
    "            'Fz_L1', 'Fz_R1',\n",
    "            'IMP_MY_OUT_DR_L1_40', 'IMP_MY_OUT_DR_R1_40',\n",
    "            'IMP_FX_L1_20']\n",
    "    \n",
    "Target = 'IMP_FX_L1_20'\n",
    "\n",
    "print(f'Read: {train_data}')\n",
    "with open(train_data, 'rb') as file:\n",
    "    df = pickle.load(file)\n",
    "X, y, df = Treatment_Data_IMP_FX(df, Features, Target)\n",
    "df.to_csv(f'train_{Project}_{Target}.csv', index=False)\n",
    "\n",
    "print(f'Read: {val_data}')\n",
    "with open(val_data, 'rb') as file:\n",
    "    df = pickle.load(file)\n",
    "X_val, y_val, df = Treatment_Data_IMP_FX(df, Features, Target)\n",
    "df.to_csv(f'val_{Project}_{Target}.csv', index=False)"
   ]
  },
  {
   "cell_type": "code",
   "execution_count": 12,
   "id": "122224ca-c926-4a3b-93d4-62eb6cfa935e",
   "metadata": {
    "scrolled": true
   },
   "outputs": [],
   "source": [
    "# X_train, X_val, y_train, y_val = train_test_split(X, y, test_size=0.2, random_state=42)\n",
    "X_train, X_val, y_train, y_val = X, X_val, y, y_val\n",
    "\n",
    "# Numpy配列をTensorに変換\n",
    "X_train = torch.tensor(X_train.values, dtype=torch.float32)\n",
    "y_train = torch.tensor(y_train.values, dtype=torch.float32).view(-1, 1)\n",
    "X_val = torch.tensor(X_val.values, dtype=torch.float32)\n",
    "y_val = torch.tensor(y_val.values, dtype=torch.float32).view(-1, 1)\n",
    "\n",
    "# データの平均と標準偏差を計算\n",
    "mean = X_train.mean(dim=0)\n",
    "std = X_train.std(dim=0)\n",
    "\n",
    "# Normalize変換を定義\n",
    "transform = ML.CustomNormalize(mean, std)\n",
    "\n",
    "train_dataset = ML.MyDataset(X_train, y_train, transform)\n",
    "val_dataset = ML.MyDataset(X_val, y_val, transform)"
   ]
  },
  {
   "cell_type": "code",
   "execution_count": 13,
   "id": "30652ca5-0129-4a1e-8cb5-7e8a02fc4e80",
   "metadata": {
    "scrolled": true
   },
   "outputs": [],
   "source": [
    "train_loader = DataLoader(train_dataset, batch_size=1024, shuffle=True, num_workers=0)\n",
    "val_loader = DataLoader(val_dataset, batch_size=1024, num_workers=0)"
   ]
  },
  {
   "cell_type": "code",
   "execution_count": 17,
   "id": "c50ba33b-2fe1-4904-bf3a-39b94f046a27",
   "metadata": {
    "scrolled": true
   },
   "outputs": [],
   "source": [
    "# モデル準備\n",
    "X, y = next(iter(train_loader))\n",
    "num_in = X.shape[1]\n",
    "model = NN(num_in)\n",
    "model = model.to(device)\n",
    "model = transfer_learning(model, 'IMP_FX_3A0A_model.pth')"
   ]
  },
  {
   "cell_type": "code",
   "execution_count": 18,
   "id": "36e5f143-b4c2-416a-913c-200c9e642b9a",
   "metadata": {
    "scrolled": true
   },
   "outputs": [],
   "source": [
    "# 学習率の最適値\n",
    "lrs, losses = utils.lr_finder(model, train_loader, nn.MSELoss(), lr_multiplier=1.2)"
   ]
  },
  {
   "cell_type": "code",
   "execution_count": 22,
   "id": "fa771ee7-bf55-48ff-a1c2-4f45435c22bd",
   "metadata": {
    "scrolled": true
   },
   "outputs": [
    {
     "data": {
      "image/png": "[encoded data removed]",
      "text/plain": [
       "<Figure size 800x300 with 1 Axes>"
      ]
     },
     "metadata": {},
     "output_type": "display_data"
    }
   ],
   "source": [
    "fig = plt.figure(figsize=(8, 3), dpi=100)\n",
    "plt.plot(lrs, losses, label='losses')\n",
    "plt.xscale('log')\n",
    "plt.legend()\n",
    "plt.ylim(0, 100000000)\n",
    "plt.show()"
   ]
  },
  {
   "cell_type": "code",
   "execution_count": 23,
   "id": "01005665-3ebc-4ed2-8c48-069905cb11c3",
   "metadata": {
    "scrolled": true
   },
   "outputs": [
    {
     "name": "stderr",
     "output_type": "stream",
     "text": [
      "                                                                                                                       \r"
     ]
    },
    {
     "name": "stdout",
     "output_type": "stream",
     "text": [
      "epoch: 0: train error: 1928215.5784375, validation error: 77129.19343449519, validation accuracy: 0.0\n"
     ]
    },
    {
     "name": "stderr",
     "output_type": "stream",
     "text": [
      "                                                                                                                       \r"
     ]
    },
    {
     "name": "stdout",
     "output_type": "stream",
     "text": [
      "epoch: 1: train error: 66194.65890625, validation error: 52312.101205679086, validation accuracy: 0.0\n"
     ]
    },
    {
     "name": "stderr",
     "output_type": "stream",
     "text": [
      "                                                                                                                       \r"
     ]
    },
    {
     "name": "stdout",
     "output_type": "stream",
     "text": [
      "epoch: 2: train error: 49993.970703125, validation error: 43168.55288461538, validation accuracy: 0.0\n"
     ]
    },
    {
     "name": "stderr",
     "output_type": "stream",
     "text": [
      "                                                                                                                       \r"
     ]
    },
    {
     "name": "stdout",
     "output_type": "stream",
     "text": [
      "epoch: 3: train error: 42992.153671875, validation error: 39676.679556039664, validation accuracy: 0.0\n"
     ]
    },
    {
     "name": "stderr",
     "output_type": "stream",
     "text": [
      "                                                                                                                       \r"
     ]
    },
    {
     "name": "stdout",
     "output_type": "stream",
     "text": [
      "epoch: 4: train error: 39076.52765625, validation error: 38456.29248046875, validation accuracy: 0.0\n"
     ]
    },
    {
     "name": "stderr",
     "output_type": "stream",
     "text": [
      "                                                                                                                       \r"
     ]
    },
    {
     "name": "stdout",
     "output_type": "stream",
     "text": [
      "epoch: 5: train error: 37186.4973046875, validation error: 37417.03607647236, validation accuracy: 0.0\n"
     ]
    },
    {
     "name": "stderr",
     "output_type": "stream",
     "text": [
      "                                                                                                                       \r"
     ]
    },
    {
     "name": "stdout",
     "output_type": "stream",
     "text": [
      "epoch: 6: train error: 35714.4166015625, validation error: 37308.59033203125, validation accuracy: 0.0\n"
     ]
    },
    {
     "name": "stderr",
     "output_type": "stream",
     "text": [
      "                                                                                                                       \r"
     ]
    },
    {
     "name": "stdout",
     "output_type": "stream",
     "text": [
      "epoch: 7: train error: 35496.4376171875, validation error: 37012.691368689906, validation accuracy: 0.0\n"
     ]
    },
    {
     "name": "stderr",
     "output_type": "stream",
     "text": [
      "                                                                                                                       \r"
     ]
    },
    {
     "name": "stdout",
     "output_type": "stream",
     "text": [
      "epoch: 8: train error: 34916.2194140625, validation error: 37209.50326772837, validation accuracy: 0.0\n"
     ]
    },
    {
     "name": "stderr",
     "output_type": "stream",
     "text": [
      "                                                                                                                       \r"
     ]
    },
    {
     "name": "stdout",
     "output_type": "stream",
     "text": [
      "epoch: 9: train error: 34870.0245703125, validation error: 36831.700495793266, validation accuracy: 0.0\n"
     ]
    },
    {
     "name": "stderr",
     "output_type": "stream",
     "text": [
      "                                                                                                                       \r"
     ]
    },
    {
     "name": "stdout",
     "output_type": "stream",
     "text": [
      "epoch: 10: train error: 34852.914921875, validation error: 36997.971435546875, validation accuracy: 0.0\n"
     ]
    },
    {
     "name": "stderr",
     "output_type": "stream",
     "text": [
      "                                                                                                                       \r"
     ]
    },
    {
     "name": "stdout",
     "output_type": "stream",
     "text": [
      "epoch: 11: train error: 34742.7168359375, validation error: 37100.82200270433, validation accuracy: 0.0\n"
     ]
    },
    {
     "name": "stderr",
     "output_type": "stream",
     "text": [
      "                                                                                                                       \r"
     ]
    },
    {
     "name": "stdout",
     "output_type": "stream",
     "text": [
      "epoch: 12: train error: 34739.1885546875, validation error: 36953.44163161058, validation accuracy: 0.0\n"
     ]
    },
    {
     "name": "stderr",
     "output_type": "stream",
     "text": [
      "                                                                                                                       \r"
     ]
    },
    {
     "name": "stdout",
     "output_type": "stream",
     "text": [
      "epoch: 13: train error: 34458.2686328125, validation error: 37031.85475510817, validation accuracy: 0.0\n"
     ]
    },
    {
     "name": "stderr",
     "output_type": "stream",
     "text": [
      "                                                                                                                       \r"
     ]
    },
    {
     "name": "stdout",
     "output_type": "stream",
     "text": [
      "epoch: 14: train error: 34031.419375, validation error: 36548.7670710637, validation accuracy: 0.0\n"
     ]
    },
    {
     "name": "stderr",
     "output_type": "stream",
     "text": [
      "                                                                                                                       \r"
     ]
    },
    {
     "name": "stdout",
     "output_type": "stream",
     "text": [
      "epoch: 15: train error: 33442.775859375, validation error: 36394.301720252406, validation accuracy: 0.0\n"
     ]
    },
    {
     "name": "stderr",
     "output_type": "stream",
     "text": [
      "                                                                                                                       \r"
     ]
    },
    {
     "name": "stdout",
     "output_type": "stream",
     "text": [
      "epoch: 16: train error: 32538.5036328125, validation error: 35897.40114182692, validation accuracy: 0.0\n"
     ]
    },
    {
     "name": "stderr",
     "output_type": "stream",
     "text": [
      "                                                                                                                       \r"
     ]
    },
    {
     "name": "stdout",
     "output_type": "stream",
     "text": [
      "epoch: 17: train error: 31929.4616015625, validation error: 35114.875037560094, validation accuracy: 0.0\n"
     ]
    },
    {
     "name": "stderr",
     "output_type": "stream",
     "text": [
      "                                                                                                                       \r"
     ]
    },
    {
     "name": "stdout",
     "output_type": "stream",
     "text": [
      "epoch: 18: train error: 31027.2834375, validation error: 35075.13878455529, validation accuracy: 0.0\n"
     ]
    },
    {
     "name": "stderr",
     "output_type": "stream",
     "text": [
      "                                                                                                                       \r"
     ]
    },
    {
     "name": "stdout",
     "output_type": "stream",
     "text": [
      "epoch: 19: train error: 30404.878359375, validation error: 34843.57692307692, validation accuracy: 0.0\n"
     ]
    },
    {
     "name": "stderr",
     "output_type": "stream",
     "text": [
      "                                                                                                                       \r"
     ]
    },
    {
     "name": "stdout",
     "output_type": "stream",
     "text": [
      "epoch: 20: train error: 29862.9013671875, validation error: 33984.0927734375, validation accuracy: 0.0\n"
     ]
    },
    {
     "name": "stderr",
     "output_type": "stream",
     "text": [
      "                                                                                                                       \r"
     ]
    },
    {
     "name": "stdout",
     "output_type": "stream",
     "text": [
      "epoch: 21: train error: 29383.23390625, validation error: 34024.38514122596, validation accuracy: 0.0\n"
     ]
    },
    {
     "name": "stderr",
     "output_type": "stream",
     "text": [
      "                                                                                                                       \r"
     ]
    },
    {
     "name": "stdout",
     "output_type": "stream",
     "text": [
      "epoch: 22: train error: 28946.227265625, validation error: 33825.84998497596, validation accuracy: 0.0\n"
     ]
    },
    {
     "name": "stderr",
     "output_type": "stream",
     "text": [
      "                                                                                                                       \r"
     ]
    },
    {
     "name": "stdout",
     "output_type": "stream",
     "text": [
      "epoch: 23: train error: 28598.20328125, validation error: 33542.05697866587, validation accuracy: 0.0\n"
     ]
    },
    {
     "name": "stderr",
     "output_type": "stream",
     "text": [
      "                                                                                                                       \r"
     ]
    },
    {
     "name": "stdout",
     "output_type": "stream",
     "text": [
      "epoch: 24: train error: 28407.53859375, validation error: 33531.858924278844, validation accuracy: 0.0\n"
     ]
    },
    {
     "name": "stderr",
     "output_type": "stream",
     "text": [
      "                                                                                                                       \r"
     ]
    },
    {
     "name": "stdout",
     "output_type": "stream",
     "text": [
      "epoch: 25: train error: 28257.78703125, validation error: 33102.7578125, validation accuracy: 0.0\n"
     ]
    },
    {
     "name": "stderr",
     "output_type": "stream",
     "text": [
      "                                                                                                                       \r"
     ]
    },
    {
     "name": "stdout",
     "output_type": "stream",
     "text": [
      "epoch: 26: train error: 27978.37921875, validation error: 33013.50600961538, validation accuracy: 0.0\n"
     ]
    },
    {
     "name": "stderr",
     "output_type": "stream",
     "text": [
      "                                                                                                                       \r"
     ]
    },
    {
     "name": "stdout",
     "output_type": "stream",
     "text": [
      "epoch: 27: train error: 27858.11515625, validation error: 33051.746056189906, validation accuracy: 0.0\n"
     ]
    },
    {
     "name": "stderr",
     "output_type": "stream",
     "text": [
      "                                                                                                                       \r"
     ]
    },
    {
     "name": "stdout",
     "output_type": "stream",
     "text": [
      "epoch: 28: train error: 27907.3773046875, validation error: 33103.73599008413, validation accuracy: 0.0\n"
     ]
    },
    {
     "name": "stderr",
     "output_type": "stream",
     "text": [
      "                                                                                                                       \r"
     ]
    },
    {
     "name": "stdout",
     "output_type": "stream",
     "text": [
      "epoch: 29: train error: 27814.8385546875, validation error: 33265.15951772837, validation accuracy: 0.0\n"
     ]
    },
    {
     "name": "stderr",
     "output_type": "stream",
     "text": [
      "                                                                                                                       \r"
     ]
    },
    {
     "name": "stdout",
     "output_type": "stream",
     "text": [
      "epoch: 30: train error: 27826.925625, validation error: 32899.76551231971, validation accuracy: 0.0\n"
     ]
    },
    {
     "name": "stderr",
     "output_type": "stream",
     "text": [
      "                                                                                                                       \r"
     ]
    },
    {
     "name": "stdout",
     "output_type": "stream",
     "text": [
      "epoch: 31: train error: 27826.6576171875, validation error: 33142.662409855766, validation accuracy: 0.0\n"
     ]
    },
    {
     "name": "stderr",
     "output_type": "stream",
     "text": [
      "                                                                                                                       \r"
     ]
    },
    {
     "name": "stdout",
     "output_type": "stream",
     "text": [
      "epoch: 32: train error: 27856.5952734375, validation error: 33381.97705078125, validation accuracy: 0.0\n"
     ]
    },
    {
     "name": "stderr",
     "output_type": "stream",
     "text": [
      "                                                                                                                       \r"
     ]
    },
    {
     "name": "stdout",
     "output_type": "stream",
     "text": [
      "epoch: 33: train error: 27814.4352734375, validation error: 33040.85238882212, validation accuracy: 0.0\n"
     ]
    },
    {
     "name": "stderr",
     "output_type": "stream",
     "text": [
      "                                                                                                                       \r"
     ]
    },
    {
     "name": "stdout",
     "output_type": "stream",
     "text": [
      "epoch: 34: train error: 27731.12515625, validation error: 32731.68742487981, validation accuracy: 0.0\n"
     ]
    },
    {
     "name": "stderr",
     "output_type": "stream",
     "text": [
      "                                                                                                                       \r"
     ]
    },
    {
     "name": "stdout",
     "output_type": "stream",
     "text": [
      "epoch: 35: train error: 27365.8373828125, validation error: 32764.008920522836, validation accuracy: 0.0\n"
     ]
    },
    {
     "name": "stderr",
     "output_type": "stream",
     "text": [
      "                                                                                                                       \r"
     ]
    },
    {
     "name": "stdout",
     "output_type": "stream",
     "text": [
      "epoch: 36: train error: 27320.5921484375, validation error: 32628.29972956731, validation accuracy: 0.0\n"
     ]
    },
    {
     "name": "stderr",
     "output_type": "stream",
     "text": [
      "                                                                                                                       \r"
     ]
    },
    {
     "name": "stdout",
     "output_type": "stream",
     "text": [
      "epoch: 37: train error: 27224.065078125, validation error: 32414.234600360578, validation accuracy: 0.0\n"
     ]
    },
    {
     "name": "stderr",
     "output_type": "stream",
     "text": [
      "                                                                                                                       \r"
     ]
    },
    {
     "name": "stdout",
     "output_type": "stream",
     "text": [
      "epoch: 38: train error: 26774.424296875, validation error: 32258.46473106971, validation accuracy: 0.0\n"
     ]
    },
    {
     "name": "stderr",
     "output_type": "stream",
     "text": [
      "                                                                                                                       \r"
     ]
    },
    {
     "name": "stdout",
     "output_type": "stream",
     "text": [
      "epoch: 39: train error: 26640.1069140625, validation error: 32143.368689903848, validation accuracy: 0.0\n"
     ]
    },
    {
     "data": {
      "image/png": "[encoded data removed]",
      "text/plain": [
       "<Figure size 800x300 with 1 Axes>"
      ]
     },
     "metadata": {},
     "output_type": "display_data"
    }
   ],
   "source": [
    "# 学習\n",
    "model = NN(num_in)\n",
    "model = model.to(device)\n",
    "model = transfer_learning(model, 'IMP_FX_3A0A_model.pth')\n",
    "\n",
    "num_epoch = 40\n",
    "early_stopping = None\n",
    "save_path = f'IMP_FX_{Project}_model.pth'\n",
    "\n",
    "opt = optim.SGD(model.parameters(), lr=0.00001)\n",
    "scheduler = CosineAnnealingLR(opt, T_max=10)\n",
    "# opt = optim.Adam(model.parameters(), lr=10**-5, betas=(0.9, 0.999))\n",
    "# scheduler=None\n",
    "# scheduler = StepLR(opt, step_size=30, gamma=0.1)\n",
    "\n",
    "\n",
    "train_losses, val_losses, val_accuracies, best_val_loss = utils.learn(model, train_loader, val_loader, opt, nn.MSELoss(), num_epoch=num_epoch, early_stopping=early_stopping, save_path=save_path, scheduler=scheduler)\n",
    "\n",
    "fig = plt.figure(figsize=(8, 3), dpi=100)\n",
    "plt.plot(train_losses, label='train')\n",
    "plt.plot(val_losses, label='val')\n",
    "plt.legend()\n",
    "plt.xlabel('epoch')\n",
    "plt.ylabel('loss')\n",
    "plt.title(f'best_val_loss = {best_val_loss}')\n",
    "# plt.ylim(0, 1000000)\n",
    "plt.show()"
   ]
  },
  {
   "cell_type": "code",
   "execution_count": 24,
   "id": "75d1a24c-6baf-4b99-a85b-3f05d21bebd6",
   "metadata": {
    "scrolled": true
   },
   "outputs": [
    {
     "name": "stderr",
     "output_type": "stream",
     "text": [
      "                                                                                                                       \r"
     ]
    },
    {
     "name": "stdout",
     "output_type": "stream",
     "text": [
      "epoch: 0: train error: 26520.399453125, validation error: 32162.931865985578, validation accuracy: 0.0\n"
     ]
    },
    {
     "name": "stderr",
     "output_type": "stream",
     "text": [
      "                                                                                                                       \r"
     ]
    },
    {
     "name": "stdout",
     "output_type": "stream",
     "text": [
      "epoch: 1: train error: 26464.912421875, validation error: 32148.27159705529, validation accuracy: 0.0\n"
     ]
    },
    {
     "name": "stderr",
     "output_type": "stream",
     "text": [
      "                                                                                                                       \r"
     ]
    },
    {
     "name": "stdout",
     "output_type": "stream",
     "text": [
      "epoch: 2: train error: 26596.49078125, validation error: 32138.456862229566, validation accuracy: 0.0\n"
     ]
    },
    {
     "name": "stderr",
     "output_type": "stream",
     "text": [
      "                                                                                                                       \r"
     ]
    },
    {
     "name": "stdout",
     "output_type": "stream",
     "text": [
      "epoch: 3: train error: 26439.65078125, validation error: 32105.075232872598, validation accuracy: 0.0\n"
     ]
    },
    {
     "name": "stderr",
     "output_type": "stream",
     "text": [
      "                                                                                                                       \r"
     ]
    },
    {
     "name": "stdout",
     "output_type": "stream",
     "text": [
      "epoch: 4: train error: 26539.9368359375, validation error: 32041.332557091348, validation accuracy: 0.0\n"
     ]
    },
    {
     "name": "stderr",
     "output_type": "stream",
     "text": [
      "                                                                                                                       \r"
     ]
    },
    {
     "name": "stdout",
     "output_type": "stream",
     "text": [
      "epoch: 5: train error: 26445.88484375, validation error: 31800.126201923078, validation accuracy: 0.0\n"
     ]
    },
    {
     "name": "stderr",
     "output_type": "stream",
     "text": [
      "                                                                                                                       \r"
     ]
    },
    {
     "name": "stdout",
     "output_type": "stream",
     "text": [
      "epoch: 6: train error: 26359.4578125, validation error: 32071.25965294471, validation accuracy: 0.0\n"
     ]
    },
    {
     "name": "stderr",
     "output_type": "stream",
     "text": [
      "                                                                                                                       \r"
     ]
    },
    {
     "name": "stdout",
     "output_type": "stream",
     "text": [
      "epoch: 7: train error: 26425.582421875, validation error: 31756.33976862981, validation accuracy: 0.0\n"
     ]
    },
    {
     "name": "stderr",
     "output_type": "stream",
     "text": [
      "                                                                                                                       \r"
     ]
    },
    {
     "name": "stdout",
     "output_type": "stream",
     "text": [
      "epoch: 8: train error: 26543.0314453125, validation error: 31987.169677734375, validation accuracy: 0.0\n"
     ]
    },
    {
     "name": "stderr",
     "output_type": "stream",
     "text": [
      "                                                                                                                       \r"
     ]
    },
    {
     "name": "stdout",
     "output_type": "stream",
     "text": [
      "epoch: 9: train error: 26509.8041015625, validation error: 32059.618426983172, validation accuracy: 0.0\n"
     ]
    },
    {
     "name": "stderr",
     "output_type": "stream",
     "text": [
      "                                                                                                                       \r"
     ]
    },
    {
     "name": "stdout",
     "output_type": "stream",
     "text": [
      "epoch: 10: train error: 26538.964375, validation error: 31914.15050330529, validation accuracy: 0.0\n"
     ]
    },
    {
     "name": "stderr",
     "output_type": "stream",
     "text": [
      "                                                                                                                       \r"
     ]
    },
    {
     "name": "stdout",
     "output_type": "stream",
     "text": [
      "epoch: 11: train error: 26456.6021875, validation error: 32238.135704627402, validation accuracy: 0.0\n"
     ]
    },
    {
     "name": "stderr",
     "output_type": "stream",
     "text": [
      "                                                                                                                       \r"
     ]
    },
    {
     "name": "stdout",
     "output_type": "stream",
     "text": [
      "epoch: 12: train error: 26629.4641015625, validation error: 32059.149132361777, validation accuracy: 0.0\n"
     ]
    },
    {
     "name": "stderr",
     "output_type": "stream",
     "text": [
      "                                                                                                                       \r"
     ]
    },
    {
     "name": "stdout",
     "output_type": "stream",
     "text": [
      "epoch: 13: train error: 26319.923125, validation error: 32026.386268028848, validation accuracy: 0.0\n"
     ]
    },
    {
     "name": "stderr",
     "output_type": "stream",
     "text": [
      "                                                                                                                       \r"
     ]
    },
    {
     "name": "stdout",
     "output_type": "stream",
     "text": [
      "epoch: 14: train error: 26294.848984375, validation error: 32032.475736177883, validation accuracy: 0.0\n"
     ]
    },
    {
     "name": "stderr",
     "output_type": "stream",
     "text": [
      "                                                                                                                       \r"
     ]
    },
    {
     "name": "stdout",
     "output_type": "stream",
     "text": [
      "epoch: 15: train error: 26393.034140625, validation error: 31788.857459435098, validation accuracy: 0.0\n"
     ]
    },
    {
     "name": "stderr",
     "output_type": "stream",
     "text": [
      "                                                                                                                       \r"
     ]
    },
    {
     "name": "stdout",
     "output_type": "stream",
     "text": [
      "epoch: 16: train error: 26398.0717578125, validation error: 31976.294170673078, validation accuracy: 0.0\n"
     ]
    },
    {
     "name": "stderr",
     "output_type": "stream",
     "text": [
      "                                                                                                                       \r"
     ]
    },
    {
     "name": "stdout",
     "output_type": "stream",
     "text": [
      "epoch: 17: train error: 26495.4833984375, validation error: 32015.623516376203, validation accuracy: 0.0\n",
      "Stopping early\n"
     ]
    },
    {
     "data": {
      "image/png": "[encoded data removed]",
      "text/plain": [
       "<Figure size 800x300 with 1 Axes>"
      ]
     },
     "metadata": {},
     "output_type": "display_data"
    }
   ],
   "source": [
    "# 再学習\n",
    "# model = NN(num_in)\n",
    "# model = model.to(device)\n",
    "\n",
    "loaded_model = torch.load(save_path)\n",
    "model.load_state_dict(loaded_model['model_state_dict'])\n",
    "model = transfer_learning(model, save_path)\n",
    "\n",
    "num_epoch = 40\n",
    "early_stopping = 10\n",
    "\n",
    "opt = optim.Adam(model.parameters(), lr=0.00001, betas=(0.9, 0.999))\n",
    "# scheduler=None\n",
    "# opt = optim.SGD(model.parameters(), lr=0.0001)\n",
    "scheduler = CosineAnnealingLR(opt, T_max=20)\n",
    "# scheduler = StepLR(opt, step_size=30, gamma=0.1)\n",
    "\n",
    "train_losses, val_losses, val_accuracies, best_val_loss = utils.learn(model, train_loader, val_loader, opt, nn.MSELoss(), num_epoch=num_epoch, early_stopping=early_stopping, save_path=save_path, scheduler=scheduler, best_val_loss=best_val_loss)\n",
    "\n",
    "fig = plt.figure(figsize=(8, 3), dpi=100)\n",
    "plt.plot(train_losses, label='train')\n",
    "plt.plot(val_losses, label='val')\n",
    "plt.legend()\n",
    "plt.xlabel('epoch')\n",
    "plt.ylabel('loss')\n",
    "plt.title(f'best_val_loss = {best_val_loss}')\n",
    "# plt.ylim(0, 1000000)\n",
    "plt.show()"
   ]
  },
  {
   "cell_type": "code",
   "execution_count": 26,
   "id": "a2103821-9a22-4cb6-b398-0b84db6fb681",
   "metadata": {
    "scrolled": true
   },
   "outputs": [
    {
     "name": "stdout",
     "output_type": "stream",
     "text": [
      "Read: c:\\TSDE_Workarea\\ktt2yk\\CARSIM\\Sim_Work_HGT_3BVT_BB88574_VAR01_Matlab2012b\\val_data_3BVT_EstWhlTrq_FX.pkl\n",
      "MSE Loss: 31820.21875\n"
     ]
    }
   ],
   "source": [
    "# 検証データの予測\n",
    "\n",
    "# データ準備\n",
    "print(f'Read: {val_data}')\n",
    "with open(val_data, 'rb') as file:\n",
    "    df = pickle.load(file)\n",
    "X_val, y_val, _ = Treatment_Data_IMP_FX(df, Features, Target)\n",
    "\n",
    "# Numpy配列をTensorに変換\n",
    "X = torch.tensor(X_val.values, dtype=torch.float32)\n",
    "y = torch.tensor(y_val.values, dtype=torch.float32).view(-1, 1)\n",
    "X = transform(X)\n",
    "\n",
    "model = NN(num_in)\n",
    "loaded_model = torch.load(save_path)\n",
    "model.load_state_dict(loaded_model['model_state_dict'])\n",
    "\n",
    "y_pred = model(X)\n",
    "\n",
    "# MSEの計算\n",
    "# loss = mean_squared_error(y_val.detach().numpy(), y_pred.detach().numpy())\n",
    "mse = nn.MSELoss()\n",
    "loss = mse(y, y_pred)\n",
    "print(f'MSE Loss: {loss}')\n",
    "\n",
    "X_val[f'{Target}'] = y.detach().numpy()\n",
    "X_val[f'{Target}_pred'] = y_pred.detach().numpy()\n",
    "X_val['TIME'] = np.arange(0, len(X_val)*0.005, 0.005)\n",
    "columns = ['TIME'] + list(X_val.columns)\n",
    "X_val = X_val[columns]\n",
    "X_val.to_csv(f'{Target}_{Project}_pred.csv', index=False)"
   ]
  },
  {
   "cell_type": "markdown",
   "id": "6b34e989-7534-49a3-916f-e04a457fa605",
   "metadata": {},
   "source": [
    "### MMotAct"
   ]
  },
  {
   "cell_type": "code",
   "execution_count": 22,
   "id": "423977f2-d1cf-4f08-ac99-21c6bf3c0fea",
   "metadata": {},
   "outputs": [
    {
     "name": "stdout",
     "output_type": "stream",
     "text": [
      "Read: c:\\TSDE_Workarea\\ktt2yk\\CARSIM\\Sim_Work_HGT_3BVT_BB88574_VAR01_Matlab2012b\\train_data_3BVT.pkl\n",
      "Read: c:\\TSDE_Workarea\\ktt2yk\\CARSIM\\Sim_Work_HGT_3BVT_BB88574_VAR01_Matlab2012b\\val_data_3BVT.pkl\n"
     ]
    }
   ],
   "source": [
    "Dir = 'c:\\\\TSDE_Workarea\\\\ktt2yk\\\\CARSIM\\\\Sim_Work_HGT_3BVT_BB88574_VAR01_Matlab2012b\\\\'\n",
    "train_data = f'{Dir}train_data_{Project}.pkl'\n",
    "val_data = f'{Dir}val_data_{Project}.pkl'\n",
    "\n",
    "Features = ['MDriverRequest', 'v_RA_kph',\t\n",
    "            'MMotRed', 'MMotRed_10', 'MMotRed_20', 'MMotRed_40', 'MMotRed_100', 'MMotRed_200', 'MMotRed_400',\n",
    "            'MotPedalPosDriver', 'MotPedalPosDriver_10', 'MotPedalPosDriver_20', 'MotPedalPosDriver_40', 'MotPedalPosDriver_100', 'MotPedalPosDriver_200', 'MotPedalPosDriver_400',\n",
    "            'MMotAct']\n",
    "\n",
    "Target = 'MMotAct'\n",
    "\n",
    "print(f'Read: {train_data}')\n",
    "with open(train_data, 'rb') as file:\n",
    "    df = pickle.load(file)\n",
    "X, y, df = Treatment_Data_MMotAct(df, Features, Target)\n",
    "df.to_csv(f'train_{Project}_{Target}.csv', index=False)\n",
    "\n",
    "print(f'Read: {val_data}')\n",
    "with open(val_data, 'rb') as file:\n",
    "    df = pickle.load(file)\n",
    "X_val, y_val, df = Treatment_Data_MMotAct(df, Features, Target)\n",
    "df.to_csv(f'val_{Project}_{Target}.csv', index=False)"
   ]
  },
  {
   "cell_type": "code",
   "execution_count": 20,
   "id": "07fe86f3-91f5-4316-ade5-17654f94072c",
   "metadata": {
    "scrolled": true
   },
   "outputs": [],
   "source": [
    "# X_train, X_val, y_train, y_val = train_test_split(X, y, test_size=0.2, random_state=42)\n",
    "X_train, X_val, y_train, y_val = X, X_val, y, y_val\n",
    "\n",
    "# Numpy配列をTensorに変換\n",
    "X_train = torch.tensor(X_train.values, dtype=torch.float32)\n",
    "y_train = torch.tensor(y_train.values, dtype=torch.float32).view(-1, 1)\n",
    "X_val = torch.tensor(X_val.values, dtype=torch.float32)\n",
    "y_val = torch.tensor(y_val.values, dtype=torch.float32).view(-1, 1)\n",
    "\n",
    "# データの平均と標準偏差を計算\n",
    "mean = X_train.mean(dim=0)\n",
    "std = X_train.std(dim=0)\n",
    "\n",
    "# Normalize変換を定義\n",
    "transform = ML.CustomNormalize(mean, std)\n",
    "\n",
    "train_dataset = ML.MyDataset(X_train, y_train, transform)\n",
    "val_dataset = ML.MyDataset(X_val, y_val, transform)"
   ]
  },
  {
   "cell_type": "code",
   "execution_count": 20,
   "id": "daf312ed-bebe-4d39-88f9-669e5a0f908f",
   "metadata": {
    "scrolled": true
   },
   "outputs": [],
   "source": [
    "train_loader = DataLoader(train_dataset, batch_size=1024, shuffle=True, num_workers=0)\n",
    "val_loader = DataLoader(val_dataset, batch_size=1024, num_workers=0)"
   ]
  },
  {
   "cell_type": "code",
   "execution_count": 21,
   "id": "dd1d3b88-2eac-4b7b-9358-d2e1ee4206f8",
   "metadata": {
    "scrolled": true
   },
   "outputs": [],
   "source": [
    "# モデル準備\n",
    "X, y = next(iter(train_loader))\n",
    "num_in = X.shape[1]\n",
    "model = NN(num_in)\n",
    "model = model.to(device)\n",
    "model = transfer_learning(model, 'MMotAct_3A0A_model.pth')"
   ]
  },
  {
   "cell_type": "code",
   "execution_count": 22,
   "id": "5cddcf5e-d0df-47e9-9673-0b81c887a17f",
   "metadata": {
    "scrolled": true
   },
   "outputs": [],
   "source": [
    "# 学習率の最適値\n",
    "lrs, losses = utils.lr_finder(model, train_loader, nn.MSELoss(), lr_multiplier=1.1)"
   ]
  },
  {
   "cell_type": "code",
   "execution_count": 23,
   "id": "32a84f77-69f0-451d-973f-df26d6e2b6f7",
   "metadata": {},
   "outputs": [
    {
     "data": {
      "image/png": "[encoded data removed]",
      "text/plain": [
       "<Figure size 800x300 with 1 Axes>"
      ]
     },
     "metadata": {},
     "output_type": "display_data"
    }
   ],
   "source": [
    "fig = plt.figure(figsize=(8, 3), dpi=100)\n",
    "plt.plot(lrs, losses, label='losses')\n",
    "plt.xscale('log')\n",
    "plt.legend()\n",
    "plt.ylim(0, 400000)\n",
    "plt.show()"
   ]
  },
  {
   "cell_type": "code",
   "execution_count": 24,
   "id": "afabbbff-3872-40ed-b693-1ec69a2d477d",
   "metadata": {
    "scrolled": true
   },
   "outputs": [
    {
     "name": "stderr",
     "output_type": "stream",
     "text": [
      "                                                                                                                       \r"
     ]
    },
    {
     "name": "stdout",
     "output_type": "stream",
     "text": [
      "epoch: 0: train error: 13201.570478074094, validation error: 1376.7481755150689, validation accuracy: 1.9393939393939394\n"
     ]
    },
    {
     "name": "stderr",
     "output_type": "stream",
     "text": [
      "                                                                                                                       \r"
     ]
    },
    {
     "name": "stdout",
     "output_type": "stream",
     "text": [
      "epoch: 1: train error: 2276.1600234660696, validation error: 1152.3560941002586, validation accuracy: 1.9393939393939394\n"
     ]
    },
    {
     "name": "stderr",
     "output_type": "stream",
     "text": [
      "                                                                                                                       \r"
     ]
    },
    {
     "name": "stdout",
     "output_type": "stream",
     "text": [
      "epoch: 2: train error: 2097.4100254140003, validation error: 1035.649807979362, validation accuracy: 1.9393939393939394\n"
     ]
    },
    {
     "name": "stderr",
     "output_type": "stream",
     "text": [
      "                                                                                                                       \r"
     ]
    },
    {
     "name": "stdout",
     "output_type": "stream",
     "text": [
      "epoch: 3: train error: 2041.7541698699301, validation error: 1092.988815143855, validation accuracy: 1.9393939393939394\n"
     ]
    },
    {
     "name": "stderr",
     "output_type": "stream",
     "text": [
      "                                                                                                                       \r"
     ]
    },
    {
     "name": "stdout",
     "output_type": "stream",
     "text": [
      "epoch: 4: train error: 2004.7888391373006, validation error: 1222.2300417062008, validation accuracy: 1.9393939393939394\n"
     ]
    },
    {
     "name": "stderr",
     "output_type": "stream",
     "text": [
      "                                                                                                                       \r"
     ]
    },
    {
     "name": "stdout",
     "output_type": "stream",
     "text": [
      "epoch: 5: train error: 1985.920042322037, validation error: 1014.9039626482761, validation accuracy: 1.9393939393939394\n"
     ]
    },
    {
     "name": "stderr",
     "output_type": "stream",
     "text": [
      "                                                                                                                       \r"
     ]
    },
    {
     "name": "stdout",
     "output_type": "stream",
     "text": [
      "epoch: 6: train error: 1963.1431011443442, validation error: 1374.4922824435764, validation accuracy: 1.9393939393939394\n"
     ]
    },
    {
     "name": "stderr",
     "output_type": "stream",
     "text": [
      "                                                                                                                       \r"
     ]
    },
    {
     "name": "stdout",
     "output_type": "stream",
     "text": [
      "epoch: 7: train error: 1982.3349296082843, validation error: 1142.7625756468435, validation accuracy: 1.9393939393939394\n"
     ]
    },
    {
     "name": "stderr",
     "output_type": "stream",
     "text": [
      "                                                                                                                       \r"
     ]
    },
    {
     "name": "stdout",
     "output_type": "stream",
     "text": [
      "epoch: 8: train error: 1954.131699420036, validation error: 1095.9596980509132, validation accuracy: 1.9393939393939394\n"
     ]
    },
    {
     "name": "stderr",
     "output_type": "stream",
     "text": [
      "                                                                                                                       \r"
     ]
    },
    {
     "name": "stdout",
     "output_type": "stream",
     "text": [
      "epoch: 9: train error: 1953.3535143263796, validation error: 1107.5529409899857, validation accuracy: 1.9393939393939394\n"
     ]
    },
    {
     "name": "stderr",
     "output_type": "stream",
     "text": [
      "                                                                                                                       \r"
     ]
    },
    {
     "name": "stdout",
     "output_type": "stream",
     "text": [
      "epoch: 10: train error: 1938.4791590913812, validation error: 1124.6238754518104, validation accuracy: 1.9393939393939394\n"
     ]
    },
    {
     "name": "stderr",
     "output_type": "stream",
     "text": [
      "                                                                                                                       \r"
     ]
    },
    {
     "name": "stdout",
     "output_type": "stream",
     "text": [
      "epoch: 11: train error: 1934.6055317330868, validation error: 1166.2074567236082, validation accuracy: 1.9393939393939394\n"
     ]
    },
    {
     "name": "stderr",
     "output_type": "stream",
     "text": [
      "                                                                                                                       \r"
     ]
    },
    {
     "name": "stdout",
     "output_type": "stream",
     "text": [
      "epoch: 12: train error: 1955.278444980053, validation error: 1074.7184182369347, validation accuracy: 1.9393939393939394\n"
     ]
    },
    {
     "name": "stderr",
     "output_type": "stream",
     "text": [
      "                                                                                                                       \r"
     ]
    },
    {
     "name": "stdout",
     "output_type": "stream",
     "text": [
      "epoch: 13: train error: 1950.8120883373504, validation error: 1285.007745877661, validation accuracy: 1.9393939393939394\n"
     ]
    },
    {
     "name": "stderr",
     "output_type": "stream",
     "text": [
      "                                                                                                                       \r"
     ]
    },
    {
     "name": "stdout",
     "output_type": "stream",
     "text": [
      "epoch: 14: train error: 1946.727148827086, validation error: 970.720145630114, validation accuracy: 1.9393939393939394\n"
     ]
    },
    {
     "name": "stderr",
     "output_type": "stream",
     "text": [
      "                                                                                                                       \r"
     ]
    },
    {
     "name": "stdout",
     "output_type": "stream",
     "text": [
      "epoch: 15: train error: 1939.3034301108503, validation error: 1173.965911995281, validation accuracy: 1.9393939393939394\n"
     ]
    },
    {
     "name": "stderr",
     "output_type": "stream",
     "text": [
      "                                                                                                                       \r"
     ]
    },
    {
     "name": "stdout",
     "output_type": "stream",
     "text": [
      "epoch: 16: train error: 1884.8143886809653, validation error: 1206.431997852494, validation accuracy: 1.9393939393939394\n"
     ]
    },
    {
     "name": "stderr",
     "output_type": "stream",
     "text": [
      "                                                                                                                       \r"
     ]
    },
    {
     "name": "stdout",
     "output_type": "stream",
     "text": [
      "epoch: 17: train error: 1923.1983442915248, validation error: 1280.7705357014531, validation accuracy: 1.9393939393939394\n"
     ]
    },
    {
     "name": "stderr",
     "output_type": "stream",
     "text": [
      "                                                                                                                       \r"
     ]
    },
    {
     "name": "stdout",
     "output_type": "stream",
     "text": [
      "epoch: 18: train error: 1886.6359171765916, validation error: 1221.298709118005, validation accuracy: 1.9393939393939394\n"
     ]
    },
    {
     "name": "stderr",
     "output_type": "stream",
     "text": [
      "                                                                                                                       \r"
     ]
    },
    {
     "name": "stdout",
     "output_type": "stream",
     "text": [
      "epoch: 19: train error: 1883.8498867927713, validation error: 1137.7984972120535, validation accuracy: 1.9393939393939394\n"
     ]
    },
    {
     "name": "stderr",
     "output_type": "stream",
     "text": [
      "                                                                                                                       \r"
     ]
    },
    {
     "name": "stdout",
     "output_type": "stream",
     "text": [
      "epoch: 20: train error: 1851.6963041589615, validation error: 987.2235662672255, validation accuracy: 1.9393939393939394\n"
     ]
    },
    {
     "name": "stderr",
     "output_type": "stream",
     "text": [
      "                                                                                                                       \r"
     ]
    },
    {
     "name": "stdout",
     "output_type": "stream",
     "text": [
      "epoch: 21: train error: 1864.3806684778092, validation error: 1031.4658403300275, validation accuracy: 1.9393939393939394\n"
     ]
    },
    {
     "name": "stderr",
     "output_type": "stream",
     "text": [
      "                                                                                                                       \r"
     ]
    },
    {
     "name": "stdout",
     "output_type": "stream",
     "text": [
      "epoch: 22: train error: 1820.9669898824488, validation error: 949.1850328782592, validation accuracy: 1.9393939393939394\n"
     ]
    },
    {
     "name": "stderr",
     "output_type": "stream",
     "text": [
      "                                                                                                                       \r"
     ]
    },
    {
     "name": "stdout",
     "output_type": "stream",
     "text": [
      "epoch: 23: train error: 1817.0661526943775, validation error: 1179.0596362460744, validation accuracy: 1.9393939393939394\n"
     ]
    },
    {
     "name": "stderr",
     "output_type": "stream",
     "text": [
      "                                                                                                                       \r"
     ]
    },
    {
     "name": "stdout",
     "output_type": "stream",
     "text": [
      "epoch: 24: train error: 1822.2360128849111, validation error: 901.2789763248328, validation accuracy: 1.9393939393939394\n"
     ]
    },
    {
     "name": "stderr",
     "output_type": "stream",
     "text": [
      "                                                                                                                       \r"
     ]
    },
    {
     "name": "stdout",
     "output_type": "stream",
     "text": [
      "epoch: 25: train error: 1828.791151330826, validation error: 931.6767919810131, validation accuracy: 1.9393939393939394\n"
     ]
    },
    {
     "name": "stderr",
     "output_type": "stream",
     "text": [
      "                                                                                                                       \r"
     ]
    },
    {
     "name": "stdout",
     "output_type": "stream",
     "text": [
      "epoch: 26: train error: 1774.6813641811939, validation error: 955.531507434267, validation accuracy: 1.9393939393939394\n"
     ]
    },
    {
     "name": "stderr",
     "output_type": "stream",
     "text": [
      "                                                                                                                       \r"
     ]
    },
    {
     "name": "stdout",
     "output_type": "stream",
     "text": [
      "epoch: 27: train error: 1813.2283924183946, validation error: 1172.1613726760402, validation accuracy: 1.9393939393939394\n"
     ]
    },
    {
     "name": "stderr",
     "output_type": "stream",
     "text": [
      "                                                                                                                       \r"
     ]
    },
    {
     "name": "stdout",
     "output_type": "stream",
     "text": [
      "epoch: 28: train error: 1772.2557718804542, validation error: 913.5782971478471, validation accuracy: 1.9393939393939394\n"
     ]
    },
    {
     "name": "stderr",
     "output_type": "stream",
     "text": [
      "                                                                                                                       \r"
     ]
    },
    {
     "name": "stdout",
     "output_type": "stream",
     "text": [
      "epoch: 29: train error: 1776.7742280351354, validation error: 916.4698075381192, validation accuracy: 1.9393939393939394\n"
     ]
    },
    {
     "name": "stderr",
     "output_type": "stream",
     "text": [
      "                                                                                                                       \r"
     ]
    },
    {
     "name": "stdout",
     "output_type": "stream",
     "text": [
      "epoch: 30: train error: 1796.1177853523416, validation error: 907.2559162583015, validation accuracy: 1.9393939393939394\n"
     ]
    },
    {
     "name": "stderr",
     "output_type": "stream",
     "text": [
      "                                                                                                                       \r"
     ]
    },
    {
     "name": "stdout",
     "output_type": "stream",
     "text": [
      "epoch: 31: train error: 1775.671283316105, validation error: 1111.6018234154192, validation accuracy: 1.9393939393939394\n"
     ]
    },
    {
     "name": "stderr",
     "output_type": "stream",
     "text": [
      "                                                                                                                       \r"
     ]
    },
    {
     "name": "stdout",
     "output_type": "stream",
     "text": [
      "epoch: 32: train error: 1776.4031109099692, validation error: 1127.4254719994285, validation accuracy: 1.9393939393939394\n"
     ]
    },
    {
     "name": "stderr",
     "output_type": "stream",
     "text": [
      "                                                                                                                       \r"
     ]
    },
    {
     "name": "stdout",
     "output_type": "stream",
     "text": [
      "epoch: 33: train error: 1799.2015390599029, validation error: 955.0229801312842, validation accuracy: 1.9393939393939394\n"
     ]
    },
    {
     "name": "stderr",
     "output_type": "stream",
     "text": [
      "                                                                                                                       \r"
     ]
    },
    {
     "name": "stdout",
     "output_type": "stream",
     "text": [
      "epoch: 34: train error: 1769.475697131867, validation error: 1011.4163592222965, validation accuracy: 1.9393939393939394\n"
     ]
    },
    {
     "name": "stderr",
     "output_type": "stream",
     "text": [
      "                                                                                                                       \r"
     ]
    },
    {
     "name": "stdout",
     "output_type": "stream",
     "text": [
      "epoch: 35: train error: 1798.1379970794028, validation error: 892.4945863232468, validation accuracy: 1.9393939393939394\n"
     ]
    },
    {
     "name": "stderr",
     "output_type": "stream",
     "text": [
      "                                                                                                                       \r"
     ]
    },
    {
     "name": "stdout",
     "output_type": "stream",
     "text": [
      "epoch: 36: train error: 1782.2756302204539, validation error: 1066.898445187193, validation accuracy: 1.9393939393939394\n"
     ]
    },
    {
     "name": "stderr",
     "output_type": "stream",
     "text": [
      "                                                                                                                       \r"
     ]
    },
    {
     "name": "stdout",
     "output_type": "stream",
     "text": [
      "epoch: 37: train error: 1783.713639766612, validation error: 956.3646798952661, validation accuracy: 1.9393939393939394\n"
     ]
    },
    {
     "name": "stderr",
     "output_type": "stream",
     "text": [
      "                                                                                                                       \r"
     ]
    },
    {
     "name": "stdout",
     "output_type": "stream",
     "text": [
      "epoch: 38: train error: 1760.989527925532, validation error: 1013.2678398315353, validation accuracy: 1.9393939393939394\n"
     ]
    },
    {
     "name": "stderr",
     "output_type": "stream",
     "text": [
      "                                                                                                                       \r"
     ]
    },
    {
     "name": "stdout",
     "output_type": "stream",
     "text": [
      "epoch: 39: train error: 1781.027128016695, validation error: 974.6168542341752, validation accuracy: 1.9393939393939394\n"
     ]
    },
    {
     "data": {
      "image/png": "[encoded data removed]",
      "text/plain": [
       "<Figure size 800x300 with 1 Axes>"
      ]
     },
     "metadata": {},
     "output_type": "display_data"
    }
   ],
   "source": [
    "# 学習\n",
    "model = NN(num_in)\n",
    "model = model.to(device)\n",
    "model = transfer_learning(model, 'MMotAct_3A0A_model.pth')\n",
    "\n",
    "num_epoch = 40\n",
    "early_stopping = None\n",
    "save_path = f'MMotAct_{Project}_model.pth'\n",
    "\n",
    "# opt = optim.Adam(model.parameters(), lr=0.0001, betas=(0.9, 0.999))\n",
    "opt = optim.SGD(model.parameters(), lr=10**-5)\n",
    "scheduler = CosineAnnealingLR(opt, T_max=10)\n",
    "# scheduler = StepLR(opt, step_size=20, gamma=0.1)\n",
    "# scheduler=None\n",
    "\n",
    "train_losses, val_losses, val_accuracies, best_val_loss = utils.learn(model, train_loader, val_loader, opt, nn.MSELoss(), num_epoch=num_epoch, early_stopping=early_stopping, save_path=save_path, scheduler=scheduler)\n",
    "\n",
    "fig = plt.figure(figsize=(8, 3), dpi=100)\n",
    "plt.plot(train_losses, label='train')\n",
    "plt.plot(val_losses, label='val')\n",
    "plt.legend()\n",
    "plt.xlabel('epoch')\n",
    "plt.ylabel('loss')\n",
    "plt.title(f'best_val_loss = {best_val_loss}')\n",
    "# plt.ylim(0, 1000000)\n",
    "plt.show()"
   ]
  },
  {
   "cell_type": "code",
   "execution_count": 25,
   "id": "3dd97e1f-21e0-4705-b3c8-066096473ee5",
   "metadata": {
    "scrolled": true
   },
   "outputs": [
    {
     "name": "stderr",
     "output_type": "stream",
     "text": [
      "                                                                                                                       \r"
     ]
    },
    {
     "name": "stdout",
     "output_type": "stream",
     "text": [
      "epoch: 0: train error: 1760.6407133061834, validation error: 940.168247955014, validation accuracy: 1.9393939393939394\n"
     ]
    },
    {
     "name": "stderr",
     "output_type": "stream",
     "text": [
      "                                                                                                                       \r"
     ]
    },
    {
     "name": "stdout",
     "output_type": "stream",
     "text": [
      "epoch: 1: train error: 1786.8574616452481, validation error: 943.8422971108947, validation accuracy: 1.9393939393939394\n"
     ]
    },
    {
     "name": "stderr",
     "output_type": "stream",
     "text": [
      "                                                                                                                       \r"
     ]
    },
    {
     "name": "stdout",
     "output_type": "stream",
     "text": [
      "epoch: 2: train error: 1777.0756051895466, validation error: 1082.9627967603278, validation accuracy: 1.9393939393939394\n"
     ]
    },
    {
     "name": "stderr",
     "output_type": "stream",
     "text": [
      "                                                                                                                       \r"
     ]
    },
    {
     "name": "stdout",
     "output_type": "stream",
     "text": [
      "epoch: 3: train error: 1746.402189538834, validation error: 1017.8091964962507, validation accuracy: 1.9393939393939394\n"
     ]
    },
    {
     "name": "stderr",
     "output_type": "stream",
     "text": [
      "                                                                                                                       \r"
     ]
    },
    {
     "name": "stdout",
     "output_type": "stream",
     "text": [
      "epoch: 4: train error: 1782.028444006088, validation error: 972.4346876626063, validation accuracy: 1.9393939393939394\n",
      "Stopping early\n"
     ]
    },
    {
     "data": {
      "image/png": "[encoded data removed]",
      "text/plain": [
       "<Figure size 800x300 with 1 Axes>"
      ]
     },
     "metadata": {},
     "output_type": "display_data"
    }
   ],
   "source": [
    "# 再学習\n",
    "# model = NN(num_in)\n",
    "# model = model.to(device)\n",
    "\n",
    "# loaded_model = torch.load(save_path)\n",
    "# model.load_state_dict(loaded_model['model_state_dict'])\n",
    "model = transfer_learning(model, save_path)\n",
    "\n",
    "num_epoch = 100\n",
    "early_stopping = 5\n",
    "\n",
    "opt = optim.Adam(model.parameters(), lr=10**-6, betas=(0.9, 0.999))\n",
    "scheduler=None\n",
    "# opt = optim.SGD(model.parameters(), lr=0.0001)\n",
    "# scheduler = CosineAnnealingLR(opt, T_max=20)\n",
    "# scheduler = StepLR(opt, step_size=30, gamma=0.1)\n",
    "\n",
    "train_losses, val_losses, val_accuracies, best_val_loss = utils.learn(model, train_loader, val_loader, opt, nn.MSELoss(), num_epoch=num_epoch, early_stopping=early_stopping, save_path=save_path, scheduler=scheduler, best_val_loss=best_val_loss)\n",
    "\n",
    "fig = plt.figure(figsize=(8, 3), dpi=100)\n",
    "plt.plot(train_losses, label='train')\n",
    "plt.plot(val_losses, label='val')\n",
    "plt.legend()\n",
    "plt.xlabel('epoch')\n",
    "plt.ylabel('loss')\n",
    "plt.title(f'best_val_loss = {best_val_loss}')\n",
    "# plt.ylim(0, 1000000)\n",
    "plt.show()"
   ]
  },
  {
   "cell_type": "code",
   "execution_count": 26,
   "id": "73be9911-7429-4a08-a33c-690a6c550274",
   "metadata": {},
   "outputs": [
    {
     "name": "stdout",
     "output_type": "stream",
     "text": [
      "Read: c:\\TSDE_Workarea\\ktt2yk\\CARSIM\\Sim_Work_HGT_3BVT_BB88574_VAR01_Matlab2012b\\val_data_3BVT.pkl\n",
      "MSE Loss: 2401.09130859375\n"
     ]
    }
   ],
   "source": [
    "# 検証データの予測\n",
    "\n",
    "# データ準備\n",
    "print(f'Read: {val_data}')\n",
    "with open(val_data, 'rb') as file:\n",
    "    df = pickle.load(file)\n",
    "X_val, y_val, _ = Treatment_Data_MMotAct(df, Features, Target)\n",
    "\n",
    "# Numpy配列をTensorに変換\n",
    "X = torch.tensor(X_val.values, dtype=torch.float32)\n",
    "y = torch.tensor(y_val.values, dtype=torch.float32).view(-1, 1)\n",
    "X = transform(X)\n",
    "\n",
    "model = NN(num_in)\n",
    "loaded_model = torch.load(save_path)\n",
    "model.load_state_dict(loaded_model['model_state_dict'])\n",
    "\n",
    "y_pred = model(X)\n",
    "\n",
    "# MSEの計算\n",
    "# loss = mean_squared_error(y_val.detach().numpy(), y_pred.detach().numpy())\n",
    "mse = nn.MSELoss()\n",
    "loss = mse(y, y_pred)\n",
    "print(f'MSE Loss: {loss}')\n",
    "\n",
    "X_val[f'{Target}'] = y.detach().numpy()\n",
    "X_val[f'{Target}_pred'] = y_pred.detach().numpy()\n",
    "X_val['TIME'] = np.arange(0, len(X_val)*0.005, 0.005)\n",
    "columns = ['TIME'] + list(X_val.columns)\n",
    "X_val = X_val[columns]\n",
    "X_val.to_csv(f'{Target}_{Project}_pred.csv', index=False)"
   ]
  },
  {
   "cell_type": "markdown",
   "id": "3c8a8a5f-4195-4862-9d26-86b9df72f600",
   "metadata": {},
   "source": [
    "### MDriverRequest"
   ]
  },
  {
   "cell_type": "code",
   "execution_count": 27,
   "id": "3fb70522-e3db-4b8a-a152-ca4376e7708e",
   "metadata": {},
   "outputs": [
    {
     "name": "stdout",
     "output_type": "stream",
     "text": [
      "Read: c:\\TSDE_Workarea\\ktt2yk\\CARSIM\\Sim_Work_HGT_3BVT_BB88574_VAR01_Matlab2012b\\train_data_3BVT.pkl\n",
      "Read: c:\\TSDE_Workarea\\ktt2yk\\CARSIM\\Sim_Work_HGT_3BVT_BB88574_VAR01_Matlab2012b\\val_data_3BVT.pkl\n"
     ]
    }
   ],
   "source": [
    "Dir = 'c:\\\\TSDE_Workarea\\\\ktt2yk\\\\CARSIM\\\\Sim_Work_HGT_3BVT_BB88574_VAR01_Matlab2012b\\\\'\n",
    "train_data = f'{Dir}train_data_{Project}.pkl'\n",
    "val_data = f'{Dir}val_data_{Project}.pkl'\n",
    "\n",
    "Features = ['v_RA_kph', \n",
    "            'MotPedalPosDriver', 'MotPedalPosDriver_10', 'MotPedalPosDriver_20', 'MotPedalPosDriver_40', 'MotPedalPosDriver_100', 'MotPedalPosDriver_200', 'MotPedalPosDriver_400',\n",
    "            'p_MC_Model', 'p_MC_Model_10', 'p_MC_Model_20', 'p_MC_Model_40', 'p_MC_Model_100', 'p_MC_Model_200', 'p_MC_Model_400',\n",
    "            'nDrvUnit', 'nDrvUnit_10', 'nDrvUnit_20', 'nDrvUnit_40', 'nDrvUnit_100', 'nDrvUnit_200', 'nDrvUnit_400',  \n",
    "            'MDriverRequest']\n",
    "\n",
    "Target = 'MDriverRequest'\n",
    "\n",
    "print(f'Read: {train_data}')\n",
    "with open(train_data, 'rb') as file:\n",
    "    df = pickle.load(file)\n",
    "X, y, df = Treatment_Data_MMotAct(df, Features, Target)\n",
    "df.to_csv(f'train_{Project}_{Target}.csv', index=False)\n",
    "\n",
    "print(f'Read: {val_data}')\n",
    "with open(val_data, 'rb') as file:\n",
    "    df = pickle.load(file)\n",
    "X_val, y_val, df = Treatment_Data_MMotAct(df, Features, Target)\n",
    "df.to_csv(f'val_{Project}_{Target}.csv', index=False)"
   ]
  },
  {
   "cell_type": "code",
   "execution_count": 28,
   "id": "2c9c3677-3387-4645-86ac-724099777273",
   "metadata": {
    "scrolled": true
   },
   "outputs": [],
   "source": [
    "# X_train, X_val, y_train, y_val = train_test_split(X, y, test_size=0.2, random_state=42)\n",
    "X_train, X_val, y_train, y_val = X, X_val, y, y_val\n",
    "\n",
    "# Numpy配列をTensorに変換\n",
    "X_train = torch.tensor(X_train.values, dtype=torch.float32)\n",
    "y_train = torch.tensor(y_train.values, dtype=torch.float32).view(-1, 1)\n",
    "X_val = torch.tensor(X_val.values, dtype=torch.float32)\n",
    "y_val = torch.tensor(y_val.values, dtype=torch.float32).view(-1, 1)\n",
    "\n",
    "# データの平均と標準偏差を計算\n",
    "mean = X_train.mean(dim=0)\n",
    "std = X_train.std(dim=0)\n",
    "\n",
    "# Normalize変換を定義\n",
    "transform = ML.CustomNormalize(mean, std)\n",
    "\n",
    "train_dataset = ML.MyDataset(X_train, y_train, transform)\n",
    "val_dataset = ML.MyDataset(X_val, y_val, transform)"
   ]
  },
  {
   "cell_type": "code",
   "execution_count": 29,
   "id": "3601b7ba-e98b-4a6c-b9be-295685e171b7",
   "metadata": {
    "scrolled": true
   },
   "outputs": [],
   "source": [
    "train_loader = DataLoader(train_dataset, batch_size=1024, shuffle=True, num_workers=0)\n",
    "val_loader = DataLoader(val_dataset, batch_size=1024, num_workers=0)"
   ]
  },
  {
   "cell_type": "code",
   "execution_count": 30,
   "id": "618aa0be-20db-427b-b830-1464776d44b1",
   "metadata": {
    "scrolled": true
   },
   "outputs": [],
   "source": [
    "# モデル準備\n",
    "X, y = next(iter(train_loader))\n",
    "num_in = X.shape[1]\n",
    "model = NN(num_in)\n",
    "model = model.to(device)\n",
    "model = transfer_learning(model, 'MDriverRequest_3A0A_model.pth')"
   ]
  },
  {
   "cell_type": "code",
   "execution_count": 31,
   "id": "4a2be381-3c93-47c9-96b2-9570267be6c2",
   "metadata": {
    "scrolled": true
   },
   "outputs": [],
   "source": [
    "# 学習率の最適値\n",
    "lrs, losses = utils.lr_finder(model, train_loader, nn.MSELoss(), lr_multiplier=1.1)"
   ]
  },
  {
   "cell_type": "code",
   "execution_count": 32,
   "id": "489a832f-54cd-4540-addc-75085c0d37c7",
   "metadata": {
    "scrolled": true
   },
   "outputs": [
    {
     "data": {
      "image/png": "[encoded data removed]",
      "text/plain": [
       "<Figure size 800x300 with 1 Axes>"
      ]
     },
     "metadata": {},
     "output_type": "display_data"
    }
   ],
   "source": [
    "fig = plt.figure(figsize=(8, 3), dpi=100)\n",
    "plt.plot(lrs, losses, label='losses')\n",
    "plt.xscale('log')\n",
    "plt.legend()\n",
    "plt.ylim(0,2000000)\n",
    "plt.show()"
   ]
  },
  {
   "cell_type": "code",
   "execution_count": 33,
   "id": "82784778-95af-4be2-9da6-fcdecb40b306",
   "metadata": {
    "scrolled": true
   },
   "outputs": [
    {
     "name": "stderr",
     "output_type": "stream",
     "text": [
      "                                                                                                                       \r"
     ]
    },
    {
     "name": "stdout",
     "output_type": "stream",
     "text": [
      "epoch: 0: train error: 32459.908587516624, validation error: 12566.104341603288, validation accuracy: 0.5656565656565656\n"
     ]
    },
    {
     "name": "stderr",
     "output_type": "stream",
     "text": [
      "                                                                                                                       \r"
     ]
    },
    {
     "name": "stdout",
     "output_type": "stream",
     "text": [
      "epoch: 1: train error: 11283.33293638838, validation error: 10298.389415644637, validation accuracy: 0.5656565656565656\n"
     ]
    },
    {
     "name": "stderr",
     "output_type": "stream",
     "text": [
      "                                                                                                                       \r"
     ]
    },
    {
     "name": "stdout",
     "output_type": "stream",
     "text": [
      "epoch: 2: train error: 10047.233311429936, validation error: 9047.031446900031, validation accuracy: 0.5656565656565656\n"
     ]
    },
    {
     "name": "stderr",
     "output_type": "stream",
     "text": [
      "                                                                                                                       \r"
     ]
    },
    {
     "name": "stdout",
     "output_type": "stream",
     "text": [
      "epoch: 3: train error: 9331.4286343189, validation error: 8340.23174039282, validation accuracy: 0.5656565656565656\n"
     ]
    },
    {
     "name": "stderr",
     "output_type": "stream",
     "text": [
      "                                                                                                                       \r"
     ]
    },
    {
     "name": "stdout",
     "output_type": "stream",
     "text": [
      "epoch: 4: train error: 8845.36996524892, validation error: 7539.722544660472, validation accuracy: 0.5656565656565656\n"
     ]
    },
    {
     "name": "stderr",
     "output_type": "stream",
     "text": [
      "                                                                                                                       \r"
     ]
    },
    {
     "name": "stdout",
     "output_type": "stream",
     "text": [
      "epoch: 5: train error: 8569.610626870013, validation error: 7330.127172412294, validation accuracy: 0.5656565656565656\n"
     ]
    },
    {
     "name": "stderr",
     "output_type": "stream",
     "text": [
      "                                                                                                                       \r"
     ]
    },
    {
     "name": "stdout",
     "output_type": "stream",
     "text": [
      "epoch: 6: train error: 8388.496906686336, validation error: 7359.630360767095, validation accuracy: 0.5656565656565656\n"
     ]
    },
    {
     "name": "stderr",
     "output_type": "stream",
     "text": [
      "                                                                                                                       \r"
     ]
    },
    {
     "name": "stdout",
     "output_type": "stream",
     "text": [
      "epoch: 7: train error: 8277.238822774683, validation error: 7253.572548143791, validation accuracy: 0.5656565656565656\n"
     ]
    },
    {
     "name": "stderr",
     "output_type": "stream",
     "text": [
      "                                                                                                                       \r"
     ]
    },
    {
     "name": "stdout",
     "output_type": "stream",
     "text": [
      "epoch: 8: train error: 8190.030556536735, validation error: 7279.360129423816, validation accuracy: 0.5656565656565656\n"
     ]
    },
    {
     "name": "stderr",
     "output_type": "stream",
     "text": [
      "                                                                                                                       \r"
     ]
    },
    {
     "name": "stdout",
     "output_type": "stream",
     "text": [
      "epoch: 9: train error: 8183.794723186087, validation error: 7382.311398515798, validation accuracy: 0.5656565656565656\n"
     ]
    },
    {
     "name": "stderr",
     "output_type": "stream",
     "text": [
      "                                                                                                                       \r"
     ]
    },
    {
     "name": "stdout",
     "output_type": "stream",
     "text": [
      "epoch: 10: train error: 8206.108989309758, validation error: 7044.476315382755, validation accuracy: 0.5656565656565656\n"
     ]
    },
    {
     "name": "stderr",
     "output_type": "stream",
     "text": [
      "                                                                                                                       \r"
     ]
    },
    {
     "name": "stdout",
     "output_type": "stream",
     "text": [
      "epoch: 11: train error: 8180.333027291806, validation error: 7068.722753158723, validation accuracy: 0.5656565656565656\n"
     ]
    },
    {
     "name": "stderr",
     "output_type": "stream",
     "text": [
      "                                                                                                                       \r"
     ]
    },
    {
     "name": "stdout",
     "output_type": "stream",
     "text": [
      "epoch: 12: train error: 8163.38142297623, validation error: 7167.185828112592, validation accuracy: 0.5656565656565656\n"
     ]
    },
    {
     "name": "stderr",
     "output_type": "stream",
     "text": [
      "                                                                                                                       \r"
     ]
    },
    {
     "name": "stdout",
     "output_type": "stream",
     "text": [
      "epoch: 13: train error: 8115.134187738946, validation error: 7363.378635791817, validation accuracy: 0.5656565656565656\n"
     ]
    },
    {
     "name": "stderr",
     "output_type": "stream",
     "text": [
      "                                                                                                                       \r"
     ]
    },
    {
     "name": "stdout",
     "output_type": "stream",
     "text": [
      "epoch: 14: train error: 8045.827031561669, validation error: 6764.855389797326, validation accuracy: 0.5656565656565656\n"
     ]
    },
    {
     "name": "stderr",
     "output_type": "stream",
     "text": [
      "                                                                                                                       \r"
     ]
    },
    {
     "name": "stdout",
     "output_type": "stream",
     "text": [
      "epoch: 15: train error: 7895.404129352975, validation error: 6643.232509035052, validation accuracy: 0.5656565656565656\n"
     ]
    },
    {
     "name": "stderr",
     "output_type": "stream",
     "text": [
      "                                                                                                                       \r"
     ]
    },
    {
     "name": "stdout",
     "output_type": "stream",
     "text": [
      "epoch: 16: train error: 7705.725461269947, validation error: 6549.635014996384, validation accuracy: 0.5656565656565656\n"
     ]
    },
    {
     "name": "stderr",
     "output_type": "stream",
     "text": [
      "                                                                                                                       \r"
     ]
    },
    {
     "name": "stdout",
     "output_type": "stream",
     "text": [
      "epoch: 17: train error: 7580.6423456719585, validation error: 6141.947698496809, validation accuracy: 0.5656565656565656\n"
     ]
    },
    {
     "name": "stderr",
     "output_type": "stream",
     "text": [
      "                                                                                                                       \r"
     ]
    },
    {
     "name": "stdout",
     "output_type": "stream",
     "text": [
      "epoch: 18: train error: 7375.8160621156085, validation error: 5849.576439703354, validation accuracy: 0.5656565656565656\n"
     ]
    },
    {
     "name": "stderr",
     "output_type": "stream",
     "text": [
      "                                                                                                                       \r"
     ]
    },
    {
     "name": "stdout",
     "output_type": "stream",
     "text": [
      "epoch: 19: train error: 7171.865583703873, validation error: 5702.239119317796, validation accuracy: 0.5656565656565656\n"
     ]
    },
    {
     "name": "stderr",
     "output_type": "stream",
     "text": [
      "                                                                                                                       \r"
     ]
    },
    {
     "name": "stdout",
     "output_type": "stream",
     "text": [
      "epoch: 20: train error: 6996.11632261885, validation error: 5760.954472175752, validation accuracy: 0.5656565656565656\n"
     ]
    },
    {
     "name": "stderr",
     "output_type": "stream",
     "text": [
      "                                                                                                                       \r"
     ]
    },
    {
     "name": "stdout",
     "output_type": "stream",
     "text": [
      "epoch: 21: train error: 6818.366884921459, validation error: 5475.185503950022, validation accuracy: 0.5656565656565656\n"
     ]
    },
    {
     "name": "stderr",
     "output_type": "stream",
     "text": [
      "                                                                                                                       \r"
     ]
    },
    {
     "name": "stdout",
     "output_type": "stream",
     "text": [
      "epoch: 22: train error: 6700.799119015957, validation error: 5223.461468166775, validation accuracy: 0.5656565656565656\n"
     ]
    },
    {
     "name": "stderr",
     "output_type": "stream",
     "text": [
      "                                                                                                                       \r"
     ]
    },
    {
     "name": "stdout",
     "output_type": "stream",
     "text": [
      "epoch: 23: train error: 6586.568694419049, validation error: 5210.021733447759, validation accuracy: 0.5656565656565656\n"
     ]
    },
    {
     "name": "stderr",
     "output_type": "stream",
     "text": [
      "                                                                                                                       \r"
     ]
    },
    {
     "name": "stdout",
     "output_type": "stream",
     "text": [
      "epoch: 24: train error: 6479.311577979554, validation error: 5235.561498507105, validation accuracy: 0.5656565656565656\n"
     ]
    },
    {
     "name": "stderr",
     "output_type": "stream",
     "text": [
      "                                                                                                                       \r"
     ]
    },
    {
     "name": "stdout",
     "output_type": "stream",
     "text": [
      "epoch: 25: train error: 6435.4833218189, validation error: 5124.793706730158, validation accuracy: 0.5656565656565656\n"
     ]
    },
    {
     "name": "stderr",
     "output_type": "stream",
     "text": [
      "                                                                                                                       \r"
     ]
    },
    {
     "name": "stdout",
     "output_type": "stream",
     "text": [
      "epoch: 26: train error: 6402.167586955618, validation error: 5021.846797095404, validation accuracy: 0.5656565656565656\n"
     ]
    },
    {
     "name": "stderr",
     "output_type": "stream",
     "text": [
      "                                                                                                                       \r"
     ]
    },
    {
     "name": "stdout",
     "output_type": "stream",
     "text": [
      "epoch: 27: train error: 6332.265449686253, validation error: 4990.182620318249, validation accuracy: 0.5656565656565656\n"
     ]
    },
    {
     "name": "stderr",
     "output_type": "stream",
     "text": [
      "                                                                                                                       \r"
     ]
    },
    {
     "name": "stdout",
     "output_type": "stream",
     "text": [
      "epoch: 28: train error: 6339.397377825798, validation error: 5029.473546991445, validation accuracy: 0.5656565656565656\n"
     ]
    },
    {
     "name": "stderr",
     "output_type": "stream",
     "text": [
      "                                                                                                                       \r"
     ]
    },
    {
     "name": "stdout",
     "output_type": "stream",
     "text": [
      "epoch: 29: train error: 6299.555562770113, validation error: 4780.857476687191, validation accuracy: 0.5656565656565656\n"
     ]
    },
    {
     "name": "stderr",
     "output_type": "stream",
     "text": [
      "                                                                                                                       \r"
     ]
    },
    {
     "name": "stdout",
     "output_type": "stream",
     "text": [
      "epoch: 30: train error: 6259.196179978391, validation error: 5140.168389696063, validation accuracy: 0.5656565656565656\n"
     ]
    },
    {
     "name": "stderr",
     "output_type": "stream",
     "text": [
      "                                                                                                                       \r"
     ]
    },
    {
     "name": "stdout",
     "output_type": "stream",
     "text": [
      "epoch: 31: train error: 6327.146077906832, validation error: 5136.132611346968, validation accuracy: 0.5656565656565656\n"
     ]
    },
    {
     "name": "stderr",
     "output_type": "stream",
     "text": [
      "                                                                                                                       \r"
     ]
    },
    {
     "name": "stdout",
     "output_type": "stream",
     "text": [
      "epoch: 32: train error: 6296.175729305186, validation error: 5189.523002393318, validation accuracy: 0.5656565656565656\n"
     ]
    },
    {
     "name": "stderr",
     "output_type": "stream",
     "text": [
      "                                                                                                                       \r"
     ]
    },
    {
     "name": "stdout",
     "output_type": "stream",
     "text": [
      "epoch: 33: train error: 6288.875370106799, validation error: 5060.916494802995, validation accuracy: 0.5656565656565656\n"
     ]
    },
    {
     "name": "stderr",
     "output_type": "stream",
     "text": [
      "                                                                                                                       \r"
     ]
    },
    {
     "name": "stdout",
     "output_type": "stream",
     "text": [
      "epoch: 34: train error: 6252.706488426696, validation error: 5004.1914279244165, validation accuracy: 0.5656565656565656\n"
     ]
    },
    {
     "name": "stderr",
     "output_type": "stream",
     "text": [
      "                                                                                                                       \r"
     ]
    },
    {
     "name": "stdout",
     "output_type": "stream",
     "text": [
      "epoch: 35: train error: 6234.859323055186, validation error: 4829.348565650709, validation accuracy: 0.5656565656565656\n"
     ]
    },
    {
     "name": "stderr",
     "output_type": "stream",
     "text": [
      "                                                                                                                       \r"
     ]
    },
    {
     "name": "stdout",
     "output_type": "stream",
     "text": [
      "epoch: 36: train error: 6110.464332093584, validation error: 4834.6657342621775, validation accuracy: 0.5656565656565656\n"
     ]
    },
    {
     "name": "stderr",
     "output_type": "stream",
     "text": [
      "                                                                                                                       \r"
     ]
    },
    {
     "name": "stdout",
     "output_type": "stream",
     "text": [
      "epoch: 37: train error: 6130.398066094581, validation error: 4828.946582245104, validation accuracy: 0.5656565656565656\n"
     ]
    },
    {
     "name": "stderr",
     "output_type": "stream",
     "text": [
      "                                                                                                                       \r"
     ]
    },
    {
     "name": "stdout",
     "output_type": "stream",
     "text": [
      "epoch: 38: train error: 6066.737096908245, validation error: 4725.137920668631, validation accuracy: 0.5656565656565656\n"
     ]
    },
    {
     "name": "stderr",
     "output_type": "stream",
     "text": [
      "                                                                                                                       \r"
     ]
    },
    {
     "name": "stdout",
     "output_type": "stream",
     "text": [
      "epoch: 39: train error: 5928.260772055768, validation error: 4814.845960588166, validation accuracy: 0.5656565656565656\n"
     ]
    },
    {
     "data": {
      "image/png": "[encoded data removed]",
      "text/plain": [
       "<Figure size 800x300 with 1 Axes>"
      ]
     },
     "metadata": {},
     "output_type": "display_data"
    }
   ],
   "source": [
    "# 学習\n",
    "model = NN(num_in)\n",
    "model = model.to(device)\n",
    "model = transfer_learning(model, 'MDriverRequest_3A0A_model.pth')\n",
    "\n",
    "num_epoch = 40\n",
    "early_stopping = None\n",
    "save_path = f'MDriverRequest_{Project}_model.pth'\n",
    "\n",
    "opt = optim.SGD(model.parameters(), lr=10**-5)\n",
    "scheduler = CosineAnnealingLR(opt, T_max=10)\n",
    "# opt = optim.Adam(model.parameters(), lr=0.0001, betas=(0.9, 0.999))\n",
    "# scheduler = StepLR(opt, step_size=20, gamma=0.1)\n",
    "# scheduler=None\n",
    "\n",
    "train_losses, val_losses, val_accuracies, best_val_loss = utils.learn(model, train_loader, val_loader, opt, nn.MSELoss(), num_epoch=num_epoch, early_stopping=early_stopping, save_path=save_path, scheduler=scheduler)\n",
    "\n",
    "fig = plt.figure(figsize=(8, 3), dpi=100)\n",
    "plt.plot(train_losses, label='train')\n",
    "plt.plot(val_losses, label='val')\n",
    "plt.legend()\n",
    "plt.xlabel('epoch')\n",
    "plt.ylabel('loss')\n",
    "plt.title(f'best_val_loss = {best_val_loss}')\n",
    "# plt.ylim(0, 1000000)\n",
    "plt.show()"
   ]
  },
  {
   "cell_type": "code",
   "execution_count": 34,
   "id": "50c2eb62-758f-49de-a7cb-5d0c71724133",
   "metadata": {
    "scrolled": true
   },
   "outputs": [
    {
     "name": "stderr",
     "output_type": "stream",
     "text": [
      "                                                                                                                       \r"
     ]
    },
    {
     "name": "stdout",
     "output_type": "stream",
     "text": [
      "epoch: 0: train error: 5999.044160883477, validation error: 4808.576365788777, validation accuracy: 0.5656565656565656\n"
     ]
    },
    {
     "name": "stderr",
     "output_type": "stream",
     "text": [
      "                                                                                                                       \r"
     ]
    },
    {
     "name": "stdout",
     "output_type": "stream",
     "text": [
      "epoch: 1: train error: 5966.5968835708945, validation error: 4782.3504549662275, validation accuracy: 0.5656565656565656\n"
     ]
    },
    {
     "name": "stderr",
     "output_type": "stream",
     "text": [
      "                                                                                                                       \r"
     ]
    },
    {
     "name": "stdout",
     "output_type": "stream",
     "text": [
      "epoch: 2: train error: 5984.324733003657, validation error: 4880.666006357983, validation accuracy: 0.5656565656565656\n"
     ]
    },
    {
     "name": "stderr",
     "output_type": "stream",
     "text": [
      "                                                                                                                       \r"
     ]
    },
    {
     "name": "stdout",
     "output_type": "stream",
     "text": [
      "epoch: 3: train error: 5960.226193691822, validation error: 4639.3172129814075, validation accuracy: 0.5656565656565656\n"
     ]
    },
    {
     "name": "stderr",
     "output_type": "stream",
     "text": [
      "                                                                                                                       \r"
     ]
    },
    {
     "name": "stdout",
     "output_type": "stream",
     "text": [
      "epoch: 4: train error: 6018.863813684342, validation error: 4748.86309633833, validation accuracy: 0.5656565656565656\n"
     ]
    },
    {
     "name": "stderr",
     "output_type": "stream",
     "text": [
      "                                                                                                                       \r"
     ]
    },
    {
     "name": "stdout",
     "output_type": "stream",
     "text": [
      "epoch: 5: train error: 5968.701414717005, validation error: 4562.048303661924, validation accuracy: 0.5656565656565656\n"
     ]
    },
    {
     "name": "stderr",
     "output_type": "stream",
     "text": [
      "                                                                                                                       \r"
     ]
    },
    {
     "name": "stdout",
     "output_type": "stream",
     "text": [
      "epoch: 6: train error: 6049.896501257064, validation error: 5032.368593312273, validation accuracy: 0.5656565656565656\n"
     ]
    },
    {
     "name": "stderr",
     "output_type": "stream",
     "text": [
      "                                                                                                                       \r"
     ]
    },
    {
     "name": "stdout",
     "output_type": "stream",
     "text": [
      "epoch: 7: train error: 5992.635460386885, validation error: 4642.500868768403, validation accuracy: 0.5656565656565656\n"
     ]
    },
    {
     "name": "stderr",
     "output_type": "stream",
     "text": [
      "                                                                                                                       \r"
     ]
    },
    {
     "name": "stdout",
     "output_type": "stream",
     "text": [
      "epoch: 8: train error: 5943.022111608627, validation error: 4810.598509981175, validation accuracy: 0.5656565656565656\n"
     ]
    },
    {
     "name": "stderr",
     "output_type": "stream",
     "text": [
      "                                                                                                                       \r"
     ]
    },
    {
     "name": "stdout",
     "output_type": "stream",
     "text": [
      "epoch: 9: train error: 5991.841413781998, validation error: 4726.618553431347, validation accuracy: 0.5656565656565656\n"
     ]
    },
    {
     "name": "stderr",
     "output_type": "stream",
     "text": [
      "                                                                                                                       \r"
     ]
    },
    {
     "name": "stdout",
     "output_type": "stream",
     "text": [
      "epoch: 10: train error: 6058.795630921709, validation error: 4804.39984132786, validation accuracy: 0.5656565656565656\n",
      "Stopping early\n"
     ]
    },
    {
     "data": {
      "image/png": "[encoded data removed]",
      "text/plain": [
       "<Figure size 800x300 with 1 Axes>"
      ]
     },
     "metadata": {},
     "output_type": "display_data"
    }
   ],
   "source": [
    "# 再学習\n",
    "# model = NN(num_in)\n",
    "# model = model.to(device)\n",
    "\n",
    "# loaded_model = torch.load(save_path)\n",
    "# model.load_state_dict(loaded_model['model_state_dict'])\n",
    "model = transfer_learning(model, save_path)\n",
    "\n",
    "num_epoch = 100\n",
    "early_stopping = 5\n",
    "\n",
    "opt = optim.Adam(model.parameters(), lr=10**-6, betas=(0.9, 0.999))\n",
    "scheduler=None\n",
    "# opt = optim.SGD(model.parameters(), lr=0.0001)\n",
    "# scheduler = CosineAnnealingLR(opt, T_max=20)\n",
    "# scheduler = StepLR(opt, step_size=30, gamma=0.1)\n",
    "\n",
    "train_losses, val_losses, val_accuracies, best_val_loss = utils.learn(model, train_loader, val_loader, opt, nn.MSELoss(), num_epoch=num_epoch, early_stopping=early_stopping, save_path=save_path, scheduler=scheduler, best_val_loss=best_val_loss)\n",
    "\n",
    "fig = plt.figure(figsize=(8, 3), dpi=100)\n",
    "plt.plot(train_losses, label='train')\n",
    "plt.plot(val_losses, label='val')\n",
    "plt.legend()\n",
    "plt.xlabel('epoch')\n",
    "plt.ylabel('loss')\n",
    "plt.title(f'best_val_loss = {best_val_loss}')\n",
    "# plt.ylim(0, 1000000)\n",
    "plt.show()"
   ]
  },
  {
   "cell_type": "code",
   "execution_count": 35,
   "id": "3070d1a9-338d-4e7e-bad8-5294d0380059",
   "metadata": {},
   "outputs": [
    {
     "name": "stdout",
     "output_type": "stream",
     "text": [
      "Read: c:\\TSDE_Workarea\\ktt2yk\\CARSIM\\Sim_Work_HGT_3BVT_BB88574_VAR01_Matlab2012b\\val_data_3BVT.pkl\n",
      "MSE Loss: 11552.49609375\n"
     ]
    }
   ],
   "source": [
    "# 検証データの予測\n",
    "\n",
    "# データ準備\n",
    "print(f'Read: {val_data}')\n",
    "with open(val_data, 'rb') as file:\n",
    "    df = pickle.load(file)\n",
    "X_val, y_val, _ = Treatment_Data_MMotAct(df, Features, Target)\n",
    "\n",
    "# Numpy配列をTensorに変換\n",
    "X = torch.tensor(X_val.values, dtype=torch.float32)\n",
    "y = torch.tensor(y_val.values, dtype=torch.float32).view(-1, 1)\n",
    "X = transform(X)\n",
    "\n",
    "model = NN(num_in)\n",
    "loaded_model = torch.load(save_path)\n",
    "model.load_state_dict(loaded_model['model_state_dict'])\n",
    "\n",
    "y_pred = model(X)\n",
    "\n",
    "# MSEの計算\n",
    "# loss = mean_squared_error(y_val.detach().numpy(), y_pred.detach().numpy())\n",
    "mse = nn.MSELoss()\n",
    "loss = mse(y, y_pred)\n",
    "print(f'MSE Loss: {loss}')\n",
    "\n",
    "X_val[f'{Target}'] = y.detach().numpy()\n",
    "X_val[f'{Target}_pred'] = y_pred.detach().numpy()\n",
    "X_val['TIME'] = np.arange(0, len(X_val)*0.005, 0.005)\n",
    "columns = ['TIME'] + list(X_val.columns)\n",
    "X_val = X_val[columns]\n",
    "X_val.to_csv(f'{Target}_{Project}_pred.csv', index=False)"
   ]
  },
  {
   "cell_type": "code",
   "execution_count": null,
   "id": "3c37cac9-1303-49e7-bf0b-01c0b82be091",
   "metadata": {},
   "outputs": [],
   "source": []
  }
 ],
 "metadata": {
  "kernelspec": {
   "display_name": "Python 3 (ipykernel)",
   "language": "python",
   "name": "python3"
  },
  "language_info": {
   "codemirror_mode": {
    "name": "ipython",
    "version": 3
   },
   "file_extension": ".py",
   "mimetype": "text/x-python",
   "name": "python",
   "nbconvert_exporter": "python",
   "pygments_lexer": "ipython3",
   "version": "3.10.14"
  }
 },
 "nbformat": 4,
 "nbformat_minor": 5
}
